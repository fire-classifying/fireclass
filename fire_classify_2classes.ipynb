{
  "nbformat": 4,
  "nbformat_minor": 0,
  "metadata": {
    "colab": {
      "name": "fire_classify_2classes.ipynb",
      "version": "0.3.2",
      "provenance": [],
      "include_colab_link": true
    },
    "kernelspec": {
      "name": "python3",
      "display_name": "Python 3"
    },
    "accelerator": "GPU"
  },
  "cells": [
    {
      "cell_type": "markdown",
      "metadata": {
        "id": "view-in-github",
        "colab_type": "text"
      },
      "source": [
        "<a href=\"https://colab.research.google.com/github/fire-classifying/fireclass/blob/master/fire_classify_2classes.ipynb\" target=\"_parent\"><img src=\"https://colab.research.google.com/assets/colab-badge.svg\" alt=\"Open In Colab\"/></a>"
      ]
    },
    {
      "cell_type": "code",
      "metadata": {
        "id": "3TztdST6ZMaz",
        "colab_type": "code",
        "outputId": "3f670a0d-3f5c-443a-f36b-ac3774bfb43e",
        "colab": {
          "base_uri": "https://localhost:8080/",
          "height": 121
        }
      },
      "source": [
        "# Ejecuta esta celda para activar tu cuenta de Google Drive.\n",
        "from google.colab import drive\n",
        "drive.mount('/content/drive')"
      ],
      "execution_count": 1,
      "outputs": [
        {
          "output_type": "stream",
          "text": [
            "Go to this URL in a browser: https://accounts.google.com/o/oauth2/auth?client_id=947318989803-6bn6qk8qdgf4n4g3pfee6491hc0brc4i.apps.googleusercontent.com&redirect_uri=urn%3Aietf%3Awg%3Aoauth%3A2.0%3Aoob&scope=email%20https%3A%2F%2Fwww.googleapis.com%2Fauth%2Fdocs.test%20https%3A%2F%2Fwww.googleapis.com%2Fauth%2Fdrive%20https%3A%2F%2Fwww.googleapis.com%2Fauth%2Fdrive.photos.readonly%20https%3A%2F%2Fwww.googleapis.com%2Fauth%2Fpeopleapi.readonly&response_type=code\n",
            "\n",
            "Enter your authorization code:\n",
            "··········\n",
            "Mounted at /content/drive\n"
          ],
          "name": "stdout"
        }
      ]
    },
    {
      "cell_type": "code",
      "metadata": {
        "id": "kA0ucVgcZS4p",
        "colab_type": "code",
        "outputId": "0b129670-121d-4ebd-9cf6-ba056e9a75a4",
        "colab": {
          "base_uri": "https://localhost:8080/",
          "height": 1000
        }
      },
      "source": [
        "!pip install fastai==0.7.0\n"
      ],
      "execution_count": 2,
      "outputs": [
        {
          "output_type": "stream",
          "text": [
            "Collecting fastai==0.7.0\n",
            "\u001b[?25l  Downloading https://files.pythonhosted.org/packages/50/6d/9d0d6e17a78b0598d5e8c49a0d03ffc7ff265ae62eca3e2345fab14edb9b/fastai-0.7.0-py3-none-any.whl (112kB)\n",
            "\u001b[K     |████████████████████████████████| 122kB 3.4MB/s \n",
            "\u001b[?25hRequirement already satisfied: opencv-python in /usr/local/lib/python3.6/dist-packages (from fastai==0.7.0) (3.4.5.20)\n",
            "Requirement already satisfied: decorator in /usr/local/lib/python3.6/dist-packages (from fastai==0.7.0) (4.4.0)\n",
            "Collecting torch<0.4 (from fastai==0.7.0)\n",
            "\u001b[?25l  Downloading https://files.pythonhosted.org/packages/5b/a5/e8b50b55b1abac9f1e3346c4242f1e42a82d368a8442cbd50c532922f6c4/torch-0.3.1-cp36-cp36m-manylinux1_x86_64.whl (496.4MB)\n",
            "\u001b[K     |████████████████████████████████| 496.4MB 47kB/s \n",
            "\u001b[?25hRequirement already satisfied: testpath in /usr/local/lib/python3.6/dist-packages (from fastai==0.7.0) (0.4.2)\n",
            "Collecting bcolz (from fastai==0.7.0)\n",
            "\u001b[?25l  Downloading https://files.pythonhosted.org/packages/5c/4e/23942de9d5c0fb16f10335fa83e52b431bcb8c0d4a8419c9ac206268c279/bcolz-1.2.1.tar.gz (1.5MB)\n",
            "\u001b[K     |████████████████████████████████| 1.5MB 39.4MB/s \n",
            "\u001b[?25hRequirement already satisfied: tqdm in /usr/local/lib/python3.6/dist-packages (from fastai==0.7.0) (4.28.1)\n",
            "Requirement already satisfied: pytz in /usr/local/lib/python3.6/dist-packages (from fastai==0.7.0) (2018.9)\n",
            "Requirement already satisfied: numpy in /usr/local/lib/python3.6/dist-packages (from fastai==0.7.0) (1.16.4)\n",
            "Requirement already satisfied: seaborn in /usr/local/lib/python3.6/dist-packages (from fastai==0.7.0) (0.9.0)\n",
            "Requirement already satisfied: pyzmq in /usr/local/lib/python3.6/dist-packages (from fastai==0.7.0) (17.0.0)\n",
            "Requirement already satisfied: MarkupSafe in /usr/local/lib/python3.6/dist-packages (from fastai==0.7.0) (1.1.1)\n",
            "Collecting pandas-summary (from fastai==0.7.0)\n",
            "  Downloading https://files.pythonhosted.org/packages/6b/00/f7b4d7fd901db9a79d63e88000bd1e12efba4f5fb52608f906d7fea2b18f/pandas_summary-0.0.6-py2.py3-none-any.whl\n",
            "Requirement already satisfied: scipy in /usr/local/lib/python3.6/dist-packages (from fastai==0.7.0) (1.3.0)\n",
            "Requirement already satisfied: python-dateutil in /usr/local/lib/python3.6/dist-packages (from fastai==0.7.0) (2.5.3)\n",
            "Requirement already satisfied: PyYAML in /usr/local/lib/python3.6/dist-packages (from fastai==0.7.0) (3.13)\n",
            "Requirement already satisfied: entrypoints in /usr/local/lib/python3.6/dist-packages (from fastai==0.7.0) (0.3)\n",
            "Requirement already satisfied: Pygments in /usr/local/lib/python3.6/dist-packages (from fastai==0.7.0) (2.1.3)\n",
            "Requirement already satisfied: jupyter in /usr/local/lib/python3.6/dist-packages (from fastai==0.7.0) (1.0.0)\n",
            "Requirement already satisfied: torchvision in /usr/local/lib/python3.6/dist-packages (from fastai==0.7.0) (0.3.0)\n",
            "Requirement already satisfied: tornado in /usr/local/lib/python3.6/dist-packages (from fastai==0.7.0) (4.5.3)\n",
            "Requirement already satisfied: matplotlib in /usr/local/lib/python3.6/dist-packages (from fastai==0.7.0) (3.0.3)\n",
            "Requirement already satisfied: sklearn-pandas in /usr/local/lib/python3.6/dist-packages (from fastai==0.7.0) (1.8.0)\n",
            "Requirement already satisfied: Pillow in /usr/local/lib/python3.6/dist-packages (from fastai==0.7.0) (4.3.0)\n",
            "Requirement already satisfied: pyparsing in /usr/local/lib/python3.6/dist-packages (from fastai==0.7.0) (2.4.0)\n",
            "Requirement already satisfied: torchtext in /usr/local/lib/python3.6/dist-packages (from fastai==0.7.0) (0.3.1)\n",
            "Requirement already satisfied: feather-format in /usr/local/lib/python3.6/dist-packages (from fastai==0.7.0) (0.4.0)\n",
            "Requirement already satisfied: certifi in /usr/local/lib/python3.6/dist-packages (from fastai==0.7.0) (2019.6.16)\n",
            "Requirement already satisfied: ipykernel in /usr/local/lib/python3.6/dist-packages (from fastai==0.7.0) (4.6.1)\n",
            "Requirement already satisfied: jedi in /usr/local/lib/python3.6/dist-packages (from fastai==0.7.0) (0.14.0)\n",
            "Requirement already satisfied: pickleshare in /usr/local/lib/python3.6/dist-packages (from fastai==0.7.0) (0.7.5)\n",
            "Requirement already satisfied: traitlets in /usr/local/lib/python3.6/dist-packages (from fastai==0.7.0) (4.3.2)\n",
            "Requirement already satisfied: widgetsnbextension in /usr/local/lib/python3.6/dist-packages (from fastai==0.7.0) (3.4.2)\n",
            "Requirement already satisfied: ipywidgets in /usr/local/lib/python3.6/dist-packages (from fastai==0.7.0) (7.4.2)\n",
            "Requirement already satisfied: ipython-genutils in /usr/local/lib/python3.6/dist-packages (from fastai==0.7.0) (0.2.0)\n",
            "Requirement already satisfied: ipython in /usr/local/lib/python3.6/dist-packages (from fastai==0.7.0) (5.5.0)\n",
            "Requirement already satisfied: pandas in /usr/local/lib/python3.6/dist-packages (from fastai==0.7.0) (0.24.2)\n",
            "Requirement already satisfied: ptyprocess in /usr/local/lib/python3.6/dist-packages (from fastai==0.7.0) (0.6.0)\n",
            "Requirement already satisfied: wcwidth in /usr/local/lib/python3.6/dist-packages (from fastai==0.7.0) (0.1.7)\n",
            "Requirement already satisfied: webencodings in /usr/local/lib/python3.6/dist-packages (from fastai==0.7.0) (0.5.1)\n",
            "Requirement already satisfied: Jinja2 in /usr/local/lib/python3.6/dist-packages (from fastai==0.7.0) (2.10.1)\n",
            "Requirement already satisfied: jsonschema in /usr/local/lib/python3.6/dist-packages (from fastai==0.7.0) (2.6.0)\n",
            "Collecting isoweek (from fastai==0.7.0)\n",
            "  Downloading https://files.pythonhosted.org/packages/c2/d4/fe7e2637975c476734fcbf53776e650a29680194eb0dd21dbdc020ca92de/isoweek-1.3.3-py2.py3-none-any.whl\n",
            "Requirement already satisfied: graphviz in /usr/local/lib/python3.6/dist-packages (from fastai==0.7.0) (0.10.1)\n",
            "Requirement already satisfied: plotnine in /usr/local/lib/python3.6/dist-packages (from fastai==0.7.0) (0.5.1)\n",
            "Requirement already satisfied: bleach in /usr/local/lib/python3.6/dist-packages (from fastai==0.7.0) (3.1.0)\n",
            "Requirement already satisfied: cycler in /usr/local/lib/python3.6/dist-packages (from fastai==0.7.0) (0.10.0)\n",
            "Requirement already satisfied: simplegeneric in /usr/local/lib/python3.6/dist-packages (from fastai==0.7.0) (0.8.1)\n",
            "Requirement already satisfied: html5lib in /usr/local/lib/python3.6/dist-packages (from fastai==0.7.0) (1.0.1)\n",
            "Requirement already satisfied: six>=1.5 in /usr/local/lib/python3.6/dist-packages (from python-dateutil->fastai==0.7.0) (1.12.0)\n",
            "Requirement already satisfied: jupyter-console in /usr/local/lib/python3.6/dist-packages (from jupyter->fastai==0.7.0) (6.0.0)\n",
            "Requirement already satisfied: nbconvert in /usr/local/lib/python3.6/dist-packages (from jupyter->fastai==0.7.0) (5.5.0)\n",
            "Requirement already satisfied: notebook in /usr/local/lib/python3.6/dist-packages (from jupyter->fastai==0.7.0) (5.2.2)\n",
            "Requirement already satisfied: qtconsole in /usr/local/lib/python3.6/dist-packages (from jupyter->fastai==0.7.0) (4.5.1)\n",
            "Requirement already satisfied: kiwisolver>=1.0.1 in /usr/local/lib/python3.6/dist-packages (from matplotlib->fastai==0.7.0) (1.1.0)\n",
            "Requirement already satisfied: scikit-learn>=0.15.0 in /usr/local/lib/python3.6/dist-packages (from sklearn-pandas->fastai==0.7.0) (0.21.2)\n",
            "Requirement already satisfied: olefile in /usr/local/lib/python3.6/dist-packages (from Pillow->fastai==0.7.0) (0.46)\n",
            "Requirement already satisfied: requests in /usr/local/lib/python3.6/dist-packages (from torchtext->fastai==0.7.0) (2.21.0)\n",
            "Requirement already satisfied: pyarrow>=0.4.0 in /usr/local/lib/python3.6/dist-packages (from feather-format->fastai==0.7.0) (0.13.0)\n",
            "Requirement already satisfied: jupyter-client in /usr/local/lib/python3.6/dist-packages (from ipykernel->fastai==0.7.0) (5.2.4)\n",
            "Requirement already satisfied: parso>=0.3.0 in /usr/local/lib/python3.6/dist-packages (from jedi->fastai==0.7.0) (0.5.0)\n",
            "Requirement already satisfied: nbformat>=4.2.0 in /usr/local/lib/python3.6/dist-packages (from ipywidgets->fastai==0.7.0) (4.4.0)\n",
            "Requirement already satisfied: pexpect; sys_platform != \"win32\" in /usr/local/lib/python3.6/dist-packages (from ipython->fastai==0.7.0) (4.7.0)\n",
            "Requirement already satisfied: prompt-toolkit<2.0.0,>=1.0.4 in /usr/local/lib/python3.6/dist-packages (from ipython->fastai==0.7.0) (1.0.16)\n",
            "Requirement already satisfied: setuptools>=18.5 in /usr/local/lib/python3.6/dist-packages (from ipython->fastai==0.7.0) (41.0.1)\n",
            "Requirement already satisfied: patsy>=0.4.1 in /usr/local/lib/python3.6/dist-packages (from plotnine->fastai==0.7.0) (0.5.1)\n",
            "Requirement already satisfied: mizani>=0.5.2 in /usr/local/lib/python3.6/dist-packages (from plotnine->fastai==0.7.0) (0.5.4)\n",
            "Requirement already satisfied: descartes>=1.1.0 in /usr/local/lib/python3.6/dist-packages (from plotnine->fastai==0.7.0) (1.1.0)\n",
            "Requirement already satisfied: statsmodels>=0.8.0 in /usr/local/lib/python3.6/dist-packages (from plotnine->fastai==0.7.0) (0.10.0)\n",
            "Requirement already satisfied: defusedxml in /usr/local/lib/python3.6/dist-packages (from nbconvert->jupyter->fastai==0.7.0) (0.6.0)\n",
            "Requirement already satisfied: pandocfilters>=1.4.1 in /usr/local/lib/python3.6/dist-packages (from nbconvert->jupyter->fastai==0.7.0) (1.4.2)\n",
            "Requirement already satisfied: mistune>=0.8.1 in /usr/local/lib/python3.6/dist-packages (from nbconvert->jupyter->fastai==0.7.0) (0.8.4)\n",
            "Requirement already satisfied: jupyter-core in /usr/local/lib/python3.6/dist-packages (from nbconvert->jupyter->fastai==0.7.0) (4.5.0)\n",
            "Requirement already satisfied: terminado>=0.3.3; sys_platform != \"win32\" in /usr/local/lib/python3.6/dist-packages (from notebook->jupyter->fastai==0.7.0) (0.8.2)\n",
            "Requirement already satisfied: joblib>=0.11 in /usr/local/lib/python3.6/dist-packages (from scikit-learn>=0.15.0->sklearn-pandas->fastai==0.7.0) (0.13.2)\n",
            "Requirement already satisfied: idna<2.9,>=2.5 in /usr/local/lib/python3.6/dist-packages (from requests->torchtext->fastai==0.7.0) (2.8)\n",
            "Requirement already satisfied: urllib3<1.25,>=1.21.1 in /usr/local/lib/python3.6/dist-packages (from requests->torchtext->fastai==0.7.0) (1.24.3)\n",
            "Requirement already satisfied: chardet<3.1.0,>=3.0.2 in /usr/local/lib/python3.6/dist-packages (from requests->torchtext->fastai==0.7.0) (3.0.4)\n",
            "Requirement already satisfied: palettable in /usr/local/lib/python3.6/dist-packages (from mizani>=0.5.2->plotnine->fastai==0.7.0) (3.1.1)\n",
            "Building wheels for collected packages: bcolz\n",
            "  Building wheel for bcolz (setup.py) ... \u001b[?25l\u001b[?25hdone\n",
            "  Stored in directory: /root/.cache/pip/wheels/9f/78/26/fb8c0acb91a100dc8914bf236c4eaa4b207cb876893c40b745\n",
            "Successfully built bcolz\n",
            "\u001b[31mERROR: torchvision 0.3.0 has requirement torch>=1.1.0, but you'll have torch 0.3.1 which is incompatible.\u001b[0m\n",
            "Installing collected packages: torch, bcolz, pandas-summary, isoweek, fastai\n",
            "  Found existing installation: torch 1.1.0\n",
            "    Uninstalling torch-1.1.0:\n",
            "      Successfully uninstalled torch-1.1.0\n",
            "  Found existing installation: fastai 1.0.54\n",
            "    Uninstalling fastai-1.0.54:\n",
            "      Successfully uninstalled fastai-1.0.54\n",
            "Successfully installed bcolz-1.2.1 fastai-0.7.0 isoweek-1.3.3 pandas-summary-0.0.6 torch-0.3.1\n"
          ],
          "name": "stdout"
        }
      ]
    },
    {
      "cell_type": "code",
      "metadata": {
        "id": "UNaFfATmZS0K",
        "colab_type": "code",
        "colab": {}
      },
      "source": [
        "# En primer lugar importamos las librerías\n",
        "\n",
        "import pandas as pd\n",
        "import seaborn as sns\n",
        "import matplotlib\n",
        "import matplotlib.pyplot as plt\n",
        "import numpy as np\n",
        "from fastai.imports import *\n",
        "from fastai.structured import *\n",
        "from scipy.stats import norm\n",
        "from scipy import stats\n",
        "\n",
        "import warnings\n",
        "warnings.filterwarnings('ignore') # Para evitar los molestos avisos.\n",
        "\n",
        "from sklearn.model_selection import train_test_split\n",
        "from sklearn.linear_model import SGDClassifier\n",
        "from sklearn.preprocessing import StandardScaler\n",
        "\n",
        "%matplotlib inline \n",
        "\n",
        "RANDOM_SEED = 33\n",
        "\n",
        "plt.style.use('bmh')"
      ],
      "execution_count": 0,
      "outputs": []
    },
    {
      "cell_type": "code",
      "metadata": {
        "id": "qGUMBC7lZSxB",
        "colab_type": "code",
        "outputId": "906caa54-6434-4da4-e395-e3a3b30e95bd",
        "colab": {
          "base_uri": "https://localhost:8080/",
          "height": 363
        }
      },
      "source": [
        "# Iniciamos el proceso de análisis, estudiando los datos disponibles\n",
        "\n",
        "df = pd.read_csv('/content/drive/My Drive/Incendios_dataset.csv', delimiter = ',') \n",
        "\n",
        "df.head(10)"
      ],
      "execution_count": 4,
      "outputs": [
        {
          "output_type": "execute_result",
          "data": {
            "text/html": [
              "<div>\n",
              "<style scoped>\n",
              "    .dataframe tbody tr th:only-of-type {\n",
              "        vertical-align: middle;\n",
              "    }\n",
              "\n",
              "    .dataframe tbody tr th {\n",
              "        vertical-align: top;\n",
              "    }\n",
              "\n",
              "    .dataframe thead th {\n",
              "        text-align: right;\n",
              "    }\n",
              "</style>\n",
              "<table border=\"1\" class=\"dataframe\">\n",
              "  <thead>\n",
              "    <tr style=\"text-align: right;\">\n",
              "      <th></th>\n",
              "      <th>fecha</th>\n",
              "      <th>Mod_comb</th>\n",
              "      <th>NDVI</th>\n",
              "      <th>sup_quemad</th>\n",
              "      <th>sup_arb</th>\n",
              "      <th>sup_pastiz</th>\n",
              "      <th>sup_matorr</th>\n",
              "      <th>w_arb</th>\n",
              "      <th>w_pastiz</th>\n",
              "      <th>w_matorr</th>\n",
              "      <th>rk_Cuenc_F</th>\n",
              "      <th>rk_hist_Cu</th>\n",
              "      <th>rk_hist_us</th>\n",
              "      <th>rk_orograf</th>\n",
              "      <th>rk_peligro</th>\n",
              "      <th>rk_pte</th>\n",
              "      <th>vuln_equip</th>\n",
              "      <th>vuln_forve</th>\n",
              "      <th>vuln_infra</th>\n",
              "      <th>vuln_max</th>\n",
              "      <th>vuln_pathi</th>\n",
              "      <th>LST</th>\n",
              "      <th>rk_combUSIF</th>\n",
              "      <th>rk_combCuencExtr</th>\n",
              "      <th>rk_combCuencSup</th>\n",
              "      <th>Velocidad_Viento</th>\n",
              "      <th>Dirección_Viento</th>\n",
              "      <th>Humedad_Relativa</th>\n",
              "      <th>Temperatura_Máxima</th>\n",
              "      <th>Temperatura_Media</th>\n",
              "      <th>ETo_acumulada</th>\n",
              "      <th>Precipitación_acumulada</th>\n",
              "    </tr>\n",
              "  </thead>\n",
              "  <tbody>\n",
              "    <tr>\n",
              "      <th>0</th>\n",
              "      <td>13/08/2008</td>\n",
              "      <td>7.0</td>\n",
              "      <td>3747.28</td>\n",
              "      <td>37.900002</td>\n",
              "      <td>37.900002</td>\n",
              "      <td>0.000000</td>\n",
              "      <td>0.000000</td>\n",
              "      <td>1.000000</td>\n",
              "      <td>0.000000</td>\n",
              "      <td>0.000000</td>\n",
              "      <td>5</td>\n",
              "      <td>5</td>\n",
              "      <td>2</td>\n",
              "      <td>2</td>\n",
              "      <td>1</td>\n",
              "      <td>1</td>\n",
              "      <td>1</td>\n",
              "      <td>4</td>\n",
              "      <td>2</td>\n",
              "      <td>4</td>\n",
              "      <td>1</td>\n",
              "      <td>39.19</td>\n",
              "      <td>4</td>\n",
              "      <td>4</td>\n",
              "      <td>3</td>\n",
              "      <td>1.0</td>\n",
              "      <td>310.0</td>\n",
              "      <td>43.0</td>\n",
              "      <td>34.0</td>\n",
              "      <td>23.8</td>\n",
              "      <td>1043.41</td>\n",
              "      <td>487.4</td>\n",
              "    </tr>\n",
              "    <tr>\n",
              "      <th>1</th>\n",
              "      <td>30/06/2008</td>\n",
              "      <td>4.0</td>\n",
              "      <td>3981.50</td>\n",
              "      <td>17.077999</td>\n",
              "      <td>16.073999</td>\n",
              "      <td>1.004000</td>\n",
              "      <td>0.000000</td>\n",
              "      <td>0.941211</td>\n",
              "      <td>0.058789</td>\n",
              "      <td>0.000000</td>\n",
              "      <td>5</td>\n",
              "      <td>5</td>\n",
              "      <td>5</td>\n",
              "      <td>2</td>\n",
              "      <td>3</td>\n",
              "      <td>4</td>\n",
              "      <td>1</td>\n",
              "      <td>4</td>\n",
              "      <td>5</td>\n",
              "      <td>5</td>\n",
              "      <td>1</td>\n",
              "      <td>33.99</td>\n",
              "      <td>5</td>\n",
              "      <td>5</td>\n",
              "      <td>4</td>\n",
              "      <td>1.6</td>\n",
              "      <td>268.8</td>\n",
              "      <td>48.6</td>\n",
              "      <td>38.4</td>\n",
              "      <td>28.9</td>\n",
              "      <td>968.59</td>\n",
              "      <td>658.2</td>\n",
              "    </tr>\n",
              "    <tr>\n",
              "      <th>2</th>\n",
              "      <td>15/07/2009</td>\n",
              "      <td>1.0</td>\n",
              "      <td>3811.66</td>\n",
              "      <td>18.040001</td>\n",
              "      <td>0.180000</td>\n",
              "      <td>14.740000</td>\n",
              "      <td>3.120000</td>\n",
              "      <td>0.009978</td>\n",
              "      <td>0.817073</td>\n",
              "      <td>0.172949</td>\n",
              "      <td>3</td>\n",
              "      <td>4</td>\n",
              "      <td>3</td>\n",
              "      <td>3</td>\n",
              "      <td>1</td>\n",
              "      <td>2</td>\n",
              "      <td>1</td>\n",
              "      <td>4</td>\n",
              "      <td>3</td>\n",
              "      <td>4</td>\n",
              "      <td>1</td>\n",
              "      <td>42.45</td>\n",
              "      <td>5</td>\n",
              "      <td>4</td>\n",
              "      <td>4</td>\n",
              "      <td>1.6</td>\n",
              "      <td>240.0</td>\n",
              "      <td>38.0</td>\n",
              "      <td>37.0</td>\n",
              "      <td>26.1</td>\n",
              "      <td>1087.09</td>\n",
              "      <td>411.0</td>\n",
              "    </tr>\n",
              "    <tr>\n",
              "      <th>3</th>\n",
              "      <td>25/07/2009</td>\n",
              "      <td>10.0</td>\n",
              "      <td>3536.00</td>\n",
              "      <td>10.120000</td>\n",
              "      <td>0.000000</td>\n",
              "      <td>10.120000</td>\n",
              "      <td>0.000000</td>\n",
              "      <td>0.000000</td>\n",
              "      <td>1.000000</td>\n",
              "      <td>0.000000</td>\n",
              "      <td>5</td>\n",
              "      <td>5</td>\n",
              "      <td>3</td>\n",
              "      <td>2</td>\n",
              "      <td>2</td>\n",
              "      <td>1</td>\n",
              "      <td>1</td>\n",
              "      <td>3</td>\n",
              "      <td>5</td>\n",
              "      <td>5</td>\n",
              "      <td>1</td>\n",
              "      <td>46.99</td>\n",
              "      <td>5</td>\n",
              "      <td>5</td>\n",
              "      <td>4</td>\n",
              "      <td>1.2</td>\n",
              "      <td>292.0</td>\n",
              "      <td>42.5</td>\n",
              "      <td>39.2</td>\n",
              "      <td>29.1</td>\n",
              "      <td>1129.46</td>\n",
              "      <td>508.2</td>\n",
              "    </tr>\n",
              "    <tr>\n",
              "      <th>4</th>\n",
              "      <td>28/05/2009</td>\n",
              "      <td>NaN</td>\n",
              "      <td>2132.06</td>\n",
              "      <td>56.220001</td>\n",
              "      <td>15.590000</td>\n",
              "      <td>0.000000</td>\n",
              "      <td>40.630001</td>\n",
              "      <td>0.277303</td>\n",
              "      <td>0.000000</td>\n",
              "      <td>0.722697</td>\n",
              "      <td>5</td>\n",
              "      <td>5</td>\n",
              "      <td>3</td>\n",
              "      <td>2</td>\n",
              "      <td>1</td>\n",
              "      <td>1</td>\n",
              "      <td>1</td>\n",
              "      <td>3</td>\n",
              "      <td>5</td>\n",
              "      <td>5</td>\n",
              "      <td>1</td>\n",
              "      <td>33.75</td>\n",
              "      <td>5</td>\n",
              "      <td>5</td>\n",
              "      <td>5</td>\n",
              "      <td>1.3</td>\n",
              "      <td>290.0</td>\n",
              "      <td>37.4</td>\n",
              "      <td>33.3</td>\n",
              "      <td>24.5</td>\n",
              "      <td>741.75</td>\n",
              "      <td>495.2</td>\n",
              "    </tr>\n",
              "    <tr>\n",
              "      <th>5</th>\n",
              "      <td>24/06/2009</td>\n",
              "      <td>NaN</td>\n",
              "      <td>NaN</td>\n",
              "      <td>11.000000</td>\n",
              "      <td>0.000000</td>\n",
              "      <td>11.000000</td>\n",
              "      <td>0.000000</td>\n",
              "      <td>0.000000</td>\n",
              "      <td>1.000000</td>\n",
              "      <td>0.000000</td>\n",
              "      <td>4</td>\n",
              "      <td>4</td>\n",
              "      <td>5</td>\n",
              "      <td>2</td>\n",
              "      <td>1</td>\n",
              "      <td>1</td>\n",
              "      <td>1</td>\n",
              "      <td>3</td>\n",
              "      <td>4</td>\n",
              "      <td>4</td>\n",
              "      <td>1</td>\n",
              "      <td>43.05</td>\n",
              "      <td>5</td>\n",
              "      <td>5</td>\n",
              "      <td>5</td>\n",
              "      <td>2.0</td>\n",
              "      <td>298.4</td>\n",
              "      <td>80.1</td>\n",
              "      <td>29.7</td>\n",
              "      <td>22.7</td>\n",
              "      <td>884.09</td>\n",
              "      <td>369.2</td>\n",
              "    </tr>\n",
              "    <tr>\n",
              "      <th>6</th>\n",
              "      <td>03/07/2009</td>\n",
              "      <td>3.0</td>\n",
              "      <td>2384.00</td>\n",
              "      <td>27.180000</td>\n",
              "      <td>6.850000</td>\n",
              "      <td>9.479999</td>\n",
              "      <td>10.850000</td>\n",
              "      <td>0.252024</td>\n",
              "      <td>0.348786</td>\n",
              "      <td>0.399191</td>\n",
              "      <td>4</td>\n",
              "      <td>3</td>\n",
              "      <td>1</td>\n",
              "      <td>2</td>\n",
              "      <td>2</td>\n",
              "      <td>1</td>\n",
              "      <td>1</td>\n",
              "      <td>3</td>\n",
              "      <td>5</td>\n",
              "      <td>5</td>\n",
              "      <td>1</td>\n",
              "      <td>47.89</td>\n",
              "      <td>1</td>\n",
              "      <td>1</td>\n",
              "      <td>1</td>\n",
              "      <td>2.0</td>\n",
              "      <td>290.0</td>\n",
              "      <td>77.0</td>\n",
              "      <td>38.7</td>\n",
              "      <td>29.2</td>\n",
              "      <td>963.57</td>\n",
              "      <td>439.8</td>\n",
              "    </tr>\n",
              "    <tr>\n",
              "      <th>7</th>\n",
              "      <td>14/08/2009</td>\n",
              "      <td>NaN</td>\n",
              "      <td>NaN</td>\n",
              "      <td>11.979999</td>\n",
              "      <td>8.720000</td>\n",
              "      <td>1.230000</td>\n",
              "      <td>2.030000</td>\n",
              "      <td>0.727880</td>\n",
              "      <td>0.102671</td>\n",
              "      <td>0.169449</td>\n",
              "      <td>3</td>\n",
              "      <td>4</td>\n",
              "      <td>2</td>\n",
              "      <td>2</td>\n",
              "      <td>1</td>\n",
              "      <td>1</td>\n",
              "      <td>1</td>\n",
              "      <td>4</td>\n",
              "      <td>5</td>\n",
              "      <td>5</td>\n",
              "      <td>1</td>\n",
              "      <td>40.25</td>\n",
              "      <td>4</td>\n",
              "      <td>5</td>\n",
              "      <td>5</td>\n",
              "      <td>2.2</td>\n",
              "      <td>323.1</td>\n",
              "      <td>28.0</td>\n",
              "      <td>37.3</td>\n",
              "      <td>28.4</td>\n",
              "      <td>1344.11</td>\n",
              "      <td>548.2</td>\n",
              "    </tr>\n",
              "    <tr>\n",
              "      <th>8</th>\n",
              "      <td>28/08/2010</td>\n",
              "      <td>6.0</td>\n",
              "      <td>4338.80</td>\n",
              "      <td>29.169001</td>\n",
              "      <td>21.518000</td>\n",
              "      <td>0.631000</td>\n",
              "      <td>7.020000</td>\n",
              "      <td>0.737701</td>\n",
              "      <td>0.021633</td>\n",
              "      <td>0.240666</td>\n",
              "      <td>5</td>\n",
              "      <td>5</td>\n",
              "      <td>5</td>\n",
              "      <td>2</td>\n",
              "      <td>3</td>\n",
              "      <td>4</td>\n",
              "      <td>1</td>\n",
              "      <td>4</td>\n",
              "      <td>3</td>\n",
              "      <td>4</td>\n",
              "      <td>1</td>\n",
              "      <td>41.77</td>\n",
              "      <td>5</td>\n",
              "      <td>5</td>\n",
              "      <td>5</td>\n",
              "      <td>1.5</td>\n",
              "      <td>230.0</td>\n",
              "      <td>68.1</td>\n",
              "      <td>38.4</td>\n",
              "      <td>30.1</td>\n",
              "      <td>1289.75</td>\n",
              "      <td>1256.4</td>\n",
              "    </tr>\n",
              "    <tr>\n",
              "      <th>9</th>\n",
              "      <td>25/07/2010</td>\n",
              "      <td>1.0</td>\n",
              "      <td>4090.40</td>\n",
              "      <td>27.150000</td>\n",
              "      <td>2.200000</td>\n",
              "      <td>0.000000</td>\n",
              "      <td>24.950001</td>\n",
              "      <td>0.081031</td>\n",
              "      <td>0.000000</td>\n",
              "      <td>0.918969</td>\n",
              "      <td>5</td>\n",
              "      <td>4</td>\n",
              "      <td>2</td>\n",
              "      <td>2</td>\n",
              "      <td>2</td>\n",
              "      <td>1</td>\n",
              "      <td>1</td>\n",
              "      <td>4</td>\n",
              "      <td>2</td>\n",
              "      <td>4</td>\n",
              "      <td>1</td>\n",
              "      <td>36.49</td>\n",
              "      <td>4</td>\n",
              "      <td>3</td>\n",
              "      <td>2</td>\n",
              "      <td>1.6</td>\n",
              "      <td>254.0</td>\n",
              "      <td>78.0</td>\n",
              "      <td>35.6</td>\n",
              "      <td>27.5</td>\n",
              "      <td>1179.75</td>\n",
              "      <td>901.0</td>\n",
              "    </tr>\n",
              "  </tbody>\n",
              "</table>\n",
              "</div>"
            ],
            "text/plain": [
              "        fecha  Mod_comb  ...  ETo_acumulada  Precipitación_acumulada\n",
              "0  13/08/2008       7.0  ...        1043.41                    487.4\n",
              "1  30/06/2008       4.0  ...         968.59                    658.2\n",
              "2  15/07/2009       1.0  ...        1087.09                    411.0\n",
              "3  25/07/2009      10.0  ...        1129.46                    508.2\n",
              "4  28/05/2009       NaN  ...         741.75                    495.2\n",
              "5  24/06/2009       NaN  ...         884.09                    369.2\n",
              "6  03/07/2009       3.0  ...         963.57                    439.8\n",
              "7  14/08/2009       NaN  ...        1344.11                    548.2\n",
              "8  28/08/2010       6.0  ...        1289.75                   1256.4\n",
              "9  25/07/2010       1.0  ...        1179.75                    901.0\n",
              "\n",
              "[10 rows x 32 columns]"
            ]
          },
          "metadata": {
            "tags": []
          },
          "execution_count": 4
        }
      ]
    },
    {
      "cell_type": "code",
      "metadata": {
        "id": "-xTv-OeNZSuD",
        "colab_type": "code",
        "outputId": "bdf7876b-91cd-4302-a109-c6b3b7dedd3c",
        "colab": {
          "base_uri": "https://localhost:8080/",
          "height": 168
        }
      },
      "source": [
        "df.columns"
      ],
      "execution_count": 5,
      "outputs": [
        {
          "output_type": "execute_result",
          "data": {
            "text/plain": [
              "Index(['fecha', 'Mod_comb', 'NDVI', 'sup_quemad', 'sup_arb', 'sup_pastiz',\n",
              "       'sup_matorr', 'w_arb', 'w_pastiz', 'w_matorr', 'rk_Cuenc_F',\n",
              "       'rk_hist_Cu', 'rk_hist_us', 'rk_orograf', 'rk_peligro', 'rk_pte',\n",
              "       'vuln_equip', 'vuln_forve', 'vuln_infra', 'vuln_max', 'vuln_pathi',\n",
              "       'LST', 'rk_combUSIF', 'rk_combCuencExtr', 'rk_combCuencSup',\n",
              "       'Velocidad_Viento', 'Dirección_Viento', 'Humedad_Relativa',\n",
              "       'Temperatura_Máxima', 'Temperatura_Media', 'ETo_acumulada',\n",
              "       'Precipitación_acumulada'],\n",
              "      dtype='object')"
            ]
          },
          "metadata": {
            "tags": []
          },
          "execution_count": 5
        }
      ]
    },
    {
      "cell_type": "code",
      "metadata": {
        "id": "M_V6XGUOZSrC",
        "colab_type": "code",
        "outputId": "815060b4-66ec-460c-ba9b-ed31e302e6a3",
        "colab": {
          "base_uri": "https://localhost:8080/",
          "height": 638
        }
      },
      "source": [
        "df.info()"
      ],
      "execution_count": 0,
      "outputs": [
        {
          "output_type": "stream",
          "text": [
            "<class 'pandas.core.frame.DataFrame'>\n",
            "RangeIndex: 110 entries, 0 to 109\n",
            "Data columns (total 32 columns):\n",
            "fecha                      110 non-null object\n",
            "Mod_comb                   98 non-null float64\n",
            "NDVI                       102 non-null float64\n",
            "sup_quemad                 110 non-null float64\n",
            "sup_arb                    66 non-null float64\n",
            "sup_pastiz                 66 non-null float64\n",
            "sup_matorr                 66 non-null float64\n",
            "w_arb                      66 non-null float64\n",
            "w_pastiz                   66 non-null float64\n",
            "w_matorr                   66 non-null float64\n",
            "rk_Cuenc_F                 110 non-null int64\n",
            "rk_hist_Cu                 110 non-null int64\n",
            "rk_hist_us                 110 non-null int64\n",
            "rk_orograf                 110 non-null int64\n",
            "rk_peligro                 110 non-null int64\n",
            "rk_pte                     110 non-null int64\n",
            "vuln_equip                 110 non-null int64\n",
            "vuln_forve                 110 non-null int64\n",
            "vuln_infra                 110 non-null int64\n",
            "vuln_max                   110 non-null int64\n",
            "vuln_pathi                 110 non-null int64\n",
            "LST                        108 non-null float64\n",
            "rk_combUSIF                110 non-null int64\n",
            "rk_combCuencExtr           110 non-null int64\n",
            "rk_combCuencSup            110 non-null int64\n",
            "Velocidad_Viento           110 non-null float64\n",
            "Dirección_Viento           110 non-null float64\n",
            "Humedad_Relativa           109 non-null float64\n",
            "Temperatura_Máxima         109 non-null float64\n",
            "Temperatura_Media          109 non-null float64\n",
            "ETo_acumulada              109 non-null float64\n",
            "Precipitación_acumulada    109 non-null float64\n",
            "dtypes: float64(17), int64(14), object(1)\n",
            "memory usage: 27.6+ KB\n"
          ],
          "name": "stdout"
        }
      ]
    },
    {
      "cell_type": "code",
      "metadata": {
        "id": "H-Yzg7TZZSn5",
        "colab_type": "code",
        "colab": {}
      },
      "source": [
        ""
      ],
      "execution_count": 0,
      "outputs": []
    },
    {
      "cell_type": "markdown",
      "metadata": {
        "id": "T05isP6Aa2Ih",
        "colab_type": "text"
      },
      "source": [
        "# Data Mining"
      ]
    },
    {
      "cell_type": "code",
      "metadata": {
        "id": "0EU1XzggZSd6",
        "colab_type": "code",
        "colab": {}
      },
      "source": [
        "# Añadimos columnas fechaYear, FechaMonth, etc al dataset\n",
        "add_datepart(df, 'fecha')"
      ],
      "execution_count": 0,
      "outputs": []
    },
    {
      "cell_type": "code",
      "metadata": {
        "id": "cm_JIHWea7Lh",
        "colab_type": "code",
        "colab": {}
      },
      "source": [
        "# imputacion de valores NaN mediante el valor medio de cada columna\n",
        "\n",
        "def impute_nan_by_mean(dataframe):\n",
        " \n",
        " df = dataframe.copy()\n",
        " list_columns = df.columns[df.columns != 'category'] #-> Esto no está funcionando bien. Aquí sí, porque aún no hemos creado categorías\n",
        " \n",
        " for var in list_columns:\n",
        "   \n",
        "   #if type(dataframe[var]) != \"category\":\n",
        "     mean_var = df[var].mean()\n",
        "     df[var] = df[var].replace(np.nan, mean_var)\n",
        " \n",
        " return df"
      ],
      "execution_count": 0,
      "outputs": []
    },
    {
      "cell_type": "code",
      "metadata": {
        "id": "pgfthCmQbBmp",
        "colab_type": "code",
        "colab": {}
      },
      "source": [
        "df = impute_nan_by_mean(df)"
      ],
      "execution_count": 0,
      "outputs": []
    },
    {
      "cell_type": "code",
      "metadata": {
        "id": "OOFVSlmdbBkh",
        "colab_type": "code",
        "colab": {}
      },
      "source": [
        "# El campo 'cat_incendio' lo categorizamos en función de la superficie quemada\n",
        "# 1 -> pequeño (sup < 200Ha)\n",
        "# 2 -> grande (sup > 200 Ha)\n",
        "binInterval = [0,200,100000] \n",
        "binLabels = [1,2] \n",
        "df['cat_incendio'] = pd.cut(df['sup_quemad'], bins = binInterval, labels=binLabels)"
      ],
      "execution_count": 0,
      "outputs": []
    },
    {
      "cell_type": "code",
      "metadata": {
        "id": "1mkuWDFVkK75",
        "colab_type": "code",
        "outputId": "62799e2b-3628-494b-8ed9-fde0d524ecbf",
        "colab": {
          "base_uri": "https://localhost:8080/",
          "height": 34
        }
      },
      "source": [
        "import collections\n",
        "print(collections.Counter(df.cat_incendio))"
      ],
      "execution_count": 11,
      "outputs": [
        {
          "output_type": "stream",
          "text": [
            "Counter({1: 82, 2: 28})\n"
          ],
          "name": "stdout"
        }
      ]
    },
    {
      "cell_type": "code",
      "metadata": {
        "id": "3EaEo5RIbBiA",
        "colab_type": "code",
        "colab": {}
      },
      "source": [
        "# El campo 'cat_dir_viento' lo categorizamos en función de la dirección del viento\n",
        "# 0 = dir < 45º\n",
        "# 1 = 45º < dir < 90º\n",
        "# 2 = 90º < dir < 135º\n",
        "# 3 = 135º < dir < 180º\n",
        "# 4 = 180º < dir < 225º\n",
        "# 5 = 225º < dir < 270º\n",
        "# 6 = 270º < dir < 315º\n",
        "# 7 = 315º < dir < 360º\n",
        "\n",
        "binInterval = [-1,45,90,135,180,225,270,315,360] \n",
        "binLabels = [0,1,2,3,4,5,6,7] \n",
        "df['cat_dir_viento'] = pd.cut(df['Dirección_Viento'], bins = binInterval, labels=binLabels)"
      ],
      "execution_count": 0,
      "outputs": []
    },
    {
      "cell_type": "code",
      "metadata": {
        "id": "iG6R_dKAbea8",
        "colab_type": "code",
        "colab": {}
      },
      "source": [
        "# Añadimos una columna nueva y eliminamos las dos originales\n",
        "df['ned_hidricas'] = df.ETo_acumulada - df.Precipitación_acumulada\n",
        "df.drop('ETo_acumulada', axis = 1, inplace = True)\n",
        "df.drop('Precipitación_acumulada', axis = 1, inplace = True)"
      ],
      "execution_count": 0,
      "outputs": []
    },
    {
      "cell_type": "code",
      "metadata": {
        "id": "v-QNx2DRbeYD",
        "colab_type": "code",
        "colab": {}
      },
      "source": [
        "# Hacemos lo mismo con la vulnerabilidad, sustituyéndola por una media de las existentes\n",
        "df['vulnerabilidad'] = df[['vuln_equip','vuln_forve','vuln_infra','vuln_max','vuln_pathi']].mean(axis = 1)\n",
        "df.drop('vuln_equip', axis = 1, inplace = True)\n",
        "df.drop('vuln_forve', axis = 1, inplace = True)\n",
        "df.drop('vuln_infra', axis = 1, inplace = True)\n",
        "df.drop('vuln_max', axis = 1, inplace = True)\n",
        "df.drop('vuln_pathi', axis = 1, inplace = True)"
      ],
      "execution_count": 0,
      "outputs": []
    },
    {
      "cell_type": "code",
      "metadata": {
        "id": "e9hAT_qsbeU6",
        "colab_type": "code",
        "colab": {}
      },
      "source": [
        "#Eliminamos los riesgos de cuenca y modelos combustible por una variable única llamada riesgos. Los demás riesgos entendemos que deben existir\n",
        "\n",
        "df['riesgos_generales_cuenca'] = df[['rk_Cuenc_F','rk_hist_Cu','rk_hist_us','rk_combUSIF','rk_combCuencExtr','rk_combCuencSup']].mean(axis = 1)\n",
        "df.drop('rk_Cuenc_F', axis = 1, inplace = True)\n",
        "df.drop('rk_hist_Cu', axis = 1, inplace = True)\n",
        "df.drop('rk_hist_us', axis = 1, inplace = True)\n",
        "df.drop('rk_combUSIF', axis = 1, inplace = True)\n",
        "df.drop('rk_combCuencExtr', axis = 1, inplace = True)\n",
        "df.drop('rk_combCuencSup', axis = 1, inplace = True)"
      ],
      "execution_count": 0,
      "outputs": []
    },
    {
      "cell_type": "code",
      "metadata": {
        "id": "BvoiLqNBbeRq",
        "colab_type": "code",
        "colab": {}
      },
      "source": [
        "#Eliminamos los riesgos de pendientes y orografía por una sola variable\n",
        "df['riesgos_pendientes'] = df[['rk_orograf','rk_pte']].mean(axis = 1)\n",
        "df.drop('rk_orograf', axis = 1, inplace = True)\n",
        "df.drop('rk_pte', axis = 1, inplace = True)"
      ],
      "execution_count": 0,
      "outputs": []
    },
    {
      "cell_type": "code",
      "metadata": {
        "id": "-9wtsFO0beOr",
        "colab_type": "code",
        "colab": {}
      },
      "source": [
        "#Eliminamos las variables que están correlacionadas con la variable respuesta\n",
        "df.drop('sup_arb', axis = 1, inplace = True)\n",
        "df.drop('sup_pastiz', axis = 1, inplace = True)\n",
        "df.drop('sup_matorr', axis = 1, inplace = True)\n",
        "df.drop('w_arb', axis = 1, inplace = True)\n",
        "df.drop('w_pastiz', axis = 1, inplace = True)\n",
        "df.drop('w_matorr', axis = 1, inplace = True)"
      ],
      "execution_count": 0,
      "outputs": []
    },
    {
      "cell_type": "code",
      "metadata": {
        "id": "q_hAC5SbbxhZ",
        "colab_type": "code",
        "colab": {}
      },
      "source": [
        "# Normalizamos el NDVI para que tome valores entre -1 y 1\n",
        "df['ndvi_norm'] = ((df.NDVI -df.NDVI.mean())/df.NDVI.std())+(3/6)"
      ],
      "execution_count": 0,
      "outputs": []
    },
    {
      "cell_type": "code",
      "metadata": {
        "id": "9rKHz8mBbxeh",
        "colab_type": "code",
        "colab": {}
      },
      "source": [
        "#Eliminación de la temperatura máxima\n",
        "df.drop('Temperatura_Máxima', axis = 1, inplace = True)"
      ],
      "execution_count": 0,
      "outputs": []
    },
    {
      "cell_type": "code",
      "metadata": {
        "id": "GbIF_Sseb2iC",
        "colab_type": "code",
        "colab": {}
      },
      "source": [
        "# Redondear valor de Mod_comb\n",
        "\n",
        "df['Mod_comb']=round(df['Mod_comb'])"
      ],
      "execution_count": 0,
      "outputs": []
    },
    {
      "cell_type": "code",
      "metadata": {
        "id": "gw9TwRyKb2ey",
        "colab_type": "code",
        "outputId": "5e50da41-df2a-453c-cbaa-11192f8286e7",
        "colab": {
          "base_uri": "https://localhost:8080/",
          "height": 168
        }
      },
      "source": [
        "df.columns"
      ],
      "execution_count": 21,
      "outputs": [
        {
          "output_type": "execute_result",
          "data": {
            "text/plain": [
              "Index(['Mod_comb', 'NDVI', 'sup_quemad', 'rk_peligro', 'LST',\n",
              "       'Velocidad_Viento', 'Dirección_Viento', 'Humedad_Relativa',\n",
              "       'Temperatura_Media', 'fechaYear', 'fechaMonth', 'fechaWeek', 'fechaDay',\n",
              "       'fechaDayofweek', 'fechaDayofyear', 'fechaIs_month_end',\n",
              "       'fechaIs_month_start', 'fechaIs_quarter_end', 'fechaIs_quarter_start',\n",
              "       'fechaIs_year_end', 'fechaIs_year_start', 'fechaElapsed',\n",
              "       'cat_incendio', 'cat_dir_viento', 'ned_hidricas', 'vulnerabilidad',\n",
              "       'riesgos_generales_cuenca', 'riesgos_pendientes', 'ndvi_norm'],\n",
              "      dtype='object')"
            ]
          },
          "metadata": {
            "tags": []
          },
          "execution_count": 21
        }
      ]
    },
    {
      "cell_type": "code",
      "metadata": {
        "id": "wysJQVkycJVp",
        "colab_type": "code",
        "outputId": "88c8e1e0-29d7-4008-9152-3094f1600995",
        "colab": {
          "base_uri": "https://localhost:8080/",
          "height": 215
        }
      },
      "source": [
        "df.head()"
      ],
      "execution_count": 0,
      "outputs": [
        {
          "output_type": "execute_result",
          "data": {
            "text/html": [
              "<div>\n",
              "<style scoped>\n",
              "    .dataframe tbody tr th:only-of-type {\n",
              "        vertical-align: middle;\n",
              "    }\n",
              "\n",
              "    .dataframe tbody tr th {\n",
              "        vertical-align: top;\n",
              "    }\n",
              "\n",
              "    .dataframe thead th {\n",
              "        text-align: right;\n",
              "    }\n",
              "</style>\n",
              "<table border=\"1\" class=\"dataframe\">\n",
              "  <thead>\n",
              "    <tr style=\"text-align: right;\">\n",
              "      <th></th>\n",
              "      <th>Mod_comb</th>\n",
              "      <th>NDVI</th>\n",
              "      <th>sup_quemad</th>\n",
              "      <th>rk_peligro</th>\n",
              "      <th>LST</th>\n",
              "      <th>Velocidad_Viento</th>\n",
              "      <th>Dirección_Viento</th>\n",
              "      <th>Humedad_Relativa</th>\n",
              "      <th>Temperatura_Media</th>\n",
              "      <th>fechaYear</th>\n",
              "      <th>fechaMonth</th>\n",
              "      <th>fechaWeek</th>\n",
              "      <th>fechaDay</th>\n",
              "      <th>fechaDayofweek</th>\n",
              "      <th>fechaDayofyear</th>\n",
              "      <th>fechaIs_month_end</th>\n",
              "      <th>fechaIs_month_start</th>\n",
              "      <th>fechaIs_quarter_end</th>\n",
              "      <th>fechaIs_quarter_start</th>\n",
              "      <th>fechaIs_year_end</th>\n",
              "      <th>fechaIs_year_start</th>\n",
              "      <th>fechaElapsed</th>\n",
              "      <th>cat_incendio</th>\n",
              "      <th>cat_dir_viento</th>\n",
              "      <th>ned_hidricas</th>\n",
              "      <th>vulnerabilidad</th>\n",
              "      <th>riesgos_generales_cuenca</th>\n",
              "      <th>riesgos_pendientes</th>\n",
              "      <th>ndvi_norm</th>\n",
              "    </tr>\n",
              "  </thead>\n",
              "  <tbody>\n",
              "    <tr>\n",
              "      <th>0</th>\n",
              "      <td>7.0</td>\n",
              "      <td>3747.28</td>\n",
              "      <td>37.900002</td>\n",
              "      <td>1</td>\n",
              "      <td>39.19</td>\n",
              "      <td>1.0</td>\n",
              "      <td>310.0</td>\n",
              "      <td>43.0</td>\n",
              "      <td>23.8</td>\n",
              "      <td>2008</td>\n",
              "      <td>8</td>\n",
              "      <td>33</td>\n",
              "      <td>13</td>\n",
              "      <td>2</td>\n",
              "      <td>226</td>\n",
              "      <td>False</td>\n",
              "      <td>False</td>\n",
              "      <td>False</td>\n",
              "      <td>False</td>\n",
              "      <td>False</td>\n",
              "      <td>False</td>\n",
              "      <td>1218585600</td>\n",
              "      <td>1</td>\n",
              "      <td>6</td>\n",
              "      <td>556.01</td>\n",
              "      <td>2.4</td>\n",
              "      <td>3.833333</td>\n",
              "      <td>1.5</td>\n",
              "      <td>0.469908</td>\n",
              "    </tr>\n",
              "    <tr>\n",
              "      <th>1</th>\n",
              "      <td>4.0</td>\n",
              "      <td>3981.50</td>\n",
              "      <td>17.077999</td>\n",
              "      <td>3</td>\n",
              "      <td>33.99</td>\n",
              "      <td>1.6</td>\n",
              "      <td>268.8</td>\n",
              "      <td>48.6</td>\n",
              "      <td>28.9</td>\n",
              "      <td>2008</td>\n",
              "      <td>6</td>\n",
              "      <td>27</td>\n",
              "      <td>30</td>\n",
              "      <td>0</td>\n",
              "      <td>182</td>\n",
              "      <td>True</td>\n",
              "      <td>False</td>\n",
              "      <td>True</td>\n",
              "      <td>False</td>\n",
              "      <td>False</td>\n",
              "      <td>False</td>\n",
              "      <td>1214784000</td>\n",
              "      <td>1</td>\n",
              "      <td>5</td>\n",
              "      <td>310.39</td>\n",
              "      <td>3.2</td>\n",
              "      <td>4.833333</td>\n",
              "      <td>3.0</td>\n",
              "      <td>0.548545</td>\n",
              "    </tr>\n",
              "    <tr>\n",
              "      <th>2</th>\n",
              "      <td>1.0</td>\n",
              "      <td>3811.66</td>\n",
              "      <td>18.040001</td>\n",
              "      <td>1</td>\n",
              "      <td>42.45</td>\n",
              "      <td>1.6</td>\n",
              "      <td>240.0</td>\n",
              "      <td>38.0</td>\n",
              "      <td>26.1</td>\n",
              "      <td>2009</td>\n",
              "      <td>7</td>\n",
              "      <td>29</td>\n",
              "      <td>15</td>\n",
              "      <td>2</td>\n",
              "      <td>196</td>\n",
              "      <td>False</td>\n",
              "      <td>False</td>\n",
              "      <td>False</td>\n",
              "      <td>False</td>\n",
              "      <td>False</td>\n",
              "      <td>False</td>\n",
              "      <td>1247616000</td>\n",
              "      <td>1</td>\n",
              "      <td>5</td>\n",
              "      <td>676.09</td>\n",
              "      <td>2.6</td>\n",
              "      <td>3.833333</td>\n",
              "      <td>2.5</td>\n",
              "      <td>0.491523</td>\n",
              "    </tr>\n",
              "    <tr>\n",
              "      <th>3</th>\n",
              "      <td>10.0</td>\n",
              "      <td>3536.00</td>\n",
              "      <td>10.120000</td>\n",
              "      <td>2</td>\n",
              "      <td>46.99</td>\n",
              "      <td>1.2</td>\n",
              "      <td>292.0</td>\n",
              "      <td>42.5</td>\n",
              "      <td>29.1</td>\n",
              "      <td>2009</td>\n",
              "      <td>7</td>\n",
              "      <td>30</td>\n",
              "      <td>25</td>\n",
              "      <td>5</td>\n",
              "      <td>206</td>\n",
              "      <td>False</td>\n",
              "      <td>False</td>\n",
              "      <td>False</td>\n",
              "      <td>False</td>\n",
              "      <td>False</td>\n",
              "      <td>False</td>\n",
              "      <td>1248480000</td>\n",
              "      <td>1</td>\n",
              "      <td>6</td>\n",
              "      <td>621.26</td>\n",
              "      <td>3.0</td>\n",
              "      <td>4.500000</td>\n",
              "      <td>1.5</td>\n",
              "      <td>0.398973</td>\n",
              "    </tr>\n",
              "    <tr>\n",
              "      <th>4</th>\n",
              "      <td>6.0</td>\n",
              "      <td>2132.06</td>\n",
              "      <td>56.220001</td>\n",
              "      <td>1</td>\n",
              "      <td>33.75</td>\n",
              "      <td>1.3</td>\n",
              "      <td>290.0</td>\n",
              "      <td>37.4</td>\n",
              "      <td>24.5</td>\n",
              "      <td>2009</td>\n",
              "      <td>5</td>\n",
              "      <td>22</td>\n",
              "      <td>28</td>\n",
              "      <td>3</td>\n",
              "      <td>148</td>\n",
              "      <td>False</td>\n",
              "      <td>False</td>\n",
              "      <td>False</td>\n",
              "      <td>False</td>\n",
              "      <td>False</td>\n",
              "      <td>False</td>\n",
              "      <td>1243468800</td>\n",
              "      <td>1</td>\n",
              "      <td>6</td>\n",
              "      <td>246.55</td>\n",
              "      <td>3.0</td>\n",
              "      <td>4.666667</td>\n",
              "      <td>1.5</td>\n",
              "      <td>-0.072385</td>\n",
              "    </tr>\n",
              "  </tbody>\n",
              "</table>\n",
              "</div>"
            ],
            "text/plain": [
              "   Mod_comb     NDVI  ...  riesgos_pendientes  ndvi_norm\n",
              "0       7.0  3747.28  ...                 1.5   0.469908\n",
              "1       4.0  3981.50  ...                 3.0   0.548545\n",
              "2       1.0  3811.66  ...                 2.5   0.491523\n",
              "3      10.0  3536.00  ...                 1.5   0.398973\n",
              "4       6.0  2132.06  ...                 1.5  -0.072385\n",
              "\n",
              "[5 rows x 29 columns]"
            ]
          },
          "metadata": {
            "tags": []
          },
          "execution_count": 28
        }
      ]
    },
    {
      "cell_type": "code",
      "metadata": {
        "id": "xYP4cYs7lowk",
        "colab_type": "code",
        "colab": {}
      },
      "source": [
        "# Eliminar columnas innecesarias\n",
        "\n",
        "df.drop(['sup_quemad','fechaYear', 'fechaIs_month_end',\n",
        "       'fechaIs_month_start', 'fechaIs_quarter_end', 'fechaIs_quarter_start',\n",
        "       'fechaIs_year_end', 'fechaIs_year_start', 'fechaElapsed', 'NDVI', 'Dirección_Viento'], axis = 1, inplace = True)\n"
      ],
      "execution_count": 0,
      "outputs": []
    },
    {
      "cell_type": "code",
      "metadata": {
        "id": "cEoll8sgbxbp",
        "colab_type": "code",
        "colab": {}
      },
      "source": [
        "# Eliminar nas en variable a predecir\n",
        "df1= df.dropna(axis=0)\n"
      ],
      "execution_count": 0,
      "outputs": []
    },
    {
      "cell_type": "code",
      "metadata": {
        "id": "s5nc-FWjmXEX",
        "colab_type": "code",
        "colab": {}
      },
      "source": [
        "df1.to_csv(\"/content/drive/My Drive/Incendios_dataset_model.csv\")"
      ],
      "execution_count": 0,
      "outputs": []
    },
    {
      "cell_type": "markdown",
      "metadata": {
        "id": "a-pyksH5dNeR",
        "colab_type": "text"
      },
      "source": [
        "#Train/Test y Estandarización"
      ]
    },
    {
      "cell_type": "code",
      "metadata": {
        "id": "7Uy9LjuGe_dB",
        "colab_type": "code",
        "outputId": "4f75574a-b381-4aad-f22f-fcc4101a4beb",
        "colab": {
          "base_uri": "https://localhost:8080/",
          "height": 118
        }
      },
      "source": [
        "df1.columns"
      ],
      "execution_count": 26,
      "outputs": [
        {
          "output_type": "execute_result",
          "data": {
            "text/plain": [
              "Index(['Mod_comb', 'rk_peligro', 'LST', 'Velocidad_Viento', 'Humedad_Relativa',\n",
              "       'Temperatura_Media', 'fechaMonth', 'fechaWeek', 'fechaDay',\n",
              "       'fechaDayofweek', 'fechaDayofyear', 'cat_incendio', 'cat_dir_viento',\n",
              "       'ned_hidricas', 'vulnerabilidad', 'riesgos_generales_cuenca',\n",
              "       'riesgos_pendientes', 'ndvi_norm'],\n",
              "      dtype='object')"
            ]
          },
          "metadata": {
            "tags": []
          },
          "execution_count": 26
        }
      ]
    },
    {
      "cell_type": "code",
      "metadata": {
        "id": "45hoPxTmbBWJ",
        "colab_type": "code",
        "colab": {}
      },
      "source": [
        "#Se separan las entradas de las salidas\n",
        "    outputs = df1.iloc[:,11]\n",
        "    data_=df1.drop(['cat_incendio'],axis=1)\n",
        "    inputs = data_.iloc[:,:]\n",
        "    Input_Data = inputs.values[:,:]\n",
        "    Output_Data = list(outputs.values[:])"
      ],
      "execution_count": 0,
      "outputs": []
    },
    {
      "cell_type": "code",
      "metadata": {
        "id": "Htm3iKntdVwf",
        "colab_type": "code",
        "colab": {}
      },
      "source": [
        "# Separacion muestra: entrenamiento y test\n",
        "from sklearn.model_selection import train_test_split\n",
        "X_train,X_test,y_train,y_test = train_test_split(Input_Data,Output_Data,test_size=0.3, stratify=df1.cat_incendio)"
      ],
      "execution_count": 0,
      "outputs": []
    },
    {
      "cell_type": "code",
      "metadata": {
        "id": "Jfc_zSwhdVuJ",
        "colab_type": "code",
        "colab": {}
      },
      "source": [
        "# Normalizar valores antes de introducir en el modelo\n",
        "Scaler = StandardScaler()\n",
        "X_train = Scaler.fit_transform(X_train)\n",
        "X_test = Scaler.transform(X_test)"
      ],
      "execution_count": 0,
      "outputs": []
    },
    {
      "cell_type": "markdown",
      "metadata": {
        "id": "68Ifyc8Ndn8Q",
        "colab_type": "text"
      },
      "source": [
        "# Primera aproximación modelos (sin optimizar)"
      ]
    },
    {
      "cell_type": "code",
      "metadata": {
        "id": "NDINxoyNdVjD",
        "colab_type": "code",
        "outputId": "100c1634-3f19-4dbf-819f-2969b50eb082",
        "colab": {
          "base_uri": "https://localhost:8080/",
          "height": 1000
        }
      },
      "source": [
        "from sklearn.metrics import accuracy_score, log_loss, recall_score\n",
        "from sklearn.neighbors import KNeighborsClassifier\n",
        "from sklearn.svm import SVC, LinearSVC, NuSVC\n",
        "from sklearn.tree import DecisionTreeClassifier\n",
        "from sklearn.ensemble import RandomForestClassifier, AdaBoostClassifier, GradientBoostingClassifier\n",
        "from sklearn.naive_bayes import GaussianNB\n",
        "from sklearn.discriminant_analysis import LinearDiscriminantAnalysis\n",
        "from sklearn.discriminant_analysis import QuadraticDiscriminantAnalysis\n",
        "\n",
        "classifiers = [\n",
        "    KNeighborsClassifier(3),\n",
        "    SVC(kernel=\"rbf\", C=0.025, probability=True),\n",
        "    NuSVC(probability=True),\n",
        "    DecisionTreeClassifier(),\n",
        "    RandomForestClassifier(),\n",
        "    AdaBoostClassifier(),\n",
        "    GradientBoostingClassifier(),\n",
        "    GaussianNB(),\n",
        "    LinearDiscriminantAnalysis(),\n",
        "    QuadraticDiscriminantAnalysis()]\n",
        "\n",
        "# Logging for Visual Comparison\n",
        "log_cols=[\"Classifier\", \"Accuracy\", \"Log Loss\", \"Recall\"]\n",
        "log = pd.DataFrame(columns=log_cols)\n",
        "\n",
        "for clf in classifiers:\n",
        "    clf.fit(X_train, y_train)\n",
        "    name = clf.__class__.__name__\n",
        "    \n",
        "    print(\"=\"*30)\n",
        "    print(name)\n",
        "    \n",
        "    print('****Results****')\n",
        "    train_predictions = clf.predict(X_test)\n",
        "    acc = accuracy_score(y_test, train_predictions)\n",
        "    print(\"Accuracy: {:.4%}\".format(acc))\n",
        "    train_predictions = clf.predict_proba(X_test)\n",
        "    ll = log_loss(y_test, train_predictions)\n",
        "    print(\"Log Loss: {}\".format(ll))\n",
        "    train_predictions = clf.predict(X_test)\n",
        "    recall = recall_score(y_test, train_predictions)\n",
        "    print(\"Recall: {}\".format(recall))\n",
        "    \n",
        "    log_entry = pd.DataFrame([[name, acc*100, ll, recall]], columns=log_cols)\n",
        "    log = log.append(log_entry)\n",
        "    \n",
        "print(\"=\"*30)"
      ],
      "execution_count": 28,
      "outputs": [
        {
          "output_type": "stream",
          "text": [
            "==============================\n",
            "KNeighborsClassifier\n",
            "****Results****\n",
            "Accuracy: 78.7879%\n",
            "Log Loss: 3.371348460735449\n",
            "Recall: 0.88\n",
            "==============================\n",
            "SVC\n",
            "****Results****\n",
            "Accuracy: 75.7576%\n",
            "Log Loss: 0.48666577889395185\n",
            "Recall: 1.0\n",
            "==============================\n",
            "NuSVC\n",
            "****Results****\n",
            "Accuracy: 75.7576%\n",
            "Log Loss: 0.5552886235306626\n",
            "Recall: 0.96\n",
            "==============================\n",
            "DecisionTreeClassifier\n",
            "****Results****\n",
            "Accuracy: 57.5758%\n",
            "Log Loss: 14.652814228143926\n",
            "Recall: 0.72\n",
            "==============================\n",
            "RandomForestClassifier\n",
            "****Results****\n",
            "Accuracy: 78.7879%\n",
            "Log Loss: 0.534270738828119\n",
            "Recall: 0.96\n",
            "==============================\n",
            "AdaBoostClassifier\n",
            "****Results****\n",
            "Accuracy: 78.7879%\n",
            "Log Loss: 0.5509152677381781\n",
            "Recall: 1.0\n",
            "==============================\n",
            "GradientBoostingClassifier\n",
            "****Results****\n",
            "Accuracy: 69.6970%\n",
            "Log Loss: 0.9934958742792223\n",
            "Recall: 0.88\n",
            "==============================\n",
            "GaussianNB\n",
            "****Results****\n",
            "Accuracy: 66.6667%\n",
            "Log Loss: 3.0722735977126883\n",
            "Recall: 0.68\n",
            "==============================\n",
            "LinearDiscriminantAnalysis\n",
            "****Results****\n",
            "Accuracy: 66.6667%\n",
            "Log Loss: 1.5761894702686272\n",
            "Recall: 0.8\n",
            "==============================\n",
            "QuadraticDiscriminantAnalysis\n",
            "****Results****\n",
            "Accuracy: 75.7576%\n",
            "Log Loss: 6.543256563417345\n",
            "Recall: 1.0\n",
            "==============================\n"
          ],
          "name": "stdout"
        }
      ]
    },
    {
      "cell_type": "code",
      "metadata": {
        "id": "MQma1cTpeKnK",
        "colab_type": "code",
        "outputId": "af3131ef-b014-4be9-8cf7-fd96b23684ab",
        "colab": {
          "base_uri": "https://localhost:8080/",
          "height": 575
        }
      },
      "source": [
        "sns.set_color_codes(\"muted\")\n",
        "sns.barplot(x='Accuracy', y='Classifier', data=log, color=\"b\")\n",
        "\n",
        "plt.xlabel('Accuracy %')\n",
        "plt.title('Classifier Accuracy')\n",
        "plt.show()\n",
        "\n",
        "sns.set_color_codes(\"muted\")\n",
        "sns.barplot(x='Log Loss', y='Classifier', data=log, color=\"g\")\n",
        "\n",
        "plt.xlabel('Log Loss')\n",
        "plt.title('Classifier Log Loss')\n",
        "plt.show()"
      ],
      "execution_count": 29,
      "outputs": [
        {
          "output_type": "display_data",
          "data": {
            "image/png": "[encoded data removed]",
            "text/plain": [
              "<Figure size 432x288 with 1 Axes>"
            ]
          },
          "metadata": {
            "tags": []
          }
        },
        {
          "output_type": "display_data",
          "data": {
            "image/png": "[encoded data removed]",
            "text/plain": [
              "<Figure size 432x288 with 1 Axes>"
            ]
          },
          "metadata": {
            "tags": []
          }
        }
      ]
    },
    {
      "cell_type": "code",
      "metadata": {
        "id": "weOnWnfDeOt8",
        "colab_type": "code",
        "colab": {}
      },
      "source": [
        ""
      ],
      "execution_count": 0,
      "outputs": []
    },
    {
      "cell_type": "markdown",
      "metadata": {
        "id": "CWbCRG8_eQ7I",
        "colab_type": "text"
      },
      "source": [
        "# RANDOM FOREST"
      ]
    },
    {
      "cell_type": "code",
      "metadata": {
        "id": "Dq9icC3G0idh",
        "colab_type": "code",
        "colab": {}
      },
      "source": [
        "from random import seed\n",
        "seed(12345)"
      ],
      "execution_count": 0,
      "outputs": []
    },
    {
      "cell_type": "code",
      "metadata": {
        "id": "wbu-vnvueOrB",
        "colab_type": "code",
        "colab": {}
      },
      "source": [
        "# Parámetros para optimizar el modelo de RF\n",
        "criterion = ['gini','entropy']\n",
        "n=[5,10,20,50]\n",
        "depth=[2,3,5,8,10,30,100]\n",
        "\n",
        "param_grid = {'criterion': criterion,\n",
        "              'n_estimators': n,\n",
        "             'max_depth':depth}\n"
      ],
      "execution_count": 0,
      "outputs": []
    },
    {
      "cell_type": "code",
      "metadata": {
        "id": "8gx32h4heOnl",
        "colab_type": "code",
        "colab": {}
      },
      "source": [
        "# GridSearch con modelo RF\n",
        "from sklearn.model_selection import GridSearchCV\n",
        "from sklearn.ensemble import RandomForestClassifier\n",
        "from sklearn.metrics import confusion_matrix\n",
        "grid = GridSearchCV(RandomForestClassifier(),param_grid=param_grid,n_jobs=1,cv=10,verbose=True, scoring = 'recall')"
      ],
      "execution_count": 0,
      "outputs": []
    },
    {
      "cell_type": "code",
      "metadata": {
        "id": "R8Zr2RtPeOEx",
        "colab_type": "code",
        "outputId": "4a5da737-7641-4f7e-b184-9560ab05fc8f",
        "colab": {
          "base_uri": "https://localhost:8080/",
          "height": 67
        }
      },
      "source": [
        "# Entrenar modelo\n",
        "#y_test_orig= lb.inverse_transform(y_test, threshold=0.5)\n",
        "grid.fit(X_train,y_train)\n",
        "pred = grid.predict(X_test)\n",
        "m_best = grid.best_estimator_\n",
        "score = grid.score(X_test,y_test)\n"
      ],
      "execution_count": 33,
      "outputs": [
        {
          "output_type": "stream",
          "text": [
            "Fitting 10 folds for each of 56 candidates, totalling 560 fits\n"
          ],
          "name": "stdout"
        },
        {
          "output_type": "stream",
          "text": [
            "[Parallel(n_jobs=1)]: Using backend SequentialBackend with 1 concurrent workers.\n",
            "[Parallel(n_jobs=1)]: Done 560 out of 560 | elapsed:    9.6s finished\n"
          ],
          "name": "stderr"
        }
      ]
    },
    {
      "cell_type": "code",
      "metadata": {
        "id": "rfbucLubeZ9B",
        "colab_type": "code",
        "outputId": "f8290124-acbf-4db8-ea8a-9e8591f4432a",
        "colab": {
          "base_uri": "https://localhost:8080/",
          "height": 185
        }
      },
      "source": [
        "conf_mat = confusion_matrix(y_test,pred)\n",
        "print(conf_mat)\n",
        "print(score)\n",
        "print(m_best)"
      ],
      "execution_count": 34,
      "outputs": [
        {
          "output_type": "stream",
          "text": [
            "[[24  1]\n",
            " [ 7  1]]\n",
            "0.96\n",
            "RandomForestClassifier(bootstrap=True, class_weight=None, criterion='gini',\n",
            "                       max_depth=2, max_features='auto', max_leaf_nodes=None,\n",
            "                       min_impurity_decrease=0.0, min_impurity_split=None,\n",
            "                       min_samples_leaf=1, min_samples_split=2,\n",
            "                       min_weight_fraction_leaf=0.0, n_estimators=50,\n",
            "                       n_jobs=None, oob_score=False, random_state=None,\n",
            "                       verbose=0, warm_start=False)\n"
          ],
          "name": "stdout"
        }
      ]
    },
    {
      "cell_type": "code",
      "metadata": {
        "id": "VsoJ_Y7PpwVI",
        "colab_type": "code",
        "outputId": "f17d72d6-1167-4bfc-c85d-3b3609be1e92",
        "colab": {
          "base_uri": "https://localhost:8080/",
          "height": 34
        }
      },
      "source": [
        "from sklearn.metrics import precision_score\n",
        "y_pred = m_best.predict(X_test)\n",
        "precision_score(y_test, y_pred)"
      ],
      "execution_count": 35,
      "outputs": [
        {
          "output_type": "execute_result",
          "data": {
            "text/plain": [
              "0.7741935483870968"
            ]
          },
          "metadata": {
            "tags": []
          },
          "execution_count": 35
        }
      ]
    },
    {
      "cell_type": "code",
      "metadata": {
        "id": "6C8L3NHdr4uT",
        "colab_type": "code",
        "outputId": "3f99b1a6-b5ca-4f7b-b5a6-e16dde4985ab",
        "colab": {
          "base_uri": "https://localhost:8080/",
          "height": 168
        }
      },
      "source": [
        "## Metricas de validación\n",
        "from sklearn.metrics import classification_report\n",
        "target_names = ['class 1', 'class 2']\n",
        "print(classification_report(y_test, y_pred, target_names=target_names))"
      ],
      "execution_count": 36,
      "outputs": [
        {
          "output_type": "stream",
          "text": [
            "              precision    recall  f1-score   support\n",
            "\n",
            "     class 1       0.77      0.96      0.86        25\n",
            "     class 2       0.50      0.12      0.20         8\n",
            "\n",
            "    accuracy                           0.76        33\n",
            "   macro avg       0.64      0.54      0.53        33\n",
            "weighted avg       0.71      0.76      0.70        33\n",
            "\n"
          ],
          "name": "stdout"
        }
      ]
    },
    {
      "cell_type": "code",
      "metadata": {
        "id": "RzK9Hq6FeZ5Y",
        "colab_type": "code",
        "outputId": "a486a7b6-72fc-47e3-f0b1-cbd62fb6f9ed",
        "colab": {
          "base_uri": "https://localhost:8080/",
          "height": 50
        }
      },
      "source": [
        "grid.best_estimator_.feature_importances_"
      ],
      "execution_count": 37,
      "outputs": [
        {
          "output_type": "execute_result",
          "data": {
            "text/plain": [
              "array([0.01363, 0.00761, 0.02198, 0.11244, 0.08981, 0.06793, 0.01646, 0.05638, 0.05685, 0.02957, 0.06897,\n",
              "       0.01869, 0.06178, 0.03797, 0.07144, 0.02523, 0.24325])"
            ]
          },
          "metadata": {
            "tags": []
          },
          "execution_count": 37
        }
      ]
    },
    {
      "cell_type": "code",
      "metadata": {
        "id": "7gGPpMwrhBBp",
        "colab_type": "code",
        "outputId": "cb9b21f8-69a5-4106-f878-6bda60d88e7d",
        "colab": {
          "base_uri": "https://localhost:8080/",
          "height": 118
        }
      },
      "source": [
        "data_.columns"
      ],
      "execution_count": 38,
      "outputs": [
        {
          "output_type": "execute_result",
          "data": {
            "text/plain": [
              "Index(['Mod_comb', 'rk_peligro', 'LST', 'Velocidad_Viento', 'Humedad_Relativa',\n",
              "       'Temperatura_Media', 'fechaMonth', 'fechaWeek', 'fechaDay',\n",
              "       'fechaDayofweek', 'fechaDayofyear', 'cat_dir_viento', 'ned_hidricas',\n",
              "       'vulnerabilidad', 'riesgos_generales_cuenca', 'riesgos_pendientes',\n",
              "       'ndvi_norm'],\n",
              "      dtype='object')"
            ]
          },
          "metadata": {
            "tags": []
          },
          "execution_count": 38
        }
      ]
    },
    {
      "cell_type": "code",
      "metadata": {
        "id": "eqHLe1VItLrD",
        "colab_type": "code",
        "colab": {}
      },
      "source": [
        "import pandas as pd\n",
        "feature_importances = pd.DataFrame(grid.best_estimator_.feature_importances_,\n",
        "                                   index = data_.columns,\n",
        "                                    columns=['importance']).sort_values('importance',     \n",
        "                                                                        ascending=False)"
      ],
      "execution_count": 0,
      "outputs": []
    },
    {
      "cell_type": "code",
      "metadata": {
        "id": "R8ALUluwhA1x",
        "colab_type": "code",
        "outputId": "25077a6d-2dcf-4627-e417-dc279bc16630",
        "colab": {
          "base_uri": "https://localhost:8080/",
          "height": 550
        }
      },
      "source": [
        "feature_importances"
      ],
      "execution_count": 40,
      "outputs": [
        {
          "output_type": "execute_result",
          "data": {
            "text/html": [
              "<div>\n",
              "<style scoped>\n",
              "    .dataframe tbody tr th:only-of-type {\n",
              "        vertical-align: middle;\n",
              "    }\n",
              "\n",
              "    .dataframe tbody tr th {\n",
              "        vertical-align: top;\n",
              "    }\n",
              "\n",
              "    .dataframe thead th {\n",
              "        text-align: right;\n",
              "    }\n",
              "</style>\n",
              "<table border=\"1\" class=\"dataframe\">\n",
              "  <thead>\n",
              "    <tr style=\"text-align: right;\">\n",
              "      <th></th>\n",
              "      <th>importance</th>\n",
              "    </tr>\n",
              "  </thead>\n",
              "  <tbody>\n",
              "    <tr>\n",
              "      <th>ndvi_norm</th>\n",
              "      <td>0.243255</td>\n",
              "    </tr>\n",
              "    <tr>\n",
              "      <th>Velocidad_Viento</th>\n",
              "      <td>0.112441</td>\n",
              "    </tr>\n",
              "    <tr>\n",
              "      <th>Humedad_Relativa</th>\n",
              "      <td>0.089812</td>\n",
              "    </tr>\n",
              "    <tr>\n",
              "      <th>riesgos_generales_cuenca</th>\n",
              "      <td>0.071435</td>\n",
              "    </tr>\n",
              "    <tr>\n",
              "      <th>fechaDayofyear</th>\n",
              "      <td>0.068973</td>\n",
              "    </tr>\n",
              "    <tr>\n",
              "      <th>Temperatura_Media</th>\n",
              "      <td>0.067927</td>\n",
              "    </tr>\n",
              "    <tr>\n",
              "      <th>ned_hidricas</th>\n",
              "      <td>0.061784</td>\n",
              "    </tr>\n",
              "    <tr>\n",
              "      <th>fechaDay</th>\n",
              "      <td>0.056854</td>\n",
              "    </tr>\n",
              "    <tr>\n",
              "      <th>fechaWeek</th>\n",
              "      <td>0.056376</td>\n",
              "    </tr>\n",
              "    <tr>\n",
              "      <th>vulnerabilidad</th>\n",
              "      <td>0.037974</td>\n",
              "    </tr>\n",
              "    <tr>\n",
              "      <th>fechaDayofweek</th>\n",
              "      <td>0.029574</td>\n",
              "    </tr>\n",
              "    <tr>\n",
              "      <th>riesgos_pendientes</th>\n",
              "      <td>0.025226</td>\n",
              "    </tr>\n",
              "    <tr>\n",
              "      <th>LST</th>\n",
              "      <td>0.021984</td>\n",
              "    </tr>\n",
              "    <tr>\n",
              "      <th>cat_dir_viento</th>\n",
              "      <td>0.018693</td>\n",
              "    </tr>\n",
              "    <tr>\n",
              "      <th>fechaMonth</th>\n",
              "      <td>0.016456</td>\n",
              "    </tr>\n",
              "    <tr>\n",
              "      <th>Mod_comb</th>\n",
              "      <td>0.013630</td>\n",
              "    </tr>\n",
              "    <tr>\n",
              "      <th>rk_peligro</th>\n",
              "      <td>0.007607</td>\n",
              "    </tr>\n",
              "  </tbody>\n",
              "</table>\n",
              "</div>"
            ],
            "text/plain": [
              "                          importance\n",
              "ndvi_norm                   0.243255\n",
              "Velocidad_Viento            0.112441\n",
              "Humedad_Relativa            0.089812\n",
              "riesgos_generales_cuenca    0.071435\n",
              "fechaDayofyear              0.068973\n",
              "Temperatura_Media           0.067927\n",
              "ned_hidricas                0.061784\n",
              "fechaDay                    0.056854\n",
              "fechaWeek                   0.056376\n",
              "vulnerabilidad              0.037974\n",
              "fechaDayofweek              0.029574\n",
              "riesgos_pendientes          0.025226\n",
              "LST                         0.021984\n",
              "cat_dir_viento              0.018693\n",
              "fechaMonth                  0.016456\n",
              "Mod_comb                    0.013630\n",
              "rk_peligro                  0.007607"
            ]
          },
          "metadata": {
            "tags": []
          },
          "execution_count": 40
        }
      ]
    },
    {
      "cell_type": "code",
      "metadata": {
        "id": "eu97KAHywUc-",
        "colab_type": "code",
        "outputId": "bc2e3ac8-33da-4b40-a3cb-dbe85b2821e3",
        "colab": {
          "base_uri": "https://localhost:8080/",
          "height": 34
        }
      },
      "source": [
        "df1.columns[11]"
      ],
      "execution_count": 0,
      "outputs": [
        {
          "output_type": "execute_result",
          "data": {
            "text/plain": [
              "'cat_incendio'"
            ]
          },
          "metadata": {
            "tags": []
          },
          "execution_count": 105
        }
      ]
    },
    {
      "cell_type": "code",
      "metadata": {
        "id": "5ksO2DwLiSyA",
        "colab_type": "code",
        "colab": {}
      },
      "source": [
        "#Se separan las entradas de las salidas, también nos quedamos con las columnas que nos parecen importantes\n",
        "    outputs = df1.iloc[:,11]\n",
        "    data_=df1.drop(['cat_incendio'],axis=1)\n",
        "    inputs = data_[[ 'Velocidad_Viento', 'Humedad_Relativa',\n",
        "       'Temperatura_Media',\n",
        "       'ned_hidricas',  'riesgos_generales_cuenca',\n",
        "       'ndvi_norm']]\n",
        "    Input_Data = inputs.values[:,:]\n",
        "    Output_Data = list(outputs.values[:])\n"
      ],
      "execution_count": 0,
      "outputs": []
    },
    {
      "cell_type": "code",
      "metadata": {
        "id": "kpkhdVWdPiyb",
        "colab_type": "code",
        "outputId": "03364de9-01f7-40c0-eeea-81abd20d4748",
        "colab": {
          "base_uri": "https://localhost:8080/",
          "height": 118
        }
      },
      "source": [
        "df1.columns"
      ],
      "execution_count": 0,
      "outputs": [
        {
          "output_type": "execute_result",
          "data": {
            "text/plain": [
              "Index(['Mod_comb', 'rk_peligro', 'LST', 'Velocidad_Viento', 'Humedad_Relativa',\n",
              "       'Temperatura_Media', 'fechaMonth', 'fechaWeek', 'fechaDay',\n",
              "       'fechaDayofweek', 'fechaDayofyear', 'cat_incendio', 'cat_dir_viento',\n",
              "       'ned_hidricas', 'vulnerabilidad', 'riesgos_generales_cuenca',\n",
              "       'riesgos_pendientes', 'ndvi_norm'],\n",
              "      dtype='object')"
            ]
          },
          "metadata": {
            "tags": []
          },
          "execution_count": 107
        }
      ]
    },
    {
      "cell_type": "code",
      "metadata": {
        "id": "XQSYCJIdjh6q",
        "colab_type": "code",
        "colab": {}
      },
      "source": [
        "X_train,X_test,y_train,y_test = train_test_split(Input_Data,Output_Data,test_size=0.3, stratify=df1.cat_incendio)\n",
        "# Normalizar valores antes de introducir en el modelo\n",
        "Scaler = StandardScaler()\n",
        "X_train = Scaler.fit_transform(X_train)\n",
        "X_test = Scaler.transform(X_test)"
      ],
      "execution_count": 0,
      "outputs": []
    },
    {
      "cell_type": "code",
      "metadata": {
        "id": "sQDuvFX3g0WE",
        "colab_type": "code",
        "colab": {}
      },
      "source": [
        ""
      ],
      "execution_count": 0,
      "outputs": []
    },
    {
      "cell_type": "markdown",
      "metadata": {
        "id": "mMuoEGCxg1XX",
        "colab_type": "text"
      },
      "source": [
        "# Modelo base"
      ]
    },
    {
      "cell_type": "code",
      "metadata": {
        "id": "pu2_j9IZyCGf",
        "colab_type": "code",
        "colab": {}
      },
      "source": [
        "# basicas\n",
        "import pandas as pd \n",
        "import numpy as np \n",
        "\n",
        "# Visualizacción\n",
        "import matplotlib.pyplot as plt\n",
        "import seaborn as sns\n",
        "\n",
        "# para contar valores\n",
        "from collections import Counter\n",
        "\n",
        "# modelos \n",
        "from sklearn.model_selection import train_test_split\n",
        "from sklearn.linear_model import LogisticRegression\n",
        "from sklearn.ensemble import RandomForestClassifier\n",
        "from sklearn.tree import DecisionTreeClassifier\n",
        "\n",
        "# para muestras no balanceadas\n",
        "from imblearn.under_sampling import NearMiss\n",
        "from imblearn.over_sampling import RandomOverSampler\n",
        "from imblearn.combine import SMOTETomek\n",
        "from imblearn.ensemble import BalancedBaggingClassifier\n",
        "\n",
        "# Métricas\n",
        "from sklearn.metrics import confusion_matrix\n",
        "from sklearn.metrics import classification_report\n",
        "from sklearn.metrics import accuracy_score\n",
        "from sklearn.metrics import precision_score\n",
        "from sklearn.metrics import recall_score\n",
        "from sklearn.metrics import f1_score\n",
        "\n",
        "# Tiempo \n",
        "import datetime as dt\n",
        "\n",
        "\n",
        "def matriz_confusion(y_test, pred_y):\n",
        "    conf_matrix = confusion_matrix(y_test, pred_y)\n",
        "    plt.figure(figsize=(8, 8))\n",
        "    sns.heatmap(conf_matrix, xticklabels= [\"Inc_peq\", \"Inc_grand\"], yticklabels= [\"Inc_peq\", \"Inc_grand\"], annot=True, fmt=\"d\");\n",
        "    plt.title(\"Matriz de confusión\")\n",
        "    plt.ylabel('Realidad')\n",
        "    plt.xlabel('Predicción')\n",
        "    plt.show()\n",
        "    \n",
        "def reg_log(X_train, X_test, y_train, y_test):\n",
        "    model_reg_log = LogisticRegression(random_state=69, n_jobs=-1)\n",
        "    model_reg_log.fit(X_train,y_train)\n",
        "    return model_reg_log\n",
        "\n",
        "def rf(X_train, X_test, y_train, y_test):\n",
        "    model_rf = RandomForestClassifier(n_estimators=100,random_state=69,n_jobs=-1)\n",
        "    model_rf.fit(X_train,y_train)\n",
        "    return model_rf\n",
        "\n"
      ],
      "execution_count": 0,
      "outputs": []
    },
    {
      "cell_type": "code",
      "metadata": {
        "id": "rTaYZWfsjh2w",
        "colab_type": "code",
        "outputId": "34efac11-ae65-495a-c63c-bafb2dfe44b6",
        "colab": {
          "base_uri": "https://localhost:8080/",
          "height": 118
        }
      },
      "source": [
        "rf = GridSearchCV(RandomForestClassifier(),param_grid=param_grid,n_jobs=1,cv=10,verbose=True,scoring='recall')\n",
        "\n",
        "rf.fit(X_train,y_train)\n",
        "pred = rf.predict(X_test)\n",
        "score = rf.score(X_test,y_test)\n",
        "\n",
        "conf_mat = confusion_matrix(y_test,pred)\n",
        "print(conf_mat)\n",
        "print(score)"
      ],
      "execution_count": 124,
      "outputs": [
        {
          "output_type": "stream",
          "text": [
            "Fitting 10 folds for each of 56 candidates, totalling 560 fits\n"
          ],
          "name": "stdout"
        },
        {
          "output_type": "stream",
          "text": [
            "[Parallel(n_jobs=1)]: Using backend SequentialBackend with 1 concurrent workers.\n"
          ],
          "name": "stderr"
        },
        {
          "output_type": "stream",
          "text": [
            "[[23  2]\n",
            " [ 4  4]]\n",
            "0.92\n"
          ],
          "name": "stdout"
        },
        {
          "output_type": "stream",
          "text": [
            "[Parallel(n_jobs=1)]: Done 560 out of 560 | elapsed:    9.7s finished\n"
          ],
          "name": "stderr"
        }
      ]
    },
    {
      "cell_type": "code",
      "metadata": {
        "id": "yt82twAXjhs1",
        "colab_type": "code",
        "outputId": "10fb8c51-5962-4c70-f703-a38311e054b3",
        "colab": {
          "base_uri": "https://localhost:8080/",
          "height": 168
        }
      },
      "source": [
        "## Metricas de validación\n",
        "from sklearn.metrics import classification_report\n",
        "target_names = ['class 1', 'class 2']\n",
        "print(classification_report(y_test, y_pred, target_names=target_names))"
      ],
      "execution_count": 125,
      "outputs": [
        {
          "output_type": "stream",
          "text": [
            "              precision    recall  f1-score   support\n",
            "\n",
            "     class 1       0.77      0.96      0.86        25\n",
            "     class 2       0.50      0.12      0.20         8\n",
            "\n",
            "    accuracy                           0.76        33\n",
            "   macro avg       0.64      0.54      0.53        33\n",
            "weighted avg       0.71      0.76      0.70        33\n",
            "\n"
          ],
          "name": "stdout"
        }
      ]
    },
    {
      "cell_type": "code",
      "metadata": {
        "id": "D4iJ0WCW-ab4",
        "colab_type": "code",
        "colab": {}
      },
      "source": [
        "result = pd.DataFrame(columns = ['Modelo','Observación', 'Accuracy', 'Precisión', 'Recall', 'f1-score'])\n",
        "\n",
        "# definimos una función para insertar los resultados:\n",
        "def insert_result(modelo,obs , pred):\n",
        "  n = result.shape[0]\n",
        "  # calculamos las diferentes métricas:\n",
        "  acc = accuracy_score(y_test, pred)\n",
        "  prec = precision_score(y_test, pred)\n",
        "  recall = recall_score(y_test, pred)\n",
        "  f1 = f1_score(y_test, pred)\n",
        "  \n",
        "  result.loc[n] = [modelo, obs, acc, prec, recall, f1]"
      ],
      "execution_count": 0,
      "outputs": []
    },
    {
      "cell_type": "code",
      "metadata": {
        "id": "d1DGJYSmSkom",
        "colab_type": "code",
        "colab": {
          "base_uri": "https://localhost:8080/",
          "height": 77
        },
        "outputId": "e3032339-15ad-4e36-d418-9551eae402e3"
      },
      "source": [
        "pred_y = rf.predict(X_test)\n",
        "insert_result('RF', 'Modelo_base', pred_y)\n",
        "result"
      ],
      "execution_count": 128,
      "outputs": [
        {
          "output_type": "execute_result",
          "data": {
            "text/html": [
              "<div>\n",
              "<style scoped>\n",
              "    .dataframe tbody tr th:only-of-type {\n",
              "        vertical-align: middle;\n",
              "    }\n",
              "\n",
              "    .dataframe tbody tr th {\n",
              "        vertical-align: top;\n",
              "    }\n",
              "\n",
              "    .dataframe thead th {\n",
              "        text-align: right;\n",
              "    }\n",
              "</style>\n",
              "<table border=\"1\" class=\"dataframe\">\n",
              "  <thead>\n",
              "    <tr style=\"text-align: right;\">\n",
              "      <th></th>\n",
              "      <th>Modelo</th>\n",
              "      <th>Observación</th>\n",
              "      <th>Accuracy</th>\n",
              "      <th>Precisión</th>\n",
              "      <th>Recall</th>\n",
              "      <th>f1-score</th>\n",
              "    </tr>\n",
              "  </thead>\n",
              "  <tbody>\n",
              "    <tr>\n",
              "      <th>0</th>\n",
              "      <td>RF</td>\n",
              "      <td>Modelo_base</td>\n",
              "      <td>0.818182</td>\n",
              "      <td>0.851852</td>\n",
              "      <td>0.92</td>\n",
              "      <td>0.884615</td>\n",
              "    </tr>\n",
              "  </tbody>\n",
              "</table>\n",
              "</div>"
            ],
            "text/plain": [
              "  Modelo  Observación  Accuracy  Precisión  Recall  f1-score\n",
              "0     RF  Modelo_base  0.818182   0.851852    0.92  0.884615"
            ]
          },
          "metadata": {
            "tags": []
          },
          "execution_count": 128
        }
      ]
    },
    {
      "cell_type": "code",
      "metadata": {
        "id": "Gqi4sD7GTGn6",
        "colab_type": "code",
        "colab": {}
      },
      "source": [
        ""
      ],
      "execution_count": 0,
      "outputs": []
    },
    {
      "cell_type": "markdown",
      "metadata": {
        "id": "cl6Yk9VQTIDT",
        "colab_type": "text"
      },
      "source": [
        "# MLP"
      ]
    },
    {
      "cell_type": "code",
      "metadata": {
        "id": "hqYgK09ITMia",
        "colab_type": "code",
        "colab": {}
      },
      "source": [
        "# Parámetros para optimizar el modelo de MLP\n",
        "parameter_grid_MLP = {\n",
        "            'hidden_layer_sizes': [(10),(30),(50),(100),(10,10),(30,30),(50,50),(100,100)],\n",
        "            'solver': ['lbfgs','sgd','adam'],\n",
        "            'activation' : ['identity','logistic','tanh','relu'],\n",
        "            'learning_rate': ['constant','adaptive'],\n",
        "            'alpha': [0.0001,0.001,0.005,0.01]\n",
        "            }\n",
        "\n"
      ],
      "execution_count": 0,
      "outputs": []
    },
    {
      "cell_type": "code",
      "metadata": {
        "id": "3FnEwzMXVjGk",
        "colab_type": "code",
        "colab": {
          "base_uri": "https://localhost:8080/",
          "height": 67
        },
        "outputId": "cfc57e56-02bf-41f8-9658-095766a2764c"
      },
      "source": [
        "from sklearn.neural_network import MLPClassifier\n",
        "from sklearn.metrics import confusion_matrix\n",
        "\n",
        "mlp = GridSearchCV(MLPClassifier(early_stopping=True),param_grid=parameter_grid_MLP,cv=5,verbose=True,n_jobs=-2)\n",
        "mlp.fit(X_train,np.ravel(y_train))\n",
        "pred= mlp.predict(X_test)"
      ],
      "execution_count": 151,
      "outputs": [
        {
          "output_type": "stream",
          "text": [
            "Fitting 5 folds for each of 768 candidates, totalling 3840 fits\n"
          ],
          "name": "stdout"
        },
        {
          "output_type": "stream",
          "text": [
            "[Parallel(n_jobs=-2)]: Using backend SequentialBackend with 1 concurrent workers.\n",
            "[Parallel(n_jobs=-2)]: Done 3840 out of 3840 | elapsed:  2.5min finished\n"
          ],
          "name": "stderr"
        }
      ]
    },
    {
      "cell_type": "code",
      "metadata": {
        "id": "ctCyAYtBYiea",
        "colab_type": "code",
        "colab": {
          "base_uri": "https://localhost:8080/",
          "height": 67
        },
        "outputId": "cbae0489-150a-4782-fdfc-9c53fca84078"
      },
      "source": [
        "np.ravel(y_train)"
      ],
      "execution_count": 150,
      "outputs": [
        {
          "output_type": "execute_result",
          "data": {
            "text/plain": [
              "array([1, 1, 1, 1, 1, 1, 1, 1, 1, 2, 1, 1, 1, 2, 2, 1, 2, 2, 2, 1, 1, 1, 1, 1, 1, 1, 1, 2, 2, 2, 2, 1, 1, 1,\n",
              "       1, 1, 1, 1, 1, 1, 1, 2, 1, 1, 1, 1, 1, 1, 2, 1, 1, 1, 1, 2, 1, 1, 2, 1, 2, 2, 1, 1, 2, 2, 1, 2, 1, 1,\n",
              "       1, 2, 1, 1, 1, 1, 1, 1, 1])"
            ]
          },
          "metadata": {
            "tags": []
          },
          "execution_count": 150
        }
      ]
    },
    {
      "cell_type": "code",
      "metadata": {
        "id": "_CAIo7fkXx_f",
        "colab_type": "code",
        "colab": {
          "base_uri": "https://localhost:8080/",
          "height": 34
        },
        "outputId": "92ecf613-2d04-4fb7-ddef-09bc72a00bba"
      },
      "source": [
        "pred"
      ],
      "execution_count": 146,
      "outputs": [
        {
          "output_type": "execute_result",
          "data": {
            "text/plain": [
              "array([2, 2, 2, 2, 2, 2, 2, 2, 2, 2, 2, 2, 2, 2, 2, 2, 2, 2, 2, 2, 2, 2, 2, 2, 2, 2, 2, 2, 2, 2, 2, 2, 2])"
            ]
          },
          "metadata": {
            "tags": []
          },
          "execution_count": 146
        }
      ]
    },
    {
      "cell_type": "code",
      "metadata": {
        "id": "wKFmTMKrTMet",
        "colab_type": "code",
        "colab": {
          "base_uri": "https://localhost:8080/",
          "height": 136
        },
        "outputId": "42c85d4e-a694-4b7f-8b6d-b4f3432dff0c"
      },
      "source": [
        "insert_result('MLP', 'Modelo_base', pred)\n",
        "result"
      ],
      "execution_count": 152,
      "outputs": [
        {
          "output_type": "execute_result",
          "data": {
            "text/html": [
              "<div>\n",
              "<style scoped>\n",
              "    .dataframe tbody tr th:only-of-type {\n",
              "        vertical-align: middle;\n",
              "    }\n",
              "\n",
              "    .dataframe tbody tr th {\n",
              "        vertical-align: top;\n",
              "    }\n",
              "\n",
              "    .dataframe thead th {\n",
              "        text-align: right;\n",
              "    }\n",
              "</style>\n",
              "<table border=\"1\" class=\"dataframe\">\n",
              "  <thead>\n",
              "    <tr style=\"text-align: right;\">\n",
              "      <th></th>\n",
              "      <th>Modelo</th>\n",
              "      <th>Observación</th>\n",
              "      <th>Accuracy</th>\n",
              "      <th>Precisión</th>\n",
              "      <th>Recall</th>\n",
              "      <th>f1-score</th>\n",
              "    </tr>\n",
              "  </thead>\n",
              "  <tbody>\n",
              "    <tr>\n",
              "      <th>0</th>\n",
              "      <td>RF</td>\n",
              "      <td>Modelo_base</td>\n",
              "      <td>0.818182</td>\n",
              "      <td>0.851852</td>\n",
              "      <td>0.92</td>\n",
              "      <td>0.884615</td>\n",
              "    </tr>\n",
              "    <tr>\n",
              "      <th>1</th>\n",
              "      <td>MLP</td>\n",
              "      <td>Modelo_base</td>\n",
              "      <td>0.242424</td>\n",
              "      <td>0.000000</td>\n",
              "      <td>0.00</td>\n",
              "      <td>0.000000</td>\n",
              "    </tr>\n",
              "    <tr>\n",
              "      <th>2</th>\n",
              "      <td>MLP</td>\n",
              "      <td>Modelo_base</td>\n",
              "      <td>0.757576</td>\n",
              "      <td>0.757576</td>\n",
              "      <td>1.00</td>\n",
              "      <td>0.862069</td>\n",
              "    </tr>\n",
              "  </tbody>\n",
              "</table>\n",
              "</div>"
            ],
            "text/plain": [
              "  Modelo  Observación  Accuracy  Precisión  Recall  f1-score\n",
              "0     RF  Modelo_base  0.818182   0.851852    0.92  0.884615\n",
              "1    MLP  Modelo_base  0.242424   0.000000    0.00  0.000000\n",
              "2    MLP  Modelo_base  0.757576   0.757576    1.00  0.862069"
            ]
          },
          "metadata": {
            "tags": []
          },
          "execution_count": 152
        }
      ]
    },
    {
      "cell_type": "code",
      "metadata": {
        "id": "KDMH6BKbTMb6",
        "colab_type": "code",
        "colab": {
          "base_uri": "https://localhost:8080/",
          "height": 514
        },
        "outputId": "8088cb71-f9e9-4cc7-ee2b-f8951420844a"
      },
      "source": [
        "matriz_confusion(y_test,pred)"
      ],
      "execution_count": 153,
      "outputs": [
        {
          "output_type": "display_data",
          "data": {
            "image/png": "[encoded data removed]",
            "text/plain": [
              "<Figure size 576x576 with 2 Axes>"
            ]
          },
          "metadata": {
            "tags": []
          }
        }
      ]
    },
    {
      "cell_type": "code",
      "metadata": {
        "id": "vwG-634VcZgS",
        "colab_type": "code",
        "colab": {}
      },
      "source": [
        ""
      ],
      "execution_count": 0,
      "outputs": []
    },
    {
      "cell_type": "code",
      "metadata": {
        "id": "PbHZVVL_TMOq",
        "colab_type": "code",
        "colab": {
          "base_uri": "https://localhost:8080/",
          "height": 67
        },
        "outputId": "9f06d843-9b64-4539-bcca-751963213549"
      },
      "source": [
        "## GRADIENT BOOSTING - modelo base\n",
        "loss=['deviance','exponential']\n",
        "criterion = ['friedman_mse']\n",
        "learning_rate=[0.1,0.2,0.3,0.4,0.5,0.6,0.7,0.8,0.9]\n",
        "n=[10,50,70,80,100]\n",
        "\n",
        "param_grid = {'loss': loss,\n",
        "                  'n_estimators':n,\n",
        "                  'learning_rate':learning_rate,\n",
        "                  'criterion':criterion}\n",
        "\n",
        "\n",
        "gbc = GridSearchCV(GradientBoostingClassifier(),param_grid=param_grid,n_jobs=-2,cv=10,verbose=True)\n",
        "   \n",
        "gbc.fit(X_train,np.ravel(y_train))\n",
        "pred= gbc.predict(X_test)"
      ],
      "execution_count": 156,
      "outputs": [
        {
          "output_type": "stream",
          "text": [
            "Fitting 10 folds for each of 90 candidates, totalling 900 fits\n"
          ],
          "name": "stdout"
        },
        {
          "output_type": "stream",
          "text": [
            "[Parallel(n_jobs=-2)]: Using backend SequentialBackend with 1 concurrent workers.\n",
            "[Parallel(n_jobs=-2)]: Done 900 out of 900 | elapsed:   17.0s finished\n"
          ],
          "name": "stderr"
        }
      ]
    },
    {
      "cell_type": "code",
      "metadata": {
        "id": "2q8dSQqHZ2Qj",
        "colab_type": "code",
        "colab": {
          "base_uri": "https://localhost:8080/",
          "height": 166
        },
        "outputId": "11f025cb-268e-418f-9fd1-552adfdbae02"
      },
      "source": [
        "insert_result('GB', 'Modelo_base', pred)\n",
        "result"
      ],
      "execution_count": 157,
      "outputs": [
        {
          "output_type": "execute_result",
          "data": {
            "text/html": [
              "<div>\n",
              "<style scoped>\n",
              "    .dataframe tbody tr th:only-of-type {\n",
              "        vertical-align: middle;\n",
              "    }\n",
              "\n",
              "    .dataframe tbody tr th {\n",
              "        vertical-align: top;\n",
              "    }\n",
              "\n",
              "    .dataframe thead th {\n",
              "        text-align: right;\n",
              "    }\n",
              "</style>\n",
              "<table border=\"1\" class=\"dataframe\">\n",
              "  <thead>\n",
              "    <tr style=\"text-align: right;\">\n",
              "      <th></th>\n",
              "      <th>Modelo</th>\n",
              "      <th>Observación</th>\n",
              "      <th>Accuracy</th>\n",
              "      <th>Precisión</th>\n",
              "      <th>Recall</th>\n",
              "      <th>f1-score</th>\n",
              "    </tr>\n",
              "  </thead>\n",
              "  <tbody>\n",
              "    <tr>\n",
              "      <th>0</th>\n",
              "      <td>RF</td>\n",
              "      <td>Modelo_base</td>\n",
              "      <td>0.818182</td>\n",
              "      <td>0.851852</td>\n",
              "      <td>0.92</td>\n",
              "      <td>0.884615</td>\n",
              "    </tr>\n",
              "    <tr>\n",
              "      <th>1</th>\n",
              "      <td>MLP</td>\n",
              "      <td>Modelo_base</td>\n",
              "      <td>0.242424</td>\n",
              "      <td>0.000000</td>\n",
              "      <td>0.00</td>\n",
              "      <td>0.000000</td>\n",
              "    </tr>\n",
              "    <tr>\n",
              "      <th>2</th>\n",
              "      <td>MLP</td>\n",
              "      <td>Modelo_base</td>\n",
              "      <td>0.757576</td>\n",
              "      <td>0.757576</td>\n",
              "      <td>1.00</td>\n",
              "      <td>0.862069</td>\n",
              "    </tr>\n",
              "    <tr>\n",
              "      <th>3</th>\n",
              "      <td>GB</td>\n",
              "      <td>Modelo_base</td>\n",
              "      <td>0.757576</td>\n",
              "      <td>0.869565</td>\n",
              "      <td>0.80</td>\n",
              "      <td>0.833333</td>\n",
              "    </tr>\n",
              "  </tbody>\n",
              "</table>\n",
              "</div>"
            ],
            "text/plain": [
              "  Modelo  Observación  Accuracy  Precisión  Recall  f1-score\n",
              "0     RF  Modelo_base  0.818182   0.851852    0.92  0.884615\n",
              "1    MLP  Modelo_base  0.242424   0.000000    0.00  0.000000\n",
              "2    MLP  Modelo_base  0.757576   0.757576    1.00  0.862069\n",
              "3     GB  Modelo_base  0.757576   0.869565    0.80  0.833333"
            ]
          },
          "metadata": {
            "tags": []
          },
          "execution_count": 157
        }
      ]
    },
    {
      "cell_type": "code",
      "metadata": {
        "id": "D91B5B3sZ2Ns",
        "colab_type": "code",
        "colab": {
          "base_uri": "https://localhost:8080/",
          "height": 514
        },
        "outputId": "86101abf-d184-455c-a26f-aadb04e74145"
      },
      "source": [
        "matriz_confusion(y_test,pred)"
      ],
      "execution_count": 158,
      "outputs": [
        {
          "output_type": "display_data",
          "data": {
            "image/png": "[encoded data removed]",
            "text/plain": [
              "<Figure size 576x576 with 2 Axes>"
            ]
          },
          "metadata": {
            "tags": []
          }
        }
      ]
    },
    {
      "cell_type": "code",
      "metadata": {
        "id": "Od_GPi_8Z2Kb",
        "colab_type": "code",
        "colab": {
          "base_uri": "https://localhost:8080/",
          "height": 564
        },
        "outputId": "f0521875-16ee-43d1-f17b-881fa9e8555a"
      },
      "source": [
        "### XBOOST ###\n",
        "import xgboost as xgb\n",
        "from scipy.stats import uniform, randint\n",
        "\n",
        "xgb_model = xgb.XGBClassifier()\n",
        "    \n",
        "parameter_grid_XGBOOST = {\n",
        "            'min_child_weight': [1, 5, 10],\n",
        "        'gamma': [0.5, 1, 1.5, 2, 5],\n",
        "        'subsample': [0.6, 0.8, 1.0],\n",
        "        'colsample_bytree': [0.6, 0.8, 1.0],\n",
        "        'max_depth': [3, 4, 5]\n",
        "            }\n",
        "    \n",
        "    \n",
        "xgb = GridSearchCV(xgb_model, param_grid=parameter_grid_XGBOOST, cv=3, verbose=1, n_jobs=1, return_train_score=True)\n",
        "xgb.fit(X_train,np.ravel(y_train))\n",
        "pred = xgb.predict(X_test)\n",
        "\n",
        "insert_result('XBOOST', 'Modelo_base', pred)\n",
        "result\n",
        "\n",
        "matriz_confusion(y_test,pred)"
      ],
      "execution_count": 159,
      "outputs": [
        {
          "output_type": "stream",
          "text": [
            "Fitting 3 folds for each of 405 candidates, totalling 1215 fits\n"
          ],
          "name": "stdout"
        },
        {
          "output_type": "stream",
          "text": [
            "[Parallel(n_jobs=1)]: Using backend SequentialBackend with 1 concurrent workers.\n",
            "[Parallel(n_jobs=1)]: Done 1215 out of 1215 | elapsed:   14.6s finished\n"
          ],
          "name": "stderr"
        },
        {
          "output_type": "display_data",
          "data": {
            "image/png": "[encoded data removed]",
            "text/plain": [
              "<Figure size 576x576 with 2 Axes>"
            ]
          },
          "metadata": {
            "tags": []
          }
        }
      ]
    },
    {
      "cell_type": "code",
      "metadata": {
        "id": "MRxTshDHZ2HR",
        "colab_type": "code",
        "colab": {
          "base_uri": "https://localhost:8080/",
          "height": 195
        },
        "outputId": "37b550e7-e249-4c68-edea-8257fc5c0db2"
      },
      "source": [
        "result"
      ],
      "execution_count": 160,
      "outputs": [
        {
          "output_type": "execute_result",
          "data": {
            "text/html": [
              "<div>\n",
              "<style scoped>\n",
              "    .dataframe tbody tr th:only-of-type {\n",
              "        vertical-align: middle;\n",
              "    }\n",
              "\n",
              "    .dataframe tbody tr th {\n",
              "        vertical-align: top;\n",
              "    }\n",
              "\n",
              "    .dataframe thead th {\n",
              "        text-align: right;\n",
              "    }\n",
              "</style>\n",
              "<table border=\"1\" class=\"dataframe\">\n",
              "  <thead>\n",
              "    <tr style=\"text-align: right;\">\n",
              "      <th></th>\n",
              "      <th>Modelo</th>\n",
              "      <th>Observación</th>\n",
              "      <th>Accuracy</th>\n",
              "      <th>Precisión</th>\n",
              "      <th>Recall</th>\n",
              "      <th>f1-score</th>\n",
              "    </tr>\n",
              "  </thead>\n",
              "  <tbody>\n",
              "    <tr>\n",
              "      <th>0</th>\n",
              "      <td>RF</td>\n",
              "      <td>Modelo_base</td>\n",
              "      <td>0.818182</td>\n",
              "      <td>0.851852</td>\n",
              "      <td>0.92</td>\n",
              "      <td>0.884615</td>\n",
              "    </tr>\n",
              "    <tr>\n",
              "      <th>1</th>\n",
              "      <td>MLP</td>\n",
              "      <td>Modelo_base</td>\n",
              "      <td>0.242424</td>\n",
              "      <td>0.000000</td>\n",
              "      <td>0.00</td>\n",
              "      <td>0.000000</td>\n",
              "    </tr>\n",
              "    <tr>\n",
              "      <th>2</th>\n",
              "      <td>MLP</td>\n",
              "      <td>Modelo_base</td>\n",
              "      <td>0.757576</td>\n",
              "      <td>0.757576</td>\n",
              "      <td>1.00</td>\n",
              "      <td>0.862069</td>\n",
              "    </tr>\n",
              "    <tr>\n",
              "      <th>3</th>\n",
              "      <td>GB</td>\n",
              "      <td>Modelo_base</td>\n",
              "      <td>0.757576</td>\n",
              "      <td>0.869565</td>\n",
              "      <td>0.80</td>\n",
              "      <td>0.833333</td>\n",
              "    </tr>\n",
              "    <tr>\n",
              "      <th>4</th>\n",
              "      <td>XBOOST</td>\n",
              "      <td>Modelo_base</td>\n",
              "      <td>0.666667</td>\n",
              "      <td>0.818182</td>\n",
              "      <td>0.72</td>\n",
              "      <td>0.765957</td>\n",
              "    </tr>\n",
              "  </tbody>\n",
              "</table>\n",
              "</div>"
            ],
            "text/plain": [
              "   Modelo  Observación  Accuracy  Precisión  Recall  f1-score\n",
              "0      RF  Modelo_base  0.818182   0.851852    0.92  0.884615\n",
              "1     MLP  Modelo_base  0.242424   0.000000    0.00  0.000000\n",
              "2     MLP  Modelo_base  0.757576   0.757576    1.00  0.862069\n",
              "3      GB  Modelo_base  0.757576   0.869565    0.80  0.833333\n",
              "4  XBOOST  Modelo_base  0.666667   0.818182    0.72  0.765957"
            ]
          },
          "metadata": {
            "tags": []
          },
          "execution_count": 160
        }
      ]
    },
    {
      "cell_type": "code",
      "metadata": {
        "id": "1sMYckloc-xi",
        "colab_type": "code",
        "colab": {}
      },
      "source": [
        ""
      ],
      "execution_count": 0,
      "outputs": []
    },
    {
      "cell_type": "code",
      "metadata": {
        "id": "cnRbXbRJc-po",
        "colab_type": "code",
        "colab": {
          "base_uri": "https://localhost:8080/",
          "height": 275
        },
        "outputId": "cf22707f-5fa8-4d8a-cef2-e4c1e80a98ad"
      },
      "source": [
        "### BAGGING ### \n",
        "\n",
        "from sklearn.ensemble import BaggingClassifier\n",
        "from sklearn.tree import DecisionTreeClassifier\n",
        "from sklearn.neighbors import KNeighborsClassifier\n",
        "\n",
        "\n",
        "n=[10,50,70,80,100]\n",
        "base= [DecisionTreeClassifier(),KNeighborsClassifier()]\n",
        "param_grid = {'n_estimators': n,\n",
        "                  'base_estimator':base}\n",
        "\n",
        "grid = GridSearchCV(BaggingClassifier(),param_grid=param_grid,n_jobs=-2,cv=10,verbose=True)\n",
        "    \n",
        "grid.fit(X_train,np.ravel(y_train))\n",
        "pred = grid.predict(X_test)\n",
        "\n",
        "insert_result('BAGGING', 'Modelo_base', pred)\n",
        "result"
      ],
      "execution_count": 161,
      "outputs": [
        {
          "output_type": "stream",
          "text": [
            "Fitting 10 folds for each of 10 candidates, totalling 100 fits\n"
          ],
          "name": "stdout"
        },
        {
          "output_type": "stream",
          "text": [
            "[Parallel(n_jobs=-2)]: Using backend SequentialBackend with 1 concurrent workers.\n",
            "[Parallel(n_jobs=-2)]: Done 100 out of 100 | elapsed:    5.7s finished\n"
          ],
          "name": "stderr"
        },
        {
          "output_type": "execute_result",
          "data": {
            "text/html": [
              "<div>\n",
              "<style scoped>\n",
              "    .dataframe tbody tr th:only-of-type {\n",
              "        vertical-align: middle;\n",
              "    }\n",
              "\n",
              "    .dataframe tbody tr th {\n",
              "        vertical-align: top;\n",
              "    }\n",
              "\n",
              "    .dataframe thead th {\n",
              "        text-align: right;\n",
              "    }\n",
              "</style>\n",
              "<table border=\"1\" class=\"dataframe\">\n",
              "  <thead>\n",
              "    <tr style=\"text-align: right;\">\n",
              "      <th></th>\n",
              "      <th>Modelo</th>\n",
              "      <th>Observación</th>\n",
              "      <th>Accuracy</th>\n",
              "      <th>Precisión</th>\n",
              "      <th>Recall</th>\n",
              "      <th>f1-score</th>\n",
              "    </tr>\n",
              "  </thead>\n",
              "  <tbody>\n",
              "    <tr>\n",
              "      <th>0</th>\n",
              "      <td>RF</td>\n",
              "      <td>Modelo_base</td>\n",
              "      <td>0.818182</td>\n",
              "      <td>0.851852</td>\n",
              "      <td>0.92</td>\n",
              "      <td>0.884615</td>\n",
              "    </tr>\n",
              "    <tr>\n",
              "      <th>1</th>\n",
              "      <td>MLP</td>\n",
              "      <td>Modelo_base</td>\n",
              "      <td>0.242424</td>\n",
              "      <td>0.000000</td>\n",
              "      <td>0.00</td>\n",
              "      <td>0.000000</td>\n",
              "    </tr>\n",
              "    <tr>\n",
              "      <th>2</th>\n",
              "      <td>MLP</td>\n",
              "      <td>Modelo_base</td>\n",
              "      <td>0.757576</td>\n",
              "      <td>0.757576</td>\n",
              "      <td>1.00</td>\n",
              "      <td>0.862069</td>\n",
              "    </tr>\n",
              "    <tr>\n",
              "      <th>3</th>\n",
              "      <td>GB</td>\n",
              "      <td>Modelo_base</td>\n",
              "      <td>0.757576</td>\n",
              "      <td>0.869565</td>\n",
              "      <td>0.80</td>\n",
              "      <td>0.833333</td>\n",
              "    </tr>\n",
              "    <tr>\n",
              "      <th>4</th>\n",
              "      <td>XBOOST</td>\n",
              "      <td>Modelo_base</td>\n",
              "      <td>0.666667</td>\n",
              "      <td>0.818182</td>\n",
              "      <td>0.72</td>\n",
              "      <td>0.765957</td>\n",
              "    </tr>\n",
              "    <tr>\n",
              "      <th>5</th>\n",
              "      <td>BAGGING</td>\n",
              "      <td>Modelo_base</td>\n",
              "      <td>0.787879</td>\n",
              "      <td>0.846154</td>\n",
              "      <td>0.88</td>\n",
              "      <td>0.862745</td>\n",
              "    </tr>\n",
              "  </tbody>\n",
              "</table>\n",
              "</div>"
            ],
            "text/plain": [
              "    Modelo  Observación  Accuracy  Precisión  Recall  f1-score\n",
              "0       RF  Modelo_base  0.818182   0.851852    0.92  0.884615\n",
              "1      MLP  Modelo_base  0.242424   0.000000    0.00  0.000000\n",
              "2      MLP  Modelo_base  0.757576   0.757576    1.00  0.862069\n",
              "3       GB  Modelo_base  0.757576   0.869565    0.80  0.833333\n",
              "4   XBOOST  Modelo_base  0.666667   0.818182    0.72  0.765957\n",
              "5  BAGGING  Modelo_base  0.787879   0.846154    0.88  0.862745"
            ]
          },
          "metadata": {
            "tags": []
          },
          "execution_count": 161
        }
      ]
    },
    {
      "cell_type": "code",
      "metadata": {
        "id": "Fbmyp_hHdTLB",
        "colab_type": "code",
        "colab": {
          "base_uri": "https://localhost:8080/",
          "height": 514
        },
        "outputId": "81db97f2-f4da-4257-cf28-345ca19a78b2"
      },
      "source": [
        "matriz_confusion(y_test,pred)"
      ],
      "execution_count": 162,
      "outputs": [
        {
          "output_type": "display_data",
          "data": {
            "image/png": "[encoded data removed]",
            "text/plain": [
              "<Figure size 576x576 with 2 Axes>"
            ]
          },
          "metadata": {
            "tags": []
          }
        }
      ]
    },
    {
      "cell_type": "code",
      "metadata": {
        "id": "ni86AP0hdZTX",
        "colab_type": "code",
        "colab": {}
      },
      "source": [
        ""
      ],
      "execution_count": 0,
      "outputs": []
    },
    {
      "cell_type": "code",
      "metadata": {
        "id": "d6zKNdJ5dZK6",
        "colab_type": "code",
        "colab": {
          "base_uri": "https://localhost:8080/",
          "height": 506
        },
        "outputId": "a9b30c9c-126f-4860-c4e6-f90087594a9d"
      },
      "source": [
        "### ADABOOSTCLASSIFIER ###\n",
        "\n",
        "from sklearn.ensemble import AdaBoostClassifier\n",
        "from sklearn.tree import DecisionTreeClassifier\n",
        "\n",
        "dtc = DecisionTreeClassifier(criterion=\"entropy\", max_depth=3)\n",
        "ada_model=AdaBoostClassifier(base_estimator=dtc, n_estimators=100)\n",
        "ada_model=ada_model.fit(X_train,y_train)\n",
        "print(ada_model)\n",
        "AdaBoostClassifier(algorithm='SAMME.R',\n",
        "    base_estimator=DecisionTreeClassifier(class_weight=None, \n",
        "    criterion='entropy',max_depth=3,\n",
        "    max_features=None, max_leaf_nodes=None,\n",
        "    min_impurity_decrease=0.0, min_impurity_split=None,\n",
        "    min_samples_leaf=1, min_samples_split=2,\n",
        "    min_weight_fraction_leaf=0.0, presort=False, random_state=None,\n",
        "    splitter='best'),\n",
        "    learning_rate=1.0, n_estimators=100, random_state=None)\n",
        "\n",
        "ytest_pred=ada_model.predict(X_test)\n",
        "\n",
        "insert_result('ADABOOSTCLASSIFIER', 'Modelo_base', ytest_pred)\n",
        "result"
      ],
      "execution_count": 163,
      "outputs": [
        {
          "output_type": "stream",
          "text": [
            "AdaBoostClassifier(algorithm='SAMME.R',\n",
            "                   base_estimator=DecisionTreeClassifier(class_weight=None,\n",
            "                                                         criterion='entropy',\n",
            "                                                         max_depth=3,\n",
            "                                                         max_features=None,\n",
            "                                                         max_leaf_nodes=None,\n",
            "                                                         min_impurity_decrease=0.0,\n",
            "                                                         min_impurity_split=None,\n",
            "                                                         min_samples_leaf=1,\n",
            "                                                         min_samples_split=2,\n",
            "                                                         min_weight_fraction_leaf=0.0,\n",
            "                                                         presort=False,\n",
            "                                                         random_state=None,\n",
            "                                                         splitter='best'),\n",
            "                   learning_rate=1.0, n_estimators=100, random_state=None)\n"
          ],
          "name": "stdout"
        },
        {
          "output_type": "execute_result",
          "data": {
            "text/html": [
              "<div>\n",
              "<style scoped>\n",
              "    .dataframe tbody tr th:only-of-type {\n",
              "        vertical-align: middle;\n",
              "    }\n",
              "\n",
              "    .dataframe tbody tr th {\n",
              "        vertical-align: top;\n",
              "    }\n",
              "\n",
              "    .dataframe thead th {\n",
              "        text-align: right;\n",
              "    }\n",
              "</style>\n",
              "<table border=\"1\" class=\"dataframe\">\n",
              "  <thead>\n",
              "    <tr style=\"text-align: right;\">\n",
              "      <th></th>\n",
              "      <th>Modelo</th>\n",
              "      <th>Observación</th>\n",
              "      <th>Accuracy</th>\n",
              "      <th>Precisión</th>\n",
              "      <th>Recall</th>\n",
              "      <th>f1-score</th>\n",
              "    </tr>\n",
              "  </thead>\n",
              "  <tbody>\n",
              "    <tr>\n",
              "      <th>0</th>\n",
              "      <td>RF</td>\n",
              "      <td>Modelo_base</td>\n",
              "      <td>0.818182</td>\n",
              "      <td>0.851852</td>\n",
              "      <td>0.92</td>\n",
              "      <td>0.884615</td>\n",
              "    </tr>\n",
              "    <tr>\n",
              "      <th>1</th>\n",
              "      <td>MLP</td>\n",
              "      <td>Modelo_base</td>\n",
              "      <td>0.242424</td>\n",
              "      <td>0.000000</td>\n",
              "      <td>0.00</td>\n",
              "      <td>0.000000</td>\n",
              "    </tr>\n",
              "    <tr>\n",
              "      <th>2</th>\n",
              "      <td>MLP</td>\n",
              "      <td>Modelo_base</td>\n",
              "      <td>0.757576</td>\n",
              "      <td>0.757576</td>\n",
              "      <td>1.00</td>\n",
              "      <td>0.862069</td>\n",
              "    </tr>\n",
              "    <tr>\n",
              "      <th>3</th>\n",
              "      <td>GB</td>\n",
              "      <td>Modelo_base</td>\n",
              "      <td>0.757576</td>\n",
              "      <td>0.869565</td>\n",
              "      <td>0.80</td>\n",
              "      <td>0.833333</td>\n",
              "    </tr>\n",
              "    <tr>\n",
              "      <th>4</th>\n",
              "      <td>XBOOST</td>\n",
              "      <td>Modelo_base</td>\n",
              "      <td>0.666667</td>\n",
              "      <td>0.818182</td>\n",
              "      <td>0.72</td>\n",
              "      <td>0.765957</td>\n",
              "    </tr>\n",
              "    <tr>\n",
              "      <th>5</th>\n",
              "      <td>BAGGING</td>\n",
              "      <td>Modelo_base</td>\n",
              "      <td>0.787879</td>\n",
              "      <td>0.846154</td>\n",
              "      <td>0.88</td>\n",
              "      <td>0.862745</td>\n",
              "    </tr>\n",
              "    <tr>\n",
              "      <th>6</th>\n",
              "      <td>ADABOOSTCLASSIFIER</td>\n",
              "      <td>Modelo_base</td>\n",
              "      <td>0.787879</td>\n",
              "      <td>0.875000</td>\n",
              "      <td>0.84</td>\n",
              "      <td>0.857143</td>\n",
              "    </tr>\n",
              "  </tbody>\n",
              "</table>\n",
              "</div>"
            ],
            "text/plain": [
              "               Modelo  Observación  Accuracy  Precisión  Recall  f1-score\n",
              "0                  RF  Modelo_base  0.818182   0.851852    0.92  0.884615\n",
              "1                 MLP  Modelo_base  0.242424   0.000000    0.00  0.000000\n",
              "2                 MLP  Modelo_base  0.757576   0.757576    1.00  0.862069\n",
              "3                  GB  Modelo_base  0.757576   0.869565    0.80  0.833333\n",
              "4              XBOOST  Modelo_base  0.666667   0.818182    0.72  0.765957\n",
              "5             BAGGING  Modelo_base  0.787879   0.846154    0.88  0.862745\n",
              "6  ADABOOSTCLASSIFIER  Modelo_base  0.787879   0.875000    0.84  0.857143"
            ]
          },
          "metadata": {
            "tags": []
          },
          "execution_count": 163
        }
      ]
    },
    {
      "cell_type": "code",
      "metadata": {
        "id": "C-l41yQbd2o1",
        "colab_type": "code",
        "colab": {
          "base_uri": "https://localhost:8080/",
          "height": 514
        },
        "outputId": "6e41fc8f-97de-4bac-86c5-d27fc8d22260"
      },
      "source": [
        "matriz_confusion(y_test,ytest_pred)"
      ],
      "execution_count": 164,
      "outputs": [
        {
          "output_type": "display_data",
          "data": {
            "image/png": "[encoded data removed]",
            "text/plain": [
              "<Figure size 576x576 with 2 Axes>"
            ]
          },
          "metadata": {
            "tags": []
          }
        }
      ]
    },
    {
      "cell_type": "code",
      "metadata": {
        "id": "wT8Jk_tid2ko",
        "colab_type": "code",
        "colab": {}
      },
      "source": [
        ""
      ],
      "execution_count": 0,
      "outputs": []
    },
    {
      "cell_type": "code",
      "metadata": {
        "id": "vvMaHmh2eC2p",
        "colab_type": "code",
        "colab": {
          "base_uri": "https://localhost:8080/",
          "height": 334
        },
        "outputId": "06778609-4467-4c83-8ac7-f123ad752663"
      },
      "source": [
        "### SVC ###\n",
        "from sklearn.svm import SVC\n",
        "\n",
        "tuned_parameters = [{'kernel': ['rbf'], 'gamma': [1e-3, 1e-4],\n",
        "                     'C': [1, 10, 100, 1000]},\n",
        "                    {'kernel': ['linear'], 'C': [1, 10, 100, 1000]}]\n",
        "\n",
        "svc1 = GridSearchCV(SVC(), param_grid=tuned_parameters, cv=3, verbose=1, n_jobs=1, return_train_score=True)\n",
        "svc1.fit(X_train,y_train)\n",
        "pred_y = svc1.predict(X_test)\n",
        "\n",
        "insert_result('SVC', 'Modelo_base', pred_y)\n",
        "result"
      ],
      "execution_count": 168,
      "outputs": [
        {
          "output_type": "stream",
          "text": [
            "Fitting 3 folds for each of 12 candidates, totalling 36 fits\n"
          ],
          "name": "stdout"
        },
        {
          "output_type": "stream",
          "text": [
            "[Parallel(n_jobs=1)]: Using backend SequentialBackend with 1 concurrent workers.\n",
            "[Parallel(n_jobs=1)]: Done  36 out of  36 | elapsed:    0.2s finished\n"
          ],
          "name": "stderr"
        },
        {
          "output_type": "execute_result",
          "data": {
            "text/html": [
              "<div>\n",
              "<style scoped>\n",
              "    .dataframe tbody tr th:only-of-type {\n",
              "        vertical-align: middle;\n",
              "    }\n",
              "\n",
              "    .dataframe tbody tr th {\n",
              "        vertical-align: top;\n",
              "    }\n",
              "\n",
              "    .dataframe thead th {\n",
              "        text-align: right;\n",
              "    }\n",
              "</style>\n",
              "<table border=\"1\" class=\"dataframe\">\n",
              "  <thead>\n",
              "    <tr style=\"text-align: right;\">\n",
              "      <th></th>\n",
              "      <th>Modelo</th>\n",
              "      <th>Observación</th>\n",
              "      <th>Accuracy</th>\n",
              "      <th>Precisión</th>\n",
              "      <th>Recall</th>\n",
              "      <th>f1-score</th>\n",
              "    </tr>\n",
              "  </thead>\n",
              "  <tbody>\n",
              "    <tr>\n",
              "      <th>0</th>\n",
              "      <td>RF</td>\n",
              "      <td>Modelo_base</td>\n",
              "      <td>0.818182</td>\n",
              "      <td>0.851852</td>\n",
              "      <td>0.92</td>\n",
              "      <td>0.884615</td>\n",
              "    </tr>\n",
              "    <tr>\n",
              "      <th>1</th>\n",
              "      <td>MLP</td>\n",
              "      <td>Modelo_base</td>\n",
              "      <td>0.242424</td>\n",
              "      <td>0.000000</td>\n",
              "      <td>0.00</td>\n",
              "      <td>0.000000</td>\n",
              "    </tr>\n",
              "    <tr>\n",
              "      <th>2</th>\n",
              "      <td>MLP</td>\n",
              "      <td>Modelo_base</td>\n",
              "      <td>0.757576</td>\n",
              "      <td>0.757576</td>\n",
              "      <td>1.00</td>\n",
              "      <td>0.862069</td>\n",
              "    </tr>\n",
              "    <tr>\n",
              "      <th>3</th>\n",
              "      <td>GB</td>\n",
              "      <td>Modelo_base</td>\n",
              "      <td>0.757576</td>\n",
              "      <td>0.869565</td>\n",
              "      <td>0.80</td>\n",
              "      <td>0.833333</td>\n",
              "    </tr>\n",
              "    <tr>\n",
              "      <th>4</th>\n",
              "      <td>XBOOST</td>\n",
              "      <td>Modelo_base</td>\n",
              "      <td>0.666667</td>\n",
              "      <td>0.818182</td>\n",
              "      <td>0.72</td>\n",
              "      <td>0.765957</td>\n",
              "    </tr>\n",
              "    <tr>\n",
              "      <th>5</th>\n",
              "      <td>BAGGING</td>\n",
              "      <td>Modelo_base</td>\n",
              "      <td>0.787879</td>\n",
              "      <td>0.846154</td>\n",
              "      <td>0.88</td>\n",
              "      <td>0.862745</td>\n",
              "    </tr>\n",
              "    <tr>\n",
              "      <th>6</th>\n",
              "      <td>ADABOOSTCLASSIFIER</td>\n",
              "      <td>Modelo_base</td>\n",
              "      <td>0.787879</td>\n",
              "      <td>0.875000</td>\n",
              "      <td>0.84</td>\n",
              "      <td>0.857143</td>\n",
              "    </tr>\n",
              "    <tr>\n",
              "      <th>7</th>\n",
              "      <td>SVC</td>\n",
              "      <td>Modelo_base</td>\n",
              "      <td>0.757576</td>\n",
              "      <td>0.757576</td>\n",
              "      <td>1.00</td>\n",
              "      <td>0.862069</td>\n",
              "    </tr>\n",
              "  </tbody>\n",
              "</table>\n",
              "</div>"
            ],
            "text/plain": [
              "               Modelo  Observación  Accuracy  Precisión  Recall  f1-score\n",
              "0                  RF  Modelo_base  0.818182   0.851852    0.92  0.884615\n",
              "1                 MLP  Modelo_base  0.242424   0.000000    0.00  0.000000\n",
              "2                 MLP  Modelo_base  0.757576   0.757576    1.00  0.862069\n",
              "3                  GB  Modelo_base  0.757576   0.869565    0.80  0.833333\n",
              "4              XBOOST  Modelo_base  0.666667   0.818182    0.72  0.765957\n",
              "5             BAGGING  Modelo_base  0.787879   0.846154    0.88  0.862745\n",
              "6  ADABOOSTCLASSIFIER  Modelo_base  0.787879   0.875000    0.84  0.857143\n",
              "7                 SVC  Modelo_base  0.757576   0.757576    1.00  0.862069"
            ]
          },
          "metadata": {
            "tags": []
          },
          "execution_count": 168
        }
      ]
    },
    {
      "cell_type": "code",
      "metadata": {
        "id": "UBudyLgaeCtB",
        "colab_type": "code",
        "colab": {
          "base_uri": "https://localhost:8080/",
          "height": 514
        },
        "outputId": "bb5442e2-599f-404d-c4fe-a5ed3af21d03"
      },
      "source": [
        "matriz_confusion(y_test,pred_y)"
      ],
      "execution_count": 169,
      "outputs": [
        {
          "output_type": "display_data",
          "data": {
            "image/png": "[encoded data removed]",
            "text/plain": [
              "<Figure size 576x576 with 2 Axes>"
            ]
          },
          "metadata": {
            "tags": []
          }
        }
      ]
    },
    {
      "cell_type": "code",
      "metadata": {
        "id": "bvDkBehtgNAw",
        "colab_type": "code",
        "colab": {}
      },
      "source": [
        ""
      ],
      "execution_count": 0,
      "outputs": []
    },
    {
      "cell_type": "code",
      "metadata": {
        "id": "bdMwOf15gAd0",
        "colab_type": "code",
        "colab": {
          "base_uri": "https://localhost:8080/",
          "height": 314
        },
        "outputId": "13dcb79a-805d-4683-baa0-6b9e94c26302"
      },
      "source": [
        "### LOGISTICO ###\n",
        "\n",
        "from sklearn.linear_model import LogisticRegression\n",
        "# Create regularization penalty space\n",
        "penalty = ['l1', 'l2']\n",
        "\n",
        "# Create regularization hyperparameter space\n",
        "C = np.logspace(0, 4, 10)\n",
        "\n",
        "# Create hyperparameter options\n",
        "hyperparameters = dict(C=C, penalty=penalty)\n",
        "\n",
        "\n",
        "\n",
        "logistic_mod = GridSearchCV(LogisticRegression(),param_grid = hyperparameters, \n",
        "                               cv = 2,  n_jobs=-1)\n",
        "\n",
        "model_res = logistic_mod.fit(X_train, y_train)\n",
        "\n",
        "ytest_pred=model_res.predict(X_test)\n",
        "\n",
        "insert_result('Logistic', 'Modelo_base', ytest_pred)\n",
        "result"
      ],
      "execution_count": 170,
      "outputs": [
        {
          "output_type": "execute_result",
          "data": {
            "text/html": [
              "<div>\n",
              "<style scoped>\n",
              "    .dataframe tbody tr th:only-of-type {\n",
              "        vertical-align: middle;\n",
              "    }\n",
              "\n",
              "    .dataframe tbody tr th {\n",
              "        vertical-align: top;\n",
              "    }\n",
              "\n",
              "    .dataframe thead th {\n",
              "        text-align: right;\n",
              "    }\n",
              "</style>\n",
              "<table border=\"1\" class=\"dataframe\">\n",
              "  <thead>\n",
              "    <tr style=\"text-align: right;\">\n",
              "      <th></th>\n",
              "      <th>Modelo</th>\n",
              "      <th>Observación</th>\n",
              "      <th>Accuracy</th>\n",
              "      <th>Precisión</th>\n",
              "      <th>Recall</th>\n",
              "      <th>f1-score</th>\n",
              "    </tr>\n",
              "  </thead>\n",
              "  <tbody>\n",
              "    <tr>\n",
              "      <th>0</th>\n",
              "      <td>RF</td>\n",
              "      <td>Modelo_base</td>\n",
              "      <td>0.818182</td>\n",
              "      <td>0.851852</td>\n",
              "      <td>0.92</td>\n",
              "      <td>0.884615</td>\n",
              "    </tr>\n",
              "    <tr>\n",
              "      <th>1</th>\n",
              "      <td>MLP</td>\n",
              "      <td>Modelo_base</td>\n",
              "      <td>0.242424</td>\n",
              "      <td>0.000000</td>\n",
              "      <td>0.00</td>\n",
              "      <td>0.000000</td>\n",
              "    </tr>\n",
              "    <tr>\n",
              "      <th>2</th>\n",
              "      <td>MLP</td>\n",
              "      <td>Modelo_base</td>\n",
              "      <td>0.757576</td>\n",
              "      <td>0.757576</td>\n",
              "      <td>1.00</td>\n",
              "      <td>0.862069</td>\n",
              "    </tr>\n",
              "    <tr>\n",
              "      <th>3</th>\n",
              "      <td>GB</td>\n",
              "      <td>Modelo_base</td>\n",
              "      <td>0.757576</td>\n",
              "      <td>0.869565</td>\n",
              "      <td>0.80</td>\n",
              "      <td>0.833333</td>\n",
              "    </tr>\n",
              "    <tr>\n",
              "      <th>4</th>\n",
              "      <td>XBOOST</td>\n",
              "      <td>Modelo_base</td>\n",
              "      <td>0.666667</td>\n",
              "      <td>0.818182</td>\n",
              "      <td>0.72</td>\n",
              "      <td>0.765957</td>\n",
              "    </tr>\n",
              "    <tr>\n",
              "      <th>5</th>\n",
              "      <td>BAGGING</td>\n",
              "      <td>Modelo_base</td>\n",
              "      <td>0.787879</td>\n",
              "      <td>0.846154</td>\n",
              "      <td>0.88</td>\n",
              "      <td>0.862745</td>\n",
              "    </tr>\n",
              "    <tr>\n",
              "      <th>6</th>\n",
              "      <td>ADABOOSTCLASSIFIER</td>\n",
              "      <td>Modelo_base</td>\n",
              "      <td>0.787879</td>\n",
              "      <td>0.875000</td>\n",
              "      <td>0.84</td>\n",
              "      <td>0.857143</td>\n",
              "    </tr>\n",
              "    <tr>\n",
              "      <th>7</th>\n",
              "      <td>SVC</td>\n",
              "      <td>Modelo_base</td>\n",
              "      <td>0.757576</td>\n",
              "      <td>0.757576</td>\n",
              "      <td>1.00</td>\n",
              "      <td>0.862069</td>\n",
              "    </tr>\n",
              "    <tr>\n",
              "      <th>8</th>\n",
              "      <td>Logistic</td>\n",
              "      <td>Modelo_base</td>\n",
              "      <td>0.757576</td>\n",
              "      <td>0.840000</td>\n",
              "      <td>0.84</td>\n",
              "      <td>0.840000</td>\n",
              "    </tr>\n",
              "  </tbody>\n",
              "</table>\n",
              "</div>"
            ],
            "text/plain": [
              "               Modelo  Observación  Accuracy  Precisión  Recall  f1-score\n",
              "0                  RF  Modelo_base  0.818182   0.851852    0.92  0.884615\n",
              "1                 MLP  Modelo_base  0.242424   0.000000    0.00  0.000000\n",
              "2                 MLP  Modelo_base  0.757576   0.757576    1.00  0.862069\n",
              "3                  GB  Modelo_base  0.757576   0.869565    0.80  0.833333\n",
              "4              XBOOST  Modelo_base  0.666667   0.818182    0.72  0.765957\n",
              "5             BAGGING  Modelo_base  0.787879   0.846154    0.88  0.862745\n",
              "6  ADABOOSTCLASSIFIER  Modelo_base  0.787879   0.875000    0.84  0.857143\n",
              "7                 SVC  Modelo_base  0.757576   0.757576    1.00  0.862069\n",
              "8            Logistic  Modelo_base  0.757576   0.840000    0.84  0.840000"
            ]
          },
          "metadata": {
            "tags": []
          },
          "execution_count": 170
        }
      ]
    },
    {
      "cell_type": "code",
      "metadata": {
        "id": "-e5-6bP2gMBV",
        "colab_type": "code",
        "colab": {
          "base_uri": "https://localhost:8080/",
          "height": 514
        },
        "outputId": "94d3482a-30fe-424b-c1db-7aad25822171"
      },
      "source": [
        "matriz_confusion(y_test,ytest_pred)"
      ],
      "execution_count": 171,
      "outputs": [
        {
          "output_type": "display_data",
          "data": {
            "image/png": "[encoded data removed]",
            "text/plain": [
              "<Figure size 576x576 with 2 Axes>"
            ]
          },
          "metadata": {
            "tags": []
          }
        }
      ]
    },
    {
      "cell_type": "code",
      "metadata": {
        "id": "xUZXY4eugL9j",
        "colab_type": "code",
        "colab": {}
      },
      "source": [
        ""
      ],
      "execution_count": 0,
      "outputs": []
    },
    {
      "cell_type": "markdown",
      "metadata": {
        "id": "pBBVcTgFg6Mf",
        "colab_type": "text"
      },
      "source": [
        "# Upsample"
      ]
    },
    {
      "cell_type": "code",
      "metadata": {
        "id": "GOyLgxufhUtb",
        "colab_type": "code",
        "colab": {}
      },
      "source": [
        "os = RandomOverSampler(ratio=0.5,\n",
        "             random_state=69)\n",
        "X_train_over, y_train_over = os.fit_sample(X_train, y_train)"
      ],
      "execution_count": 0,
      "outputs": []
    },
    {
      "cell_type": "code",
      "metadata": {
        "id": "pvvb2scUqzt6",
        "colab_type": "code",
        "colab": {}
      },
      "source": [
        "### RF - UPSAMPLE ###\n",
        "def rf(X_train, X_test, y_train, y_test):\n",
        "    model_rf = RandomForestClassifier(n_estimators=100,random_state=69,n_jobs=-1)\n",
        "    model_rf.fit(X_train,y_train)\n",
        "    return model_rf"
      ],
      "execution_count": 0,
      "outputs": []
    },
    {
      "cell_type": "code",
      "metadata": {
        "id": "h_zdtYjNq0lQ",
        "colab_type": "code",
        "colab": {
          "base_uri": "https://localhost:8080/",
          "height": 373
        },
        "outputId": "43c860e5-0174-427a-c6f5-9c430ec449f0"
      },
      "source": [
        "rf_over = rf(X_train_over, X_test, y_train_over, y_test)\n",
        "pred_y = rf_over.predict(X_test)\n",
        "insert_result('RF', 'Upsample', pred_y)\n",
        "result"
      ],
      "execution_count": 191,
      "outputs": [
        {
          "output_type": "execute_result",
          "data": {
            "text/html": [
              "<div>\n",
              "<style scoped>\n",
              "    .dataframe tbody tr th:only-of-type {\n",
              "        vertical-align: middle;\n",
              "    }\n",
              "\n",
              "    .dataframe tbody tr th {\n",
              "        vertical-align: top;\n",
              "    }\n",
              "\n",
              "    .dataframe thead th {\n",
              "        text-align: right;\n",
              "    }\n",
              "</style>\n",
              "<table border=\"1\" class=\"dataframe\">\n",
              "  <thead>\n",
              "    <tr style=\"text-align: right;\">\n",
              "      <th></th>\n",
              "      <th>Modelo</th>\n",
              "      <th>Observación</th>\n",
              "      <th>Accuracy</th>\n",
              "      <th>Precisión</th>\n",
              "      <th>Recall</th>\n",
              "      <th>f1-score</th>\n",
              "    </tr>\n",
              "  </thead>\n",
              "  <tbody>\n",
              "    <tr>\n",
              "      <th>0</th>\n",
              "      <td>RF</td>\n",
              "      <td>Modelo_base</td>\n",
              "      <td>0.818182</td>\n",
              "      <td>0.851852</td>\n",
              "      <td>0.92</td>\n",
              "      <td>0.884615</td>\n",
              "    </tr>\n",
              "    <tr>\n",
              "      <th>1</th>\n",
              "      <td>MLP</td>\n",
              "      <td>Modelo_base</td>\n",
              "      <td>0.242424</td>\n",
              "      <td>0.000000</td>\n",
              "      <td>0.00</td>\n",
              "      <td>0.000000</td>\n",
              "    </tr>\n",
              "    <tr>\n",
              "      <th>2</th>\n",
              "      <td>MLP</td>\n",
              "      <td>Modelo_base</td>\n",
              "      <td>0.757576</td>\n",
              "      <td>0.757576</td>\n",
              "      <td>1.00</td>\n",
              "      <td>0.862069</td>\n",
              "    </tr>\n",
              "    <tr>\n",
              "      <th>3</th>\n",
              "      <td>GB</td>\n",
              "      <td>Modelo_base</td>\n",
              "      <td>0.757576</td>\n",
              "      <td>0.869565</td>\n",
              "      <td>0.80</td>\n",
              "      <td>0.833333</td>\n",
              "    </tr>\n",
              "    <tr>\n",
              "      <th>4</th>\n",
              "      <td>XBOOST</td>\n",
              "      <td>Modelo_base</td>\n",
              "      <td>0.666667</td>\n",
              "      <td>0.818182</td>\n",
              "      <td>0.72</td>\n",
              "      <td>0.765957</td>\n",
              "    </tr>\n",
              "    <tr>\n",
              "      <th>5</th>\n",
              "      <td>BAGGING</td>\n",
              "      <td>Modelo_base</td>\n",
              "      <td>0.787879</td>\n",
              "      <td>0.846154</td>\n",
              "      <td>0.88</td>\n",
              "      <td>0.862745</td>\n",
              "    </tr>\n",
              "    <tr>\n",
              "      <th>6</th>\n",
              "      <td>ADABOOSTCLASSIFIER</td>\n",
              "      <td>Modelo_base</td>\n",
              "      <td>0.787879</td>\n",
              "      <td>0.875000</td>\n",
              "      <td>0.84</td>\n",
              "      <td>0.857143</td>\n",
              "    </tr>\n",
              "    <tr>\n",
              "      <th>7</th>\n",
              "      <td>SVC</td>\n",
              "      <td>Modelo_base</td>\n",
              "      <td>0.757576</td>\n",
              "      <td>0.757576</td>\n",
              "      <td>1.00</td>\n",
              "      <td>0.862069</td>\n",
              "    </tr>\n",
              "    <tr>\n",
              "      <th>8</th>\n",
              "      <td>Logistic</td>\n",
              "      <td>Modelo_base</td>\n",
              "      <td>0.757576</td>\n",
              "      <td>0.840000</td>\n",
              "      <td>0.84</td>\n",
              "      <td>0.840000</td>\n",
              "    </tr>\n",
              "    <tr>\n",
              "      <th>9</th>\n",
              "      <td>rf</td>\n",
              "      <td>Upsample</td>\n",
              "      <td>0.787879</td>\n",
              "      <td>0.846154</td>\n",
              "      <td>0.88</td>\n",
              "      <td>0.862745</td>\n",
              "    </tr>\n",
              "    <tr>\n",
              "      <th>10</th>\n",
              "      <td>RF</td>\n",
              "      <td>Upsample</td>\n",
              "      <td>0.787879</td>\n",
              "      <td>0.846154</td>\n",
              "      <td>0.88</td>\n",
              "      <td>0.862745</td>\n",
              "    </tr>\n",
              "  </tbody>\n",
              "</table>\n",
              "</div>"
            ],
            "text/plain": [
              "                Modelo  Observación  Accuracy  Precisión  Recall  f1-score\n",
              "0                   RF  Modelo_base  0.818182   0.851852    0.92  0.884615\n",
              "1                  MLP  Modelo_base  0.242424   0.000000    0.00  0.000000\n",
              "2                  MLP  Modelo_base  0.757576   0.757576    1.00  0.862069\n",
              "3                   GB  Modelo_base  0.757576   0.869565    0.80  0.833333\n",
              "4               XBOOST  Modelo_base  0.666667   0.818182    0.72  0.765957\n",
              "5              BAGGING  Modelo_base  0.787879   0.846154    0.88  0.862745\n",
              "6   ADABOOSTCLASSIFIER  Modelo_base  0.787879   0.875000    0.84  0.857143\n",
              "7                  SVC  Modelo_base  0.757576   0.757576    1.00  0.862069\n",
              "8             Logistic  Modelo_base  0.757576   0.840000    0.84  0.840000\n",
              "9                   rf     Upsample  0.787879   0.846154    0.88  0.862745\n",
              "10                  RF     Upsample  0.787879   0.846154    0.88  0.862745"
            ]
          },
          "metadata": {
            "tags": []
          },
          "execution_count": 191
        }
      ]
    },
    {
      "cell_type": "code",
      "metadata": {
        "id": "ROljaK3tr9NX",
        "colab_type": "code",
        "colab": {
          "base_uri": "https://localhost:8080/",
          "height": 514
        },
        "outputId": "4f145753-441f-46ec-b09b-e5cbc3d81dcb"
      },
      "source": [
        "matriz_confusion(y_test,pred_y)"
      ],
      "execution_count": 193,
      "outputs": [
        {
          "output_type": "display_data",
          "data": {
            "image/png": "[encoded data removed]",
            "text/plain": [
              "<Figure size 576x576 with 2 Axes>"
            ]
          },
          "metadata": {
            "tags": []
          }
        }
      ]
    },
    {
      "cell_type": "code",
      "metadata": {
        "id": "Kj9dm6OBr9Hn",
        "colab_type": "code",
        "colab": {
          "base_uri": "https://localhost:8080/",
          "height": 482
        },
        "outputId": "e36dbc12-fab3-456d-cb47-6ee7b7bcc375"
      },
      "source": [
        "### MLP - UPSAMPLE ###\n",
        "from sklearn.neural_network import MLPClassifier\n",
        "from sklearn.metrics import confusion_matrix\n",
        "\n",
        "mlp = GridSearchCV(MLPClassifier(early_stopping=True),param_grid=parameter_grid_MLP,cv=5,verbose=True,n_jobs=-2)\n",
        "mlp.fit(X_train_over,np.ravel(y_train_over))\n",
        "pred= mlp.predict(X_test)\n",
        "\n",
        "insert_result('MLP', 'Upsample', pred)\n",
        "result"
      ],
      "execution_count": 194,
      "outputs": [
        {
          "output_type": "stream",
          "text": [
            "Fitting 5 folds for each of 768 candidates, totalling 3840 fits\n"
          ],
          "name": "stdout"
        },
        {
          "output_type": "stream",
          "text": [
            "[Parallel(n_jobs=-2)]: Using backend SequentialBackend with 1 concurrent workers.\n",
            "[Parallel(n_jobs=-2)]: Done 3840 out of 3840 | elapsed:  2.5min finished\n"
          ],
          "name": "stderr"
        },
        {
          "output_type": "execute_result",
          "data": {
            "text/html": [
              "<div>\n",
              "<style scoped>\n",
              "    .dataframe tbody tr th:only-of-type {\n",
              "        vertical-align: middle;\n",
              "    }\n",
              "\n",
              "    .dataframe tbody tr th {\n",
              "        vertical-align: top;\n",
              "    }\n",
              "\n",
              "    .dataframe thead th {\n",
              "        text-align: right;\n",
              "    }\n",
              "</style>\n",
              "<table border=\"1\" class=\"dataframe\">\n",
              "  <thead>\n",
              "    <tr style=\"text-align: right;\">\n",
              "      <th></th>\n",
              "      <th>Modelo</th>\n",
              "      <th>Observación</th>\n",
              "      <th>Accuracy</th>\n",
              "      <th>Precisión</th>\n",
              "      <th>Recall</th>\n",
              "      <th>f1-score</th>\n",
              "    </tr>\n",
              "  </thead>\n",
              "  <tbody>\n",
              "    <tr>\n",
              "      <th>0</th>\n",
              "      <td>RF</td>\n",
              "      <td>Modelo_base</td>\n",
              "      <td>0.818182</td>\n",
              "      <td>0.851852</td>\n",
              "      <td>0.92</td>\n",
              "      <td>0.884615</td>\n",
              "    </tr>\n",
              "    <tr>\n",
              "      <th>1</th>\n",
              "      <td>MLP</td>\n",
              "      <td>Modelo_base</td>\n",
              "      <td>0.242424</td>\n",
              "      <td>0.000000</td>\n",
              "      <td>0.00</td>\n",
              "      <td>0.000000</td>\n",
              "    </tr>\n",
              "    <tr>\n",
              "      <th>2</th>\n",
              "      <td>MLP</td>\n",
              "      <td>Modelo_base</td>\n",
              "      <td>0.757576</td>\n",
              "      <td>0.757576</td>\n",
              "      <td>1.00</td>\n",
              "      <td>0.862069</td>\n",
              "    </tr>\n",
              "    <tr>\n",
              "      <th>3</th>\n",
              "      <td>GB</td>\n",
              "      <td>Modelo_base</td>\n",
              "      <td>0.757576</td>\n",
              "      <td>0.869565</td>\n",
              "      <td>0.80</td>\n",
              "      <td>0.833333</td>\n",
              "    </tr>\n",
              "    <tr>\n",
              "      <th>4</th>\n",
              "      <td>XBOOST</td>\n",
              "      <td>Modelo_base</td>\n",
              "      <td>0.666667</td>\n",
              "      <td>0.818182</td>\n",
              "      <td>0.72</td>\n",
              "      <td>0.765957</td>\n",
              "    </tr>\n",
              "    <tr>\n",
              "      <th>5</th>\n",
              "      <td>BAGGING</td>\n",
              "      <td>Modelo_base</td>\n",
              "      <td>0.787879</td>\n",
              "      <td>0.846154</td>\n",
              "      <td>0.88</td>\n",
              "      <td>0.862745</td>\n",
              "    </tr>\n",
              "    <tr>\n",
              "      <th>6</th>\n",
              "      <td>ADABOOSTCLASSIFIER</td>\n",
              "      <td>Modelo_base</td>\n",
              "      <td>0.787879</td>\n",
              "      <td>0.875000</td>\n",
              "      <td>0.84</td>\n",
              "      <td>0.857143</td>\n",
              "    </tr>\n",
              "    <tr>\n",
              "      <th>7</th>\n",
              "      <td>SVC</td>\n",
              "      <td>Modelo_base</td>\n",
              "      <td>0.757576</td>\n",
              "      <td>0.757576</td>\n",
              "      <td>1.00</td>\n",
              "      <td>0.862069</td>\n",
              "    </tr>\n",
              "    <tr>\n",
              "      <th>8</th>\n",
              "      <td>Logistic</td>\n",
              "      <td>Modelo_base</td>\n",
              "      <td>0.757576</td>\n",
              "      <td>0.840000</td>\n",
              "      <td>0.84</td>\n",
              "      <td>0.840000</td>\n",
              "    </tr>\n",
              "    <tr>\n",
              "      <th>9</th>\n",
              "      <td>rf</td>\n",
              "      <td>Upsample</td>\n",
              "      <td>0.787879</td>\n",
              "      <td>0.846154</td>\n",
              "      <td>0.88</td>\n",
              "      <td>0.862745</td>\n",
              "    </tr>\n",
              "    <tr>\n",
              "      <th>10</th>\n",
              "      <td>RF</td>\n",
              "      <td>Upsample</td>\n",
              "      <td>0.787879</td>\n",
              "      <td>0.846154</td>\n",
              "      <td>0.88</td>\n",
              "      <td>0.862745</td>\n",
              "    </tr>\n",
              "    <tr>\n",
              "      <th>11</th>\n",
              "      <td>RF</td>\n",
              "      <td>Upsample</td>\n",
              "      <td>0.787879</td>\n",
              "      <td>0.846154</td>\n",
              "      <td>0.88</td>\n",
              "      <td>0.862745</td>\n",
              "    </tr>\n",
              "    <tr>\n",
              "      <th>12</th>\n",
              "      <td>MLP</td>\n",
              "      <td>Upsample</td>\n",
              "      <td>0.727273</td>\n",
              "      <td>0.833333</td>\n",
              "      <td>0.80</td>\n",
              "      <td>0.816327</td>\n",
              "    </tr>\n",
              "  </tbody>\n",
              "</table>\n",
              "</div>"
            ],
            "text/plain": [
              "                Modelo  Observación  Accuracy  Precisión  Recall  f1-score\n",
              "0                   RF  Modelo_base  0.818182   0.851852    0.92  0.884615\n",
              "1                  MLP  Modelo_base  0.242424   0.000000    0.00  0.000000\n",
              "2                  MLP  Modelo_base  0.757576   0.757576    1.00  0.862069\n",
              "3                   GB  Modelo_base  0.757576   0.869565    0.80  0.833333\n",
              "4               XBOOST  Modelo_base  0.666667   0.818182    0.72  0.765957\n",
              "5              BAGGING  Modelo_base  0.787879   0.846154    0.88  0.862745\n",
              "6   ADABOOSTCLASSIFIER  Modelo_base  0.787879   0.875000    0.84  0.857143\n",
              "7                  SVC  Modelo_base  0.757576   0.757576    1.00  0.862069\n",
              "8             Logistic  Modelo_base  0.757576   0.840000    0.84  0.840000\n",
              "9                   rf     Upsample  0.787879   0.846154    0.88  0.862745\n",
              "10                  RF     Upsample  0.787879   0.846154    0.88  0.862745\n",
              "11                  RF     Upsample  0.787879   0.846154    0.88  0.862745\n",
              "12                 MLP     Upsample  0.727273   0.833333    0.80  0.816327"
            ]
          },
          "metadata": {
            "tags": []
          },
          "execution_count": 194
        }
      ]
    },
    {
      "cell_type": "code",
      "metadata": {
        "id": "mslcaIgZr9D-",
        "colab_type": "code",
        "colab": {
          "base_uri": "https://localhost:8080/",
          "height": 514
        },
        "outputId": "12a2e2e8-2656-4cad-e602-544ae8f28e7a"
      },
      "source": [
        "matriz_confusion(y_test,pred)"
      ],
      "execution_count": 195,
      "outputs": [
        {
          "output_type": "display_data",
          "data": {
            "image/png": "[encoded data removed]",
            "text/plain": [
              "<Figure size 576x576 with 2 Axes>"
            ]
          },
          "metadata": {
            "tags": []
          }
        }
      ]
    },
    {
      "cell_type": "code",
      "metadata": {
        "id": "vPBz7GhltXmU",
        "colab_type": "code",
        "colab": {
          "base_uri": "https://localhost:8080/",
          "height": 462
        },
        "outputId": "983b6035-9735-4716-f67d-46671ca0bc0e"
      },
      "source": [
        "### LOGISTICO - UPSAMPLE ###\n",
        "\n",
        "from sklearn.linear_model import LogisticRegression\n",
        "# Create regularization penalty space\n",
        "penalty = ['l1', 'l2']\n",
        "\n",
        "# Create regularization hyperparameter space\n",
        "C = np.logspace(0, 4, 10)\n",
        "\n",
        "# Create hyperparameter options\n",
        "hyperparameters = dict(C=C, penalty=penalty)\n",
        "\n",
        "\n",
        "\n",
        "logistic_mod = GridSearchCV(LogisticRegression(),param_grid = hyperparameters, \n",
        "                               cv = 2,  n_jobs=-1)\n",
        "\n",
        "model_res = logistic_mod.fit(X_train_over, y_train_over)\n",
        "\n",
        "ytest_pred=model_res.predict(X_test)\n",
        "\n",
        "insert_result('Logistic', 'Upsample', ytest_pred)\n",
        "result"
      ],
      "execution_count": 196,
      "outputs": [
        {
          "output_type": "execute_result",
          "data": {
            "text/html": [
              "<div>\n",
              "<style scoped>\n",
              "    .dataframe tbody tr th:only-of-type {\n",
              "        vertical-align: middle;\n",
              "    }\n",
              "\n",
              "    .dataframe tbody tr th {\n",
              "        vertical-align: top;\n",
              "    }\n",
              "\n",
              "    .dataframe thead th {\n",
              "        text-align: right;\n",
              "    }\n",
              "</style>\n",
              "<table border=\"1\" class=\"dataframe\">\n",
              "  <thead>\n",
              "    <tr style=\"text-align: right;\">\n",
              "      <th></th>\n",
              "      <th>Modelo</th>\n",
              "      <th>Observación</th>\n",
              "      <th>Accuracy</th>\n",
              "      <th>Precisión</th>\n",
              "      <th>Recall</th>\n",
              "      <th>f1-score</th>\n",
              "    </tr>\n",
              "  </thead>\n",
              "  <tbody>\n",
              "    <tr>\n",
              "      <th>0</th>\n",
              "      <td>RF</td>\n",
              "      <td>Modelo_base</td>\n",
              "      <td>0.818182</td>\n",
              "      <td>0.851852</td>\n",
              "      <td>0.92</td>\n",
              "      <td>0.884615</td>\n",
              "    </tr>\n",
              "    <tr>\n",
              "      <th>1</th>\n",
              "      <td>MLP</td>\n",
              "      <td>Modelo_base</td>\n",
              "      <td>0.242424</td>\n",
              "      <td>0.000000</td>\n",
              "      <td>0.00</td>\n",
              "      <td>0.000000</td>\n",
              "    </tr>\n",
              "    <tr>\n",
              "      <th>2</th>\n",
              "      <td>MLP</td>\n",
              "      <td>Modelo_base</td>\n",
              "      <td>0.757576</td>\n",
              "      <td>0.757576</td>\n",
              "      <td>1.00</td>\n",
              "      <td>0.862069</td>\n",
              "    </tr>\n",
              "    <tr>\n",
              "      <th>3</th>\n",
              "      <td>GB</td>\n",
              "      <td>Modelo_base</td>\n",
              "      <td>0.757576</td>\n",
              "      <td>0.869565</td>\n",
              "      <td>0.80</td>\n",
              "      <td>0.833333</td>\n",
              "    </tr>\n",
              "    <tr>\n",
              "      <th>4</th>\n",
              "      <td>XBOOST</td>\n",
              "      <td>Modelo_base</td>\n",
              "      <td>0.666667</td>\n",
              "      <td>0.818182</td>\n",
              "      <td>0.72</td>\n",
              "      <td>0.765957</td>\n",
              "    </tr>\n",
              "    <tr>\n",
              "      <th>5</th>\n",
              "      <td>BAGGING</td>\n",
              "      <td>Modelo_base</td>\n",
              "      <td>0.787879</td>\n",
              "      <td>0.846154</td>\n",
              "      <td>0.88</td>\n",
              "      <td>0.862745</td>\n",
              "    </tr>\n",
              "    <tr>\n",
              "      <th>6</th>\n",
              "      <td>ADABOOSTCLASSIFIER</td>\n",
              "      <td>Modelo_base</td>\n",
              "      <td>0.787879</td>\n",
              "      <td>0.875000</td>\n",
              "      <td>0.84</td>\n",
              "      <td>0.857143</td>\n",
              "    </tr>\n",
              "    <tr>\n",
              "      <th>7</th>\n",
              "      <td>SVC</td>\n",
              "      <td>Modelo_base</td>\n",
              "      <td>0.757576</td>\n",
              "      <td>0.757576</td>\n",
              "      <td>1.00</td>\n",
              "      <td>0.862069</td>\n",
              "    </tr>\n",
              "    <tr>\n",
              "      <th>8</th>\n",
              "      <td>Logistic</td>\n",
              "      <td>Modelo_base</td>\n",
              "      <td>0.757576</td>\n",
              "      <td>0.840000</td>\n",
              "      <td>0.84</td>\n",
              "      <td>0.840000</td>\n",
              "    </tr>\n",
              "    <tr>\n",
              "      <th>9</th>\n",
              "      <td>rf</td>\n",
              "      <td>Upsample</td>\n",
              "      <td>0.787879</td>\n",
              "      <td>0.846154</td>\n",
              "      <td>0.88</td>\n",
              "      <td>0.862745</td>\n",
              "    </tr>\n",
              "    <tr>\n",
              "      <th>10</th>\n",
              "      <td>RF</td>\n",
              "      <td>Upsample</td>\n",
              "      <td>0.787879</td>\n",
              "      <td>0.846154</td>\n",
              "      <td>0.88</td>\n",
              "      <td>0.862745</td>\n",
              "    </tr>\n",
              "    <tr>\n",
              "      <th>11</th>\n",
              "      <td>RF</td>\n",
              "      <td>Upsample</td>\n",
              "      <td>0.787879</td>\n",
              "      <td>0.846154</td>\n",
              "      <td>0.88</td>\n",
              "      <td>0.862745</td>\n",
              "    </tr>\n",
              "    <tr>\n",
              "      <th>12</th>\n",
              "      <td>MLP</td>\n",
              "      <td>Upsample</td>\n",
              "      <td>0.727273</td>\n",
              "      <td>0.833333</td>\n",
              "      <td>0.80</td>\n",
              "      <td>0.816327</td>\n",
              "    </tr>\n",
              "    <tr>\n",
              "      <th>13</th>\n",
              "      <td>Logistic</td>\n",
              "      <td>Upsample</td>\n",
              "      <td>0.727273</td>\n",
              "      <td>0.833333</td>\n",
              "      <td>0.80</td>\n",
              "      <td>0.816327</td>\n",
              "    </tr>\n",
              "  </tbody>\n",
              "</table>\n",
              "</div>"
            ],
            "text/plain": [
              "                Modelo  Observación  Accuracy  Precisión  Recall  f1-score\n",
              "0                   RF  Modelo_base  0.818182   0.851852    0.92  0.884615\n",
              "1                  MLP  Modelo_base  0.242424   0.000000    0.00  0.000000\n",
              "2                  MLP  Modelo_base  0.757576   0.757576    1.00  0.862069\n",
              "3                   GB  Modelo_base  0.757576   0.869565    0.80  0.833333\n",
              "4               XBOOST  Modelo_base  0.666667   0.818182    0.72  0.765957\n",
              "5              BAGGING  Modelo_base  0.787879   0.846154    0.88  0.862745\n",
              "6   ADABOOSTCLASSIFIER  Modelo_base  0.787879   0.875000    0.84  0.857143\n",
              "7                  SVC  Modelo_base  0.757576   0.757576    1.00  0.862069\n",
              "8             Logistic  Modelo_base  0.757576   0.840000    0.84  0.840000\n",
              "9                   rf     Upsample  0.787879   0.846154    0.88  0.862745\n",
              "10                  RF     Upsample  0.787879   0.846154    0.88  0.862745\n",
              "11                  RF     Upsample  0.787879   0.846154    0.88  0.862745\n",
              "12                 MLP     Upsample  0.727273   0.833333    0.80  0.816327\n",
              "13            Logistic     Upsample  0.727273   0.833333    0.80  0.816327"
            ]
          },
          "metadata": {
            "tags": []
          },
          "execution_count": 196
        }
      ]
    },
    {
      "cell_type": "code",
      "metadata": {
        "id": "HF6rN16ptXia",
        "colab_type": "code",
        "colab": {
          "base_uri": "https://localhost:8080/",
          "height": 514
        },
        "outputId": "f29b3aa6-eceb-4dfe-d922-17edf4b601dd"
      },
      "source": [
        "matriz_confusion(y_test,ytest_pred)"
      ],
      "execution_count": 197,
      "outputs": [
        {
          "output_type": "display_data",
          "data": {
            "image/png": "[encoded data removed]",
            "text/plain": [
              "<Figure size 576x576 with 2 Axes>"
            ]
          },
          "metadata": {
            "tags": []
          }
        }
      ]
    },
    {
      "cell_type": "code",
      "metadata": {
        "id": "LaASl5GKtXbs",
        "colab_type": "code",
        "colab": {
          "base_uri": "https://localhost:8080/",
          "height": 542
        },
        "outputId": "567cd92d-bdde-4d45-8439-4b2cd4a5ff25"
      },
      "source": [
        "### SVC ###\n",
        "from sklearn.svm import SVC\n",
        "\n",
        "tuned_parameters = [{'kernel': ['rbf'], 'gamma': [1e-3, 1e-4],\n",
        "                     'C': [1, 10, 100, 1000]},\n",
        "                    {'kernel': ['linear'], 'C': [1, 10, 100, 1000]}]\n",
        "\n",
        "svc1 = GridSearchCV(SVC(), param_grid=tuned_parameters, cv=3, verbose=1, n_jobs=1, return_train_score=True)\n",
        "svc1.fit(X_train_over,y_train_over)\n",
        "pred_y = svc1.predict(X_test)\n",
        "\n",
        "insert_result('SVC', 'Upsample', pred_y)\n",
        "result"
      ],
      "execution_count": 198,
      "outputs": [
        {
          "output_type": "stream",
          "text": [
            "Fitting 3 folds for each of 12 candidates, totalling 36 fits\n"
          ],
          "name": "stdout"
        },
        {
          "output_type": "stream",
          "text": [
            "[Parallel(n_jobs=1)]: Using backend SequentialBackend with 1 concurrent workers.\n",
            "[Parallel(n_jobs=1)]: Done  36 out of  36 | elapsed:    0.2s finished\n"
          ],
          "name": "stderr"
        },
        {
          "output_type": "execute_result",
          "data": {
            "text/html": [
              "<div>\n",
              "<style scoped>\n",
              "    .dataframe tbody tr th:only-of-type {\n",
              "        vertical-align: middle;\n",
              "    }\n",
              "\n",
              "    .dataframe tbody tr th {\n",
              "        vertical-align: top;\n",
              "    }\n",
              "\n",
              "    .dataframe thead th {\n",
              "        text-align: right;\n",
              "    }\n",
              "</style>\n",
              "<table border=\"1\" class=\"dataframe\">\n",
              "  <thead>\n",
              "    <tr style=\"text-align: right;\">\n",
              "      <th></th>\n",
              "      <th>Modelo</th>\n",
              "      <th>Observación</th>\n",
              "      <th>Accuracy</th>\n",
              "      <th>Precisión</th>\n",
              "      <th>Recall</th>\n",
              "      <th>f1-score</th>\n",
              "    </tr>\n",
              "  </thead>\n",
              "  <tbody>\n",
              "    <tr>\n",
              "      <th>0</th>\n",
              "      <td>RF</td>\n",
              "      <td>Modelo_base</td>\n",
              "      <td>0.818182</td>\n",
              "      <td>0.851852</td>\n",
              "      <td>0.92</td>\n",
              "      <td>0.884615</td>\n",
              "    </tr>\n",
              "    <tr>\n",
              "      <th>1</th>\n",
              "      <td>MLP</td>\n",
              "      <td>Modelo_base</td>\n",
              "      <td>0.242424</td>\n",
              "      <td>0.000000</td>\n",
              "      <td>0.00</td>\n",
              "      <td>0.000000</td>\n",
              "    </tr>\n",
              "    <tr>\n",
              "      <th>2</th>\n",
              "      <td>MLP</td>\n",
              "      <td>Modelo_base</td>\n",
              "      <td>0.757576</td>\n",
              "      <td>0.757576</td>\n",
              "      <td>1.00</td>\n",
              "      <td>0.862069</td>\n",
              "    </tr>\n",
              "    <tr>\n",
              "      <th>3</th>\n",
              "      <td>GB</td>\n",
              "      <td>Modelo_base</td>\n",
              "      <td>0.757576</td>\n",
              "      <td>0.869565</td>\n",
              "      <td>0.80</td>\n",
              "      <td>0.833333</td>\n",
              "    </tr>\n",
              "    <tr>\n",
              "      <th>4</th>\n",
              "      <td>XBOOST</td>\n",
              "      <td>Modelo_base</td>\n",
              "      <td>0.666667</td>\n",
              "      <td>0.818182</td>\n",
              "      <td>0.72</td>\n",
              "      <td>0.765957</td>\n",
              "    </tr>\n",
              "    <tr>\n",
              "      <th>5</th>\n",
              "      <td>BAGGING</td>\n",
              "      <td>Modelo_base</td>\n",
              "      <td>0.787879</td>\n",
              "      <td>0.846154</td>\n",
              "      <td>0.88</td>\n",
              "      <td>0.862745</td>\n",
              "    </tr>\n",
              "    <tr>\n",
              "      <th>6</th>\n",
              "      <td>ADABOOSTCLASSIFIER</td>\n",
              "      <td>Modelo_base</td>\n",
              "      <td>0.787879</td>\n",
              "      <td>0.875000</td>\n",
              "      <td>0.84</td>\n",
              "      <td>0.857143</td>\n",
              "    </tr>\n",
              "    <tr>\n",
              "      <th>7</th>\n",
              "      <td>SVC</td>\n",
              "      <td>Modelo_base</td>\n",
              "      <td>0.757576</td>\n",
              "      <td>0.757576</td>\n",
              "      <td>1.00</td>\n",
              "      <td>0.862069</td>\n",
              "    </tr>\n",
              "    <tr>\n",
              "      <th>8</th>\n",
              "      <td>Logistic</td>\n",
              "      <td>Modelo_base</td>\n",
              "      <td>0.757576</td>\n",
              "      <td>0.840000</td>\n",
              "      <td>0.84</td>\n",
              "      <td>0.840000</td>\n",
              "    </tr>\n",
              "    <tr>\n",
              "      <th>9</th>\n",
              "      <td>rf</td>\n",
              "      <td>Upsample</td>\n",
              "      <td>0.787879</td>\n",
              "      <td>0.846154</td>\n",
              "      <td>0.88</td>\n",
              "      <td>0.862745</td>\n",
              "    </tr>\n",
              "    <tr>\n",
              "      <th>10</th>\n",
              "      <td>RF</td>\n",
              "      <td>Upsample</td>\n",
              "      <td>0.787879</td>\n",
              "      <td>0.846154</td>\n",
              "      <td>0.88</td>\n",
              "      <td>0.862745</td>\n",
              "    </tr>\n",
              "    <tr>\n",
              "      <th>11</th>\n",
              "      <td>RF</td>\n",
              "      <td>Upsample</td>\n",
              "      <td>0.787879</td>\n",
              "      <td>0.846154</td>\n",
              "      <td>0.88</td>\n",
              "      <td>0.862745</td>\n",
              "    </tr>\n",
              "    <tr>\n",
              "      <th>12</th>\n",
              "      <td>MLP</td>\n",
              "      <td>Upsample</td>\n",
              "      <td>0.727273</td>\n",
              "      <td>0.833333</td>\n",
              "      <td>0.80</td>\n",
              "      <td>0.816327</td>\n",
              "    </tr>\n",
              "    <tr>\n",
              "      <th>13</th>\n",
              "      <td>Logistic</td>\n",
              "      <td>Upsample</td>\n",
              "      <td>0.727273</td>\n",
              "      <td>0.833333</td>\n",
              "      <td>0.80</td>\n",
              "      <td>0.816327</td>\n",
              "    </tr>\n",
              "    <tr>\n",
              "      <th>14</th>\n",
              "      <td>SVC</td>\n",
              "      <td>Upsample</td>\n",
              "      <td>0.666667</td>\n",
              "      <td>0.818182</td>\n",
              "      <td>0.72</td>\n",
              "      <td>0.765957</td>\n",
              "    </tr>\n",
              "  </tbody>\n",
              "</table>\n",
              "</div>"
            ],
            "text/plain": [
              "                Modelo  Observación  Accuracy  Precisión  Recall  f1-score\n",
              "0                   RF  Modelo_base  0.818182   0.851852    0.92  0.884615\n",
              "1                  MLP  Modelo_base  0.242424   0.000000    0.00  0.000000\n",
              "2                  MLP  Modelo_base  0.757576   0.757576    1.00  0.862069\n",
              "3                   GB  Modelo_base  0.757576   0.869565    0.80  0.833333\n",
              "4               XBOOST  Modelo_base  0.666667   0.818182    0.72  0.765957\n",
              "5              BAGGING  Modelo_base  0.787879   0.846154    0.88  0.862745\n",
              "6   ADABOOSTCLASSIFIER  Modelo_base  0.787879   0.875000    0.84  0.857143\n",
              "7                  SVC  Modelo_base  0.757576   0.757576    1.00  0.862069\n",
              "8             Logistic  Modelo_base  0.757576   0.840000    0.84  0.840000\n",
              "9                   rf     Upsample  0.787879   0.846154    0.88  0.862745\n",
              "10                  RF     Upsample  0.787879   0.846154    0.88  0.862745\n",
              "11                  RF     Upsample  0.787879   0.846154    0.88  0.862745\n",
              "12                 MLP     Upsample  0.727273   0.833333    0.80  0.816327\n",
              "13            Logistic     Upsample  0.727273   0.833333    0.80  0.816327\n",
              "14                 SVC     Upsample  0.666667   0.818182    0.72  0.765957"
            ]
          },
          "metadata": {
            "tags": []
          },
          "execution_count": 198
        }
      ]
    },
    {
      "cell_type": "code",
      "metadata": {
        "id": "g-8EZ32YunBt",
        "colab_type": "code",
        "colab": {
          "base_uri": "https://localhost:8080/",
          "height": 514
        },
        "outputId": "90d420a6-fe01-48cc-f6d8-c3584f513e68"
      },
      "source": [
        "matriz_confusion(y_test,pred_y)"
      ],
      "execution_count": 199,
      "outputs": [
        {
          "output_type": "display_data",
          "data": {
            "image/png": "[encoded data removed]",
            "text/plain": [
              "<Figure size 576x576 with 2 Axes>"
            ]
          },
          "metadata": {
            "tags": []
          }
        }
      ]
    },
    {
      "cell_type": "code",
      "metadata": {
        "id": "hp7B6ULFum7H",
        "colab_type": "code",
        "colab": {}
      },
      "source": [
        ""
      ],
      "execution_count": 0,
      "outputs": []
    },
    {
      "cell_type": "markdown",
      "metadata": {
        "id": "4beRMOOFvAs8",
        "colab_type": "text"
      },
      "source": [
        "# SMOTE"
      ]
    },
    {
      "cell_type": "code",
      "metadata": {
        "id": "1JHxJWYEum3o",
        "colab_type": "code",
        "colab": {}
      },
      "source": [
        "smote = SMOTETomek(ratio=0.5,\n",
        "                   random_state=69)\n",
        "X_train_smote, y_train_smote = smote.fit_sample(X_train, y_train)"
      ],
      "execution_count": 0,
      "outputs": []
    },
    {
      "cell_type": "code",
      "metadata": {
        "id": "yHynp_MpvZgz",
        "colab_type": "code",
        "colab": {
          "base_uri": "https://localhost:8080/",
          "height": 550
        },
        "outputId": "3238604a-ba54-4033-ec07-5cb2a85b501e"
      },
      "source": [
        "### RF -SMOTE ###\n",
        "rf_smote = rf(X_train_smote, X_test, y_train_smote, y_test)\n",
        "pred_y = rf_smote.predict(X_test)\n",
        "insert_result('RF', 'Smote', pred_y)\n",
        "result"
      ],
      "execution_count": 203,
      "outputs": [
        {
          "output_type": "execute_result",
          "data": {
            "text/html": [
              "<div>\n",
              "<style scoped>\n",
              "    .dataframe tbody tr th:only-of-type {\n",
              "        vertical-align: middle;\n",
              "    }\n",
              "\n",
              "    .dataframe tbody tr th {\n",
              "        vertical-align: top;\n",
              "    }\n",
              "\n",
              "    .dataframe thead th {\n",
              "        text-align: right;\n",
              "    }\n",
              "</style>\n",
              "<table border=\"1\" class=\"dataframe\">\n",
              "  <thead>\n",
              "    <tr style=\"text-align: right;\">\n",
              "      <th></th>\n",
              "      <th>Modelo</th>\n",
              "      <th>Observación</th>\n",
              "      <th>Accuracy</th>\n",
              "      <th>Precisión</th>\n",
              "      <th>Recall</th>\n",
              "      <th>f1-score</th>\n",
              "    </tr>\n",
              "  </thead>\n",
              "  <tbody>\n",
              "    <tr>\n",
              "      <th>0</th>\n",
              "      <td>RF</td>\n",
              "      <td>Modelo_base</td>\n",
              "      <td>0.818182</td>\n",
              "      <td>0.851852</td>\n",
              "      <td>0.92</td>\n",
              "      <td>0.884615</td>\n",
              "    </tr>\n",
              "    <tr>\n",
              "      <th>1</th>\n",
              "      <td>MLP</td>\n",
              "      <td>Modelo_base</td>\n",
              "      <td>0.242424</td>\n",
              "      <td>0.000000</td>\n",
              "      <td>0.00</td>\n",
              "      <td>0.000000</td>\n",
              "    </tr>\n",
              "    <tr>\n",
              "      <th>2</th>\n",
              "      <td>MLP</td>\n",
              "      <td>Modelo_base</td>\n",
              "      <td>0.757576</td>\n",
              "      <td>0.757576</td>\n",
              "      <td>1.00</td>\n",
              "      <td>0.862069</td>\n",
              "    </tr>\n",
              "    <tr>\n",
              "      <th>3</th>\n",
              "      <td>GB</td>\n",
              "      <td>Modelo_base</td>\n",
              "      <td>0.757576</td>\n",
              "      <td>0.869565</td>\n",
              "      <td>0.80</td>\n",
              "      <td>0.833333</td>\n",
              "    </tr>\n",
              "    <tr>\n",
              "      <th>4</th>\n",
              "      <td>XBOOST</td>\n",
              "      <td>Modelo_base</td>\n",
              "      <td>0.666667</td>\n",
              "      <td>0.818182</td>\n",
              "      <td>0.72</td>\n",
              "      <td>0.765957</td>\n",
              "    </tr>\n",
              "    <tr>\n",
              "      <th>5</th>\n",
              "      <td>BAGGING</td>\n",
              "      <td>Modelo_base</td>\n",
              "      <td>0.787879</td>\n",
              "      <td>0.846154</td>\n",
              "      <td>0.88</td>\n",
              "      <td>0.862745</td>\n",
              "    </tr>\n",
              "    <tr>\n",
              "      <th>6</th>\n",
              "      <td>ADABOOSTCLASSIFIER</td>\n",
              "      <td>Modelo_base</td>\n",
              "      <td>0.787879</td>\n",
              "      <td>0.875000</td>\n",
              "      <td>0.84</td>\n",
              "      <td>0.857143</td>\n",
              "    </tr>\n",
              "    <tr>\n",
              "      <th>7</th>\n",
              "      <td>SVC</td>\n",
              "      <td>Modelo_base</td>\n",
              "      <td>0.757576</td>\n",
              "      <td>0.757576</td>\n",
              "      <td>1.00</td>\n",
              "      <td>0.862069</td>\n",
              "    </tr>\n",
              "    <tr>\n",
              "      <th>8</th>\n",
              "      <td>Logistic</td>\n",
              "      <td>Modelo_base</td>\n",
              "      <td>0.757576</td>\n",
              "      <td>0.840000</td>\n",
              "      <td>0.84</td>\n",
              "      <td>0.840000</td>\n",
              "    </tr>\n",
              "    <tr>\n",
              "      <th>9</th>\n",
              "      <td>rf</td>\n",
              "      <td>Upsample</td>\n",
              "      <td>0.787879</td>\n",
              "      <td>0.846154</td>\n",
              "      <td>0.88</td>\n",
              "      <td>0.862745</td>\n",
              "    </tr>\n",
              "    <tr>\n",
              "      <th>10</th>\n",
              "      <td>RF</td>\n",
              "      <td>Upsample</td>\n",
              "      <td>0.787879</td>\n",
              "      <td>0.846154</td>\n",
              "      <td>0.88</td>\n",
              "      <td>0.862745</td>\n",
              "    </tr>\n",
              "    <tr>\n",
              "      <th>11</th>\n",
              "      <td>RF</td>\n",
              "      <td>Upsample</td>\n",
              "      <td>0.787879</td>\n",
              "      <td>0.846154</td>\n",
              "      <td>0.88</td>\n",
              "      <td>0.862745</td>\n",
              "    </tr>\n",
              "    <tr>\n",
              "      <th>12</th>\n",
              "      <td>MLP</td>\n",
              "      <td>Upsample</td>\n",
              "      <td>0.727273</td>\n",
              "      <td>0.833333</td>\n",
              "      <td>0.80</td>\n",
              "      <td>0.816327</td>\n",
              "    </tr>\n",
              "    <tr>\n",
              "      <th>13</th>\n",
              "      <td>Logistic</td>\n",
              "      <td>Upsample</td>\n",
              "      <td>0.727273</td>\n",
              "      <td>0.833333</td>\n",
              "      <td>0.80</td>\n",
              "      <td>0.816327</td>\n",
              "    </tr>\n",
              "    <tr>\n",
              "      <th>14</th>\n",
              "      <td>SVC</td>\n",
              "      <td>Upsample</td>\n",
              "      <td>0.666667</td>\n",
              "      <td>0.818182</td>\n",
              "      <td>0.72</td>\n",
              "      <td>0.765957</td>\n",
              "    </tr>\n",
              "    <tr>\n",
              "      <th>15</th>\n",
              "      <td>MLP</td>\n",
              "      <td>Smote</td>\n",
              "      <td>0.666667</td>\n",
              "      <td>0.791667</td>\n",
              "      <td>0.76</td>\n",
              "      <td>0.775510</td>\n",
              "    </tr>\n",
              "    <tr>\n",
              "      <th>16</th>\n",
              "      <td>RF</td>\n",
              "      <td>Smote</td>\n",
              "      <td>0.818182</td>\n",
              "      <td>0.851852</td>\n",
              "      <td>0.92</td>\n",
              "      <td>0.884615</td>\n",
              "    </tr>\n",
              "  </tbody>\n",
              "</table>\n",
              "</div>"
            ],
            "text/plain": [
              "                Modelo  Observación  Accuracy  Precisión  Recall  f1-score\n",
              "0                   RF  Modelo_base  0.818182   0.851852    0.92  0.884615\n",
              "1                  MLP  Modelo_base  0.242424   0.000000    0.00  0.000000\n",
              "2                  MLP  Modelo_base  0.757576   0.757576    1.00  0.862069\n",
              "3                   GB  Modelo_base  0.757576   0.869565    0.80  0.833333\n",
              "4               XBOOST  Modelo_base  0.666667   0.818182    0.72  0.765957\n",
              "5              BAGGING  Modelo_base  0.787879   0.846154    0.88  0.862745\n",
              "6   ADABOOSTCLASSIFIER  Modelo_base  0.787879   0.875000    0.84  0.857143\n",
              "7                  SVC  Modelo_base  0.757576   0.757576    1.00  0.862069\n",
              "8             Logistic  Modelo_base  0.757576   0.840000    0.84  0.840000\n",
              "9                   rf     Upsample  0.787879   0.846154    0.88  0.862745\n",
              "10                  RF     Upsample  0.787879   0.846154    0.88  0.862745\n",
              "11                  RF     Upsample  0.787879   0.846154    0.88  0.862745\n",
              "12                 MLP     Upsample  0.727273   0.833333    0.80  0.816327\n",
              "13            Logistic     Upsample  0.727273   0.833333    0.80  0.816327\n",
              "14                 SVC     Upsample  0.666667   0.818182    0.72  0.765957\n",
              "15                 MLP        Smote  0.666667   0.791667    0.76  0.775510\n",
              "16                  RF        Smote  0.818182   0.851852    0.92  0.884615"
            ]
          },
          "metadata": {
            "tags": []
          },
          "execution_count": 203
        }
      ]
    },
    {
      "cell_type": "code",
      "metadata": {
        "id": "CdrTtGqVwy0i",
        "colab_type": "code",
        "colab": {
          "base_uri": "https://localhost:8080/",
          "height": 514
        },
        "outputId": "e5731514-abbe-4ba3-b2e4-76df3170eb5d"
      },
      "source": [
        "matriz_confusion(y_test,pred_y)"
      ],
      "execution_count": 204,
      "outputs": [
        {
          "output_type": "display_data",
          "data": {
            "image/png": "[encoded data removed]",
            "text/plain": [
              "<Figure size 576x576 with 2 Axes>"
            ]
          },
          "metadata": {
            "tags": []
          }
        }
      ]
    },
    {
      "cell_type": "code",
      "metadata": {
        "id": "yKDILX5OvDkn",
        "colab_type": "code",
        "colab": {
          "base_uri": "https://localhost:8080/",
          "height": 571
        },
        "outputId": "c77932b0-7f2e-4eed-d3b8-0d1dc55dfa5b"
      },
      "source": [
        "### MLP - SMOTE ###\n",
        "from sklearn.neural_network import MLPClassifier\n",
        "from sklearn.metrics import confusion_matrix\n",
        "\n",
        "mlp = GridSearchCV(MLPClassifier(early_stopping=True),param_grid=parameter_grid_MLP,cv=5,verbose=True,n_jobs=-2)\n",
        "mlp.fit(X_train_smote,np.ravel(y_train_smote))\n",
        "pred= mlp.predict(X_test)\n",
        "\n",
        "insert_result('MLP', 'Smote', pred)\n",
        "result"
      ],
      "execution_count": 201,
      "outputs": [
        {
          "output_type": "stream",
          "text": [
            "Fitting 5 folds for each of 768 candidates, totalling 3840 fits\n"
          ],
          "name": "stdout"
        },
        {
          "output_type": "stream",
          "text": [
            "[Parallel(n_jobs=-2)]: Using backend SequentialBackend with 1 concurrent workers.\n",
            "[Parallel(n_jobs=-2)]: Done 3840 out of 3840 | elapsed:  2.2min finished\n"
          ],
          "name": "stderr"
        },
        {
          "output_type": "execute_result",
          "data": {
            "text/html": [
              "<div>\n",
              "<style scoped>\n",
              "    .dataframe tbody tr th:only-of-type {\n",
              "        vertical-align: middle;\n",
              "    }\n",
              "\n",
              "    .dataframe tbody tr th {\n",
              "        vertical-align: top;\n",
              "    }\n",
              "\n",
              "    .dataframe thead th {\n",
              "        text-align: right;\n",
              "    }\n",
              "</style>\n",
              "<table border=\"1\" class=\"dataframe\">\n",
              "  <thead>\n",
              "    <tr style=\"text-align: right;\">\n",
              "      <th></th>\n",
              "      <th>Modelo</th>\n",
              "      <th>Observación</th>\n",
              "      <th>Accuracy</th>\n",
              "      <th>Precisión</th>\n",
              "      <th>Recall</th>\n",
              "      <th>f1-score</th>\n",
              "    </tr>\n",
              "  </thead>\n",
              "  <tbody>\n",
              "    <tr>\n",
              "      <th>0</th>\n",
              "      <td>RF</td>\n",
              "      <td>Modelo_base</td>\n",
              "      <td>0.818182</td>\n",
              "      <td>0.851852</td>\n",
              "      <td>0.92</td>\n",
              "      <td>0.884615</td>\n",
              "    </tr>\n",
              "    <tr>\n",
              "      <th>1</th>\n",
              "      <td>MLP</td>\n",
              "      <td>Modelo_base</td>\n",
              "      <td>0.242424</td>\n",
              "      <td>0.000000</td>\n",
              "      <td>0.00</td>\n",
              "      <td>0.000000</td>\n",
              "    </tr>\n",
              "    <tr>\n",
              "      <th>2</th>\n",
              "      <td>MLP</td>\n",
              "      <td>Modelo_base</td>\n",
              "      <td>0.757576</td>\n",
              "      <td>0.757576</td>\n",
              "      <td>1.00</td>\n",
              "      <td>0.862069</td>\n",
              "    </tr>\n",
              "    <tr>\n",
              "      <th>3</th>\n",
              "      <td>GB</td>\n",
              "      <td>Modelo_base</td>\n",
              "      <td>0.757576</td>\n",
              "      <td>0.869565</td>\n",
              "      <td>0.80</td>\n",
              "      <td>0.833333</td>\n",
              "    </tr>\n",
              "    <tr>\n",
              "      <th>4</th>\n",
              "      <td>XBOOST</td>\n",
              "      <td>Modelo_base</td>\n",
              "      <td>0.666667</td>\n",
              "      <td>0.818182</td>\n",
              "      <td>0.72</td>\n",
              "      <td>0.765957</td>\n",
              "    </tr>\n",
              "    <tr>\n",
              "      <th>5</th>\n",
              "      <td>BAGGING</td>\n",
              "      <td>Modelo_base</td>\n",
              "      <td>0.787879</td>\n",
              "      <td>0.846154</td>\n",
              "      <td>0.88</td>\n",
              "      <td>0.862745</td>\n",
              "    </tr>\n",
              "    <tr>\n",
              "      <th>6</th>\n",
              "      <td>ADABOOSTCLASSIFIER</td>\n",
              "      <td>Modelo_base</td>\n",
              "      <td>0.787879</td>\n",
              "      <td>0.875000</td>\n",
              "      <td>0.84</td>\n",
              "      <td>0.857143</td>\n",
              "    </tr>\n",
              "    <tr>\n",
              "      <th>7</th>\n",
              "      <td>SVC</td>\n",
              "      <td>Modelo_base</td>\n",
              "      <td>0.757576</td>\n",
              "      <td>0.757576</td>\n",
              "      <td>1.00</td>\n",
              "      <td>0.862069</td>\n",
              "    </tr>\n",
              "    <tr>\n",
              "      <th>8</th>\n",
              "      <td>Logistic</td>\n",
              "      <td>Modelo_base</td>\n",
              "      <td>0.757576</td>\n",
              "      <td>0.840000</td>\n",
              "      <td>0.84</td>\n",
              "      <td>0.840000</td>\n",
              "    </tr>\n",
              "    <tr>\n",
              "      <th>9</th>\n",
              "      <td>rf</td>\n",
              "      <td>Upsample</td>\n",
              "      <td>0.787879</td>\n",
              "      <td>0.846154</td>\n",
              "      <td>0.88</td>\n",
              "      <td>0.862745</td>\n",
              "    </tr>\n",
              "    <tr>\n",
              "      <th>10</th>\n",
              "      <td>RF</td>\n",
              "      <td>Upsample</td>\n",
              "      <td>0.787879</td>\n",
              "      <td>0.846154</td>\n",
              "      <td>0.88</td>\n",
              "      <td>0.862745</td>\n",
              "    </tr>\n",
              "    <tr>\n",
              "      <th>11</th>\n",
              "      <td>RF</td>\n",
              "      <td>Upsample</td>\n",
              "      <td>0.787879</td>\n",
              "      <td>0.846154</td>\n",
              "      <td>0.88</td>\n",
              "      <td>0.862745</td>\n",
              "    </tr>\n",
              "    <tr>\n",
              "      <th>12</th>\n",
              "      <td>MLP</td>\n",
              "      <td>Upsample</td>\n",
              "      <td>0.727273</td>\n",
              "      <td>0.833333</td>\n",
              "      <td>0.80</td>\n",
              "      <td>0.816327</td>\n",
              "    </tr>\n",
              "    <tr>\n",
              "      <th>13</th>\n",
              "      <td>Logistic</td>\n",
              "      <td>Upsample</td>\n",
              "      <td>0.727273</td>\n",
              "      <td>0.833333</td>\n",
              "      <td>0.80</td>\n",
              "      <td>0.816327</td>\n",
              "    </tr>\n",
              "    <tr>\n",
              "      <th>14</th>\n",
              "      <td>SVC</td>\n",
              "      <td>Upsample</td>\n",
              "      <td>0.666667</td>\n",
              "      <td>0.818182</td>\n",
              "      <td>0.72</td>\n",
              "      <td>0.765957</td>\n",
              "    </tr>\n",
              "    <tr>\n",
              "      <th>15</th>\n",
              "      <td>MLP</td>\n",
              "      <td>Smote</td>\n",
              "      <td>0.666667</td>\n",
              "      <td>0.791667</td>\n",
              "      <td>0.76</td>\n",
              "      <td>0.775510</td>\n",
              "    </tr>\n",
              "  </tbody>\n",
              "</table>\n",
              "</div>"
            ],
            "text/plain": [
              "                Modelo  Observación  Accuracy  Precisión  Recall  f1-score\n",
              "0                   RF  Modelo_base  0.818182   0.851852    0.92  0.884615\n",
              "1                  MLP  Modelo_base  0.242424   0.000000    0.00  0.000000\n",
              "2                  MLP  Modelo_base  0.757576   0.757576    1.00  0.862069\n",
              "3                   GB  Modelo_base  0.757576   0.869565    0.80  0.833333\n",
              "4               XBOOST  Modelo_base  0.666667   0.818182    0.72  0.765957\n",
              "5              BAGGING  Modelo_base  0.787879   0.846154    0.88  0.862745\n",
              "6   ADABOOSTCLASSIFIER  Modelo_base  0.787879   0.875000    0.84  0.857143\n",
              "7                  SVC  Modelo_base  0.757576   0.757576    1.00  0.862069\n",
              "8             Logistic  Modelo_base  0.757576   0.840000    0.84  0.840000\n",
              "9                   rf     Upsample  0.787879   0.846154    0.88  0.862745\n",
              "10                  RF     Upsample  0.787879   0.846154    0.88  0.862745\n",
              "11                  RF     Upsample  0.787879   0.846154    0.88  0.862745\n",
              "12                 MLP     Upsample  0.727273   0.833333    0.80  0.816327\n",
              "13            Logistic     Upsample  0.727273   0.833333    0.80  0.816327\n",
              "14                 SVC     Upsample  0.666667   0.818182    0.72  0.765957\n",
              "15                 MLP        Smote  0.666667   0.791667    0.76  0.775510"
            ]
          },
          "metadata": {
            "tags": []
          },
          "execution_count": 201
        }
      ]
    },
    {
      "cell_type": "code",
      "metadata": {
        "id": "awxZLmhWvDbw",
        "colab_type": "code",
        "colab": {
          "base_uri": "https://localhost:8080/",
          "height": 514
        },
        "outputId": "68b1ea66-41ab-4551-e178-ed6bcf4e3842"
      },
      "source": [
        "matriz_confusion(y_test,pred)"
      ],
      "execution_count": 202,
      "outputs": [
        {
          "output_type": "display_data",
          "data": {
            "image/png": "[encoded data removed]",
            "text/plain": [
              "<Figure size 576x576 with 2 Axes>"
            ]
          },
          "metadata": {
            "tags": []
          }
        }
      ]
    },
    {
      "cell_type": "code",
      "metadata": {
        "id": "shEBQkfDvDVO",
        "colab_type": "code",
        "colab": {
          "base_uri": "https://localhost:8080/",
          "height": 580
        },
        "outputId": "89324b44-660d-450f-e0ad-0edf332521a1"
      },
      "source": [
        "### LOGISTICO - SMOTE ###\n",
        "\n",
        "from sklearn.linear_model import LogisticRegression\n",
        "# Create regularization penalty space\n",
        "penalty = ['l1', 'l2']\n",
        "\n",
        "# Create regularization hyperparameter space\n",
        "C = np.logspace(0, 4, 10)\n",
        "\n",
        "# Create hyperparameter options\n",
        "hyperparameters = dict(C=C, penalty=penalty)\n",
        "\n",
        "\n",
        "\n",
        "logistic_mod = GridSearchCV(LogisticRegression(),param_grid = hyperparameters, \n",
        "                               cv = 2,  n_jobs=-1)\n",
        "\n",
        "model_res = logistic_mod.fit(X_train_smote, y_train_smote)\n",
        "\n",
        "ytest_pred=model_res.predict(X_test)\n",
        "\n",
        "insert_result('Logistic', 'Smote', ytest_pred)\n",
        "result"
      ],
      "execution_count": 205,
      "outputs": [
        {
          "output_type": "execute_result",
          "data": {
            "text/html": [
              "<div>\n",
              "<style scoped>\n",
              "    .dataframe tbody tr th:only-of-type {\n",
              "        vertical-align: middle;\n",
              "    }\n",
              "\n",
              "    .dataframe tbody tr th {\n",
              "        vertical-align: top;\n",
              "    }\n",
              "\n",
              "    .dataframe thead th {\n",
              "        text-align: right;\n",
              "    }\n",
              "</style>\n",
              "<table border=\"1\" class=\"dataframe\">\n",
              "  <thead>\n",
              "    <tr style=\"text-align: right;\">\n",
              "      <th></th>\n",
              "      <th>Modelo</th>\n",
              "      <th>Observación</th>\n",
              "      <th>Accuracy</th>\n",
              "      <th>Precisión</th>\n",
              "      <th>Recall</th>\n",
              "      <th>f1-score</th>\n",
              "    </tr>\n",
              "  </thead>\n",
              "  <tbody>\n",
              "    <tr>\n",
              "      <th>0</th>\n",
              "      <td>RF</td>\n",
              "      <td>Modelo_base</td>\n",
              "      <td>0.818182</td>\n",
              "      <td>0.851852</td>\n",
              "      <td>0.92</td>\n",
              "      <td>0.884615</td>\n",
              "    </tr>\n",
              "    <tr>\n",
              "      <th>1</th>\n",
              "      <td>MLP</td>\n",
              "      <td>Modelo_base</td>\n",
              "      <td>0.242424</td>\n",
              "      <td>0.000000</td>\n",
              "      <td>0.00</td>\n",
              "      <td>0.000000</td>\n",
              "    </tr>\n",
              "    <tr>\n",
              "      <th>2</th>\n",
              "      <td>MLP</td>\n",
              "      <td>Modelo_base</td>\n",
              "      <td>0.757576</td>\n",
              "      <td>0.757576</td>\n",
              "      <td>1.00</td>\n",
              "      <td>0.862069</td>\n",
              "    </tr>\n",
              "    <tr>\n",
              "      <th>3</th>\n",
              "      <td>GB</td>\n",
              "      <td>Modelo_base</td>\n",
              "      <td>0.757576</td>\n",
              "      <td>0.869565</td>\n",
              "      <td>0.80</td>\n",
              "      <td>0.833333</td>\n",
              "    </tr>\n",
              "    <tr>\n",
              "      <th>4</th>\n",
              "      <td>XBOOST</td>\n",
              "      <td>Modelo_base</td>\n",
              "      <td>0.666667</td>\n",
              "      <td>0.818182</td>\n",
              "      <td>0.72</td>\n",
              "      <td>0.765957</td>\n",
              "    </tr>\n",
              "    <tr>\n",
              "      <th>5</th>\n",
              "      <td>BAGGING</td>\n",
              "      <td>Modelo_base</td>\n",
              "      <td>0.787879</td>\n",
              "      <td>0.846154</td>\n",
              "      <td>0.88</td>\n",
              "      <td>0.862745</td>\n",
              "    </tr>\n",
              "    <tr>\n",
              "      <th>6</th>\n",
              "      <td>ADABOOSTCLASSIFIER</td>\n",
              "      <td>Modelo_base</td>\n",
              "      <td>0.787879</td>\n",
              "      <td>0.875000</td>\n",
              "      <td>0.84</td>\n",
              "      <td>0.857143</td>\n",
              "    </tr>\n",
              "    <tr>\n",
              "      <th>7</th>\n",
              "      <td>SVC</td>\n",
              "      <td>Modelo_base</td>\n",
              "      <td>0.757576</td>\n",
              "      <td>0.757576</td>\n",
              "      <td>1.00</td>\n",
              "      <td>0.862069</td>\n",
              "    </tr>\n",
              "    <tr>\n",
              "      <th>8</th>\n",
              "      <td>Logistic</td>\n",
              "      <td>Modelo_base</td>\n",
              "      <td>0.757576</td>\n",
              "      <td>0.840000</td>\n",
              "      <td>0.84</td>\n",
              "      <td>0.840000</td>\n",
              "    </tr>\n",
              "    <tr>\n",
              "      <th>9</th>\n",
              "      <td>rf</td>\n",
              "      <td>Upsample</td>\n",
              "      <td>0.787879</td>\n",
              "      <td>0.846154</td>\n",
              "      <td>0.88</td>\n",
              "      <td>0.862745</td>\n",
              "    </tr>\n",
              "    <tr>\n",
              "      <th>10</th>\n",
              "      <td>RF</td>\n",
              "      <td>Upsample</td>\n",
              "      <td>0.787879</td>\n",
              "      <td>0.846154</td>\n",
              "      <td>0.88</td>\n",
              "      <td>0.862745</td>\n",
              "    </tr>\n",
              "    <tr>\n",
              "      <th>11</th>\n",
              "      <td>RF</td>\n",
              "      <td>Upsample</td>\n",
              "      <td>0.787879</td>\n",
              "      <td>0.846154</td>\n",
              "      <td>0.88</td>\n",
              "      <td>0.862745</td>\n",
              "    </tr>\n",
              "    <tr>\n",
              "      <th>12</th>\n",
              "      <td>MLP</td>\n",
              "      <td>Upsample</td>\n",
              "      <td>0.727273</td>\n",
              "      <td>0.833333</td>\n",
              "      <td>0.80</td>\n",
              "      <td>0.816327</td>\n",
              "    </tr>\n",
              "    <tr>\n",
              "      <th>13</th>\n",
              "      <td>Logistic</td>\n",
              "      <td>Upsample</td>\n",
              "      <td>0.727273</td>\n",
              "      <td>0.833333</td>\n",
              "      <td>0.80</td>\n",
              "      <td>0.816327</td>\n",
              "    </tr>\n",
              "    <tr>\n",
              "      <th>14</th>\n",
              "      <td>SVC</td>\n",
              "      <td>Upsample</td>\n",
              "      <td>0.666667</td>\n",
              "      <td>0.818182</td>\n",
              "      <td>0.72</td>\n",
              "      <td>0.765957</td>\n",
              "    </tr>\n",
              "    <tr>\n",
              "      <th>15</th>\n",
              "      <td>MLP</td>\n",
              "      <td>Smote</td>\n",
              "      <td>0.666667</td>\n",
              "      <td>0.791667</td>\n",
              "      <td>0.76</td>\n",
              "      <td>0.775510</td>\n",
              "    </tr>\n",
              "    <tr>\n",
              "      <th>16</th>\n",
              "      <td>RF</td>\n",
              "      <td>Smote</td>\n",
              "      <td>0.818182</td>\n",
              "      <td>0.851852</td>\n",
              "      <td>0.92</td>\n",
              "      <td>0.884615</td>\n",
              "    </tr>\n",
              "    <tr>\n",
              "      <th>17</th>\n",
              "      <td>Logistic</td>\n",
              "      <td>Smote</td>\n",
              "      <td>0.727273</td>\n",
              "      <td>0.833333</td>\n",
              "      <td>0.80</td>\n",
              "      <td>0.816327</td>\n",
              "    </tr>\n",
              "  </tbody>\n",
              "</table>\n",
              "</div>"
            ],
            "text/plain": [
              "                Modelo  Observación  Accuracy  Precisión  Recall  f1-score\n",
              "0                   RF  Modelo_base  0.818182   0.851852    0.92  0.884615\n",
              "1                  MLP  Modelo_base  0.242424   0.000000    0.00  0.000000\n",
              "2                  MLP  Modelo_base  0.757576   0.757576    1.00  0.862069\n",
              "3                   GB  Modelo_base  0.757576   0.869565    0.80  0.833333\n",
              "4               XBOOST  Modelo_base  0.666667   0.818182    0.72  0.765957\n",
              "5              BAGGING  Modelo_base  0.787879   0.846154    0.88  0.862745\n",
              "6   ADABOOSTCLASSIFIER  Modelo_base  0.787879   0.875000    0.84  0.857143\n",
              "7                  SVC  Modelo_base  0.757576   0.757576    1.00  0.862069\n",
              "8             Logistic  Modelo_base  0.757576   0.840000    0.84  0.840000\n",
              "9                   rf     Upsample  0.787879   0.846154    0.88  0.862745\n",
              "10                  RF     Upsample  0.787879   0.846154    0.88  0.862745\n",
              "11                  RF     Upsample  0.787879   0.846154    0.88  0.862745\n",
              "12                 MLP     Upsample  0.727273   0.833333    0.80  0.816327\n",
              "13            Logistic     Upsample  0.727273   0.833333    0.80  0.816327\n",
              "14                 SVC     Upsample  0.666667   0.818182    0.72  0.765957\n",
              "15                 MLP        Smote  0.666667   0.791667    0.76  0.775510\n",
              "16                  RF        Smote  0.818182   0.851852    0.92  0.884615\n",
              "17            Logistic        Smote  0.727273   0.833333    0.80  0.816327"
            ]
          },
          "metadata": {
            "tags": []
          },
          "execution_count": 205
        }
      ]
    },
    {
      "cell_type": "code",
      "metadata": {
        "id": "UWIBzblRxPoh",
        "colab_type": "code",
        "colab": {
          "base_uri": "https://localhost:8080/",
          "height": 514
        },
        "outputId": "e7b551f1-782c-4c56-cf25-e63ed197366f"
      },
      "source": [
        "matriz_confusion(y_test,ytest_pred)"
      ],
      "execution_count": 206,
      "outputs": [
        {
          "output_type": "display_data",
          "data": {
            "image/png": "[encoded data removed]",
            "text/plain": [
              "<Figure size 576x576 with 2 Axes>"
            ]
          },
          "metadata": {
            "tags": []
          }
        }
      ]
    },
    {
      "cell_type": "code",
      "metadata": {
        "id": "HevPc9w0xPjK",
        "colab_type": "code",
        "colab": {
          "base_uri": "https://localhost:8080/",
          "height": 660
        },
        "outputId": "8e21b730-7dca-409c-9e72-c027b4b4ef6d"
      },
      "source": [
        "### SVC - SMOTE ###\n",
        "from sklearn.svm import SVC\n",
        "\n",
        "tuned_parameters = [{'kernel': ['rbf'], 'gamma': [1e-3, 1e-4],\n",
        "                     'C': [1, 10, 100, 1000]},\n",
        "                    {'kernel': ['linear'], 'C': [1, 10, 100, 1000]}]\n",
        "\n",
        "svc1 = GridSearchCV(SVC(), param_grid=tuned_parameters, cv=3, verbose=1, n_jobs=1, return_train_score=True)\n",
        "svc1.fit(X_train_smote,y_train_smote)\n",
        "pred_y = svc1.predict(X_test)\n",
        "\n",
        "insert_result('SVC', 'Smote', pred_y)\n",
        "result"
      ],
      "execution_count": 207,
      "outputs": [
        {
          "output_type": "stream",
          "text": [
            "Fitting 3 folds for each of 12 candidates, totalling 36 fits\n"
          ],
          "name": "stdout"
        },
        {
          "output_type": "stream",
          "text": [
            "[Parallel(n_jobs=1)]: Using backend SequentialBackend with 1 concurrent workers.\n",
            "[Parallel(n_jobs=1)]: Done  36 out of  36 | elapsed:    0.1s finished\n"
          ],
          "name": "stderr"
        },
        {
          "output_type": "execute_result",
          "data": {
            "text/html": [
              "<div>\n",
              "<style scoped>\n",
              "    .dataframe tbody tr th:only-of-type {\n",
              "        vertical-align: middle;\n",
              "    }\n",
              "\n",
              "    .dataframe tbody tr th {\n",
              "        vertical-align: top;\n",
              "    }\n",
              "\n",
              "    .dataframe thead th {\n",
              "        text-align: right;\n",
              "    }\n",
              "</style>\n",
              "<table border=\"1\" class=\"dataframe\">\n",
              "  <thead>\n",
              "    <tr style=\"text-align: right;\">\n",
              "      <th></th>\n",
              "      <th>Modelo</th>\n",
              "      <th>Observación</th>\n",
              "      <th>Accuracy</th>\n",
              "      <th>Precisión</th>\n",
              "      <th>Recall</th>\n",
              "      <th>f1-score</th>\n",
              "    </tr>\n",
              "  </thead>\n",
              "  <tbody>\n",
              "    <tr>\n",
              "      <th>0</th>\n",
              "      <td>RF</td>\n",
              "      <td>Modelo_base</td>\n",
              "      <td>0.818182</td>\n",
              "      <td>0.851852</td>\n",
              "      <td>0.92</td>\n",
              "      <td>0.884615</td>\n",
              "    </tr>\n",
              "    <tr>\n",
              "      <th>1</th>\n",
              "      <td>MLP</td>\n",
              "      <td>Modelo_base</td>\n",
              "      <td>0.242424</td>\n",
              "      <td>0.000000</td>\n",
              "      <td>0.00</td>\n",
              "      <td>0.000000</td>\n",
              "    </tr>\n",
              "    <tr>\n",
              "      <th>2</th>\n",
              "      <td>MLP</td>\n",
              "      <td>Modelo_base</td>\n",
              "      <td>0.757576</td>\n",
              "      <td>0.757576</td>\n",
              "      <td>1.00</td>\n",
              "      <td>0.862069</td>\n",
              "    </tr>\n",
              "    <tr>\n",
              "      <th>3</th>\n",
              "      <td>GB</td>\n",
              "      <td>Modelo_base</td>\n",
              "      <td>0.757576</td>\n",
              "      <td>0.869565</td>\n",
              "      <td>0.80</td>\n",
              "      <td>0.833333</td>\n",
              "    </tr>\n",
              "    <tr>\n",
              "      <th>4</th>\n",
              "      <td>XBOOST</td>\n",
              "      <td>Modelo_base</td>\n",
              "      <td>0.666667</td>\n",
              "      <td>0.818182</td>\n",
              "      <td>0.72</td>\n",
              "      <td>0.765957</td>\n",
              "    </tr>\n",
              "    <tr>\n",
              "      <th>5</th>\n",
              "      <td>BAGGING</td>\n",
              "      <td>Modelo_base</td>\n",
              "      <td>0.787879</td>\n",
              "      <td>0.846154</td>\n",
              "      <td>0.88</td>\n",
              "      <td>0.862745</td>\n",
              "    </tr>\n",
              "    <tr>\n",
              "      <th>6</th>\n",
              "      <td>ADABOOSTCLASSIFIER</td>\n",
              "      <td>Modelo_base</td>\n",
              "      <td>0.787879</td>\n",
              "      <td>0.875000</td>\n",
              "      <td>0.84</td>\n",
              "      <td>0.857143</td>\n",
              "    </tr>\n",
              "    <tr>\n",
              "      <th>7</th>\n",
              "      <td>SVC</td>\n",
              "      <td>Modelo_base</td>\n",
              "      <td>0.757576</td>\n",
              "      <td>0.757576</td>\n",
              "      <td>1.00</td>\n",
              "      <td>0.862069</td>\n",
              "    </tr>\n",
              "    <tr>\n",
              "      <th>8</th>\n",
              "      <td>Logistic</td>\n",
              "      <td>Modelo_base</td>\n",
              "      <td>0.757576</td>\n",
              "      <td>0.840000</td>\n",
              "      <td>0.84</td>\n",
              "      <td>0.840000</td>\n",
              "    </tr>\n",
              "    <tr>\n",
              "      <th>9</th>\n",
              "      <td>rf</td>\n",
              "      <td>Upsample</td>\n",
              "      <td>0.787879</td>\n",
              "      <td>0.846154</td>\n",
              "      <td>0.88</td>\n",
              "      <td>0.862745</td>\n",
              "    </tr>\n",
              "    <tr>\n",
              "      <th>10</th>\n",
              "      <td>RF</td>\n",
              "      <td>Upsample</td>\n",
              "      <td>0.787879</td>\n",
              "      <td>0.846154</td>\n",
              "      <td>0.88</td>\n",
              "      <td>0.862745</td>\n",
              "    </tr>\n",
              "    <tr>\n",
              "      <th>11</th>\n",
              "      <td>RF</td>\n",
              "      <td>Upsample</td>\n",
              "      <td>0.787879</td>\n",
              "      <td>0.846154</td>\n",
              "      <td>0.88</td>\n",
              "      <td>0.862745</td>\n",
              "    </tr>\n",
              "    <tr>\n",
              "      <th>12</th>\n",
              "      <td>MLP</td>\n",
              "      <td>Upsample</td>\n",
              "      <td>0.727273</td>\n",
              "      <td>0.833333</td>\n",
              "      <td>0.80</td>\n",
              "      <td>0.816327</td>\n",
              "    </tr>\n",
              "    <tr>\n",
              "      <th>13</th>\n",
              "      <td>Logistic</td>\n",
              "      <td>Upsample</td>\n",
              "      <td>0.727273</td>\n",
              "      <td>0.833333</td>\n",
              "      <td>0.80</td>\n",
              "      <td>0.816327</td>\n",
              "    </tr>\n",
              "    <tr>\n",
              "      <th>14</th>\n",
              "      <td>SVC</td>\n",
              "      <td>Upsample</td>\n",
              "      <td>0.666667</td>\n",
              "      <td>0.818182</td>\n",
              "      <td>0.72</td>\n",
              "      <td>0.765957</td>\n",
              "    </tr>\n",
              "    <tr>\n",
              "      <th>15</th>\n",
              "      <td>MLP</td>\n",
              "      <td>Smote</td>\n",
              "      <td>0.666667</td>\n",
              "      <td>0.791667</td>\n",
              "      <td>0.76</td>\n",
              "      <td>0.775510</td>\n",
              "    </tr>\n",
              "    <tr>\n",
              "      <th>16</th>\n",
              "      <td>RF</td>\n",
              "      <td>Smote</td>\n",
              "      <td>0.818182</td>\n",
              "      <td>0.851852</td>\n",
              "      <td>0.92</td>\n",
              "      <td>0.884615</td>\n",
              "    </tr>\n",
              "    <tr>\n",
              "      <th>17</th>\n",
              "      <td>Logistic</td>\n",
              "      <td>Smote</td>\n",
              "      <td>0.727273</td>\n",
              "      <td>0.833333</td>\n",
              "      <td>0.80</td>\n",
              "      <td>0.816327</td>\n",
              "    </tr>\n",
              "    <tr>\n",
              "      <th>18</th>\n",
              "      <td>SVC</td>\n",
              "      <td>Smote</td>\n",
              "      <td>0.696970</td>\n",
              "      <td>0.826087</td>\n",
              "      <td>0.76</td>\n",
              "      <td>0.791667</td>\n",
              "    </tr>\n",
              "  </tbody>\n",
              "</table>\n",
              "</div>"
            ],
            "text/plain": [
              "                Modelo  Observación  Accuracy  Precisión  Recall  f1-score\n",
              "0                   RF  Modelo_base  0.818182   0.851852    0.92  0.884615\n",
              "1                  MLP  Modelo_base  0.242424   0.000000    0.00  0.000000\n",
              "2                  MLP  Modelo_base  0.757576   0.757576    1.00  0.862069\n",
              "3                   GB  Modelo_base  0.757576   0.869565    0.80  0.833333\n",
              "4               XBOOST  Modelo_base  0.666667   0.818182    0.72  0.765957\n",
              "5              BAGGING  Modelo_base  0.787879   0.846154    0.88  0.862745\n",
              "6   ADABOOSTCLASSIFIER  Modelo_base  0.787879   0.875000    0.84  0.857143\n",
              "7                  SVC  Modelo_base  0.757576   0.757576    1.00  0.862069\n",
              "8             Logistic  Modelo_base  0.757576   0.840000    0.84  0.840000\n",
              "9                   rf     Upsample  0.787879   0.846154    0.88  0.862745\n",
              "10                  RF     Upsample  0.787879   0.846154    0.88  0.862745\n",
              "11                  RF     Upsample  0.787879   0.846154    0.88  0.862745\n",
              "12                 MLP     Upsample  0.727273   0.833333    0.80  0.816327\n",
              "13            Logistic     Upsample  0.727273   0.833333    0.80  0.816327\n",
              "14                 SVC     Upsample  0.666667   0.818182    0.72  0.765957\n",
              "15                 MLP        Smote  0.666667   0.791667    0.76  0.775510\n",
              "16                  RF        Smote  0.818182   0.851852    0.92  0.884615\n",
              "17            Logistic        Smote  0.727273   0.833333    0.80  0.816327\n",
              "18                 SVC        Smote  0.696970   0.826087    0.76  0.791667"
            ]
          },
          "metadata": {
            "tags": []
          },
          "execution_count": 207
        }
      ]
    },
    {
      "cell_type": "code",
      "metadata": {
        "id": "_hL3WMhkxPek",
        "colab_type": "code",
        "colab": {
          "base_uri": "https://localhost:8080/",
          "height": 514
        },
        "outputId": "05ab2b34-6d96-4cae-c8bd-e280d4836f79"
      },
      "source": [
        "matriz_confusion(y_test,pred_y)"
      ],
      "execution_count": 208,
      "outputs": [
        {
          "output_type": "display_data",
          "data": {
            "image/png": "[encoded data removed]",
            "text/plain": [
              "<Figure size 576x576 with 2 Axes>"
            ]
          },
          "metadata": {
            "tags": []
          }
        }
      ]
    },
    {
      "cell_type": "code",
      "metadata": {
        "id": "0NzZAJJ7xPZw",
        "colab_type": "code",
        "colab": {}
      },
      "source": [
        ""
      ],
      "execution_count": 0,
      "outputs": []
    },
    {
      "cell_type": "code",
      "metadata": {
        "id": "xyLwTdiQxzPI",
        "colab_type": "code",
        "colab": {}
      },
      "source": [
        ""
      ],
      "execution_count": 0,
      "outputs": []
    },
    {
      "cell_type": "code",
      "metadata": {
        "id": "qQ2soc8DxzMe",
        "colab_type": "code",
        "colab": {}
      },
      "source": [
        ""
      ],
      "execution_count": 0,
      "outputs": []
    },
    {
      "cell_type": "code",
      "metadata": {
        "id": "bjtPdCWoxzIs",
        "colab_type": "code",
        "colab": {}
      },
      "source": [
        ""
      ],
      "execution_count": 0,
      "outputs": []
    },
    {
      "cell_type": "code",
      "metadata": {
        "id": "LPis0mrgxzF_",
        "colab_type": "code",
        "colab": {}
      },
      "source": [
        ""
      ],
      "execution_count": 0,
      "outputs": []
    },
    {
      "cell_type": "markdown",
      "metadata": {
        "id": "9vTMyCzg_Hh8",
        "colab_type": "text"
      },
      "source": [
        "# Estrategia --> Ensamble de modelos con balanceo."
      ]
    },
    {
      "cell_type": "code",
      "metadata": {
        "id": "X7enDcfv-73z",
        "colab_type": "code",
        "colab": {
          "base_uri": "https://localhost:8080/",
          "height": 639
        },
        "outputId": "4ec71c1d-1f41-4e59-d512-5249a7293d25"
      },
      "source": [
        "## BALANCED BAGGING NORMAL\n",
        "bbc = BalancedBaggingClassifier(base_estimator = DecisionTreeClassifier(),\n",
        "                               sampling_strategy='auto',\n",
        "                               random_state=0)\n",
        "\n",
        "bbc.fit(X_train, y_train)\n",
        "pred_y = bbc.predict(X_test)\n",
        "insert_result('Bagging', 'Ensamble', pred_y)\n",
        "result"
      ],
      "execution_count": 209,
      "outputs": [
        {
          "output_type": "execute_result",
          "data": {
            "text/html": [
              "<div>\n",
              "<style scoped>\n",
              "    .dataframe tbody tr th:only-of-type {\n",
              "        vertical-align: middle;\n",
              "    }\n",
              "\n",
              "    .dataframe tbody tr th {\n",
              "        vertical-align: top;\n",
              "    }\n",
              "\n",
              "    .dataframe thead th {\n",
              "        text-align: right;\n",
              "    }\n",
              "</style>\n",
              "<table border=\"1\" class=\"dataframe\">\n",
              "  <thead>\n",
              "    <tr style=\"text-align: right;\">\n",
              "      <th></th>\n",
              "      <th>Modelo</th>\n",
              "      <th>Observación</th>\n",
              "      <th>Accuracy</th>\n",
              "      <th>Precisión</th>\n",
              "      <th>Recall</th>\n",
              "      <th>f1-score</th>\n",
              "    </tr>\n",
              "  </thead>\n",
              "  <tbody>\n",
              "    <tr>\n",
              "      <th>0</th>\n",
              "      <td>RF</td>\n",
              "      <td>Modelo_base</td>\n",
              "      <td>0.818182</td>\n",
              "      <td>0.851852</td>\n",
              "      <td>0.92</td>\n",
              "      <td>0.884615</td>\n",
              "    </tr>\n",
              "    <tr>\n",
              "      <th>1</th>\n",
              "      <td>MLP</td>\n",
              "      <td>Modelo_base</td>\n",
              "      <td>0.242424</td>\n",
              "      <td>0.000000</td>\n",
              "      <td>0.00</td>\n",
              "      <td>0.000000</td>\n",
              "    </tr>\n",
              "    <tr>\n",
              "      <th>2</th>\n",
              "      <td>MLP</td>\n",
              "      <td>Modelo_base</td>\n",
              "      <td>0.757576</td>\n",
              "      <td>0.757576</td>\n",
              "      <td>1.00</td>\n",
              "      <td>0.862069</td>\n",
              "    </tr>\n",
              "    <tr>\n",
              "      <th>3</th>\n",
              "      <td>GB</td>\n",
              "      <td>Modelo_base</td>\n",
              "      <td>0.757576</td>\n",
              "      <td>0.869565</td>\n",
              "      <td>0.80</td>\n",
              "      <td>0.833333</td>\n",
              "    </tr>\n",
              "    <tr>\n",
              "      <th>4</th>\n",
              "      <td>XBOOST</td>\n",
              "      <td>Modelo_base</td>\n",
              "      <td>0.666667</td>\n",
              "      <td>0.818182</td>\n",
              "      <td>0.72</td>\n",
              "      <td>0.765957</td>\n",
              "    </tr>\n",
              "    <tr>\n",
              "      <th>5</th>\n",
              "      <td>BAGGING</td>\n",
              "      <td>Modelo_base</td>\n",
              "      <td>0.787879</td>\n",
              "      <td>0.846154</td>\n",
              "      <td>0.88</td>\n",
              "      <td>0.862745</td>\n",
              "    </tr>\n",
              "    <tr>\n",
              "      <th>6</th>\n",
              "      <td>ADABOOSTCLASSIFIER</td>\n",
              "      <td>Modelo_base</td>\n",
              "      <td>0.787879</td>\n",
              "      <td>0.875000</td>\n",
              "      <td>0.84</td>\n",
              "      <td>0.857143</td>\n",
              "    </tr>\n",
              "    <tr>\n",
              "      <th>7</th>\n",
              "      <td>SVC</td>\n",
              "      <td>Modelo_base</td>\n",
              "      <td>0.757576</td>\n",
              "      <td>0.757576</td>\n",
              "      <td>1.00</td>\n",
              "      <td>0.862069</td>\n",
              "    </tr>\n",
              "    <tr>\n",
              "      <th>8</th>\n",
              "      <td>Logistic</td>\n",
              "      <td>Modelo_base</td>\n",
              "      <td>0.757576</td>\n",
              "      <td>0.840000</td>\n",
              "      <td>0.84</td>\n",
              "      <td>0.840000</td>\n",
              "    </tr>\n",
              "    <tr>\n",
              "      <th>9</th>\n",
              "      <td>rf</td>\n",
              "      <td>Upsample</td>\n",
              "      <td>0.787879</td>\n",
              "      <td>0.846154</td>\n",
              "      <td>0.88</td>\n",
              "      <td>0.862745</td>\n",
              "    </tr>\n",
              "    <tr>\n",
              "      <th>10</th>\n",
              "      <td>RF</td>\n",
              "      <td>Upsample</td>\n",
              "      <td>0.787879</td>\n",
              "      <td>0.846154</td>\n",
              "      <td>0.88</td>\n",
              "      <td>0.862745</td>\n",
              "    </tr>\n",
              "    <tr>\n",
              "      <th>11</th>\n",
              "      <td>RF</td>\n",
              "      <td>Upsample</td>\n",
              "      <td>0.787879</td>\n",
              "      <td>0.846154</td>\n",
              "      <td>0.88</td>\n",
              "      <td>0.862745</td>\n",
              "    </tr>\n",
              "    <tr>\n",
              "      <th>12</th>\n",
              "      <td>MLP</td>\n",
              "      <td>Upsample</td>\n",
              "      <td>0.727273</td>\n",
              "      <td>0.833333</td>\n",
              "      <td>0.80</td>\n",
              "      <td>0.816327</td>\n",
              "    </tr>\n",
              "    <tr>\n",
              "      <th>13</th>\n",
              "      <td>Logistic</td>\n",
              "      <td>Upsample</td>\n",
              "      <td>0.727273</td>\n",
              "      <td>0.833333</td>\n",
              "      <td>0.80</td>\n",
              "      <td>0.816327</td>\n",
              "    </tr>\n",
              "    <tr>\n",
              "      <th>14</th>\n",
              "      <td>SVC</td>\n",
              "      <td>Upsample</td>\n",
              "      <td>0.666667</td>\n",
              "      <td>0.818182</td>\n",
              "      <td>0.72</td>\n",
              "      <td>0.765957</td>\n",
              "    </tr>\n",
              "    <tr>\n",
              "      <th>15</th>\n",
              "      <td>MLP</td>\n",
              "      <td>Smote</td>\n",
              "      <td>0.666667</td>\n",
              "      <td>0.791667</td>\n",
              "      <td>0.76</td>\n",
              "      <td>0.775510</td>\n",
              "    </tr>\n",
              "    <tr>\n",
              "      <th>16</th>\n",
              "      <td>RF</td>\n",
              "      <td>Smote</td>\n",
              "      <td>0.818182</td>\n",
              "      <td>0.851852</td>\n",
              "      <td>0.92</td>\n",
              "      <td>0.884615</td>\n",
              "    </tr>\n",
              "    <tr>\n",
              "      <th>17</th>\n",
              "      <td>Logistic</td>\n",
              "      <td>Smote</td>\n",
              "      <td>0.727273</td>\n",
              "      <td>0.833333</td>\n",
              "      <td>0.80</td>\n",
              "      <td>0.816327</td>\n",
              "    </tr>\n",
              "    <tr>\n",
              "      <th>18</th>\n",
              "      <td>SVC</td>\n",
              "      <td>Smote</td>\n",
              "      <td>0.696970</td>\n",
              "      <td>0.826087</td>\n",
              "      <td>0.76</td>\n",
              "      <td>0.791667</td>\n",
              "    </tr>\n",
              "    <tr>\n",
              "      <th>19</th>\n",
              "      <td>Bagging</td>\n",
              "      <td>Ensamble</td>\n",
              "      <td>0.636364</td>\n",
              "      <td>0.882353</td>\n",
              "      <td>0.60</td>\n",
              "      <td>0.714286</td>\n",
              "    </tr>\n",
              "  </tbody>\n",
              "</table>\n",
              "</div>"
            ],
            "text/plain": [
              "                Modelo  Observación  Accuracy  Precisión  Recall  f1-score\n",
              "0                   RF  Modelo_base  0.818182   0.851852    0.92  0.884615\n",
              "1                  MLP  Modelo_base  0.242424   0.000000    0.00  0.000000\n",
              "2                  MLP  Modelo_base  0.757576   0.757576    1.00  0.862069\n",
              "3                   GB  Modelo_base  0.757576   0.869565    0.80  0.833333\n",
              "4               XBOOST  Modelo_base  0.666667   0.818182    0.72  0.765957\n",
              "5              BAGGING  Modelo_base  0.787879   0.846154    0.88  0.862745\n",
              "6   ADABOOSTCLASSIFIER  Modelo_base  0.787879   0.875000    0.84  0.857143\n",
              "7                  SVC  Modelo_base  0.757576   0.757576    1.00  0.862069\n",
              "8             Logistic  Modelo_base  0.757576   0.840000    0.84  0.840000\n",
              "9                   rf     Upsample  0.787879   0.846154    0.88  0.862745\n",
              "10                  RF     Upsample  0.787879   0.846154    0.88  0.862745\n",
              "11                  RF     Upsample  0.787879   0.846154    0.88  0.862745\n",
              "12                 MLP     Upsample  0.727273   0.833333    0.80  0.816327\n",
              "13            Logistic     Upsample  0.727273   0.833333    0.80  0.816327\n",
              "14                 SVC     Upsample  0.666667   0.818182    0.72  0.765957\n",
              "15                 MLP        Smote  0.666667   0.791667    0.76  0.775510\n",
              "16                  RF        Smote  0.818182   0.851852    0.92  0.884615\n",
              "17            Logistic        Smote  0.727273   0.833333    0.80  0.816327\n",
              "18                 SVC        Smote  0.696970   0.826087    0.76  0.791667\n",
              "19             Bagging     Ensamble  0.636364   0.882353    0.60  0.714286"
            ]
          },
          "metadata": {
            "tags": []
          },
          "execution_count": 209
        }
      ]
    },
    {
      "cell_type": "code",
      "metadata": {
        "id": "rVLwUeU9_Lja",
        "colab_type": "code",
        "colab": {
          "base_uri": "https://localhost:8080/",
          "height": 514
        },
        "outputId": "fcbe291b-829e-41f7-fb3b-d36cff323782"
      },
      "source": [
        "matriz_confusion(y_test,pred_y)"
      ],
      "execution_count": 210,
      "outputs": [
        {
          "output_type": "display_data",
          "data": {
            "image/png": "[encoded data removed]",
            "text/plain": [
              "<Figure size 576x576 with 2 Axes>"
            ]
          },
          "metadata": {
            "tags": []
          }
        }
      ]
    },
    {
      "cell_type": "code",
      "metadata": {
        "id": "EcLqfbQ_2_4w",
        "colab_type": "code",
        "colab": {
          "base_uri": "https://localhost:8080/",
          "height": 669
        },
        "outputId": "bc1940c1-048a-41af-d1d6-940dd79e91d8"
      },
      "source": [
        "## BALANCED BAGGING CON DATOS UPSAMPLE\n",
        "bbc = BalancedBaggingClassifier(base_estimator = DecisionTreeClassifier(),\n",
        "                               sampling_strategy='auto',\n",
        "                               random_state=0)\n",
        "\n",
        "bbc.fit(X_train_over, y_train_over)\n",
        "pred_y = bbc.predict(X_test)\n",
        "insert_result('Bagging', 'Ensamble_UPSAMPLE', pred_y)\n",
        "result"
      ],
      "execution_count": 211,
      "outputs": [
        {
          "output_type": "execute_result",
          "data": {
            "text/html": [
              "<div>\n",
              "<style scoped>\n",
              "    .dataframe tbody tr th:only-of-type {\n",
              "        vertical-align: middle;\n",
              "    }\n",
              "\n",
              "    .dataframe tbody tr th {\n",
              "        vertical-align: top;\n",
              "    }\n",
              "\n",
              "    .dataframe thead th {\n",
              "        text-align: right;\n",
              "    }\n",
              "</style>\n",
              "<table border=\"1\" class=\"dataframe\">\n",
              "  <thead>\n",
              "    <tr style=\"text-align: right;\">\n",
              "      <th></th>\n",
              "      <th>Modelo</th>\n",
              "      <th>Observación</th>\n",
              "      <th>Accuracy</th>\n",
              "      <th>Precisión</th>\n",
              "      <th>Recall</th>\n",
              "      <th>f1-score</th>\n",
              "    </tr>\n",
              "  </thead>\n",
              "  <tbody>\n",
              "    <tr>\n",
              "      <th>0</th>\n",
              "      <td>RF</td>\n",
              "      <td>Modelo_base</td>\n",
              "      <td>0.818182</td>\n",
              "      <td>0.851852</td>\n",
              "      <td>0.92</td>\n",
              "      <td>0.884615</td>\n",
              "    </tr>\n",
              "    <tr>\n",
              "      <th>1</th>\n",
              "      <td>MLP</td>\n",
              "      <td>Modelo_base</td>\n",
              "      <td>0.242424</td>\n",
              "      <td>0.000000</td>\n",
              "      <td>0.00</td>\n",
              "      <td>0.000000</td>\n",
              "    </tr>\n",
              "    <tr>\n",
              "      <th>2</th>\n",
              "      <td>MLP</td>\n",
              "      <td>Modelo_base</td>\n",
              "      <td>0.757576</td>\n",
              "      <td>0.757576</td>\n",
              "      <td>1.00</td>\n",
              "      <td>0.862069</td>\n",
              "    </tr>\n",
              "    <tr>\n",
              "      <th>3</th>\n",
              "      <td>GB</td>\n",
              "      <td>Modelo_base</td>\n",
              "      <td>0.757576</td>\n",
              "      <td>0.869565</td>\n",
              "      <td>0.80</td>\n",
              "      <td>0.833333</td>\n",
              "    </tr>\n",
              "    <tr>\n",
              "      <th>4</th>\n",
              "      <td>XBOOST</td>\n",
              "      <td>Modelo_base</td>\n",
              "      <td>0.666667</td>\n",
              "      <td>0.818182</td>\n",
              "      <td>0.72</td>\n",
              "      <td>0.765957</td>\n",
              "    </tr>\n",
              "    <tr>\n",
              "      <th>5</th>\n",
              "      <td>BAGGING</td>\n",
              "      <td>Modelo_base</td>\n",
              "      <td>0.787879</td>\n",
              "      <td>0.846154</td>\n",
              "      <td>0.88</td>\n",
              "      <td>0.862745</td>\n",
              "    </tr>\n",
              "    <tr>\n",
              "      <th>6</th>\n",
              "      <td>ADABOOSTCLASSIFIER</td>\n",
              "      <td>Modelo_base</td>\n",
              "      <td>0.787879</td>\n",
              "      <td>0.875000</td>\n",
              "      <td>0.84</td>\n",
              "      <td>0.857143</td>\n",
              "    </tr>\n",
              "    <tr>\n",
              "      <th>7</th>\n",
              "      <td>SVC</td>\n",
              "      <td>Modelo_base</td>\n",
              "      <td>0.757576</td>\n",
              "      <td>0.757576</td>\n",
              "      <td>1.00</td>\n",
              "      <td>0.862069</td>\n",
              "    </tr>\n",
              "    <tr>\n",
              "      <th>8</th>\n",
              "      <td>Logistic</td>\n",
              "      <td>Modelo_base</td>\n",
              "      <td>0.757576</td>\n",
              "      <td>0.840000</td>\n",
              "      <td>0.84</td>\n",
              "      <td>0.840000</td>\n",
              "    </tr>\n",
              "    <tr>\n",
              "      <th>9</th>\n",
              "      <td>rf</td>\n",
              "      <td>Upsample</td>\n",
              "      <td>0.787879</td>\n",
              "      <td>0.846154</td>\n",
              "      <td>0.88</td>\n",
              "      <td>0.862745</td>\n",
              "    </tr>\n",
              "    <tr>\n",
              "      <th>10</th>\n",
              "      <td>RF</td>\n",
              "      <td>Upsample</td>\n",
              "      <td>0.787879</td>\n",
              "      <td>0.846154</td>\n",
              "      <td>0.88</td>\n",
              "      <td>0.862745</td>\n",
              "    </tr>\n",
              "    <tr>\n",
              "      <th>11</th>\n",
              "      <td>RF</td>\n",
              "      <td>Upsample</td>\n",
              "      <td>0.787879</td>\n",
              "      <td>0.846154</td>\n",
              "      <td>0.88</td>\n",
              "      <td>0.862745</td>\n",
              "    </tr>\n",
              "    <tr>\n",
              "      <th>12</th>\n",
              "      <td>MLP</td>\n",
              "      <td>Upsample</td>\n",
              "      <td>0.727273</td>\n",
              "      <td>0.833333</td>\n",
              "      <td>0.80</td>\n",
              "      <td>0.816327</td>\n",
              "    </tr>\n",
              "    <tr>\n",
              "      <th>13</th>\n",
              "      <td>Logistic</td>\n",
              "      <td>Upsample</td>\n",
              "      <td>0.727273</td>\n",
              "      <td>0.833333</td>\n",
              "      <td>0.80</td>\n",
              "      <td>0.816327</td>\n",
              "    </tr>\n",
              "    <tr>\n",
              "      <th>14</th>\n",
              "      <td>SVC</td>\n",
              "      <td>Upsample</td>\n",
              "      <td>0.666667</td>\n",
              "      <td>0.818182</td>\n",
              "      <td>0.72</td>\n",
              "      <td>0.765957</td>\n",
              "    </tr>\n",
              "    <tr>\n",
              "      <th>15</th>\n",
              "      <td>MLP</td>\n",
              "      <td>Smote</td>\n",
              "      <td>0.666667</td>\n",
              "      <td>0.791667</td>\n",
              "      <td>0.76</td>\n",
              "      <td>0.775510</td>\n",
              "    </tr>\n",
              "    <tr>\n",
              "      <th>16</th>\n",
              "      <td>RF</td>\n",
              "      <td>Smote</td>\n",
              "      <td>0.818182</td>\n",
              "      <td>0.851852</td>\n",
              "      <td>0.92</td>\n",
              "      <td>0.884615</td>\n",
              "    </tr>\n",
              "    <tr>\n",
              "      <th>17</th>\n",
              "      <td>Logistic</td>\n",
              "      <td>Smote</td>\n",
              "      <td>0.727273</td>\n",
              "      <td>0.833333</td>\n",
              "      <td>0.80</td>\n",
              "      <td>0.816327</td>\n",
              "    </tr>\n",
              "    <tr>\n",
              "      <th>18</th>\n",
              "      <td>SVC</td>\n",
              "      <td>Smote</td>\n",
              "      <td>0.696970</td>\n",
              "      <td>0.826087</td>\n",
              "      <td>0.76</td>\n",
              "      <td>0.791667</td>\n",
              "    </tr>\n",
              "    <tr>\n",
              "      <th>19</th>\n",
              "      <td>Bagging</td>\n",
              "      <td>Ensamble</td>\n",
              "      <td>0.636364</td>\n",
              "      <td>0.882353</td>\n",
              "      <td>0.60</td>\n",
              "      <td>0.714286</td>\n",
              "    </tr>\n",
              "    <tr>\n",
              "      <th>20</th>\n",
              "      <td>Bagging</td>\n",
              "      <td>Ensamble_UPSAMPLE</td>\n",
              "      <td>0.666667</td>\n",
              "      <td>0.850000</td>\n",
              "      <td>0.68</td>\n",
              "      <td>0.755556</td>\n",
              "    </tr>\n",
              "  </tbody>\n",
              "</table>\n",
              "</div>"
            ],
            "text/plain": [
              "                Modelo        Observación  ...  Recall  f1-score\n",
              "0                   RF        Modelo_base  ...    0.92  0.884615\n",
              "1                  MLP        Modelo_base  ...    0.00  0.000000\n",
              "2                  MLP        Modelo_base  ...    1.00  0.862069\n",
              "3                   GB        Modelo_base  ...    0.80  0.833333\n",
              "4               XBOOST        Modelo_base  ...    0.72  0.765957\n",
              "5              BAGGING        Modelo_base  ...    0.88  0.862745\n",
              "6   ADABOOSTCLASSIFIER        Modelo_base  ...    0.84  0.857143\n",
              "7                  SVC        Modelo_base  ...    1.00  0.862069\n",
              "8             Logistic        Modelo_base  ...    0.84  0.840000\n",
              "9                   rf           Upsample  ...    0.88  0.862745\n",
              "10                  RF           Upsample  ...    0.88  0.862745\n",
              "11                  RF           Upsample  ...    0.88  0.862745\n",
              "12                 MLP           Upsample  ...    0.80  0.816327\n",
              "13            Logistic           Upsample  ...    0.80  0.816327\n",
              "14                 SVC           Upsample  ...    0.72  0.765957\n",
              "15                 MLP              Smote  ...    0.76  0.775510\n",
              "16                  RF              Smote  ...    0.92  0.884615\n",
              "17            Logistic              Smote  ...    0.80  0.816327\n",
              "18                 SVC              Smote  ...    0.76  0.791667\n",
              "19             Bagging           Ensamble  ...    0.60  0.714286\n",
              "20             Bagging  Ensamble_UPSAMPLE  ...    0.68  0.755556\n",
              "\n",
              "[21 rows x 6 columns]"
            ]
          },
          "metadata": {
            "tags": []
          },
          "execution_count": 211
        }
      ]
    },
    {
      "cell_type": "code",
      "metadata": {
        "id": "PcF2RXAI2_1e",
        "colab_type": "code",
        "colab": {
          "base_uri": "https://localhost:8080/",
          "height": 514
        },
        "outputId": "16592fa6-35fa-408b-cb83-e9e441b03477"
      },
      "source": [
        "matriz_confusion(y_test,pred_y)"
      ],
      "execution_count": 212,
      "outputs": [
        {
          "output_type": "display_data",
          "data": {
            "image/png": "[encoded data removed]",
            "text/plain": [
              "<Figure size 576x576 with 2 Axes>"
            ]
          },
          "metadata": {
            "tags": []
          }
        }
      ]
    },
    {
      "cell_type": "code",
      "metadata": {
        "id": "rsdbKdjb2_zG",
        "colab_type": "code",
        "colab": {
          "base_uri": "https://localhost:8080/",
          "height": 698
        },
        "outputId": "e12a660c-c329-4153-c1b8-cd657f3028db"
      },
      "source": [
        "## BALANCED BAGGING CON DATOS SMOTE\n",
        "bbc = BalancedBaggingClassifier(base_estimator = DecisionTreeClassifier(),\n",
        "                               sampling_strategy='auto',\n",
        "                               random_state=0)\n",
        "\n",
        "bbc.fit(X_train_smote, y_train_smote)\n",
        "pred_y = bbc.predict(X_test)\n",
        "insert_result('Bagging', 'Ensamble_SMOTE', pred_y)\n",
        "result"
      ],
      "execution_count": 213,
      "outputs": [
        {
          "output_type": "execute_result",
          "data": {
            "text/html": [
              "<div>\n",
              "<style scoped>\n",
              "    .dataframe tbody tr th:only-of-type {\n",
              "        vertical-align: middle;\n",
              "    }\n",
              "\n",
              "    .dataframe tbody tr th {\n",
              "        vertical-align: top;\n",
              "    }\n",
              "\n",
              "    .dataframe thead th {\n",
              "        text-align: right;\n",
              "    }\n",
              "</style>\n",
              "<table border=\"1\" class=\"dataframe\">\n",
              "  <thead>\n",
              "    <tr style=\"text-align: right;\">\n",
              "      <th></th>\n",
              "      <th>Modelo</th>\n",
              "      <th>Observación</th>\n",
              "      <th>Accuracy</th>\n",
              "      <th>Precisión</th>\n",
              "      <th>Recall</th>\n",
              "      <th>f1-score</th>\n",
              "    </tr>\n",
              "  </thead>\n",
              "  <tbody>\n",
              "    <tr>\n",
              "      <th>0</th>\n",
              "      <td>RF</td>\n",
              "      <td>Modelo_base</td>\n",
              "      <td>0.818182</td>\n",
              "      <td>0.851852</td>\n",
              "      <td>0.92</td>\n",
              "      <td>0.884615</td>\n",
              "    </tr>\n",
              "    <tr>\n",
              "      <th>1</th>\n",
              "      <td>MLP</td>\n",
              "      <td>Modelo_base</td>\n",
              "      <td>0.242424</td>\n",
              "      <td>0.000000</td>\n",
              "      <td>0.00</td>\n",
              "      <td>0.000000</td>\n",
              "    </tr>\n",
              "    <tr>\n",
              "      <th>2</th>\n",
              "      <td>MLP</td>\n",
              "      <td>Modelo_base</td>\n",
              "      <td>0.757576</td>\n",
              "      <td>0.757576</td>\n",
              "      <td>1.00</td>\n",
              "      <td>0.862069</td>\n",
              "    </tr>\n",
              "    <tr>\n",
              "      <th>3</th>\n",
              "      <td>GB</td>\n",
              "      <td>Modelo_base</td>\n",
              "      <td>0.757576</td>\n",
              "      <td>0.869565</td>\n",
              "      <td>0.80</td>\n",
              "      <td>0.833333</td>\n",
              "    </tr>\n",
              "    <tr>\n",
              "      <th>4</th>\n",
              "      <td>XBOOST</td>\n",
              "      <td>Modelo_base</td>\n",
              "      <td>0.666667</td>\n",
              "      <td>0.818182</td>\n",
              "      <td>0.72</td>\n",
              "      <td>0.765957</td>\n",
              "    </tr>\n",
              "    <tr>\n",
              "      <th>5</th>\n",
              "      <td>BAGGING</td>\n",
              "      <td>Modelo_base</td>\n",
              "      <td>0.787879</td>\n",
              "      <td>0.846154</td>\n",
              "      <td>0.88</td>\n",
              "      <td>0.862745</td>\n",
              "    </tr>\n",
              "    <tr>\n",
              "      <th>6</th>\n",
              "      <td>ADABOOSTCLASSIFIER</td>\n",
              "      <td>Modelo_base</td>\n",
              "      <td>0.787879</td>\n",
              "      <td>0.875000</td>\n",
              "      <td>0.84</td>\n",
              "      <td>0.857143</td>\n",
              "    </tr>\n",
              "    <tr>\n",
              "      <th>7</th>\n",
              "      <td>SVC</td>\n",
              "      <td>Modelo_base</td>\n",
              "      <td>0.757576</td>\n",
              "      <td>0.757576</td>\n",
              "      <td>1.00</td>\n",
              "      <td>0.862069</td>\n",
              "    </tr>\n",
              "    <tr>\n",
              "      <th>8</th>\n",
              "      <td>Logistic</td>\n",
              "      <td>Modelo_base</td>\n",
              "      <td>0.757576</td>\n",
              "      <td>0.840000</td>\n",
              "      <td>0.84</td>\n",
              "      <td>0.840000</td>\n",
              "    </tr>\n",
              "    <tr>\n",
              "      <th>9</th>\n",
              "      <td>rf</td>\n",
              "      <td>Upsample</td>\n",
              "      <td>0.787879</td>\n",
              "      <td>0.846154</td>\n",
              "      <td>0.88</td>\n",
              "      <td>0.862745</td>\n",
              "    </tr>\n",
              "    <tr>\n",
              "      <th>10</th>\n",
              "      <td>RF</td>\n",
              "      <td>Upsample</td>\n",
              "      <td>0.787879</td>\n",
              "      <td>0.846154</td>\n",
              "      <td>0.88</td>\n",
              "      <td>0.862745</td>\n",
              "    </tr>\n",
              "    <tr>\n",
              "      <th>11</th>\n",
              "      <td>RF</td>\n",
              "      <td>Upsample</td>\n",
              "      <td>0.787879</td>\n",
              "      <td>0.846154</td>\n",
              "      <td>0.88</td>\n",
              "      <td>0.862745</td>\n",
              "    </tr>\n",
              "    <tr>\n",
              "      <th>12</th>\n",
              "      <td>MLP</td>\n",
              "      <td>Upsample</td>\n",
              "      <td>0.727273</td>\n",
              "      <td>0.833333</td>\n",
              "      <td>0.80</td>\n",
              "      <td>0.816327</td>\n",
              "    </tr>\n",
              "    <tr>\n",
              "      <th>13</th>\n",
              "      <td>Logistic</td>\n",
              "      <td>Upsample</td>\n",
              "      <td>0.727273</td>\n",
              "      <td>0.833333</td>\n",
              "      <td>0.80</td>\n",
              "      <td>0.816327</td>\n",
              "    </tr>\n",
              "    <tr>\n",
              "      <th>14</th>\n",
              "      <td>SVC</td>\n",
              "      <td>Upsample</td>\n",
              "      <td>0.666667</td>\n",
              "      <td>0.818182</td>\n",
              "      <td>0.72</td>\n",
              "      <td>0.765957</td>\n",
              "    </tr>\n",
              "    <tr>\n",
              "      <th>15</th>\n",
              "      <td>MLP</td>\n",
              "      <td>Smote</td>\n",
              "      <td>0.666667</td>\n",
              "      <td>0.791667</td>\n",
              "      <td>0.76</td>\n",
              "      <td>0.775510</td>\n",
              "    </tr>\n",
              "    <tr>\n",
              "      <th>16</th>\n",
              "      <td>RF</td>\n",
              "      <td>Smote</td>\n",
              "      <td>0.818182</td>\n",
              "      <td>0.851852</td>\n",
              "      <td>0.92</td>\n",
              "      <td>0.884615</td>\n",
              "    </tr>\n",
              "    <tr>\n",
              "      <th>17</th>\n",
              "      <td>Logistic</td>\n",
              "      <td>Smote</td>\n",
              "      <td>0.727273</td>\n",
              "      <td>0.833333</td>\n",
              "      <td>0.80</td>\n",
              "      <td>0.816327</td>\n",
              "    </tr>\n",
              "    <tr>\n",
              "      <th>18</th>\n",
              "      <td>SVC</td>\n",
              "      <td>Smote</td>\n",
              "      <td>0.696970</td>\n",
              "      <td>0.826087</td>\n",
              "      <td>0.76</td>\n",
              "      <td>0.791667</td>\n",
              "    </tr>\n",
              "    <tr>\n",
              "      <th>19</th>\n",
              "      <td>Bagging</td>\n",
              "      <td>Ensamble</td>\n",
              "      <td>0.636364</td>\n",
              "      <td>0.882353</td>\n",
              "      <td>0.60</td>\n",
              "      <td>0.714286</td>\n",
              "    </tr>\n",
              "    <tr>\n",
              "      <th>20</th>\n",
              "      <td>Bagging</td>\n",
              "      <td>Ensamble_UPSAMPLE</td>\n",
              "      <td>0.666667</td>\n",
              "      <td>0.850000</td>\n",
              "      <td>0.68</td>\n",
              "      <td>0.755556</td>\n",
              "    </tr>\n",
              "    <tr>\n",
              "      <th>21</th>\n",
              "      <td>Bagging</td>\n",
              "      <td>Ensamble_SMOTE</td>\n",
              "      <td>0.727273</td>\n",
              "      <td>0.900000</td>\n",
              "      <td>0.72</td>\n",
              "      <td>0.800000</td>\n",
              "    </tr>\n",
              "  </tbody>\n",
              "</table>\n",
              "</div>"
            ],
            "text/plain": [
              "                Modelo        Observación  ...  Recall  f1-score\n",
              "0                   RF        Modelo_base  ...    0.92  0.884615\n",
              "1                  MLP        Modelo_base  ...    0.00  0.000000\n",
              "2                  MLP        Modelo_base  ...    1.00  0.862069\n",
              "3                   GB        Modelo_base  ...    0.80  0.833333\n",
              "4               XBOOST        Modelo_base  ...    0.72  0.765957\n",
              "5              BAGGING        Modelo_base  ...    0.88  0.862745\n",
              "6   ADABOOSTCLASSIFIER        Modelo_base  ...    0.84  0.857143\n",
              "7                  SVC        Modelo_base  ...    1.00  0.862069\n",
              "8             Logistic        Modelo_base  ...    0.84  0.840000\n",
              "9                   rf           Upsample  ...    0.88  0.862745\n",
              "10                  RF           Upsample  ...    0.88  0.862745\n",
              "11                  RF           Upsample  ...    0.88  0.862745\n",
              "12                 MLP           Upsample  ...    0.80  0.816327\n",
              "13            Logistic           Upsample  ...    0.80  0.816327\n",
              "14                 SVC           Upsample  ...    0.72  0.765957\n",
              "15                 MLP              Smote  ...    0.76  0.775510\n",
              "16                  RF              Smote  ...    0.92  0.884615\n",
              "17            Logistic              Smote  ...    0.80  0.816327\n",
              "18                 SVC              Smote  ...    0.76  0.791667\n",
              "19             Bagging           Ensamble  ...    0.60  0.714286\n",
              "20             Bagging  Ensamble_UPSAMPLE  ...    0.68  0.755556\n",
              "21             Bagging     Ensamble_SMOTE  ...    0.72  0.800000\n",
              "\n",
              "[22 rows x 6 columns]"
            ]
          },
          "metadata": {
            "tags": []
          },
          "execution_count": 213
        }
      ]
    },
    {
      "cell_type": "code",
      "metadata": {
        "id": "Aj4P46Po2_ve",
        "colab_type": "code",
        "colab": {
          "base_uri": "https://localhost:8080/",
          "height": 514
        },
        "outputId": "09626bcd-2a0b-4892-d0cd-086ddea98b14"
      },
      "source": [
        "matriz_confusion(y_test,pred_y)"
      ],
      "execution_count": 214,
      "outputs": [
        {
          "output_type": "display_data",
          "data": {
            "image/png": "[encoded data removed]",
            "text/plain": [
              "<Figure size 576x576 with 2 Axes>"
            ]
          },
          "metadata": {
            "tags": []
          }
        }
      ]
    },
    {
      "cell_type": "code",
      "metadata": {
        "id": "S9JWIHBn3MhO",
        "colab_type": "code",
        "colab": {
          "base_uri": "https://localhost:8080/",
          "height": 758
        },
        "outputId": "77645054-44b8-47fd-aefc-f12b40bf1171"
      },
      "source": [
        "## BALANCED BAGGING CON DATOS SMOTE OPTIMIZADO\n",
        "sampling=['auto','majority','not minority']\n",
        "n=[10,50,70,80,100]\n",
        "base= [DecisionTreeClassifier()]\n",
        "\n",
        "\n",
        "param_grid = {'sampling_strategy': sampling,\n",
        "                  'n_estimators':n,\n",
        "                  'base_estimator':base}\n",
        "\n",
        "\n",
        "\n",
        "bbc1= GridSearchCV(BalancedBaggingClassifier(),param_grid=param_grid, n_jobs=-1)\n",
        "\n",
        "\n",
        "bbc1.fit(X_train_smote, y_train_smote)\n",
        "pred_y = bbc1.predict(X_test)\n",
        "insert_result('Bagging', 'Ensamble_SMOTE_OPTIM', pred_y)\n",
        "result"
      ],
      "execution_count": 219,
      "outputs": [
        {
          "output_type": "execute_result",
          "data": {
            "text/html": [
              "<div>\n",
              "<style scoped>\n",
              "    .dataframe tbody tr th:only-of-type {\n",
              "        vertical-align: middle;\n",
              "    }\n",
              "\n",
              "    .dataframe tbody tr th {\n",
              "        vertical-align: top;\n",
              "    }\n",
              "\n",
              "    .dataframe thead th {\n",
              "        text-align: right;\n",
              "    }\n",
              "</style>\n",
              "<table border=\"1\" class=\"dataframe\">\n",
              "  <thead>\n",
              "    <tr style=\"text-align: right;\">\n",
              "      <th></th>\n",
              "      <th>Modelo</th>\n",
              "      <th>Observación</th>\n",
              "      <th>Accuracy</th>\n",
              "      <th>Precisión</th>\n",
              "      <th>Recall</th>\n",
              "      <th>f1-score</th>\n",
              "    </tr>\n",
              "  </thead>\n",
              "  <tbody>\n",
              "    <tr>\n",
              "      <th>0</th>\n",
              "      <td>RF</td>\n",
              "      <td>Modelo_base</td>\n",
              "      <td>0.818182</td>\n",
              "      <td>0.851852</td>\n",
              "      <td>0.92</td>\n",
              "      <td>0.884615</td>\n",
              "    </tr>\n",
              "    <tr>\n",
              "      <th>1</th>\n",
              "      <td>MLP</td>\n",
              "      <td>Modelo_base</td>\n",
              "      <td>0.242424</td>\n",
              "      <td>0.000000</td>\n",
              "      <td>0.00</td>\n",
              "      <td>0.000000</td>\n",
              "    </tr>\n",
              "    <tr>\n",
              "      <th>2</th>\n",
              "      <td>MLP</td>\n",
              "      <td>Modelo_base</td>\n",
              "      <td>0.757576</td>\n",
              "      <td>0.757576</td>\n",
              "      <td>1.00</td>\n",
              "      <td>0.862069</td>\n",
              "    </tr>\n",
              "    <tr>\n",
              "      <th>3</th>\n",
              "      <td>GB</td>\n",
              "      <td>Modelo_base</td>\n",
              "      <td>0.757576</td>\n",
              "      <td>0.869565</td>\n",
              "      <td>0.80</td>\n",
              "      <td>0.833333</td>\n",
              "    </tr>\n",
              "    <tr>\n",
              "      <th>4</th>\n",
              "      <td>XBOOST</td>\n",
              "      <td>Modelo_base</td>\n",
              "      <td>0.666667</td>\n",
              "      <td>0.818182</td>\n",
              "      <td>0.72</td>\n",
              "      <td>0.765957</td>\n",
              "    </tr>\n",
              "    <tr>\n",
              "      <th>5</th>\n",
              "      <td>BAGGING</td>\n",
              "      <td>Modelo_base</td>\n",
              "      <td>0.787879</td>\n",
              "      <td>0.846154</td>\n",
              "      <td>0.88</td>\n",
              "      <td>0.862745</td>\n",
              "    </tr>\n",
              "    <tr>\n",
              "      <th>6</th>\n",
              "      <td>ADABOOSTCLASSIFIER</td>\n",
              "      <td>Modelo_base</td>\n",
              "      <td>0.787879</td>\n",
              "      <td>0.875000</td>\n",
              "      <td>0.84</td>\n",
              "      <td>0.857143</td>\n",
              "    </tr>\n",
              "    <tr>\n",
              "      <th>7</th>\n",
              "      <td>SVC</td>\n",
              "      <td>Modelo_base</td>\n",
              "      <td>0.757576</td>\n",
              "      <td>0.757576</td>\n",
              "      <td>1.00</td>\n",
              "      <td>0.862069</td>\n",
              "    </tr>\n",
              "    <tr>\n",
              "      <th>8</th>\n",
              "      <td>Logistic</td>\n",
              "      <td>Modelo_base</td>\n",
              "      <td>0.757576</td>\n",
              "      <td>0.840000</td>\n",
              "      <td>0.84</td>\n",
              "      <td>0.840000</td>\n",
              "    </tr>\n",
              "    <tr>\n",
              "      <th>9</th>\n",
              "      <td>rf</td>\n",
              "      <td>Upsample</td>\n",
              "      <td>0.787879</td>\n",
              "      <td>0.846154</td>\n",
              "      <td>0.88</td>\n",
              "      <td>0.862745</td>\n",
              "    </tr>\n",
              "    <tr>\n",
              "      <th>10</th>\n",
              "      <td>RF</td>\n",
              "      <td>Upsample</td>\n",
              "      <td>0.787879</td>\n",
              "      <td>0.846154</td>\n",
              "      <td>0.88</td>\n",
              "      <td>0.862745</td>\n",
              "    </tr>\n",
              "    <tr>\n",
              "      <th>11</th>\n",
              "      <td>RF</td>\n",
              "      <td>Upsample</td>\n",
              "      <td>0.787879</td>\n",
              "      <td>0.846154</td>\n",
              "      <td>0.88</td>\n",
              "      <td>0.862745</td>\n",
              "    </tr>\n",
              "    <tr>\n",
              "      <th>12</th>\n",
              "      <td>MLP</td>\n",
              "      <td>Upsample</td>\n",
              "      <td>0.727273</td>\n",
              "      <td>0.833333</td>\n",
              "      <td>0.80</td>\n",
              "      <td>0.816327</td>\n",
              "    </tr>\n",
              "    <tr>\n",
              "      <th>13</th>\n",
              "      <td>Logistic</td>\n",
              "      <td>Upsample</td>\n",
              "      <td>0.727273</td>\n",
              "      <td>0.833333</td>\n",
              "      <td>0.80</td>\n",
              "      <td>0.816327</td>\n",
              "    </tr>\n",
              "    <tr>\n",
              "      <th>14</th>\n",
              "      <td>SVC</td>\n",
              "      <td>Upsample</td>\n",
              "      <td>0.666667</td>\n",
              "      <td>0.818182</td>\n",
              "      <td>0.72</td>\n",
              "      <td>0.765957</td>\n",
              "    </tr>\n",
              "    <tr>\n",
              "      <th>15</th>\n",
              "      <td>MLP</td>\n",
              "      <td>Smote</td>\n",
              "      <td>0.666667</td>\n",
              "      <td>0.791667</td>\n",
              "      <td>0.76</td>\n",
              "      <td>0.775510</td>\n",
              "    </tr>\n",
              "    <tr>\n",
              "      <th>16</th>\n",
              "      <td>RF</td>\n",
              "      <td>Smote</td>\n",
              "      <td>0.818182</td>\n",
              "      <td>0.851852</td>\n",
              "      <td>0.92</td>\n",
              "      <td>0.884615</td>\n",
              "    </tr>\n",
              "    <tr>\n",
              "      <th>17</th>\n",
              "      <td>Logistic</td>\n",
              "      <td>Smote</td>\n",
              "      <td>0.727273</td>\n",
              "      <td>0.833333</td>\n",
              "      <td>0.80</td>\n",
              "      <td>0.816327</td>\n",
              "    </tr>\n",
              "    <tr>\n",
              "      <th>18</th>\n",
              "      <td>SVC</td>\n",
              "      <td>Smote</td>\n",
              "      <td>0.696970</td>\n",
              "      <td>0.826087</td>\n",
              "      <td>0.76</td>\n",
              "      <td>0.791667</td>\n",
              "    </tr>\n",
              "    <tr>\n",
              "      <th>19</th>\n",
              "      <td>Bagging</td>\n",
              "      <td>Ensamble</td>\n",
              "      <td>0.636364</td>\n",
              "      <td>0.882353</td>\n",
              "      <td>0.60</td>\n",
              "      <td>0.714286</td>\n",
              "    </tr>\n",
              "    <tr>\n",
              "      <th>20</th>\n",
              "      <td>Bagging</td>\n",
              "      <td>Ensamble_UPSAMPLE</td>\n",
              "      <td>0.666667</td>\n",
              "      <td>0.850000</td>\n",
              "      <td>0.68</td>\n",
              "      <td>0.755556</td>\n",
              "    </tr>\n",
              "    <tr>\n",
              "      <th>21</th>\n",
              "      <td>Bagging</td>\n",
              "      <td>Ensamble_SMOTE</td>\n",
              "      <td>0.727273</td>\n",
              "      <td>0.900000</td>\n",
              "      <td>0.72</td>\n",
              "      <td>0.800000</td>\n",
              "    </tr>\n",
              "    <tr>\n",
              "      <th>22</th>\n",
              "      <td>Bagging</td>\n",
              "      <td>Ensamble_SMOTE_OPTIM</td>\n",
              "      <td>0.727273</td>\n",
              "      <td>0.900000</td>\n",
              "      <td>0.72</td>\n",
              "      <td>0.800000</td>\n",
              "    </tr>\n",
              "    <tr>\n",
              "      <th>23</th>\n",
              "      <td>Bagging</td>\n",
              "      <td>Ensamble_SMOTE_OPTIM</td>\n",
              "      <td>0.757576</td>\n",
              "      <td>0.869565</td>\n",
              "      <td>0.80</td>\n",
              "      <td>0.833333</td>\n",
              "    </tr>\n",
              "  </tbody>\n",
              "</table>\n",
              "</div>"
            ],
            "text/plain": [
              "                Modelo           Observación  ...  Recall  f1-score\n",
              "0                   RF           Modelo_base  ...    0.92  0.884615\n",
              "1                  MLP           Modelo_base  ...    0.00  0.000000\n",
              "2                  MLP           Modelo_base  ...    1.00  0.862069\n",
              "3                   GB           Modelo_base  ...    0.80  0.833333\n",
              "4               XBOOST           Modelo_base  ...    0.72  0.765957\n",
              "5              BAGGING           Modelo_base  ...    0.88  0.862745\n",
              "6   ADABOOSTCLASSIFIER           Modelo_base  ...    0.84  0.857143\n",
              "7                  SVC           Modelo_base  ...    1.00  0.862069\n",
              "8             Logistic           Modelo_base  ...    0.84  0.840000\n",
              "9                   rf              Upsample  ...    0.88  0.862745\n",
              "10                  RF              Upsample  ...    0.88  0.862745\n",
              "11                  RF              Upsample  ...    0.88  0.862745\n",
              "12                 MLP              Upsample  ...    0.80  0.816327\n",
              "13            Logistic              Upsample  ...    0.80  0.816327\n",
              "14                 SVC              Upsample  ...    0.72  0.765957\n",
              "15                 MLP                 Smote  ...    0.76  0.775510\n",
              "16                  RF                 Smote  ...    0.92  0.884615\n",
              "17            Logistic                 Smote  ...    0.80  0.816327\n",
              "18                 SVC                 Smote  ...    0.76  0.791667\n",
              "19             Bagging              Ensamble  ...    0.60  0.714286\n",
              "20             Bagging     Ensamble_UPSAMPLE  ...    0.68  0.755556\n",
              "21             Bagging        Ensamble_SMOTE  ...    0.72  0.800000\n",
              "22             Bagging  Ensamble_SMOTE_OPTIM  ...    0.72  0.800000\n",
              "23             Bagging  Ensamble_SMOTE_OPTIM  ...    0.80  0.833333\n",
              "\n",
              "[24 rows x 6 columns]"
            ]
          },
          "metadata": {
            "tags": []
          },
          "execution_count": 219
        }
      ]
    },
    {
      "cell_type": "code",
      "metadata": {
        "id": "Sy1nciG37X7l",
        "colab_type": "code",
        "colab": {
          "base_uri": "https://localhost:8080/",
          "height": 514
        },
        "outputId": "ad1f502e-5849-46f5-fb34-1dd12f5097eb"
      },
      "source": [
        "matriz_confusion(y_test,pred_y)"
      ],
      "execution_count": 220,
      "outputs": [
        {
          "output_type": "display_data",
          "data": {
            "image/png": "[encoded data removed]",
            "text/plain": [
              "<Figure size 576x576 with 2 Axes>"
            ]
          },
          "metadata": {
            "tags": []
          }
        }
      ]
    },
    {
      "cell_type": "code",
      "metadata": {
        "id": "5zUDfhZK3McC",
        "colab_type": "code",
        "colab": {}
      },
      "source": [
        ""
      ],
      "execution_count": 0,
      "outputs": []
    },
    {
      "cell_type": "code",
      "metadata": {
        "id": "7iYDaXRz9jmc",
        "colab_type": "code",
        "colab": {}
      },
      "source": [
        ""
      ],
      "execution_count": 0,
      "outputs": []
    },
    {
      "cell_type": "code",
      "metadata": {
        "id": "z1NhDo3M9jjW",
        "colab_type": "code",
        "colab": {}
      },
      "source": [
        ""
      ],
      "execution_count": 0,
      "outputs": []
    },
    {
      "cell_type": "code",
      "metadata": {
        "id": "rPiHHqj19jfx",
        "colab_type": "code",
        "colab": {}
      },
      "source": [
        ""
      ],
      "execution_count": 0,
      "outputs": []
    },
    {
      "cell_type": "markdown",
      "metadata": {
        "id": "E2s_CLsg_PEm",
        "colab_type": "text"
      },
      "source": [
        "#Estrategia --> Puntos de corte."
      ]
    },
    {
      "cell_type": "code",
      "metadata": {
        "id": "8YpviGTc_LiU",
        "colab_type": "code",
        "colab": {}
      },
      "source": [
        "# Usaremos el modelo de Random Forests que utilizamos como base\n",
        "df2 = pd.DataFrame({'0':bbc1.predict_proba(X_test)[:,0],\n",
        "                   '1':bbc1.predict_proba(X_test)[:,1],\n",
        "                  'pred':bbc1.predict(X_test),\n",
        "                  'y_test':y_test})"
      ],
      "execution_count": 0,
      "outputs": []
    },
    {
      "cell_type": "code",
      "metadata": {
        "id": "ZzGVO7Y-_T4i",
        "colab_type": "code",
        "colab": {}
      },
      "source": [
        "df2['alternativo']= df2['1'].apply(lambda x: 0 if x<0.30 else 1)"
      ],
      "execution_count": 0,
      "outputs": []
    },
    {
      "cell_type": "code",
      "metadata": {
        "id": "5FSXxDaW_T3W",
        "colab_type": "code",
        "colab": {
          "base_uri": "https://localhost:8080/",
          "height": 50
        },
        "outputId": "06062f8f-b125-4089-d931-c65b8589c884"
      },
      "source": [
        "# Observando el recall\n",
        "print('Recall con la predicción normal: ', recall_score(df2.y_test, df2.pred))\n",
        "print('Recall con la predicción alternativa: ', recall_score(df2.y_test, df2.alternativo, \n",
        "                                           pos_label='positive',\n",
        "                                           average='weighted'))"
      ],
      "execution_count": 223,
      "outputs": [
        {
          "output_type": "stream",
          "text": [
            "Recall con la predicción normal:  0.8\n",
            "Recall con la predicción alternativa:  0.2727272727272727\n"
          ],
          "name": "stdout"
        }
      ]
    },
    {
      "cell_type": "code",
      "metadata": {
        "id": "vfpvAK5D_Txa",
        "colab_type": "code",
        "colab": {
          "base_uri": "https://localhost:8080/",
          "height": 343
        },
        "outputId": "5b3052b4-8a0e-46f7-c605-bc1a54c7b8ec"
      },
      "source": [
        "# optimizar una este parametro \n",
        "cortes =[]\n",
        "scores = []\n",
        "\n",
        "for corte in np.arange(0, 1, 0.1):\n",
        "  alternativo = df2['1'].apply(lambda x: 0 if x<corte else 1)\n",
        "  score = recall_score(df2.y_test, alternativo, \n",
        "                                           pos_label='positive',\n",
        "                                           average='weighted')\n",
        "  \n",
        "  cortes.append(corte)\n",
        "  scores.append(score)\n",
        "  \n",
        "puntos_de_cortes = pd.DataFrame({'Cortes':cortes,\n",
        "                                'Score':scores})\n",
        "\n",
        "puntos_de_cortes.sort_values(by='Score',inplace=True,ascending=False)\n",
        "puntos_de_cortes"
      ],
      "execution_count": 224,
      "outputs": [
        {
          "output_type": "execute_result",
          "data": {
            "text/html": [
              "<div>\n",
              "<style scoped>\n",
              "    .dataframe tbody tr th:only-of-type {\n",
              "        vertical-align: middle;\n",
              "    }\n",
              "\n",
              "    .dataframe tbody tr th {\n",
              "        vertical-align: top;\n",
              "    }\n",
              "\n",
              "    .dataframe thead th {\n",
              "        text-align: right;\n",
              "    }\n",
              "</style>\n",
              "<table border=\"1\" class=\"dataframe\">\n",
              "  <thead>\n",
              "    <tr style=\"text-align: right;\">\n",
              "      <th></th>\n",
              "      <th>Cortes</th>\n",
              "      <th>Score</th>\n",
              "    </tr>\n",
              "  </thead>\n",
              "  <tbody>\n",
              "    <tr>\n",
              "      <th>0</th>\n",
              "      <td>0.0</td>\n",
              "      <td>0.757576</td>\n",
              "    </tr>\n",
              "    <tr>\n",
              "      <th>1</th>\n",
              "      <td>0.1</td>\n",
              "      <td>0.515152</td>\n",
              "    </tr>\n",
              "    <tr>\n",
              "      <th>2</th>\n",
              "      <td>0.2</td>\n",
              "      <td>0.303030</td>\n",
              "    </tr>\n",
              "    <tr>\n",
              "      <th>3</th>\n",
              "      <td>0.3</td>\n",
              "      <td>0.272727</td>\n",
              "    </tr>\n",
              "    <tr>\n",
              "      <th>4</th>\n",
              "      <td>0.4</td>\n",
              "      <td>0.212121</td>\n",
              "    </tr>\n",
              "    <tr>\n",
              "      <th>5</th>\n",
              "      <td>0.5</td>\n",
              "      <td>0.181818</td>\n",
              "    </tr>\n",
              "    <tr>\n",
              "      <th>6</th>\n",
              "      <td>0.6</td>\n",
              "      <td>0.151515</td>\n",
              "    </tr>\n",
              "    <tr>\n",
              "      <th>7</th>\n",
              "      <td>0.7</td>\n",
              "      <td>0.151515</td>\n",
              "    </tr>\n",
              "    <tr>\n",
              "      <th>8</th>\n",
              "      <td>0.8</td>\n",
              "      <td>0.090909</td>\n",
              "    </tr>\n",
              "    <tr>\n",
              "      <th>9</th>\n",
              "      <td>0.9</td>\n",
              "      <td>0.060606</td>\n",
              "    </tr>\n",
              "  </tbody>\n",
              "</table>\n",
              "</div>"
            ],
            "text/plain": [
              "   Cortes     Score\n",
              "0     0.0  0.757576\n",
              "1     0.1  0.515152\n",
              "2     0.2  0.303030\n",
              "3     0.3  0.272727\n",
              "4     0.4  0.212121\n",
              "5     0.5  0.181818\n",
              "6     0.6  0.151515\n",
              "7     0.7  0.151515\n",
              "8     0.8  0.090909\n",
              "9     0.9  0.060606"
            ]
          },
          "metadata": {
            "tags": []
          },
          "execution_count": 224
        }
      ]
    },
    {
      "cell_type": "code",
      "metadata": {
        "id": "Zs5bZxV5_LZc",
        "colab_type": "code",
        "colab": {}
      },
      "source": [
        "df2['alternativo']= df2['1'].apply(lambda x: 0 if x<0.10 else 1)"
      ],
      "execution_count": 0,
      "outputs": []
    },
    {
      "cell_type": "code",
      "metadata": {
        "id": "fSx9ddtE_f1g",
        "colab_type": "code",
        "colab": {
          "base_uri": "https://localhost:8080/",
          "height": 50
        },
        "outputId": "42f90103-6659-4e7a-da19-7e6975d36531"
      },
      "source": [
        "# Observando el recall\n",
        "print('Recall con la predicción normal: ', recall_score(df2.y_test, df2.pred, \n",
        "                                           pos_label='positive',\n",
        "                                           average='weighted'))\n",
        "print('Recall con la predicción alternativa: ', recall_score(df2.y_test, df2.alternativo, \n",
        "                                           pos_label='positive',\n",
        "                                           average='weighted'))"
      ],
      "execution_count": 226,
      "outputs": [
        {
          "output_type": "stream",
          "text": [
            "Recall con la predicción normal:  0.7575757575757576\n",
            "Recall con la predicción alternativa:  0.5151515151515151\n"
          ],
          "name": "stdout"
        }
      ]
    },
    {
      "cell_type": "code",
      "metadata": {
        "id": "mrxOR5GH_fwv",
        "colab_type": "code",
        "colab": {
          "base_uri": "https://localhost:8080/",
          "height": 530
        },
        "outputId": "ce99d45c-b143-4b85-b567-d851e17323e1"
      },
      "source": [
        "# Veamos la matriz de confusión:\n",
        "print('Modelo base: ')\n",
        "matriz_confusion(df2.y_test, df2.pred)"
      ],
      "execution_count": 227,
      "outputs": [
        {
          "output_type": "stream",
          "text": [
            "Modelo base: \n"
          ],
          "name": "stdout"
        },
        {
          "output_type": "display_data",
          "data": {
            "image/png": "[encoded data removed]",
            "text/plain": [
              "<Figure size 576x576 with 2 Axes>"
            ]
          },
          "metadata": {
            "tags": []
          }
        }
      ]
    },
    {
      "cell_type": "code",
      "metadata": {
        "id": "W8aYW-CN_fvf",
        "colab_type": "code",
        "colab": {
          "base_uri": "https://localhost:8080/",
          "height": 530
        },
        "outputId": "ceafe518-d968-4811-be91-8c9ad89c0394"
      },
      "source": [
        "# Veamos la matriz de confusión:\n",
        "print('Modelo base con punto de corte alternativo: ')\n",
        "matriz_confusion(df2.y_test, df2.alternativo)"
      ],
      "execution_count": 228,
      "outputs": [
        {
          "output_type": "stream",
          "text": [
            "Modelo base con punto de corte alternativo: \n"
          ],
          "name": "stdout"
        },
        {
          "output_type": "display_data",
          "data": {
            "image/png": "[encoded data removed]",
            "text/plain": [
              "<Figure size 576x576 with 2 Axes>"
            ]
          },
          "metadata": {
            "tags": []
          }
        }
      ]
    },
    {
      "cell_type": "code",
      "metadata": {
        "id": "y2Hhrp44_n8B",
        "colab_type": "code",
        "colab": {
          "base_uri": "https://localhost:8080/",
          "height": 162
        },
        "outputId": "f368d8e4-5962-4d16-bb42-f0678ee7cb1f"
      },
      "source": [
        "# Veamos la matriz de confusión en el modelo donde hemos obtenido mayor recall\n",
        "matriz_confusion(y_test,reg_log_balanced.predict(X_test))"
      ],
      "execution_count": 97,
      "outputs": [
        {
          "output_type": "error",
          "ename": "NameError",
          "evalue": "ignored",
          "traceback": [
            "\u001b[0;31m---------------------------------------------------------------------------\u001b[0m",
            "\u001b[0;31mNameError\u001b[0m                                 Traceback (most recent call last)",
            "\u001b[0;32m<ipython-input-97-9fd06a12e93d>\u001b[0m in \u001b[0;36m<module>\u001b[0;34m()\u001b[0m\n\u001b[0;32m----> 1\u001b[0;31m \u001b[0mmatriz_confusion\u001b[0m\u001b[0;34m(\u001b[0m\u001b[0my_test\u001b[0m\u001b[0;34m,\u001b[0m\u001b[0mreg_log_balanced\u001b[0m\u001b[0;34m.\u001b[0m\u001b[0mpredict\u001b[0m\u001b[0;34m(\u001b[0m\u001b[0mX_test\u001b[0m\u001b[0;34m)\u001b[0m\u001b[0;34m)\u001b[0m\u001b[0;34m\u001b[0m\u001b[0;34m\u001b[0m\u001b[0m\n\u001b[0m",
            "\u001b[0;31mNameError\u001b[0m: name 'reg_log_balanced' is not defined"
          ]
        }
      ]
    },
    {
      "cell_type": "code",
      "metadata": {
        "id": "5ckUHake_n6x",
        "colab_type": "code",
        "colab": {}
      },
      "source": [
        ""
      ],
      "execution_count": 0,
      "outputs": []
    },
    {
      "cell_type": "code",
      "metadata": {
        "id": "TE-J0Fh5-rqw",
        "colab_type": "code",
        "colab": {}
      },
      "source": [
        ""
      ],
      "execution_count": 0,
      "outputs": []
    },
    {
      "cell_type": "markdown",
      "metadata": {
        "id": "sA5vuUMGQup8",
        "colab_type": "text"
      },
      "source": [
        "#Reducimos el balanceo"
      ]
    },
    {
      "cell_type": "code",
      "metadata": {
        "id": "4sIpa4OWQ2J1",
        "colab_type": "code",
        "outputId": "18f428a3-157f-44cf-b50b-4066b5959250",
        "colab": {
          "base_uri": "https://localhost:8080/",
          "height": 381
        }
      },
      "source": [
        "from sklearn.metrics import balanced_accuracy_score\n",
        "from imblearn.metrics import geometric_mean_score\n",
        "\n",
        "def plot_confusion_matrix(cm, classes, ax,\n",
        "                          normalize=False,\n",
        "                          title='Confusion matrix',\n",
        "                          cmap=plt.cm.Blues):\n",
        "    \"\"\"\n",
        "    This function prints and plots the confusion matrix.\n",
        "    Normalization can be applied by setting `normalize=True`.\n",
        "    \"\"\"\n",
        "    print(cm)\n",
        "    print('')\n",
        "\n",
        "    ax.imshow(cm, interpolation='nearest', cmap=cmap)\n",
        "    ax.set_title(title)\n",
        "    tick_marks = np.arange(len(classes))\n",
        "    plt.xticks(tick_marks, classes, rotation=45)\n",
        "    plt.sca(ax)\n",
        "    plt.yticks(tick_marks, classes)\n",
        "\n",
        "    fmt = '.2f' if normalize else 'd'\n",
        "    thresh = cm.max() / 2.\n",
        "    for i, j in itertools.product(range(cm.shape[0]), range(cm.shape[1])):\n",
        "        ax.text(j, i, format(cm[i, j], fmt),\n",
        "                horizontalalignment=\"center\",\n",
        "                color=\"white\" if cm[i, j] > thresh else \"black\")\n",
        "\n",
        "    ax.set_ylabel('True label')\n",
        "    ax.set_xlabel('Predicted label')\n",
        "\n",
        "tree = DecisionTreeClassifier()\n",
        "tree.fit(X_train, y_train)\n",
        "y_pred_tree = tree.predict(X_test)\n",
        "print('Decision tree classifier performance:')\n",
        "print('Balanced accuracy: {:.2f} - Geometric mean {:.2f}'\n",
        "      .format(balanced_accuracy_score(y_test, pred),\n",
        "              geometric_mean_score(y_test, pred)))\n",
        "cm_tree = confusion_matrix(y_test, pred)\n",
        "fig, ax = plt.subplots()\n",
        "plot_confusion_matrix(cm_tree, classes=np.unique(outputs), ax=ax,\n",
        "                      title='Decision tree')\n",
        "\n"
      ],
      "execution_count": 45,
      "outputs": [
        {
          "output_type": "stream",
          "text": [
            "Decision tree classifier performance:\n",
            "Balanced accuracy: 0.73 - Geometric mean 0.69\n",
            "[[24  1]\n",
            " [ 4  4]]\n",
            "\n"
          ],
          "name": "stdout"
        },
        {
          "output_type": "display_data",
          "data": {
            "image/png": "[encoded data removed]",
            "text/plain": [
              "<Figure size 432x288 with 1 Axes>"
            ]
          },
          "metadata": {
            "tags": []
          }
        }
      ]
    },
    {
      "cell_type": "code",
      "metadata": {
        "id": "DHUPVkdo2c7l",
        "colab_type": "code",
        "colab": {}
      },
      "source": [
        "## Classification using bagging classifier with and without sampling\n",
        "from imblearn.ensemble import BalancedBaggingClassifier\n",
        "\n",
        "\n",
        "bagging = BaggingClassifier(n_estimators=50, random_state=0, n_jobs=-1)\n",
        "balanced_bagging = BalancedBaggingClassifier(n_estimators=50, random_state=0,\n",
        "                                             n_jobs=-1)\n",
        "\n",
        "bagging.fit(X_train, y_train)\n",
        "balanced_bagging.fit(X_train, y_train)\n",
        "\n",
        "y_pred_bc = bagging.predict(X_test)\n",
        "y_pred_bbc = balanced_bagging.predict(X_test)"
      ],
      "execution_count": 0,
      "outputs": []
    },
    {
      "cell_type": "code",
      "metadata": {
        "id": "Jiqv5L0Y2uuo",
        "colab_type": "code",
        "outputId": "1df2044b-bc27-4642-f076-0138f70ccf18",
        "colab": {
          "base_uri": "https://localhost:8080/",
          "height": 400
        }
      },
      "source": [
        "print('Bagging classifier performance:')\n",
        "print('Balanced accuracy: {:.2f} - Geometric mean {:.2f}'\n",
        "      .format(balanced_accuracy_score(y_test, y_pred_bc),\n",
        "              geometric_mean_score(y_test, y_pred_bc)))\n",
        "cm_bagging = confusion_matrix(y_test, y_pred_bc)\n",
        "fig, ax = plt.subplots(ncols=2)\n",
        "plot_confusion_matrix(cm_bagging, classes=np.unique(outputs), ax=ax[0],\n",
        "                      title='Bagging')\n",
        "\n",
        "print('Balanced Bagging classifier performance:')\n",
        "print('Balanced accuracy: {:.2f} - Geometric mean {:.2f}'\n",
        "      .format(balanced_accuracy_score(y_test, y_pred_bbc),\n",
        "              geometric_mean_score(y_test, y_pred_bbc)))\n",
        "cm_balanced_bagging = confusion_matrix(y_test, y_pred_bbc)\n",
        "plot_confusion_matrix(cm_balanced_bagging, classes=np.unique(outputs),\n",
        "                      ax=ax[1], title='Balanced bagging')"
      ],
      "execution_count": 0,
      "outputs": [
        {
          "output_type": "stream",
          "text": [
            "Bagging classifier performance:\n",
            "Balanced accuracy: 0.48 - Geometric mean 0.42\n",
            "[[18  7]\n",
            " [ 6  2]]\n",
            "\n",
            "Balanced Bagging classifier performance:\n",
            "Balanced accuracy: 0.53 - Geometric mean 0.50\n",
            "[[17  8]\n",
            " [ 5  3]]\n",
            "\n"
          ],
          "name": "stdout"
        },
        {
          "output_type": "display_data",
          "data": {
            "image/png": "[encoded data removed]",
            "text/plain": [
              "<Figure size 432x288 with 2 Axes>"
            ]
          },
          "metadata": {
            "tags": []
          }
        }
      ]
    },
    {
      "cell_type": "code",
      "metadata": {
        "id": "PLMN4jPk3Hsx",
        "colab_type": "code",
        "outputId": "d583c94f-0b97-4e44-8e12-2cdf52e9329c",
        "colab": {
          "base_uri": "https://localhost:8080/",
          "height": 400
        }
      },
      "source": [
        "## Classification using random forest classifier with and without sampling\n",
        "from imblearn.ensemble import BalancedRandomForestClassifier\n",
        "\n",
        "rf = RandomForestClassifier(n_estimators=50, random_state=0, n_jobs=-1)\n",
        "brf = BalancedRandomForestClassifier(n_estimators=50, random_state=0,\n",
        "                                     n_jobs=-1)\n",
        "\n",
        "rf.fit(X_train, y_train)\n",
        "brf.fit(X_train, y_train)\n",
        "\n",
        "y_pred_rf = rf.predict(X_test)\n",
        "y_pred_brf = brf.predict(X_test)\n",
        "\n",
        "# Similarly to the previous experiment, the balanced classifier outperform the\n",
        "# classifier which learn from imbalanced bootstrap samples. In addition, random\n",
        "# forest outsperforms the bagging classifier.\n",
        "\n",
        "print('Random Forest classifier performance:')\n",
        "print('Balanced accuracy: {:.2f} - Geometric mean {:.2f}'\n",
        "      .format(balanced_accuracy_score(y_test, y_pred_rf),\n",
        "              geometric_mean_score(y_test, y_pred_rf)))\n",
        "cm_rf = confusion_matrix(y_test, y_pred_rf)\n",
        "fig, ax = plt.subplots(ncols=2)\n",
        "plot_confusion_matrix(cm_rf, classes=np.unique(outputs), ax=ax[0],\n",
        "                      title='Random forest')\n",
        "\n",
        "print('Balanced Random Forest classifier performance:')\n",
        "print('Balanced accuracy: {:.2f} - Geometric mean {:.2f}'\n",
        "      .format(balanced_accuracy_score(y_test, y_pred_brf),\n",
        "              geometric_mean_score(y_test, y_pred_brf)))\n",
        "cm_brf = confusion_matrix(y_test, y_pred_brf)\n",
        "plot_confusion_matrix(cm_brf, classes=np.unique(outputs), ax=ax[1],\n",
        "                      title='Balanced random forest')"
      ],
      "execution_count": 0,
      "outputs": [
        {
          "output_type": "stream",
          "text": [
            "Random Forest classifier performance:\n",
            "Balanced accuracy: 0.48 - Geometric mean 0.32\n",
            "[[21  4]\n",
            " [ 7  1]]\n",
            "\n",
            "Balanced Random Forest classifier performance:\n",
            "Balanced accuracy: 0.53 - Geometric mean 0.50\n",
            "[[17  8]\n",
            " [ 5  3]]\n",
            "\n"
          ],
          "name": "stdout"
        },
        {
          "output_type": "display_data",
          "data": {
            "image/png": "[encoded data removed]",
            "text/plain": [
              "<Figure size 432x288 with 2 Axes>"
            ]
          },
          "metadata": {
            "tags": []
          }
        }
      ]
    },
    {
      "cell_type": "markdown",
      "metadata": {
        "id": "7GBiy30Y8Ock",
        "colab_type": "text"
      },
      "source": [
        "# AÑADIR NUEVAS MUESTRAS ARTIFICIALES"
      ]
    }
  ]
}