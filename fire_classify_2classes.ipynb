{
  "nbformat": 4,
  "nbformat_minor": 0,
  "metadata": {
    "colab": {
      "name": "fire_classify_2classes.ipynb",
      "version": "0.3.2",
      "provenance": [],
      "include_colab_link": true
    },
    "kernelspec": {
      "name": "python3",
      "display_name": "Python 3"
    },
    "accelerator": "GPU"
  },
  "cells": [
    {
      "cell_type": "markdown",
      "metadata": {
        "id": "view-in-github",
        "colab_type": "text"
      },
      "source": [
        "<a href=\"https://colab.research.google.com/github/fire-classifying/fireclass/blob/master/fire_classify_2classes.ipynb\" target=\"_parent\"><img src=\"https://colab.research.google.com/assets/colab-badge.svg\" alt=\"Open In Colab\"/></a>"
      ]
    },
    {
      "cell_type": "code",
      "metadata": {
        "id": "3TztdST6ZMaz",
        "colab_type": "code",
        "outputId": "b97077ac-a0e5-4651-a913-3e3e4691c954",
        "colab": {
          "base_uri": "https://localhost:8080/",
          "height": 121
        }
      },
      "source": [
        "# Ejecuta esta celda para activar tu cuenta de Google Drive.\n",
        "from google.colab import drive\n",
        "drive.mount('/content/drive')"
      ],
      "execution_count": 6,
      "outputs": [
        {
          "output_type": "stream",
          "text": [
            "Go to this URL in a browser: https://accounts.google.com/o/oauth2/auth?client_id=947318989803-6bn6qk8qdgf4n4g3pfee6491hc0brc4i.apps.googleusercontent.com&redirect_uri=urn%3Aietf%3Awg%3Aoauth%3A2.0%3Aoob&scope=email%20https%3A%2F%2Fwww.googleapis.com%2Fauth%2Fdocs.test%20https%3A%2F%2Fwww.googleapis.com%2Fauth%2Fdrive%20https%3A%2F%2Fwww.googleapis.com%2Fauth%2Fdrive.photos.readonly%20https%3A%2F%2Fwww.googleapis.com%2Fauth%2Fpeopleapi.readonly&response_type=code\n",
            "\n",
            "Enter your authorization code:\n",
            "··········\n",
            "Mounted at /content/drive\n"
          ],
          "name": "stdout"
        }
      ]
    },
    {
      "cell_type": "code",
      "metadata": {
        "id": "kA0ucVgcZS4p",
        "colab_type": "code",
        "outputId": "89b7bbdc-1271-4210-826b-877080476a51",
        "colab": {
          "base_uri": "https://localhost:8080/",
          "height": 1000
        }
      },
      "source": [
        "!pip install fastai==0.7.0\n"
      ],
      "execution_count": 7,
      "outputs": [
        {
          "output_type": "stream",
          "text": [
            "Requirement already satisfied: fastai==0.7.0 in /usr/local/lib/python3.6/dist-packages (0.7.0)\n",
            "Requirement already satisfied: opencv-python in /usr/local/lib/python3.6/dist-packages (from fastai==0.7.0) (3.4.5.20)\n",
            "Requirement already satisfied: pandas-summary in /usr/local/lib/python3.6/dist-packages (from fastai==0.7.0) (0.0.6)\n",
            "Requirement already satisfied: matplotlib in /usr/local/lib/python3.6/dist-packages (from fastai==0.7.0) (3.0.3)\n",
            "Requirement already satisfied: pyzmq in /usr/local/lib/python3.6/dist-packages (from fastai==0.7.0) (17.0.0)\n",
            "Requirement already satisfied: traitlets in /usr/local/lib/python3.6/dist-packages (from fastai==0.7.0) (4.3.2)\n",
            "Requirement already satisfied: testpath in /usr/local/lib/python3.6/dist-packages (from fastai==0.7.0) (0.4.2)\n",
            "Requirement already satisfied: simplegeneric in /usr/local/lib/python3.6/dist-packages (from fastai==0.7.0) (0.8.1)\n",
            "Requirement already satisfied: pickleshare in /usr/local/lib/python3.6/dist-packages (from fastai==0.7.0) (0.7.5)\n",
            "Requirement already satisfied: ipywidgets in /usr/local/lib/python3.6/dist-packages (from fastai==0.7.0) (7.4.2)\n",
            "Requirement already satisfied: ipython-genutils in /usr/local/lib/python3.6/dist-packages (from fastai==0.7.0) (0.2.0)\n",
            "Requirement already satisfied: jupyter in /usr/local/lib/python3.6/dist-packages (from fastai==0.7.0) (1.0.0)\n",
            "Requirement already satisfied: numpy in /usr/local/lib/python3.6/dist-packages (from fastai==0.7.0) (1.16.4)\n",
            "Requirement already satisfied: ptyprocess in /usr/local/lib/python3.6/dist-packages (from fastai==0.7.0) (0.6.0)\n",
            "Requirement already satisfied: pyparsing in /usr/local/lib/python3.6/dist-packages (from fastai==0.7.0) (2.4.0)\n",
            "Requirement already satisfied: bleach in /usr/local/lib/python3.6/dist-packages (from fastai==0.7.0) (3.1.0)\n",
            "Requirement already satisfied: isoweek in /usr/local/lib/python3.6/dist-packages (from fastai==0.7.0) (1.3.3)\n",
            "Requirement already satisfied: tornado in /usr/local/lib/python3.6/dist-packages (from fastai==0.7.0) (4.5.3)\n",
            "Requirement already satisfied: html5lib in /usr/local/lib/python3.6/dist-packages (from fastai==0.7.0) (1.0.1)\n",
            "Requirement already satisfied: bcolz in /usr/local/lib/python3.6/dist-packages (from fastai==0.7.0) (1.2.1)\n",
            "Requirement already satisfied: jsonschema in /usr/local/lib/python3.6/dist-packages (from fastai==0.7.0) (2.6.0)\n",
            "Requirement already satisfied: ipython in /usr/local/lib/python3.6/dist-packages (from fastai==0.7.0) (5.5.0)\n",
            "Requirement already satisfied: pandas in /usr/local/lib/python3.6/dist-packages (from fastai==0.7.0) (0.24.2)\n",
            "Requirement already satisfied: MarkupSafe in /usr/local/lib/python3.6/dist-packages (from fastai==0.7.0) (1.1.1)\n",
            "Requirement already satisfied: PyYAML in /usr/local/lib/python3.6/dist-packages (from fastai==0.7.0) (3.13)\n",
            "Requirement already satisfied: Pillow in /usr/local/lib/python3.6/dist-packages (from fastai==0.7.0) (4.3.0)\n",
            "Requirement already satisfied: entrypoints in /usr/local/lib/python3.6/dist-packages (from fastai==0.7.0) (0.3)\n",
            "Requirement already satisfied: certifi in /usr/local/lib/python3.6/dist-packages (from fastai==0.7.0) (2019.6.16)\n",
            "Requirement already satisfied: Pygments in /usr/local/lib/python3.6/dist-packages (from fastai==0.7.0) (2.1.3)\n",
            "Requirement already satisfied: pytz in /usr/local/lib/python3.6/dist-packages (from fastai==0.7.0) (2018.9)\n",
            "Requirement already satisfied: widgetsnbextension in /usr/local/lib/python3.6/dist-packages (from fastai==0.7.0) (3.4.2)\n",
            "Requirement already satisfied: scipy in /usr/local/lib/python3.6/dist-packages (from fastai==0.7.0) (1.3.0)\n",
            "Requirement already satisfied: cycler in /usr/local/lib/python3.6/dist-packages (from fastai==0.7.0) (0.10.0)\n",
            "Requirement already satisfied: torchtext in /usr/local/lib/python3.6/dist-packages (from fastai==0.7.0) (0.3.1)\n",
            "Requirement already satisfied: ipykernel in /usr/local/lib/python3.6/dist-packages (from fastai==0.7.0) (4.6.1)\n",
            "Requirement already satisfied: graphviz in /usr/local/lib/python3.6/dist-packages (from fastai==0.7.0) (0.10.1)\n",
            "Requirement already satisfied: python-dateutil in /usr/local/lib/python3.6/dist-packages (from fastai==0.7.0) (2.5.3)\n",
            "Requirement already satisfied: decorator in /usr/local/lib/python3.6/dist-packages (from fastai==0.7.0) (4.4.0)\n",
            "Requirement already satisfied: torch<0.4 in /usr/local/lib/python3.6/dist-packages (from fastai==0.7.0) (0.3.1)\n",
            "Requirement already satisfied: tqdm in /usr/local/lib/python3.6/dist-packages (from fastai==0.7.0) (4.28.1)\n",
            "Requirement already satisfied: sklearn-pandas in /usr/local/lib/python3.6/dist-packages (from fastai==0.7.0) (1.8.0)\n",
            "Requirement already satisfied: Jinja2 in /usr/local/lib/python3.6/dist-packages (from fastai==0.7.0) (2.10.1)\n",
            "Requirement already satisfied: plotnine in /usr/local/lib/python3.6/dist-packages (from fastai==0.7.0) (0.5.1)\n",
            "Requirement already satisfied: seaborn in /usr/local/lib/python3.6/dist-packages (from fastai==0.7.0) (0.9.0)\n",
            "Requirement already satisfied: feather-format in /usr/local/lib/python3.6/dist-packages (from fastai==0.7.0) (0.4.0)\n",
            "Requirement already satisfied: jedi in /usr/local/lib/python3.6/dist-packages (from fastai==0.7.0) (0.14.0)\n",
            "Requirement already satisfied: torchvision in /usr/local/lib/python3.6/dist-packages (from fastai==0.7.0) (0.3.0)\n",
            "Requirement already satisfied: wcwidth in /usr/local/lib/python3.6/dist-packages (from fastai==0.7.0) (0.1.7)\n",
            "Requirement already satisfied: webencodings in /usr/local/lib/python3.6/dist-packages (from fastai==0.7.0) (0.5.1)\n",
            "Requirement already satisfied: kiwisolver>=1.0.1 in /usr/local/lib/python3.6/dist-packages (from matplotlib->fastai==0.7.0) (1.1.0)\n",
            "Requirement already satisfied: six in /usr/local/lib/python3.6/dist-packages (from traitlets->fastai==0.7.0) (1.12.0)\n",
            "Requirement already satisfied: nbformat>=4.2.0 in /usr/local/lib/python3.6/dist-packages (from ipywidgets->fastai==0.7.0) (4.4.0)\n",
            "Requirement already satisfied: jupyter-console in /usr/local/lib/python3.6/dist-packages (from jupyter->fastai==0.7.0) (6.0.0)\n",
            "Requirement already satisfied: qtconsole in /usr/local/lib/python3.6/dist-packages (from jupyter->fastai==0.7.0) (4.5.1)\n",
            "Requirement already satisfied: nbconvert in /usr/local/lib/python3.6/dist-packages (from jupyter->fastai==0.7.0) (5.5.0)\n",
            "Requirement already satisfied: notebook in /usr/local/lib/python3.6/dist-packages (from jupyter->fastai==0.7.0) (5.2.2)\n",
            "Requirement already satisfied: prompt-toolkit<2.0.0,>=1.0.4 in /usr/local/lib/python3.6/dist-packages (from ipython->fastai==0.7.0) (1.0.16)\n",
            "Requirement already satisfied: setuptools>=18.5 in /usr/local/lib/python3.6/dist-packages (from ipython->fastai==0.7.0) (41.0.1)\n",
            "Requirement already satisfied: pexpect; sys_platform != \"win32\" in /usr/local/lib/python3.6/dist-packages (from ipython->fastai==0.7.0) (4.7.0)\n",
            "Requirement already satisfied: olefile in /usr/local/lib/python3.6/dist-packages (from Pillow->fastai==0.7.0) (0.46)\n",
            "Requirement already satisfied: requests in /usr/local/lib/python3.6/dist-packages (from torchtext->fastai==0.7.0) (2.21.0)\n",
            "Requirement already satisfied: jupyter-client in /usr/local/lib/python3.6/dist-packages (from ipykernel->fastai==0.7.0) (5.2.4)\n",
            "Requirement already satisfied: scikit-learn>=0.15.0 in /usr/local/lib/python3.6/dist-packages (from sklearn-pandas->fastai==0.7.0) (0.21.2)\n",
            "Requirement already satisfied: patsy>=0.4.1 in /usr/local/lib/python3.6/dist-packages (from plotnine->fastai==0.7.0) (0.5.1)\n",
            "Requirement already satisfied: statsmodels>=0.8.0 in /usr/local/lib/python3.6/dist-packages (from plotnine->fastai==0.7.0) (0.10.0)\n",
            "Requirement already satisfied: descartes>=1.1.0 in /usr/local/lib/python3.6/dist-packages (from plotnine->fastai==0.7.0) (1.1.0)\n",
            "Requirement already satisfied: mizani>=0.5.2 in /usr/local/lib/python3.6/dist-packages (from plotnine->fastai==0.7.0) (0.5.4)\n",
            "Requirement already satisfied: pyarrow>=0.4.0 in /usr/local/lib/python3.6/dist-packages (from feather-format->fastai==0.7.0) (0.13.0)\n",
            "Requirement already satisfied: parso>=0.3.0 in /usr/local/lib/python3.6/dist-packages (from jedi->fastai==0.7.0) (0.5.0)\n",
            "Requirement already satisfied: jupyter-core in /usr/local/lib/python3.6/dist-packages (from nbformat>=4.2.0->ipywidgets->fastai==0.7.0) (4.5.0)\n",
            "Requirement already satisfied: mistune>=0.8.1 in /usr/local/lib/python3.6/dist-packages (from nbconvert->jupyter->fastai==0.7.0) (0.8.4)\n",
            "Requirement already satisfied: pandocfilters>=1.4.1 in /usr/local/lib/python3.6/dist-packages (from nbconvert->jupyter->fastai==0.7.0) (1.4.2)\n",
            "Requirement already satisfied: defusedxml in /usr/local/lib/python3.6/dist-packages (from nbconvert->jupyter->fastai==0.7.0) (0.6.0)\n",
            "Requirement already satisfied: terminado>=0.3.3; sys_platform != \"win32\" in /usr/local/lib/python3.6/dist-packages (from notebook->jupyter->fastai==0.7.0) (0.8.2)\n",
            "Requirement already satisfied: urllib3<1.25,>=1.21.1 in /usr/local/lib/python3.6/dist-packages (from requests->torchtext->fastai==0.7.0) (1.24.3)\n",
            "Requirement already satisfied: chardet<3.1.0,>=3.0.2 in /usr/local/lib/python3.6/dist-packages (from requests->torchtext->fastai==0.7.0) (3.0.4)\n",
            "Requirement already satisfied: idna<2.9,>=2.5 in /usr/local/lib/python3.6/dist-packages (from requests->torchtext->fastai==0.7.0) (2.8)\n",
            "Requirement already satisfied: joblib>=0.11 in /usr/local/lib/python3.6/dist-packages (from scikit-learn>=0.15.0->sklearn-pandas->fastai==0.7.0) (0.13.2)\n",
            "Requirement already satisfied: palettable in /usr/local/lib/python3.6/dist-packages (from mizani>=0.5.2->plotnine->fastai==0.7.0) (3.1.1)\n"
          ],
          "name": "stdout"
        }
      ]
    },
    {
      "cell_type": "code",
      "metadata": {
        "id": "UNaFfATmZS0K",
        "colab_type": "code",
        "colab": {}
      },
      "source": [
        "# En primer lugar importamos las librerías\n",
        "\n",
        "import pandas as pd\n",
        "import seaborn as sns\n",
        "import matplotlib\n",
        "import matplotlib.pyplot as plt\n",
        "import numpy as np\n",
        "from fastai.imports import *\n",
        "from fastai.structured import *\n",
        "from scipy.stats import norm\n",
        "from scipy import stats\n",
        "\n",
        "import warnings\n",
        "warnings.filterwarnings('ignore') # Para evitar los molestos avisos.\n",
        "\n",
        "from sklearn.model_selection import train_test_split\n",
        "from sklearn.linear_model import SGDClassifier\n",
        "from sklearn.preprocessing import StandardScaler\n",
        "\n",
        "%matplotlib inline \n",
        "\n",
        "RANDOM_SEED = 33\n",
        "\n",
        "plt.style.use('bmh')"
      ],
      "execution_count": 0,
      "outputs": []
    },
    {
      "cell_type": "code",
      "metadata": {
        "id": "qGUMBC7lZSxB",
        "colab_type": "code",
        "colab": {
          "base_uri": "https://localhost:8080/",
          "height": 363
        },
        "outputId": "c5a13f5f-c002-4a08-b359-d12298bf98ce"
      },
      "source": [
        "# Iniciamos el proceso de análisis, estudiando los datos disponibles\n",
        "\n",
        "df = pd.read_csv('/content/drive/My Drive/Incendios_dataset.csv', delimiter = ',') \n",
        "\n",
        "df.head(10)"
      ],
      "execution_count": 10,
      "outputs": [
        {
          "output_type": "execute_result",
          "data": {
            "text/html": [
              "<div>\n",
              "<style scoped>\n",
              "    .dataframe tbody tr th:only-of-type {\n",
              "        vertical-align: middle;\n",
              "    }\n",
              "\n",
              "    .dataframe tbody tr th {\n",
              "        vertical-align: top;\n",
              "    }\n",
              "\n",
              "    .dataframe thead th {\n",
              "        text-align: right;\n",
              "    }\n",
              "</style>\n",
              "<table border=\"1\" class=\"dataframe\">\n",
              "  <thead>\n",
              "    <tr style=\"text-align: right;\">\n",
              "      <th></th>\n",
              "      <th>fecha</th>\n",
              "      <th>Mod_comb</th>\n",
              "      <th>NDVI</th>\n",
              "      <th>sup_quemad</th>\n",
              "      <th>sup_arb</th>\n",
              "      <th>sup_pastiz</th>\n",
              "      <th>sup_matorr</th>\n",
              "      <th>w_arb</th>\n",
              "      <th>w_pastiz</th>\n",
              "      <th>w_matorr</th>\n",
              "      <th>rk_Cuenc_F</th>\n",
              "      <th>rk_hist_Cu</th>\n",
              "      <th>rk_hist_us</th>\n",
              "      <th>rk_orograf</th>\n",
              "      <th>rk_peligro</th>\n",
              "      <th>rk_pte</th>\n",
              "      <th>vuln_equip</th>\n",
              "      <th>vuln_forve</th>\n",
              "      <th>vuln_infra</th>\n",
              "      <th>vuln_max</th>\n",
              "      <th>vuln_pathi</th>\n",
              "      <th>LST</th>\n",
              "      <th>rk_combUSIF</th>\n",
              "      <th>rk_combCuencExtr</th>\n",
              "      <th>rk_combCuencSup</th>\n",
              "      <th>Velocidad_Viento</th>\n",
              "      <th>Dirección_Viento</th>\n",
              "      <th>Humedad_Relativa</th>\n",
              "      <th>Temperatura_Máxima</th>\n",
              "      <th>Temperatura_Media</th>\n",
              "      <th>ETo_acumulada</th>\n",
              "      <th>Precipitación_acumulada</th>\n",
              "    </tr>\n",
              "  </thead>\n",
              "  <tbody>\n",
              "    <tr>\n",
              "      <th>0</th>\n",
              "      <td>13/08/2008</td>\n",
              "      <td>7.0</td>\n",
              "      <td>3747.28</td>\n",
              "      <td>37.900002</td>\n",
              "      <td>37.900002</td>\n",
              "      <td>0.000000</td>\n",
              "      <td>0.000000</td>\n",
              "      <td>1.000000</td>\n",
              "      <td>0.000000</td>\n",
              "      <td>0.000000</td>\n",
              "      <td>5</td>\n",
              "      <td>5</td>\n",
              "      <td>2</td>\n",
              "      <td>2</td>\n",
              "      <td>1</td>\n",
              "      <td>1</td>\n",
              "      <td>1</td>\n",
              "      <td>4</td>\n",
              "      <td>2</td>\n",
              "      <td>4</td>\n",
              "      <td>1</td>\n",
              "      <td>39.19</td>\n",
              "      <td>4</td>\n",
              "      <td>4</td>\n",
              "      <td>3</td>\n",
              "      <td>1.0</td>\n",
              "      <td>310.0</td>\n",
              "      <td>43.0</td>\n",
              "      <td>34.0</td>\n",
              "      <td>23.8</td>\n",
              "      <td>1043.41</td>\n",
              "      <td>487.4</td>\n",
              "    </tr>\n",
              "    <tr>\n",
              "      <th>1</th>\n",
              "      <td>30/06/2008</td>\n",
              "      <td>4.0</td>\n",
              "      <td>3981.50</td>\n",
              "      <td>17.077999</td>\n",
              "      <td>16.073999</td>\n",
              "      <td>1.004000</td>\n",
              "      <td>0.000000</td>\n",
              "      <td>0.941211</td>\n",
              "      <td>0.058789</td>\n",
              "      <td>0.000000</td>\n",
              "      <td>5</td>\n",
              "      <td>5</td>\n",
              "      <td>5</td>\n",
              "      <td>2</td>\n",
              "      <td>3</td>\n",
              "      <td>4</td>\n",
              "      <td>1</td>\n",
              "      <td>4</td>\n",
              "      <td>5</td>\n",
              "      <td>5</td>\n",
              "      <td>1</td>\n",
              "      <td>33.99</td>\n",
              "      <td>5</td>\n",
              "      <td>5</td>\n",
              "      <td>4</td>\n",
              "      <td>1.6</td>\n",
              "      <td>268.8</td>\n",
              "      <td>48.6</td>\n",
              "      <td>38.4</td>\n",
              "      <td>28.9</td>\n",
              "      <td>968.59</td>\n",
              "      <td>658.2</td>\n",
              "    </tr>\n",
              "    <tr>\n",
              "      <th>2</th>\n",
              "      <td>15/07/2009</td>\n",
              "      <td>1.0</td>\n",
              "      <td>3811.66</td>\n",
              "      <td>18.040001</td>\n",
              "      <td>0.180000</td>\n",
              "      <td>14.740000</td>\n",
              "      <td>3.120000</td>\n",
              "      <td>0.009978</td>\n",
              "      <td>0.817073</td>\n",
              "      <td>0.172949</td>\n",
              "      <td>3</td>\n",
              "      <td>4</td>\n",
              "      <td>3</td>\n",
              "      <td>3</td>\n",
              "      <td>1</td>\n",
              "      <td>2</td>\n",
              "      <td>1</td>\n",
              "      <td>4</td>\n",
              "      <td>3</td>\n",
              "      <td>4</td>\n",
              "      <td>1</td>\n",
              "      <td>42.45</td>\n",
              "      <td>5</td>\n",
              "      <td>4</td>\n",
              "      <td>4</td>\n",
              "      <td>1.6</td>\n",
              "      <td>240.0</td>\n",
              "      <td>38.0</td>\n",
              "      <td>37.0</td>\n",
              "      <td>26.1</td>\n",
              "      <td>1087.09</td>\n",
              "      <td>411.0</td>\n",
              "    </tr>\n",
              "    <tr>\n",
              "      <th>3</th>\n",
              "      <td>25/07/2009</td>\n",
              "      <td>10.0</td>\n",
              "      <td>3536.00</td>\n",
              "      <td>10.120000</td>\n",
              "      <td>0.000000</td>\n",
              "      <td>10.120000</td>\n",
              "      <td>0.000000</td>\n",
              "      <td>0.000000</td>\n",
              "      <td>1.000000</td>\n",
              "      <td>0.000000</td>\n",
              "      <td>5</td>\n",
              "      <td>5</td>\n",
              "      <td>3</td>\n",
              "      <td>2</td>\n",
              "      <td>2</td>\n",
              "      <td>1</td>\n",
              "      <td>1</td>\n",
              "      <td>3</td>\n",
              "      <td>5</td>\n",
              "      <td>5</td>\n",
              "      <td>1</td>\n",
              "      <td>46.99</td>\n",
              "      <td>5</td>\n",
              "      <td>5</td>\n",
              "      <td>4</td>\n",
              "      <td>1.2</td>\n",
              "      <td>292.0</td>\n",
              "      <td>42.5</td>\n",
              "      <td>39.2</td>\n",
              "      <td>29.1</td>\n",
              "      <td>1129.46</td>\n",
              "      <td>508.2</td>\n",
              "    </tr>\n",
              "    <tr>\n",
              "      <th>4</th>\n",
              "      <td>28/05/2009</td>\n",
              "      <td>NaN</td>\n",
              "      <td>2132.06</td>\n",
              "      <td>56.220001</td>\n",
              "      <td>15.590000</td>\n",
              "      <td>0.000000</td>\n",
              "      <td>40.630001</td>\n",
              "      <td>0.277303</td>\n",
              "      <td>0.000000</td>\n",
              "      <td>0.722697</td>\n",
              "      <td>5</td>\n",
              "      <td>5</td>\n",
              "      <td>3</td>\n",
              "      <td>2</td>\n",
              "      <td>1</td>\n",
              "      <td>1</td>\n",
              "      <td>1</td>\n",
              "      <td>3</td>\n",
              "      <td>5</td>\n",
              "      <td>5</td>\n",
              "      <td>1</td>\n",
              "      <td>33.75</td>\n",
              "      <td>5</td>\n",
              "      <td>5</td>\n",
              "      <td>5</td>\n",
              "      <td>1.3</td>\n",
              "      <td>290.0</td>\n",
              "      <td>37.4</td>\n",
              "      <td>33.3</td>\n",
              "      <td>24.5</td>\n",
              "      <td>741.75</td>\n",
              "      <td>495.2</td>\n",
              "    </tr>\n",
              "    <tr>\n",
              "      <th>5</th>\n",
              "      <td>24/06/2009</td>\n",
              "      <td>NaN</td>\n",
              "      <td>NaN</td>\n",
              "      <td>11.000000</td>\n",
              "      <td>0.000000</td>\n",
              "      <td>11.000000</td>\n",
              "      <td>0.000000</td>\n",
              "      <td>0.000000</td>\n",
              "      <td>1.000000</td>\n",
              "      <td>0.000000</td>\n",
              "      <td>4</td>\n",
              "      <td>4</td>\n",
              "      <td>5</td>\n",
              "      <td>2</td>\n",
              "      <td>1</td>\n",
              "      <td>1</td>\n",
              "      <td>1</td>\n",
              "      <td>3</td>\n",
              "      <td>4</td>\n",
              "      <td>4</td>\n",
              "      <td>1</td>\n",
              "      <td>43.05</td>\n",
              "      <td>5</td>\n",
              "      <td>5</td>\n",
              "      <td>5</td>\n",
              "      <td>2.0</td>\n",
              "      <td>298.4</td>\n",
              "      <td>80.1</td>\n",
              "      <td>29.7</td>\n",
              "      <td>22.7</td>\n",
              "      <td>884.09</td>\n",
              "      <td>369.2</td>\n",
              "    </tr>\n",
              "    <tr>\n",
              "      <th>6</th>\n",
              "      <td>03/07/2009</td>\n",
              "      <td>3.0</td>\n",
              "      <td>2384.00</td>\n",
              "      <td>27.180000</td>\n",
              "      <td>6.850000</td>\n",
              "      <td>9.479999</td>\n",
              "      <td>10.850000</td>\n",
              "      <td>0.252024</td>\n",
              "      <td>0.348786</td>\n",
              "      <td>0.399191</td>\n",
              "      <td>4</td>\n",
              "      <td>3</td>\n",
              "      <td>1</td>\n",
              "      <td>2</td>\n",
              "      <td>2</td>\n",
              "      <td>1</td>\n",
              "      <td>1</td>\n",
              "      <td>3</td>\n",
              "      <td>5</td>\n",
              "      <td>5</td>\n",
              "      <td>1</td>\n",
              "      <td>47.89</td>\n",
              "      <td>1</td>\n",
              "      <td>1</td>\n",
              "      <td>1</td>\n",
              "      <td>2.0</td>\n",
              "      <td>290.0</td>\n",
              "      <td>77.0</td>\n",
              "      <td>38.7</td>\n",
              "      <td>29.2</td>\n",
              "      <td>963.57</td>\n",
              "      <td>439.8</td>\n",
              "    </tr>\n",
              "    <tr>\n",
              "      <th>7</th>\n",
              "      <td>14/08/2009</td>\n",
              "      <td>NaN</td>\n",
              "      <td>NaN</td>\n",
              "      <td>11.979999</td>\n",
              "      <td>8.720000</td>\n",
              "      <td>1.230000</td>\n",
              "      <td>2.030000</td>\n",
              "      <td>0.727880</td>\n",
              "      <td>0.102671</td>\n",
              "      <td>0.169449</td>\n",
              "      <td>3</td>\n",
              "      <td>4</td>\n",
              "      <td>2</td>\n",
              "      <td>2</td>\n",
              "      <td>1</td>\n",
              "      <td>1</td>\n",
              "      <td>1</td>\n",
              "      <td>4</td>\n",
              "      <td>5</td>\n",
              "      <td>5</td>\n",
              "      <td>1</td>\n",
              "      <td>40.25</td>\n",
              "      <td>4</td>\n",
              "      <td>5</td>\n",
              "      <td>5</td>\n",
              "      <td>2.2</td>\n",
              "      <td>323.1</td>\n",
              "      <td>28.0</td>\n",
              "      <td>37.3</td>\n",
              "      <td>28.4</td>\n",
              "      <td>1344.11</td>\n",
              "      <td>548.2</td>\n",
              "    </tr>\n",
              "    <tr>\n",
              "      <th>8</th>\n",
              "      <td>28/08/2010</td>\n",
              "      <td>6.0</td>\n",
              "      <td>4338.80</td>\n",
              "      <td>29.169001</td>\n",
              "      <td>21.518000</td>\n",
              "      <td>0.631000</td>\n",
              "      <td>7.020000</td>\n",
              "      <td>0.737701</td>\n",
              "      <td>0.021633</td>\n",
              "      <td>0.240666</td>\n",
              "      <td>5</td>\n",
              "      <td>5</td>\n",
              "      <td>5</td>\n",
              "      <td>2</td>\n",
              "      <td>3</td>\n",
              "      <td>4</td>\n",
              "      <td>1</td>\n",
              "      <td>4</td>\n",
              "      <td>3</td>\n",
              "      <td>4</td>\n",
              "      <td>1</td>\n",
              "      <td>41.77</td>\n",
              "      <td>5</td>\n",
              "      <td>5</td>\n",
              "      <td>5</td>\n",
              "      <td>1.5</td>\n",
              "      <td>230.0</td>\n",
              "      <td>68.1</td>\n",
              "      <td>38.4</td>\n",
              "      <td>30.1</td>\n",
              "      <td>1289.75</td>\n",
              "      <td>1256.4</td>\n",
              "    </tr>\n",
              "    <tr>\n",
              "      <th>9</th>\n",
              "      <td>25/07/2010</td>\n",
              "      <td>1.0</td>\n",
              "      <td>4090.40</td>\n",
              "      <td>27.150000</td>\n",
              "      <td>2.200000</td>\n",
              "      <td>0.000000</td>\n",
              "      <td>24.950001</td>\n",
              "      <td>0.081031</td>\n",
              "      <td>0.000000</td>\n",
              "      <td>0.918969</td>\n",
              "      <td>5</td>\n",
              "      <td>4</td>\n",
              "      <td>2</td>\n",
              "      <td>2</td>\n",
              "      <td>2</td>\n",
              "      <td>1</td>\n",
              "      <td>1</td>\n",
              "      <td>4</td>\n",
              "      <td>2</td>\n",
              "      <td>4</td>\n",
              "      <td>1</td>\n",
              "      <td>36.49</td>\n",
              "      <td>4</td>\n",
              "      <td>3</td>\n",
              "      <td>2</td>\n",
              "      <td>1.6</td>\n",
              "      <td>254.0</td>\n",
              "      <td>78.0</td>\n",
              "      <td>35.6</td>\n",
              "      <td>27.5</td>\n",
              "      <td>1179.75</td>\n",
              "      <td>901.0</td>\n",
              "    </tr>\n",
              "  </tbody>\n",
              "</table>\n",
              "</div>"
            ],
            "text/plain": [
              "        fecha  Mod_comb  ...  ETo_acumulada  Precipitación_acumulada\n",
              "0  13/08/2008       7.0  ...        1043.41                    487.4\n",
              "1  30/06/2008       4.0  ...         968.59                    658.2\n",
              "2  15/07/2009       1.0  ...        1087.09                    411.0\n",
              "3  25/07/2009      10.0  ...        1129.46                    508.2\n",
              "4  28/05/2009       NaN  ...         741.75                    495.2\n",
              "5  24/06/2009       NaN  ...         884.09                    369.2\n",
              "6  03/07/2009       3.0  ...         963.57                    439.8\n",
              "7  14/08/2009       NaN  ...        1344.11                    548.2\n",
              "8  28/08/2010       6.0  ...        1289.75                   1256.4\n",
              "9  25/07/2010       1.0  ...        1179.75                    901.0\n",
              "\n",
              "[10 rows x 32 columns]"
            ]
          },
          "metadata": {
            "tags": []
          },
          "execution_count": 10
        }
      ]
    },
    {
      "cell_type": "code",
      "metadata": {
        "id": "-xTv-OeNZSuD",
        "colab_type": "code",
        "colab": {
          "base_uri": "https://localhost:8080/",
          "height": 168
        },
        "outputId": "83dd6303-a9fa-4728-ed9a-497d4041d720"
      },
      "source": [
        "df.columns"
      ],
      "execution_count": 11,
      "outputs": [
        {
          "output_type": "execute_result",
          "data": {
            "text/plain": [
              "Index(['fecha', 'Mod_comb', 'NDVI', 'sup_quemad', 'sup_arb', 'sup_pastiz',\n",
              "       'sup_matorr', 'w_arb', 'w_pastiz', 'w_matorr', 'rk_Cuenc_F',\n",
              "       'rk_hist_Cu', 'rk_hist_us', 'rk_orograf', 'rk_peligro', 'rk_pte',\n",
              "       'vuln_equip', 'vuln_forve', 'vuln_infra', 'vuln_max', 'vuln_pathi',\n",
              "       'LST', 'rk_combUSIF', 'rk_combCuencExtr', 'rk_combCuencSup',\n",
              "       'Velocidad_Viento', 'Dirección_Viento', 'Humedad_Relativa',\n",
              "       'Temperatura_Máxima', 'Temperatura_Media', 'ETo_acumulada',\n",
              "       'Precipitación_acumulada'],\n",
              "      dtype='object')"
            ]
          },
          "metadata": {
            "tags": []
          },
          "execution_count": 11
        }
      ]
    },
    {
      "cell_type": "code",
      "metadata": {
        "id": "M_V6XGUOZSrC",
        "colab_type": "code",
        "colab": {
          "base_uri": "https://localhost:8080/",
          "height": 638
        },
        "outputId": "815060b4-66ec-460c-ba9b-ed31e302e6a3"
      },
      "source": [
        "df.info()"
      ],
      "execution_count": 12,
      "outputs": [
        {
          "output_type": "stream",
          "text": [
            "<class 'pandas.core.frame.DataFrame'>\n",
            "RangeIndex: 110 entries, 0 to 109\n",
            "Data columns (total 32 columns):\n",
            "fecha                      110 non-null object\n",
            "Mod_comb                   98 non-null float64\n",
            "NDVI                       102 non-null float64\n",
            "sup_quemad                 110 non-null float64\n",
            "sup_arb                    66 non-null float64\n",
            "sup_pastiz                 66 non-null float64\n",
            "sup_matorr                 66 non-null float64\n",
            "w_arb                      66 non-null float64\n",
            "w_pastiz                   66 non-null float64\n",
            "w_matorr                   66 non-null float64\n",
            "rk_Cuenc_F                 110 non-null int64\n",
            "rk_hist_Cu                 110 non-null int64\n",
            "rk_hist_us                 110 non-null int64\n",
            "rk_orograf                 110 non-null int64\n",
            "rk_peligro                 110 non-null int64\n",
            "rk_pte                     110 non-null int64\n",
            "vuln_equip                 110 non-null int64\n",
            "vuln_forve                 110 non-null int64\n",
            "vuln_infra                 110 non-null int64\n",
            "vuln_max                   110 non-null int64\n",
            "vuln_pathi                 110 non-null int64\n",
            "LST                        108 non-null float64\n",
            "rk_combUSIF                110 non-null int64\n",
            "rk_combCuencExtr           110 non-null int64\n",
            "rk_combCuencSup            110 non-null int64\n",
            "Velocidad_Viento           110 non-null float64\n",
            "Dirección_Viento           110 non-null float64\n",
            "Humedad_Relativa           109 non-null float64\n",
            "Temperatura_Máxima         109 non-null float64\n",
            "Temperatura_Media          109 non-null float64\n",
            "ETo_acumulada              109 non-null float64\n",
            "Precipitación_acumulada    109 non-null float64\n",
            "dtypes: float64(17), int64(14), object(1)\n",
            "memory usage: 27.6+ KB\n"
          ],
          "name": "stdout"
        }
      ]
    },
    {
      "cell_type": "code",
      "metadata": {
        "id": "H-Yzg7TZZSn5",
        "colab_type": "code",
        "colab": {}
      },
      "source": [
        ""
      ],
      "execution_count": 0,
      "outputs": []
    },
    {
      "cell_type": "markdown",
      "metadata": {
        "id": "T05isP6Aa2Ih",
        "colab_type": "text"
      },
      "source": [
        "# Data Mining"
      ]
    },
    {
      "cell_type": "code",
      "metadata": {
        "id": "0EU1XzggZSd6",
        "colab_type": "code",
        "colab": {}
      },
      "source": [
        "# Añadimos columnas fechaYear, FechaMonth, etc al dataset\n",
        "add_datepart(df, 'fecha')"
      ],
      "execution_count": 0,
      "outputs": []
    },
    {
      "cell_type": "code",
      "metadata": {
        "id": "cm_JIHWea7Lh",
        "colab_type": "code",
        "colab": {}
      },
      "source": [
        "# imputacion de valores NaN mediante el valor medio de cada columna\n",
        "\n",
        "def impute_nan_by_mean(dataframe):\n",
        " \n",
        " df = dataframe.copy()\n",
        " list_columns = df.columns[df.columns != 'category'] #-> Esto no está funcionando bien. Aquí sí, porque aún no hemos creado categorías\n",
        " \n",
        " for var in list_columns:\n",
        "   \n",
        "   #if type(dataframe[var]) != \"category\":\n",
        "     mean_var = df[var].mean()\n",
        "     df[var] = df[var].replace(np.nan, mean_var)\n",
        " \n",
        " return df"
      ],
      "execution_count": 0,
      "outputs": []
    },
    {
      "cell_type": "code",
      "metadata": {
        "id": "pgfthCmQbBmp",
        "colab_type": "code",
        "colab": {}
      },
      "source": [
        "df = impute_nan_by_mean(df)"
      ],
      "execution_count": 0,
      "outputs": []
    },
    {
      "cell_type": "code",
      "metadata": {
        "id": "OOFVSlmdbBkh",
        "colab_type": "code",
        "colab": {}
      },
      "source": [
        "# El campo 'cat_incendio' lo categorizamos en función de la superficie quemada\n",
        "# 1 -> pequeño (sup < 200Ha)\n",
        "# 2 -> grande (sup > 200 Ha)\n",
        "binInterval = [0,200,100000] \n",
        "binLabels = [1,2] \n",
        "df['cat_incendio'] = pd.cut(df['sup_quemad'], bins = binInterval, labels=binLabels)"
      ],
      "execution_count": 0,
      "outputs": []
    },
    {
      "cell_type": "code",
      "metadata": {
        "id": "1mkuWDFVkK75",
        "colab_type": "code",
        "colab": {
          "base_uri": "https://localhost:8080/",
          "height": 34
        },
        "outputId": "865a95ed-9479-4d0a-9022-a3b8f4080510"
      },
      "source": [
        "import collections\n",
        "print(collections.Counter(df.cat_incendio))"
      ],
      "execution_count": 17,
      "outputs": [
        {
          "output_type": "stream",
          "text": [
            "Counter({1: 82, 2: 28})\n"
          ],
          "name": "stdout"
        }
      ]
    },
    {
      "cell_type": "code",
      "metadata": {
        "id": "3EaEo5RIbBiA",
        "colab_type": "code",
        "colab": {}
      },
      "source": [
        "# El campo 'cat_dir_viento' lo categorizamos en función de la dirección del viento\n",
        "# 0 = dir < 45º\n",
        "# 1 = 45º < dir < 90º\n",
        "# 2 = 90º < dir < 135º\n",
        "# 3 = 135º < dir < 180º\n",
        "# 4 = 180º < dir < 225º\n",
        "# 5 = 225º < dir < 270º\n",
        "# 6 = 270º < dir < 315º\n",
        "# 7 = 315º < dir < 360º\n",
        "\n",
        "binInterval = [-1,45,90,135,180,225,270,315,360] \n",
        "binLabels = [0,1,2,3,4,5,6,7] \n",
        "df['cat_dir_viento'] = pd.cut(df['Dirección_Viento'], bins = binInterval, labels=binLabels)"
      ],
      "execution_count": 0,
      "outputs": []
    },
    {
      "cell_type": "code",
      "metadata": {
        "id": "iG6R_dKAbea8",
        "colab_type": "code",
        "colab": {}
      },
      "source": [
        "# Añadimos una columna nueva y eliminamos las dos originales\n",
        "df['ned_hidricas'] = df.ETo_acumulada - df.Precipitación_acumulada\n",
        "df.drop('ETo_acumulada', axis = 1, inplace = True)\n",
        "df.drop('Precipitación_acumulada', axis = 1, inplace = True)"
      ],
      "execution_count": 0,
      "outputs": []
    },
    {
      "cell_type": "code",
      "metadata": {
        "id": "v-QNx2DRbeYD",
        "colab_type": "code",
        "colab": {}
      },
      "source": [
        "# Hacemos lo mismo con la vulnerabilidad, sustituyéndola por una media de las existentes\n",
        "df['vulnerabilidad'] = df[['vuln_equip','vuln_forve','vuln_infra','vuln_max','vuln_pathi']].mean(axis = 1)\n",
        "df.drop('vuln_equip', axis = 1, inplace = True)\n",
        "df.drop('vuln_forve', axis = 1, inplace = True)\n",
        "df.drop('vuln_infra', axis = 1, inplace = True)\n",
        "df.drop('vuln_max', axis = 1, inplace = True)\n",
        "df.drop('vuln_pathi', axis = 1, inplace = True)"
      ],
      "execution_count": 0,
      "outputs": []
    },
    {
      "cell_type": "code",
      "metadata": {
        "id": "e9hAT_qsbeU6",
        "colab_type": "code",
        "colab": {}
      },
      "source": [
        "#Eliminamos los riesgos de cuenca y modelos combustible por una variable única llamada riesgos. Los demás riesgos entendemos que deben existir\n",
        "\n",
        "df['riesgos_generales_cuenca'] = df[['rk_Cuenc_F','rk_hist_Cu','rk_hist_us','rk_combUSIF','rk_combCuencExtr','rk_combCuencSup']].mean(axis = 1)\n",
        "df.drop('rk_Cuenc_F', axis = 1, inplace = True)\n",
        "df.drop('rk_hist_Cu', axis = 1, inplace = True)\n",
        "df.drop('rk_hist_us', axis = 1, inplace = True)\n",
        "df.drop('rk_combUSIF', axis = 1, inplace = True)\n",
        "df.drop('rk_combCuencExtr', axis = 1, inplace = True)\n",
        "df.drop('rk_combCuencSup', axis = 1, inplace = True)"
      ],
      "execution_count": 0,
      "outputs": []
    },
    {
      "cell_type": "code",
      "metadata": {
        "id": "BvoiLqNBbeRq",
        "colab_type": "code",
        "colab": {}
      },
      "source": [
        "#Eliminamos los riesgos de pendientes y orografía por una sola variable\n",
        "df['riesgos_pendientes'] = df[['rk_orograf','rk_pte']].mean(axis = 1)\n",
        "df.drop('rk_orograf', axis = 1, inplace = True)\n",
        "df.drop('rk_pte', axis = 1, inplace = True)"
      ],
      "execution_count": 0,
      "outputs": []
    },
    {
      "cell_type": "code",
      "metadata": {
        "id": "-9wtsFO0beOr",
        "colab_type": "code",
        "colab": {}
      },
      "source": [
        "#Eliminamos las variables que están correlacionadas con la variable respuesta\n",
        "df.drop('sup_arb', axis = 1, inplace = True)\n",
        "df.drop('sup_pastiz', axis = 1, inplace = True)\n",
        "df.drop('sup_matorr', axis = 1, inplace = True)\n",
        "df.drop('w_arb', axis = 1, inplace = True)\n",
        "df.drop('w_pastiz', axis = 1, inplace = True)\n",
        "df.drop('w_matorr', axis = 1, inplace = True)"
      ],
      "execution_count": 0,
      "outputs": []
    },
    {
      "cell_type": "code",
      "metadata": {
        "id": "q_hAC5SbbxhZ",
        "colab_type": "code",
        "colab": {}
      },
      "source": [
        "# Normalizamos el NDVI para que tome valores entre -1 y 1\n",
        "df['ndvi_norm'] = ((df.NDVI -df.NDVI.mean())/df.NDVI.std())+(3/6)"
      ],
      "execution_count": 0,
      "outputs": []
    },
    {
      "cell_type": "code",
      "metadata": {
        "id": "9rKHz8mBbxeh",
        "colab_type": "code",
        "colab": {}
      },
      "source": [
        "#Eliminación de la temperatura máxima\n",
        "df.drop('Temperatura_Máxima', axis = 1, inplace = True)"
      ],
      "execution_count": 0,
      "outputs": []
    },
    {
      "cell_type": "code",
      "metadata": {
        "id": "GbIF_Sseb2iC",
        "colab_type": "code",
        "colab": {}
      },
      "source": [
        "# Redondear valor de Mod_comb\n",
        "\n",
        "df['Mod_comb']=round(df['Mod_comb'])"
      ],
      "execution_count": 0,
      "outputs": []
    },
    {
      "cell_type": "code",
      "metadata": {
        "id": "gw9TwRyKb2ey",
        "colab_type": "code",
        "colab": {
          "base_uri": "https://localhost:8080/",
          "height": 168
        },
        "outputId": "9358d82e-c62b-4305-da43-f4504cd49cb2"
      },
      "source": [
        "df.columns"
      ],
      "execution_count": 27,
      "outputs": [
        {
          "output_type": "execute_result",
          "data": {
            "text/plain": [
              "Index(['Mod_comb', 'NDVI', 'sup_quemad', 'rk_peligro', 'LST',\n",
              "       'Velocidad_Viento', 'Dirección_Viento', 'Humedad_Relativa',\n",
              "       'Temperatura_Media', 'fechaYear', 'fechaMonth', 'fechaWeek', 'fechaDay',\n",
              "       'fechaDayofweek', 'fechaDayofyear', 'fechaIs_month_end',\n",
              "       'fechaIs_month_start', 'fechaIs_quarter_end', 'fechaIs_quarter_start',\n",
              "       'fechaIs_year_end', 'fechaIs_year_start', 'fechaElapsed',\n",
              "       'cat_incendio', 'cat_dir_viento', 'ned_hidricas', 'vulnerabilidad',\n",
              "       'riesgos_generales_cuenca', 'riesgos_pendientes', 'ndvi_norm'],\n",
              "      dtype='object')"
            ]
          },
          "metadata": {
            "tags": []
          },
          "execution_count": 27
        }
      ]
    },
    {
      "cell_type": "code",
      "metadata": {
        "id": "wysJQVkycJVp",
        "colab_type": "code",
        "colab": {
          "base_uri": "https://localhost:8080/",
          "height": 215
        },
        "outputId": "88c8e1e0-29d7-4008-9152-3094f1600995"
      },
      "source": [
        "df.head()"
      ],
      "execution_count": 28,
      "outputs": [
        {
          "output_type": "execute_result",
          "data": {
            "text/html": [
              "<div>\n",
              "<style scoped>\n",
              "    .dataframe tbody tr th:only-of-type {\n",
              "        vertical-align: middle;\n",
              "    }\n",
              "\n",
              "    .dataframe tbody tr th {\n",
              "        vertical-align: top;\n",
              "    }\n",
              "\n",
              "    .dataframe thead th {\n",
              "        text-align: right;\n",
              "    }\n",
              "</style>\n",
              "<table border=\"1\" class=\"dataframe\">\n",
              "  <thead>\n",
              "    <tr style=\"text-align: right;\">\n",
              "      <th></th>\n",
              "      <th>Mod_comb</th>\n",
              "      <th>NDVI</th>\n",
              "      <th>sup_quemad</th>\n",
              "      <th>rk_peligro</th>\n",
              "      <th>LST</th>\n",
              "      <th>Velocidad_Viento</th>\n",
              "      <th>Dirección_Viento</th>\n",
              "      <th>Humedad_Relativa</th>\n",
              "      <th>Temperatura_Media</th>\n",
              "      <th>fechaYear</th>\n",
              "      <th>fechaMonth</th>\n",
              "      <th>fechaWeek</th>\n",
              "      <th>fechaDay</th>\n",
              "      <th>fechaDayofweek</th>\n",
              "      <th>fechaDayofyear</th>\n",
              "      <th>fechaIs_month_end</th>\n",
              "      <th>fechaIs_month_start</th>\n",
              "      <th>fechaIs_quarter_end</th>\n",
              "      <th>fechaIs_quarter_start</th>\n",
              "      <th>fechaIs_year_end</th>\n",
              "      <th>fechaIs_year_start</th>\n",
              "      <th>fechaElapsed</th>\n",
              "      <th>cat_incendio</th>\n",
              "      <th>cat_dir_viento</th>\n",
              "      <th>ned_hidricas</th>\n",
              "      <th>vulnerabilidad</th>\n",
              "      <th>riesgos_generales_cuenca</th>\n",
              "      <th>riesgos_pendientes</th>\n",
              "      <th>ndvi_norm</th>\n",
              "    </tr>\n",
              "  </thead>\n",
              "  <tbody>\n",
              "    <tr>\n",
              "      <th>0</th>\n",
              "      <td>7.0</td>\n",
              "      <td>3747.28</td>\n",
              "      <td>37.900002</td>\n",
              "      <td>1</td>\n",
              "      <td>39.19</td>\n",
              "      <td>1.0</td>\n",
              "      <td>310.0</td>\n",
              "      <td>43.0</td>\n",
              "      <td>23.8</td>\n",
              "      <td>2008</td>\n",
              "      <td>8</td>\n",
              "      <td>33</td>\n",
              "      <td>13</td>\n",
              "      <td>2</td>\n",
              "      <td>226</td>\n",
              "      <td>False</td>\n",
              "      <td>False</td>\n",
              "      <td>False</td>\n",
              "      <td>False</td>\n",
              "      <td>False</td>\n",
              "      <td>False</td>\n",
              "      <td>1218585600</td>\n",
              "      <td>1</td>\n",
              "      <td>6</td>\n",
              "      <td>556.01</td>\n",
              "      <td>2.4</td>\n",
              "      <td>3.833333</td>\n",
              "      <td>1.5</td>\n",
              "      <td>0.469908</td>\n",
              "    </tr>\n",
              "    <tr>\n",
              "      <th>1</th>\n",
              "      <td>4.0</td>\n",
              "      <td>3981.50</td>\n",
              "      <td>17.077999</td>\n",
              "      <td>3</td>\n",
              "      <td>33.99</td>\n",
              "      <td>1.6</td>\n",
              "      <td>268.8</td>\n",
              "      <td>48.6</td>\n",
              "      <td>28.9</td>\n",
              "      <td>2008</td>\n",
              "      <td>6</td>\n",
              "      <td>27</td>\n",
              "      <td>30</td>\n",
              "      <td>0</td>\n",
              "      <td>182</td>\n",
              "      <td>True</td>\n",
              "      <td>False</td>\n",
              "      <td>True</td>\n",
              "      <td>False</td>\n",
              "      <td>False</td>\n",
              "      <td>False</td>\n",
              "      <td>1214784000</td>\n",
              "      <td>1</td>\n",
              "      <td>5</td>\n",
              "      <td>310.39</td>\n",
              "      <td>3.2</td>\n",
              "      <td>4.833333</td>\n",
              "      <td>3.0</td>\n",
              "      <td>0.548545</td>\n",
              "    </tr>\n",
              "    <tr>\n",
              "      <th>2</th>\n",
              "      <td>1.0</td>\n",
              "      <td>3811.66</td>\n",
              "      <td>18.040001</td>\n",
              "      <td>1</td>\n",
              "      <td>42.45</td>\n",
              "      <td>1.6</td>\n",
              "      <td>240.0</td>\n",
              "      <td>38.0</td>\n",
              "      <td>26.1</td>\n",
              "      <td>2009</td>\n",
              "      <td>7</td>\n",
              "      <td>29</td>\n",
              "      <td>15</td>\n",
              "      <td>2</td>\n",
              "      <td>196</td>\n",
              "      <td>False</td>\n",
              "      <td>False</td>\n",
              "      <td>False</td>\n",
              "      <td>False</td>\n",
              "      <td>False</td>\n",
              "      <td>False</td>\n",
              "      <td>1247616000</td>\n",
              "      <td>1</td>\n",
              "      <td>5</td>\n",
              "      <td>676.09</td>\n",
              "      <td>2.6</td>\n",
              "      <td>3.833333</td>\n",
              "      <td>2.5</td>\n",
              "      <td>0.491523</td>\n",
              "    </tr>\n",
              "    <tr>\n",
              "      <th>3</th>\n",
              "      <td>10.0</td>\n",
              "      <td>3536.00</td>\n",
              "      <td>10.120000</td>\n",
              "      <td>2</td>\n",
              "      <td>46.99</td>\n",
              "      <td>1.2</td>\n",
              "      <td>292.0</td>\n",
              "      <td>42.5</td>\n",
              "      <td>29.1</td>\n",
              "      <td>2009</td>\n",
              "      <td>7</td>\n",
              "      <td>30</td>\n",
              "      <td>25</td>\n",
              "      <td>5</td>\n",
              "      <td>206</td>\n",
              "      <td>False</td>\n",
              "      <td>False</td>\n",
              "      <td>False</td>\n",
              "      <td>False</td>\n",
              "      <td>False</td>\n",
              "      <td>False</td>\n",
              "      <td>1248480000</td>\n",
              "      <td>1</td>\n",
              "      <td>6</td>\n",
              "      <td>621.26</td>\n",
              "      <td>3.0</td>\n",
              "      <td>4.500000</td>\n",
              "      <td>1.5</td>\n",
              "      <td>0.398973</td>\n",
              "    </tr>\n",
              "    <tr>\n",
              "      <th>4</th>\n",
              "      <td>6.0</td>\n",
              "      <td>2132.06</td>\n",
              "      <td>56.220001</td>\n",
              "      <td>1</td>\n",
              "      <td>33.75</td>\n",
              "      <td>1.3</td>\n",
              "      <td>290.0</td>\n",
              "      <td>37.4</td>\n",
              "      <td>24.5</td>\n",
              "      <td>2009</td>\n",
              "      <td>5</td>\n",
              "      <td>22</td>\n",
              "      <td>28</td>\n",
              "      <td>3</td>\n",
              "      <td>148</td>\n",
              "      <td>False</td>\n",
              "      <td>False</td>\n",
              "      <td>False</td>\n",
              "      <td>False</td>\n",
              "      <td>False</td>\n",
              "      <td>False</td>\n",
              "      <td>1243468800</td>\n",
              "      <td>1</td>\n",
              "      <td>6</td>\n",
              "      <td>246.55</td>\n",
              "      <td>3.0</td>\n",
              "      <td>4.666667</td>\n",
              "      <td>1.5</td>\n",
              "      <td>-0.072385</td>\n",
              "    </tr>\n",
              "  </tbody>\n",
              "</table>\n",
              "</div>"
            ],
            "text/plain": [
              "   Mod_comb     NDVI  ...  riesgos_pendientes  ndvi_norm\n",
              "0       7.0  3747.28  ...                 1.5   0.469908\n",
              "1       4.0  3981.50  ...                 3.0   0.548545\n",
              "2       1.0  3811.66  ...                 2.5   0.491523\n",
              "3      10.0  3536.00  ...                 1.5   0.398973\n",
              "4       6.0  2132.06  ...                 1.5  -0.072385\n",
              "\n",
              "[5 rows x 29 columns]"
            ]
          },
          "metadata": {
            "tags": []
          },
          "execution_count": 28
        }
      ]
    },
    {
      "cell_type": "code",
      "metadata": {
        "id": "xYP4cYs7lowk",
        "colab_type": "code",
        "colab": {}
      },
      "source": [
        "# Eliminar columnas innecesarias\n",
        "\n",
        "df.drop(['sup_quemad','fechaYear', 'fechaIs_month_end',\n",
        "       'fechaIs_month_start', 'fechaIs_quarter_end', 'fechaIs_quarter_start',\n",
        "       'fechaIs_year_end', 'fechaIs_year_start', 'fechaElapsed', 'NDVI', 'Dirección_Viento'], axis = 1, inplace = True)\n"
      ],
      "execution_count": 0,
      "outputs": []
    },
    {
      "cell_type": "code",
      "metadata": {
        "id": "cEoll8sgbxbp",
        "colab_type": "code",
        "colab": {}
      },
      "source": [
        "# Eliminar nas en variable a predecir\n",
        "df1= df.dropna(axis=0)\n"
      ],
      "execution_count": 0,
      "outputs": []
    },
    {
      "cell_type": "code",
      "metadata": {
        "id": "s5nc-FWjmXEX",
        "colab_type": "code",
        "colab": {}
      },
      "source": [
        "df1.to_csv(\"/content/drive/My Drive/Incendios_dataset_model.csv\")"
      ],
      "execution_count": 0,
      "outputs": []
    },
    {
      "cell_type": "markdown",
      "metadata": {
        "id": "a-pyksH5dNeR",
        "colab_type": "text"
      },
      "source": [
        "#Train/Test y Estandarización"
      ]
    },
    {
      "cell_type": "code",
      "metadata": {
        "id": "7Uy9LjuGe_dB",
        "colab_type": "code",
        "colab": {
          "base_uri": "https://localhost:8080/",
          "height": 118
        },
        "outputId": "1886306b-0c1f-4144-9e9d-c2943e7e4b08"
      },
      "source": [
        "df1.columns"
      ],
      "execution_count": 31,
      "outputs": [
        {
          "output_type": "execute_result",
          "data": {
            "text/plain": [
              "Index(['Mod_comb', 'rk_peligro', 'LST', 'Velocidad_Viento', 'Humedad_Relativa',\n",
              "       'Temperatura_Media', 'fechaMonth', 'fechaWeek', 'fechaDay',\n",
              "       'fechaDayofweek', 'fechaDayofyear', 'cat_incendio', 'cat_dir_viento',\n",
              "       'ned_hidricas', 'vulnerabilidad', 'riesgos_generales_cuenca',\n",
              "       'riesgos_pendientes', 'ndvi_norm'],\n",
              "      dtype='object')"
            ]
          },
          "metadata": {
            "tags": []
          },
          "execution_count": 31
        }
      ]
    },
    {
      "cell_type": "code",
      "metadata": {
        "id": "45hoPxTmbBWJ",
        "colab_type": "code",
        "colab": {}
      },
      "source": [
        "#Se separan las entradas de las salidas\n",
        "    outputs = df1.iloc[:,11]\n",
        "    data_=df1.drop(['cat_incendio'],axis=1)\n",
        "    inputs = data_.iloc[:,:]\n",
        "    Input_Data = inputs.values[:,:]\n",
        "    Output_Data = list(outputs.values[:])"
      ],
      "execution_count": 0,
      "outputs": []
    },
    {
      "cell_type": "code",
      "metadata": {
        "id": "Htm3iKntdVwf",
        "colab_type": "code",
        "colab": {}
      },
      "source": [
        "# Separacion muestra: entrenamiento y test\n",
        "from sklearn.model_selection import train_test_split\n",
        "X_train,X_test,y_train,y_test = train_test_split(Input_Data,Output_Data,test_size=0.3, stratify=df1.cat_incendio)"
      ],
      "execution_count": 0,
      "outputs": []
    },
    {
      "cell_type": "code",
      "metadata": {
        "id": "Jfc_zSwhdVuJ",
        "colab_type": "code",
        "colab": {}
      },
      "source": [
        "# Normalizar valores antes de introducir en el modelo\n",
        "Scaler = StandardScaler()\n",
        "X_train = Scaler.fit_transform(X_train)\n",
        "X_test = Scaler.transform(X_test)"
      ],
      "execution_count": 0,
      "outputs": []
    },
    {
      "cell_type": "markdown",
      "metadata": {
        "id": "68Ifyc8Ndn8Q",
        "colab_type": "text"
      },
      "source": [
        "# Primera aproximación modelos (sin optimizar)"
      ]
    },
    {
      "cell_type": "code",
      "metadata": {
        "id": "NDINxoyNdVjD",
        "colab_type": "code",
        "colab": {
          "base_uri": "https://localhost:8080/",
          "height": 1000
        },
        "outputId": "6982530c-7e2b-4781-92b8-593b3d28913d"
      },
      "source": [
        "from sklearn.metrics import accuracy_score, log_loss, recall_score\n",
        "from sklearn.neighbors import KNeighborsClassifier\n",
        "from sklearn.svm import SVC, LinearSVC, NuSVC\n",
        "from sklearn.tree import DecisionTreeClassifier\n",
        "from sklearn.ensemble import RandomForestClassifier, AdaBoostClassifier, GradientBoostingClassifier\n",
        "from sklearn.naive_bayes import GaussianNB\n",
        "from sklearn.discriminant_analysis import LinearDiscriminantAnalysis\n",
        "from sklearn.discriminant_analysis import QuadraticDiscriminantAnalysis\n",
        "\n",
        "classifiers = [\n",
        "    KNeighborsClassifier(3),\n",
        "    SVC(kernel=\"rbf\", C=0.025, probability=True),\n",
        "    NuSVC(probability=True),\n",
        "    DecisionTreeClassifier(),\n",
        "    RandomForestClassifier(),\n",
        "    AdaBoostClassifier(),\n",
        "    GradientBoostingClassifier(),\n",
        "    GaussianNB(),\n",
        "    LinearDiscriminantAnalysis(),\n",
        "    QuadraticDiscriminantAnalysis()]\n",
        "\n",
        "# Logging for Visual Comparison\n",
        "log_cols=[\"Classifier\", \"Accuracy\", \"Log Loss\", \"Recall\"]\n",
        "log = pd.DataFrame(columns=log_cols)\n",
        "\n",
        "for clf in classifiers:\n",
        "    clf.fit(X_train, y_train)\n",
        "    name = clf.__class__.__name__\n",
        "    \n",
        "    print(\"=\"*30)\n",
        "    print(name)\n",
        "    \n",
        "    print('****Results****')\n",
        "    train_predictions = clf.predict(X_test)\n",
        "    acc = accuracy_score(y_test, train_predictions)\n",
        "    print(\"Accuracy: {:.4%}\".format(acc))\n",
        "    train_predictions = clf.predict_proba(X_test)\n",
        "    ll = log_loss(y_test, train_predictions)\n",
        "    print(\"Log Loss: {}\".format(ll))\n",
        "    train_predictions = clf.predict(X_test)\n",
        "    recall = recall_score(y_test, train_predictions)\n",
        "    print(\"Recall: {}\".format(recall))\n",
        "    \n",
        "    log_entry = pd.DataFrame([[name, acc*100, ll, recall]], columns=log_cols)\n",
        "    log = log.append(log_entry)\n",
        "    \n",
        "print(\"=\"*30)"
      ],
      "execution_count": 35,
      "outputs": [
        {
          "output_type": "stream",
          "text": [
            "==============================\n",
            "KNeighborsClassifier\n",
            "****Results****\n",
            "Accuracy: 75.7576%\n",
            "Log Loss: 1.3902499511685136\n",
            "Recall: 0.88\n",
            "==============================\n",
            "SVC\n",
            "****Results****\n",
            "Accuracy: 75.7576%\n",
            "Log Loss: 0.5354097239248681\n",
            "Recall: 1.0\n",
            "==============================\n",
            "NuSVC\n",
            "****Results****\n",
            "Accuracy: 78.7879%\n",
            "Log Loss: 0.5552886235306624\n",
            "Recall: 0.96\n",
            "==============================\n",
            "DecisionTreeClassifier\n",
            "****Results****\n",
            "Accuracy: 72.7273%\n",
            "Log Loss: 9.419666289521095\n",
            "Recall: 0.84\n",
            "==============================\n",
            "RandomForestClassifier\n",
            "****Results****\n",
            "Accuracy: 87.8788%\n",
            "Log Loss: 0.42491944864605163\n",
            "Recall: 1.0\n",
            "==============================\n",
            "AdaBoostClassifier\n",
            "****Results****\n",
            "Accuracy: 84.8485%\n",
            "Log Loss: 0.5909856579888715\n",
            "Recall: 0.96\n",
            "==============================\n",
            "GradientBoostingClassifier\n",
            "****Results****\n",
            "Accuracy: 75.7576%\n",
            "Log Loss: 0.621639836916512\n",
            "Recall: 0.88\n",
            "==============================\n",
            "GaussianNB\n",
            "****Results****\n",
            "Accuracy: 75.7576%\n",
            "Log Loss: 1.279628192237524\n",
            "Recall: 0.76\n",
            "==============================\n",
            "LinearDiscriminantAnalysis\n",
            "****Results****\n",
            "Accuracy: 69.6970%\n",
            "Log Loss: 0.5994020283255567\n",
            "Recall: 0.8\n",
            "==============================\n",
            "QuadraticDiscriminantAnalysis\n",
            "****Results****\n",
            "Accuracy: 75.7576%\n",
            "Log Loss: 7.63487822493731\n",
            "Recall: 1.0\n",
            "==============================\n"
          ],
          "name": "stdout"
        }
      ]
    },
    {
      "cell_type": "code",
      "metadata": {
        "id": "MQma1cTpeKnK",
        "colab_type": "code",
        "colab": {
          "base_uri": "https://localhost:8080/",
          "height": 575
        },
        "outputId": "941fef10-a06f-4aad-ec63-cfcf4d5a59ee"
      },
      "source": [
        "sns.set_color_codes(\"muted\")\n",
        "sns.barplot(x='Accuracy', y='Classifier', data=log, color=\"b\")\n",
        "\n",
        "plt.xlabel('Accuracy %')\n",
        "plt.title('Classifier Accuracy')\n",
        "plt.show()\n",
        "\n",
        "sns.set_color_codes(\"muted\")\n",
        "sns.barplot(x='Log Loss', y='Classifier', data=log, color=\"g\")\n",
        "\n",
        "plt.xlabel('Log Loss')\n",
        "plt.title('Classifier Log Loss')\n",
        "plt.show()"
      ],
      "execution_count": 36,
      "outputs": [
        {
          "output_type": "display_data",
          "data": {
            "image/png": "[encoded data removed]",
            "text/plain": [
              "<Figure size 432x288 with 1 Axes>"
            ]
          },
          "metadata": {
            "tags": []
          }
        },
        {
          "output_type": "display_data",
          "data": {
            "image/png": "[encoded data removed]",
            "text/plain": [
              "<Figure size 432x288 with 1 Axes>"
            ]
          },
          "metadata": {
            "tags": []
          }
        }
      ]
    },
    {
      "cell_type": "code",
      "metadata": {
        "id": "weOnWnfDeOt8",
        "colab_type": "code",
        "colab": {}
      },
      "source": [
        ""
      ],
      "execution_count": 0,
      "outputs": []
    },
    {
      "cell_type": "markdown",
      "metadata": {
        "id": "CWbCRG8_eQ7I",
        "colab_type": "text"
      },
      "source": [
        "# RANDOM FOREST"
      ]
    },
    {
      "cell_type": "code",
      "metadata": {
        "id": "Dq9icC3G0idh",
        "colab_type": "code",
        "colab": {}
      },
      "source": [
        "from random import seed\n",
        "seed(12345)"
      ],
      "execution_count": 0,
      "outputs": []
    },
    {
      "cell_type": "code",
      "metadata": {
        "id": "wbu-vnvueOrB",
        "colab_type": "code",
        "colab": {}
      },
      "source": [
        "# Parámetros para optimizar el modelo de RF\n",
        "criterion = ['gini','entropy']\n",
        "n=[5,10,20,50]\n",
        "depth=[2,3,5,8,10,30,100]\n",
        "\n",
        "param_grid = {'criterion': criterion,\n",
        "              'n_estimators': n,\n",
        "             'max_depth':depth}\n"
      ],
      "execution_count": 0,
      "outputs": []
    },
    {
      "cell_type": "code",
      "metadata": {
        "id": "8gx32h4heOnl",
        "colab_type": "code",
        "colab": {}
      },
      "source": [
        "# GridSearch con modelo RF\n",
        "from sklearn.model_selection import GridSearchCV\n",
        "from sklearn.ensemble import RandomForestClassifier\n",
        "from sklearn.metrics import confusion_matrix\n",
        "grid = GridSearchCV(RandomForestClassifier(),param_grid=param_grid,n_jobs=1,cv=10,verbose=True, scoring = 'recall')"
      ],
      "execution_count": 0,
      "outputs": []
    },
    {
      "cell_type": "code",
      "metadata": {
        "id": "R8Zr2RtPeOEx",
        "colab_type": "code",
        "colab": {
          "base_uri": "https://localhost:8080/",
          "height": 67
        },
        "outputId": "a773fb6b-5a57-4544-87cf-6daf571e2239"
      },
      "source": [
        "# Entrenar modelo\n",
        "#y_test_orig= lb.inverse_transform(y_test, threshold=0.5)\n",
        "grid.fit(X_train,y_train)\n",
        "pred = grid.predict(X_test)\n",
        "m_best = grid.best_estimator_\n",
        "score = grid.score(X_test,y_test)\n"
      ],
      "execution_count": 92,
      "outputs": [
        {
          "output_type": "stream",
          "text": [
            "Fitting 10 folds for each of 56 candidates, totalling 560 fits\n"
          ],
          "name": "stdout"
        },
        {
          "output_type": "stream",
          "text": [
            "[Parallel(n_jobs=1)]: Using backend SequentialBackend with 1 concurrent workers.\n",
            "[Parallel(n_jobs=1)]: Done 560 out of 560 | elapsed:    9.8s finished\n"
          ],
          "name": "stderr"
        }
      ]
    },
    {
      "cell_type": "code",
      "metadata": {
        "id": "rfbucLubeZ9B",
        "colab_type": "code",
        "colab": {
          "base_uri": "https://localhost:8080/",
          "height": 185
        },
        "outputId": "2d938b07-c2c3-456c-e252-c08cec11b3c2"
      },
      "source": [
        "conf_mat = confusion_matrix(y_test,pred)\n",
        "print(conf_mat)\n",
        "print(score)\n",
        "print(m_best)"
      ],
      "execution_count": 93,
      "outputs": [
        {
          "output_type": "stream",
          "text": [
            "[[23  2]\n",
            " [ 5  3]]\n",
            "0.92\n",
            "RandomForestClassifier(bootstrap=True, class_weight=None, criterion='gini',\n",
            "                       max_depth=8, max_features='auto', max_leaf_nodes=None,\n",
            "                       min_impurity_decrease=0.0, min_impurity_split=None,\n",
            "                       min_samples_leaf=1, min_samples_split=2,\n",
            "                       min_weight_fraction_leaf=0.0, n_estimators=50,\n",
            "                       n_jobs=None, oob_score=False, random_state=None,\n",
            "                       verbose=0, warm_start=False)\n"
          ],
          "name": "stdout"
        }
      ]
    },
    {
      "cell_type": "code",
      "metadata": {
        "id": "VsoJ_Y7PpwVI",
        "colab_type": "code",
        "colab": {
          "base_uri": "https://localhost:8080/",
          "height": 34
        },
        "outputId": "6a4ec604-71ce-4ad8-9ac3-c2a031673442"
      },
      "source": [
        "from sklearn.metrics import precision_score\n",
        "y_pred = m_best.predict(X_test)\n",
        "precision_score(y_test, y_pred)"
      ],
      "execution_count": 94,
      "outputs": [
        {
          "output_type": "execute_result",
          "data": {
            "text/plain": [
              "0.8214285714285714"
            ]
          },
          "metadata": {
            "tags": []
          },
          "execution_count": 94
        }
      ]
    },
    {
      "cell_type": "code",
      "metadata": {
        "id": "6C8L3NHdr4uT",
        "colab_type": "code",
        "colab": {
          "base_uri": "https://localhost:8080/",
          "height": 168
        },
        "outputId": "b1002e6e-eecb-4167-b558-59943f458c11"
      },
      "source": [
        "## Metricas de validación\n",
        "from sklearn.metrics import classification_report\n",
        "target_names = ['class 1', 'class 2']\n",
        "print(classification_report(y_test, y_pred, target_names=target_names))"
      ],
      "execution_count": 95,
      "outputs": [
        {
          "output_type": "stream",
          "text": [
            "              precision    recall  f1-score   support\n",
            "\n",
            "     class 1       0.82      0.92      0.87        25\n",
            "     class 2       0.60      0.38      0.46         8\n",
            "\n",
            "    accuracy                           0.79        33\n",
            "   macro avg       0.71      0.65      0.66        33\n",
            "weighted avg       0.77      0.79      0.77        33\n",
            "\n"
          ],
          "name": "stdout"
        }
      ]
    },
    {
      "cell_type": "code",
      "metadata": {
        "id": "RzK9Hq6FeZ5Y",
        "colab_type": "code",
        "colab": {
          "base_uri": "https://localhost:8080/",
          "height": 70
        },
        "outputId": "711411af-afb5-4640-a6f1-d744145e2b44"
      },
      "source": [
        "grid.best_estimator_.feature_importances_"
      ],
      "execution_count": 96,
      "outputs": [
        {
          "output_type": "execute_result",
          "data": {
            "text/plain": [
              "array([0.03513, 0.03298, 0.05077, 0.13643, 0.0647 , 0.13169, 0.01137, 0.0651 , 0.0537 , 0.03844, 0.07088,\n",
              "       0.03912, 0.06041, 0.08248, 0.03418, 0.02096, 0.07166])"
            ]
          },
          "metadata": {
            "tags": []
          },
          "execution_count": 96
        }
      ]
    },
    {
      "cell_type": "code",
      "metadata": {
        "id": "7gGPpMwrhBBp",
        "colab_type": "code",
        "colab": {
          "base_uri": "https://localhost:8080/",
          "height": 118
        },
        "outputId": "6c7633a6-6bee-4dc5-b133-d63952fba9cd"
      },
      "source": [
        "data_.columns"
      ],
      "execution_count": 97,
      "outputs": [
        {
          "output_type": "execute_result",
          "data": {
            "text/plain": [
              "Index(['Mod_comb', 'rk_peligro', 'LST', 'Velocidad_Viento', 'Humedad_Relativa',\n",
              "       'Temperatura_Media', 'fechaMonth', 'fechaWeek', 'fechaDay',\n",
              "       'fechaDayofweek', 'fechaDayofyear', 'cat_dir_viento', 'ned_hidricas',\n",
              "       'vulnerabilidad', 'riesgos_generales_cuenca', 'riesgos_pendientes',\n",
              "       'ndvi_norm'],\n",
              "      dtype='object')"
            ]
          },
          "metadata": {
            "tags": []
          },
          "execution_count": 97
        }
      ]
    },
    {
      "cell_type": "code",
      "metadata": {
        "id": "eqHLe1VItLrD",
        "colab_type": "code",
        "colab": {}
      },
      "source": [
        "import pandas as pd\n",
        "feature_importances = pd.DataFrame(grid.best_estimator_.feature_importances_,\n",
        "                                   index = data_.columns,\n",
        "                                    columns=['importance']).sort_values('importance',     \n",
        "                                                                        ascending=False)"
      ],
      "execution_count": 0,
      "outputs": []
    },
    {
      "cell_type": "code",
      "metadata": {
        "id": "R8ALUluwhA1x",
        "colab_type": "code",
        "colab": {
          "base_uri": "https://localhost:8080/",
          "height": 550
        },
        "outputId": "24ffd325-24b4-44d8-d2fa-9ce5cff08dad"
      },
      "source": [
        "feature_importances"
      ],
      "execution_count": 104,
      "outputs": [
        {
          "output_type": "execute_result",
          "data": {
            "text/html": [
              "<div>\n",
              "<style scoped>\n",
              "    .dataframe tbody tr th:only-of-type {\n",
              "        vertical-align: middle;\n",
              "    }\n",
              "\n",
              "    .dataframe tbody tr th {\n",
              "        vertical-align: top;\n",
              "    }\n",
              "\n",
              "    .dataframe thead th {\n",
              "        text-align: right;\n",
              "    }\n",
              "</style>\n",
              "<table border=\"1\" class=\"dataframe\">\n",
              "  <thead>\n",
              "    <tr style=\"text-align: right;\">\n",
              "      <th></th>\n",
              "      <th>importance</th>\n",
              "    </tr>\n",
              "  </thead>\n",
              "  <tbody>\n",
              "    <tr>\n",
              "      <th>Velocidad_Viento</th>\n",
              "      <td>0.136431</td>\n",
              "    </tr>\n",
              "    <tr>\n",
              "      <th>Temperatura_Media</th>\n",
              "      <td>0.131695</td>\n",
              "    </tr>\n",
              "    <tr>\n",
              "      <th>vulnerabilidad</th>\n",
              "      <td>0.082475</td>\n",
              "    </tr>\n",
              "    <tr>\n",
              "      <th>ndvi_norm</th>\n",
              "      <td>0.071657</td>\n",
              "    </tr>\n",
              "    <tr>\n",
              "      <th>fechaDayofyear</th>\n",
              "      <td>0.070876</td>\n",
              "    </tr>\n",
              "    <tr>\n",
              "      <th>fechaWeek</th>\n",
              "      <td>0.065101</td>\n",
              "    </tr>\n",
              "    <tr>\n",
              "      <th>Humedad_Relativa</th>\n",
              "      <td>0.064703</td>\n",
              "    </tr>\n",
              "    <tr>\n",
              "      <th>ned_hidricas</th>\n",
              "      <td>0.060414</td>\n",
              "    </tr>\n",
              "    <tr>\n",
              "      <th>fechaDay</th>\n",
              "      <td>0.053696</td>\n",
              "    </tr>\n",
              "    <tr>\n",
              "      <th>LST</th>\n",
              "      <td>0.050767</td>\n",
              "    </tr>\n",
              "    <tr>\n",
              "      <th>cat_dir_viento</th>\n",
              "      <td>0.039116</td>\n",
              "    </tr>\n",
              "    <tr>\n",
              "      <th>fechaDayofweek</th>\n",
              "      <td>0.038437</td>\n",
              "    </tr>\n",
              "    <tr>\n",
              "      <th>Mod_comb</th>\n",
              "      <td>0.035133</td>\n",
              "    </tr>\n",
              "    <tr>\n",
              "      <th>riesgos_generales_cuenca</th>\n",
              "      <td>0.034183</td>\n",
              "    </tr>\n",
              "    <tr>\n",
              "      <th>rk_peligro</th>\n",
              "      <td>0.032984</td>\n",
              "    </tr>\n",
              "    <tr>\n",
              "      <th>riesgos_pendientes</th>\n",
              "      <td>0.020959</td>\n",
              "    </tr>\n",
              "    <tr>\n",
              "      <th>fechaMonth</th>\n",
              "      <td>0.011375</td>\n",
              "    </tr>\n",
              "  </tbody>\n",
              "</table>\n",
              "</div>"
            ],
            "text/plain": [
              "                          importance\n",
              "Velocidad_Viento            0.136431\n",
              "Temperatura_Media           0.131695\n",
              "vulnerabilidad              0.082475\n",
              "ndvi_norm                   0.071657\n",
              "fechaDayofyear              0.070876\n",
              "fechaWeek                   0.065101\n",
              "Humedad_Relativa            0.064703\n",
              "ned_hidricas                0.060414\n",
              "fechaDay                    0.053696\n",
              "LST                         0.050767\n",
              "cat_dir_viento              0.039116\n",
              "fechaDayofweek              0.038437\n",
              "Mod_comb                    0.035133\n",
              "riesgos_generales_cuenca    0.034183\n",
              "rk_peligro                  0.032984\n",
              "riesgos_pendientes          0.020959\n",
              "fechaMonth                  0.011375"
            ]
          },
          "metadata": {
            "tags": []
          },
          "execution_count": 104
        }
      ]
    },
    {
      "cell_type": "code",
      "metadata": {
        "id": "eu97KAHywUc-",
        "colab_type": "code",
        "colab": {
          "base_uri": "https://localhost:8080/",
          "height": 34
        },
        "outputId": "bc2e3ac8-33da-4b40-a3cb-dbe85b2821e3"
      },
      "source": [
        "df1.columns[11]"
      ],
      "execution_count": 105,
      "outputs": [
        {
          "output_type": "execute_result",
          "data": {
            "text/plain": [
              "'cat_incendio'"
            ]
          },
          "metadata": {
            "tags": []
          },
          "execution_count": 105
        }
      ]
    },
    {
      "cell_type": "code",
      "metadata": {
        "id": "5ksO2DwLiSyA",
        "colab_type": "code",
        "colab": {}
      },
      "source": [
        "#Se separan las entradas de las salidas, también nos quedamos con las columnas que nos parecen importantes\n",
        "    outputs = df1.iloc[:,11]\n",
        "    data_=df1.drop(['cat_incendio'],axis=1)\n",
        "    inputs = data_[[ 'LST', 'Velocidad_Viento', 'Humedad_Relativa',\n",
        "       'Temperatura_Media', \n",
        "         'ned_hidricas',\n",
        "       'vulnerabilidad',\n",
        "       'ndvi_norm']]\n",
        "    Input_Data = inputs.values[:,:]\n",
        "    Output_Data = list(outputs.values[:])\n"
      ],
      "execution_count": 0,
      "outputs": []
    },
    {
      "cell_type": "code",
      "metadata": {
        "id": "kpkhdVWdPiyb",
        "colab_type": "code",
        "colab": {
          "base_uri": "https://localhost:8080/",
          "height": 118
        },
        "outputId": "03364de9-01f7-40c0-eeea-81abd20d4748"
      },
      "source": [
        "df1.columns"
      ],
      "execution_count": 107,
      "outputs": [
        {
          "output_type": "execute_result",
          "data": {
            "text/plain": [
              "Index(['Mod_comb', 'rk_peligro', 'LST', 'Velocidad_Viento', 'Humedad_Relativa',\n",
              "       'Temperatura_Media', 'fechaMonth', 'fechaWeek', 'fechaDay',\n",
              "       'fechaDayofweek', 'fechaDayofyear', 'cat_incendio', 'cat_dir_viento',\n",
              "       'ned_hidricas', 'vulnerabilidad', 'riesgos_generales_cuenca',\n",
              "       'riesgos_pendientes', 'ndvi_norm'],\n",
              "      dtype='object')"
            ]
          },
          "metadata": {
            "tags": []
          },
          "execution_count": 107
        }
      ]
    },
    {
      "cell_type": "code",
      "metadata": {
        "id": "XQSYCJIdjh6q",
        "colab_type": "code",
        "colab": {}
      },
      "source": [
        "X_train,X_test,y_train,y_test = train_test_split(Input_Data,Output_Data,test_size=0.3, stratify=df1.cat_incendio)\n",
        "# Normalizar valores antes de introducir en el modelo\n",
        "Scaler = StandardScaler()\n",
        "X_train = Scaler.fit_transform(X_train)\n",
        "X_test = Scaler.transform(X_test)"
      ],
      "execution_count": 0,
      "outputs": []
    },
    {
      "cell_type": "code",
      "metadata": {
        "id": "rTaYZWfsjh2w",
        "colab_type": "code",
        "colab": {
          "base_uri": "https://localhost:8080/",
          "height": 118
        },
        "outputId": "0e3fd1ca-00a3-4027-be28-bf0ca694bb78"
      },
      "source": [
        "rf = GridSearchCV(RandomForestClassifier(),param_grid=param_grid,n_jobs=1,cv=10,verbose=True,scoring='recall')\n",
        "\n",
        "rf.fit(X_train,y_train)\n",
        "pred = rf.predict(X_test)\n",
        "score = rf.score(X_test,y_test)\n",
        "\n",
        "conf_mat = confusion_matrix(y_test,pred)\n",
        "print(conf_mat)\n",
        "print(score)"
      ],
      "execution_count": 109,
      "outputs": [
        {
          "output_type": "stream",
          "text": [
            "Fitting 10 folds for each of 56 candidates, totalling 560 fits\n"
          ],
          "name": "stdout"
        },
        {
          "output_type": "stream",
          "text": [
            "[Parallel(n_jobs=1)]: Using backend SequentialBackend with 1 concurrent workers.\n"
          ],
          "name": "stderr"
        },
        {
          "output_type": "stream",
          "text": [
            "[[25  0]\n",
            " [ 7  1]]\n",
            "1.0\n"
          ],
          "name": "stdout"
        },
        {
          "output_type": "stream",
          "text": [
            "[Parallel(n_jobs=1)]: Done 560 out of 560 | elapsed:    9.5s finished\n"
          ],
          "name": "stderr"
        }
      ]
    },
    {
      "cell_type": "code",
      "metadata": {
        "id": "yt82twAXjhs1",
        "colab_type": "code",
        "colab": {
          "base_uri": "https://localhost:8080/",
          "height": 168
        },
        "outputId": "4792de6e-bcdb-42ee-b52f-4297ac52b00f"
      },
      "source": [
        "## Metricas de validación\n",
        "from sklearn.metrics import classification_report\n",
        "target_names = ['class 1', 'class 2']\n",
        "print(classification_report(y_test, y_pred, target_names=target_names))"
      ],
      "execution_count": 110,
      "outputs": [
        {
          "output_type": "stream",
          "text": [
            "              precision    recall  f1-score   support\n",
            "\n",
            "     class 1       0.79      0.88      0.83        25\n",
            "     class 2       0.40      0.25      0.31         8\n",
            "\n",
            "    accuracy                           0.73        33\n",
            "   macro avg       0.59      0.56      0.57        33\n",
            "weighted avg       0.69      0.73      0.70        33\n",
            "\n"
          ],
          "name": "stdout"
        }
      ]
    },
    {
      "cell_type": "markdown",
      "metadata": {
        "id": "sA5vuUMGQup8",
        "colab_type": "text"
      },
      "source": [
        "#Reducimos el balanceo"
      ]
    },
    {
      "cell_type": "code",
      "metadata": {
        "id": "4sIpa4OWQ2J1",
        "colab_type": "code",
        "colab": {
          "base_uri": "https://localhost:8080/",
          "height": 381
        },
        "outputId": "3fd02a85-07a0-418e-9026-3e0553f8fc7f"
      },
      "source": [
        "from sklearn.metrics import balanced_accuracy_score\n",
        "from imblearn.metrics import geometric_mean_score\n",
        "\n",
        "def plot_confusion_matrix(cm, classes, ax,\n",
        "                          normalize=False,\n",
        "                          title='Confusion matrix',\n",
        "                          cmap=plt.cm.Blues):\n",
        "    \"\"\"\n",
        "    This function prints and plots the confusion matrix.\n",
        "    Normalization can be applied by setting `normalize=True`.\n",
        "    \"\"\"\n",
        "    print(cm)\n",
        "    print('')\n",
        "\n",
        "    ax.imshow(cm, interpolation='nearest', cmap=cmap)\n",
        "    ax.set_title(title)\n",
        "    tick_marks = np.arange(len(classes))\n",
        "    plt.xticks(tick_marks, classes, rotation=45)\n",
        "    plt.sca(ax)\n",
        "    plt.yticks(tick_marks, classes)\n",
        "\n",
        "    fmt = '.2f' if normalize else 'd'\n",
        "    thresh = cm.max() / 2.\n",
        "    for i, j in itertools.product(range(cm.shape[0]), range(cm.shape[1])):\n",
        "        ax.text(j, i, format(cm[i, j], fmt),\n",
        "                horizontalalignment=\"center\",\n",
        "                color=\"white\" if cm[i, j] > thresh else \"black\")\n",
        "\n",
        "    ax.set_ylabel('True label')\n",
        "    ax.set_xlabel('Predicted label')\n",
        "\n",
        "tree = DecisionTreeClassifier()\n",
        "tree.fit(X_train, y_train)\n",
        "y_pred_tree = tree.predict(X_test)\n",
        "print('Decision tree classifier performance:')\n",
        "print('Balanced accuracy: {:.2f} - Geometric mean {:.2f}'\n",
        "      .format(balanced_accuracy_score(y_test, pred),\n",
        "              geometric_mean_score(y_test, pred)))\n",
        "cm_tree = confusion_matrix(y_test, pred)\n",
        "fig, ax = plt.subplots()\n",
        "plot_confusion_matrix(cm_tree, classes=np.unique(outputs), ax=ax,\n",
        "                      title='Decision tree')\n",
        "\n"
      ],
      "execution_count": 134,
      "outputs": [
        {
          "output_type": "stream",
          "text": [
            "Decision tree classifier performance:\n",
            "Balanced accuracy: 0.48 - Geometric mean 0.42\n",
            "[[18  7]\n",
            " [ 6  2]]\n",
            "\n"
          ],
          "name": "stdout"
        },
        {
          "output_type": "display_data",
          "data": {
            "image/png": "[encoded data removed]",
            "text/plain": [
              "<Figure size 432x288 with 1 Axes>"
            ]
          },
          "metadata": {
            "tags": []
          }
        }
      ]
    },
    {
      "cell_type": "code",
      "metadata": {
        "id": "DHUPVkdo2c7l",
        "colab_type": "code",
        "colab": {}
      },
      "source": [
        "## Classification using bagging classifier with and without sampling\n",
        "from imblearn.ensemble import BalancedBaggingClassifier\n",
        "\n",
        "\n",
        "bagging = BaggingClassifier(n_estimators=50, random_state=0, n_jobs=-1)\n",
        "balanced_bagging = BalancedBaggingClassifier(n_estimators=50, random_state=0,\n",
        "                                             n_jobs=-1)\n",
        "\n",
        "bagging.fit(X_train, y_train)\n",
        "balanced_bagging.fit(X_train, y_train)\n",
        "\n",
        "y_pred_bc = bagging.predict(X_test)\n",
        "y_pred_bbc = balanced_bagging.predict(X_test)"
      ],
      "execution_count": 0,
      "outputs": []
    },
    {
      "cell_type": "code",
      "metadata": {
        "id": "Jiqv5L0Y2uuo",
        "colab_type": "code",
        "colab": {
          "base_uri": "https://localhost:8080/",
          "height": 400
        },
        "outputId": "1df2044b-bc27-4642-f076-0138f70ccf18"
      },
      "source": [
        "print('Bagging classifier performance:')\n",
        "print('Balanced accuracy: {:.2f} - Geometric mean {:.2f}'\n",
        "      .format(balanced_accuracy_score(y_test, y_pred_bc),\n",
        "              geometric_mean_score(y_test, y_pred_bc)))\n",
        "cm_bagging = confusion_matrix(y_test, y_pred_bc)\n",
        "fig, ax = plt.subplots(ncols=2)\n",
        "plot_confusion_matrix(cm_bagging, classes=np.unique(outputs), ax=ax[0],\n",
        "                      title='Bagging')\n",
        "\n",
        "print('Balanced Bagging classifier performance:')\n",
        "print('Balanced accuracy: {:.2f} - Geometric mean {:.2f}'\n",
        "      .format(balanced_accuracy_score(y_test, y_pred_bbc),\n",
        "              geometric_mean_score(y_test, y_pred_bbc)))\n",
        "cm_balanced_bagging = confusion_matrix(y_test, y_pred_bbc)\n",
        "plot_confusion_matrix(cm_balanced_bagging, classes=np.unique(outputs),\n",
        "                      ax=ax[1], title='Balanced bagging')"
      ],
      "execution_count": 138,
      "outputs": [
        {
          "output_type": "stream",
          "text": [
            "Bagging classifier performance:\n",
            "Balanced accuracy: 0.48 - Geometric mean 0.42\n",
            "[[18  7]\n",
            " [ 6  2]]\n",
            "\n",
            "Balanced Bagging classifier performance:\n",
            "Balanced accuracy: 0.53 - Geometric mean 0.50\n",
            "[[17  8]\n",
            " [ 5  3]]\n",
            "\n"
          ],
          "name": "stdout"
        },
        {
          "output_type": "display_data",
          "data": {
            "image/png": "[encoded data removed]",
            "text/plain": [
              "<Figure size 432x288 with 2 Axes>"
            ]
          },
          "metadata": {
            "tags": []
          }
        }
      ]
    },
    {
      "cell_type": "code",
      "metadata": {
        "id": "PLMN4jPk3Hsx",
        "colab_type": "code",
        "colab": {
          "base_uri": "https://localhost:8080/",
          "height": 400
        },
        "outputId": "d583c94f-0b97-4e44-8e12-2cdf52e9329c"
      },
      "source": [
        "## Classification using random forest classifier with and without sampling\n",
        "from imblearn.ensemble import BalancedRandomForestClassifier\n",
        "\n",
        "rf = RandomForestClassifier(n_estimators=50, random_state=0, n_jobs=-1)\n",
        "brf = BalancedRandomForestClassifier(n_estimators=50, random_state=0,\n",
        "                                     n_jobs=-1)\n",
        "\n",
        "rf.fit(X_train, y_train)\n",
        "brf.fit(X_train, y_train)\n",
        "\n",
        "y_pred_rf = rf.predict(X_test)\n",
        "y_pred_brf = brf.predict(X_test)\n",
        "\n",
        "# Similarly to the previous experiment, the balanced classifier outperform the\n",
        "# classifier which learn from imbalanced bootstrap samples. In addition, random\n",
        "# forest outsperforms the bagging classifier.\n",
        "\n",
        "print('Random Forest classifier performance:')\n",
        "print('Balanced accuracy: {:.2f} - Geometric mean {:.2f}'\n",
        "      .format(balanced_accuracy_score(y_test, y_pred_rf),\n",
        "              geometric_mean_score(y_test, y_pred_rf)))\n",
        "cm_rf = confusion_matrix(y_test, y_pred_rf)\n",
        "fig, ax = plt.subplots(ncols=2)\n",
        "plot_confusion_matrix(cm_rf, classes=np.unique(outputs), ax=ax[0],\n",
        "                      title='Random forest')\n",
        "\n",
        "print('Balanced Random Forest classifier performance:')\n",
        "print('Balanced accuracy: {:.2f} - Geometric mean {:.2f}'\n",
        "      .format(balanced_accuracy_score(y_test, y_pred_brf),\n",
        "              geometric_mean_score(y_test, y_pred_brf)))\n",
        "cm_brf = confusion_matrix(y_test, y_pred_brf)\n",
        "plot_confusion_matrix(cm_brf, classes=np.unique(outputs), ax=ax[1],\n",
        "                      title='Balanced random forest')"
      ],
      "execution_count": 140,
      "outputs": [
        {
          "output_type": "stream",
          "text": [
            "Random Forest classifier performance:\n",
            "Balanced accuracy: 0.48 - Geometric mean 0.32\n",
            "[[21  4]\n",
            " [ 7  1]]\n",
            "\n",
            "Balanced Random Forest classifier performance:\n",
            "Balanced accuracy: 0.53 - Geometric mean 0.50\n",
            "[[17  8]\n",
            " [ 5  3]]\n",
            "\n"
          ],
          "name": "stdout"
        },
        {
          "output_type": "display_data",
          "data": {
            "image/png": "[encoded data removed]",
            "text/plain": [
              "<Figure size 432x288 with 2 Axes>"
            ]
          },
          "metadata": {
            "tags": []
          }
        }
      ]
    },
    {
      "cell_type": "markdown",
      "metadata": {
        "id": "islXsDp7nGFI",
        "colab_type": "text"
      },
      "source": [
        "# MLP"
      ]
    },
    {
      "cell_type": "code",
      "metadata": {
        "id": "oYzfxfu7jC8J",
        "colab_type": "code",
        "colab": {}
      },
      "source": [
        "# Parámetros para optimizar el modelo de MLP\n",
        "parameter_grid_MLP = {\n",
        "            'hidden_layer_sizes': [(10),(30),(50),(100),(10,10),(30,30),(50,50),(100,100)],\n",
        "            'solver': ['lbfgs','sgd','adam'],\n",
        "            'activation' : ['identity','logistic','tanh','relu'],\n",
        "            'learning_rate': ['constant','adaptive'],\n",
        "            'alpha': [0.0001,0.001,0.005,0.01]\n",
        "            }"
      ],
      "execution_count": 0,
      "outputs": []
    },
    {
      "cell_type": "code",
      "metadata": {
        "id": "9BmwhagXnIDz",
        "colab_type": "code",
        "colab": {
          "base_uri": "https://localhost:8080/",
          "height": 67
        },
        "outputId": "648fb29d-302e-412b-b6a2-ea47865001ee"
      },
      "source": [
        "##MLP###\n",
        "from sklearn.neural_network import MLPClassifier\n",
        "from sklearn.metrics import confusion_matrix\n",
        "\n",
        "mlp = GridSearchCV(MLPClassifier(early_stopping=True),param_grid=parameter_grid_MLP,cv=5,verbose=True,n_jobs=-2)\n",
        "mlp.fit(X_train,y_train)\n",
        "params= mlp.best_params_\n",
        "pred= mlp.predict(X_test)\n",
        "score= mlp.score(X_test, y_test)\n",
        "mat= confusion_matrix(y_test,pred)"
      ],
      "execution_count": 112,
      "outputs": [
        {
          "output_type": "stream",
          "text": [
            "Fitting 5 folds for each of 768 candidates, totalling 3840 fits\n"
          ],
          "name": "stdout"
        },
        {
          "output_type": "stream",
          "text": [
            "[Parallel(n_jobs=-2)]: Using backend SequentialBackend with 1 concurrent workers.\n",
            "[Parallel(n_jobs=-2)]: Done 3840 out of 3840 | elapsed:  2.5min finished\n"
          ],
          "name": "stderr"
        }
      ]
    },
    {
      "cell_type": "code",
      "metadata": {
        "id": "Z8iaslNinkb5",
        "colab_type": "code",
        "colab": {
          "base_uri": "https://localhost:8080/",
          "height": 168
        },
        "outputId": "13c3fee9-3894-4b46-a4d5-ce435084465f"
      },
      "source": [
        "## Metricas de validación\n",
        "from sklearn.metrics import classification_report\n",
        "target_names = ['class 1', 'class 2']\n",
        "print(classification_report(y_test, pred, target_names=target_names))"
      ],
      "execution_count": 113,
      "outputs": [
        {
          "output_type": "stream",
          "text": [
            "              precision    recall  f1-score   support\n",
            "\n",
            "     class 1       0.76      0.76      0.76        25\n",
            "     class 2       0.25      0.25      0.25         8\n",
            "\n",
            "    accuracy                           0.64        33\n",
            "   macro avg       0.51      0.51      0.51        33\n",
            "weighted avg       0.64      0.64      0.64        33\n",
            "\n"
          ],
          "name": "stdout"
        }
      ]
    },
    {
      "cell_type": "markdown",
      "metadata": {
        "id": "y-L1FcrzoNYA",
        "colab_type": "text"
      },
      "source": [
        "# GRADIENT BOOSTING"
      ]
    },
    {
      "cell_type": "code",
      "metadata": {
        "id": "-zw_OzqDnH-i",
        "colab_type": "code",
        "colab": {
          "base_uri": "https://localhost:8080/",
          "height": 420
        },
        "outputId": "464995cf-9aec-4e3f-b31f-51778e3d153a"
      },
      "source": [
        "learning_rates = [0.05, 0.1, 0.25, 0.5, 0.75, 1]\n",
        "for learning_rate in learning_rates:\n",
        "    gb = GradientBoostingClassifier(n_estimators=20, learning_rate = learning_rate, max_features=2, max_depth = 2, random_state = 0)\n",
        "    gb.fit(X_train, y_train)\n",
        "    print(\"Learning rate: \", learning_rate)\n",
        "    print(\"Accuracy score (training): {0:.3f}\".format(gb.score(X_train, y_train)))\n",
        "    print(\"Accuracy score (validation): {0:.3f}\".format(gb.score(X_test, y_test)))\n",
        "    print()"
      ],
      "execution_count": 114,
      "outputs": [
        {
          "output_type": "stream",
          "text": [
            "Learning rate:  0.05\n",
            "Accuracy score (training): 0.818\n",
            "Accuracy score (validation): 0.727\n",
            "\n",
            "Learning rate:  0.1\n",
            "Accuracy score (training): 0.935\n",
            "Accuracy score (validation): 0.697\n",
            "\n",
            "Learning rate:  0.25\n",
            "Accuracy score (training): 1.000\n",
            "Accuracy score (validation): 0.697\n",
            "\n",
            "Learning rate:  0.5\n",
            "Accuracy score (training): 1.000\n",
            "Accuracy score (validation): 0.636\n",
            "\n",
            "Learning rate:  0.75\n",
            "Accuracy score (training): 1.000\n",
            "Accuracy score (validation): 0.697\n",
            "\n",
            "Learning rate:  1\n",
            "Accuracy score (training): 1.000\n",
            "Accuracy score (validation): 0.697\n",
            "\n"
          ],
          "name": "stdout"
        }
      ]
    },
    {
      "cell_type": "code",
      "metadata": {
        "id": "I_oT0f0MorUr",
        "colab_type": "code",
        "colab": {
          "base_uri": "https://localhost:8080/",
          "height": 252
        },
        "outputId": "3afdbb78-7206-4395-986e-a4b3ecb88877"
      },
      "source": [
        "from sklearn.metrics import classification_report, confusion_matrix, roc_curve, auc\n",
        "gb = GradientBoostingClassifier(n_estimators=20, learning_rate = 0.5, max_features=2, max_depth = 2, random_state = 0)\n",
        "gb.fit(X_train, y_train)\n",
        "predictions = gb.predict(X_test)\n",
        "\n",
        "print(\"Confusion Matrix:\")\n",
        "print(confusion_matrix(y_test, predictions))\n",
        "print()\n",
        "print(\"Classification Report\")\n",
        "print(classification_report(y_test, predictions))"
      ],
      "execution_count": 115,
      "outputs": [
        {
          "output_type": "stream",
          "text": [
            "Confusion Matrix:\n",
            "[[19  6]\n",
            " [ 6  2]]\n",
            "\n",
            "Classification Report\n",
            "              precision    recall  f1-score   support\n",
            "\n",
            "           1       0.76      0.76      0.76        25\n",
            "           2       0.25      0.25      0.25         8\n",
            "\n",
            "    accuracy                           0.64        33\n",
            "   macro avg       0.51      0.51      0.51        33\n",
            "weighted avg       0.64      0.64      0.64        33\n",
            "\n"
          ],
          "name": "stdout"
        }
      ]
    },
    {
      "cell_type": "code",
      "metadata": {
        "id": "UAJ5JrnVorS0",
        "colab_type": "code",
        "colab": {}
      },
      "source": [
        ""
      ],
      "execution_count": 0,
      "outputs": []
    },
    {
      "cell_type": "markdown",
      "metadata": {
        "id": "SDsZDC01owXO",
        "colab_type": "text"
      },
      "source": [
        "# XGBOOST"
      ]
    },
    {
      "cell_type": "code",
      "metadata": {
        "id": "kYBoYn18orQF",
        "colab_type": "code",
        "colab": {
          "base_uri": "https://localhost:8080/",
          "height": 118
        },
        "outputId": "1249a86c-1584-49bd-c26d-2e3445e31ab3"
      },
      "source": [
        "import xgboost as xgb\n",
        "from scipy.stats import uniform, randint\n",
        "\n",
        "xgb_model = xgb.XGBClassifier()\n",
        "    \n",
        "parameter_grid_XGBOOST = {\n",
        "            'min_child_weight': [1, 5, 10],\n",
        "        'gamma': [0.5, 1, 1.5, 2, 5],\n",
        "        'subsample': [0.6, 0.8, 1.0],\n",
        "        'colsample_bytree': [0.6, 0.8, 1.0],\n",
        "        'max_depth': [3, 4, 5]\n",
        "            }\n",
        "    \n",
        "    \n",
        "xgb = GridSearchCV(xgb_model, param_grid=parameter_grid_XGBOOST, cv=3, verbose=1, n_jobs=1, return_train_score=True)\n",
        "xgb.fit(X_train,np.ravel(y_train))\n",
        "pred = xgb.predict(X_test)\n",
        "score = xgb.score(X_test,y_test)\n",
        "   \n",
        "conf_mat = confusion_matrix(y_test,pred)\n",
        "print(conf_mat)\n",
        "print(score)"
      ],
      "execution_count": 116,
      "outputs": [
        {
          "output_type": "stream",
          "text": [
            "Fitting 3 folds for each of 405 candidates, totalling 1215 fits\n"
          ],
          "name": "stdout"
        },
        {
          "output_type": "stream",
          "text": [
            "[Parallel(n_jobs=1)]: Using backend SequentialBackend with 1 concurrent workers.\n"
          ],
          "name": "stderr"
        },
        {
          "output_type": "stream",
          "text": [
            "[[21  4]\n",
            " [ 6  2]]\n",
            "0.696969696969697\n"
          ],
          "name": "stdout"
        },
        {
          "output_type": "stream",
          "text": [
            "[Parallel(n_jobs=1)]: Done 1215 out of 1215 | elapsed:   14.7s finished\n"
          ],
          "name": "stderr"
        }
      ]
    },
    {
      "cell_type": "code",
      "metadata": {
        "id": "npy2hTFmorIZ",
        "colab_type": "code",
        "colab": {
          "base_uri": "https://localhost:8080/",
          "height": 168
        },
        "outputId": "3ab6218a-206c-4e94-ebee-9080e2f8e3d5"
      },
      "source": [
        "## Metricas de validación\n",
        "from sklearn.metrics import classification_report\n",
        "target_names = ['class 1', 'class 2']\n",
        "print(classification_report(y_test, pred, target_names=target_names))"
      ],
      "execution_count": 117,
      "outputs": [
        {
          "output_type": "stream",
          "text": [
            "              precision    recall  f1-score   support\n",
            "\n",
            "     class 1       0.78      0.84      0.81        25\n",
            "     class 2       0.33      0.25      0.29         8\n",
            "\n",
            "    accuracy                           0.70        33\n",
            "   macro avg       0.56      0.54      0.55        33\n",
            "weighted avg       0.67      0.70      0.68        33\n",
            "\n"
          ],
          "name": "stdout"
        }
      ]
    },
    {
      "cell_type": "markdown",
      "metadata": {
        "id": "l2FCtuT2o7YX",
        "colab_type": "text"
      },
      "source": [
        "# BAGGING"
      ]
    },
    {
      "cell_type": "code",
      "metadata": {
        "id": "IxMIlohIo6iP",
        "colab_type": "code",
        "colab": {
          "base_uri": "https://localhost:8080/",
          "height": 118
        },
        "outputId": "0815de12-ac7e-439a-d70b-c85ec22a8e10"
      },
      "source": [
        "from sklearn.ensemble import BaggingClassifier\n",
        "from sklearn.tree import DecisionTreeClassifier\n",
        "from sklearn.neighbors import KNeighborsClassifier\n",
        "\n",
        "\n",
        "n=[10,50,70,80,100]\n",
        "base= [DecisionTreeClassifier(),KNeighborsClassifier()]\n",
        "param_grid = {'n_estimators': n,\n",
        "                  'base_estimator':base}\n",
        "\n",
        "grid = GridSearchCV(BaggingClassifier(),param_grid=param_grid,n_jobs=-2,cv=10,verbose=True)\n",
        "    \n",
        "grid.fit(X_train,np.ravel(y_train))\n",
        "pred = grid.predict(X_test)\n",
        "score = grid.score(X_test,np.ravel(y_test))\n",
        "   \n",
        "conf_mat = confusion_matrix(y_test,pred)\n",
        "print(conf_mat)\n",
        "print(score)"
      ],
      "execution_count": 118,
      "outputs": [
        {
          "output_type": "stream",
          "text": [
            "Fitting 10 folds for each of 10 candidates, totalling 100 fits\n"
          ],
          "name": "stdout"
        },
        {
          "output_type": "stream",
          "text": [
            "[Parallel(n_jobs=-2)]: Using backend SequentialBackend with 1 concurrent workers.\n"
          ],
          "name": "stderr"
        },
        {
          "output_type": "stream",
          "text": [
            "[[18  7]\n",
            " [ 6  2]]\n",
            "0.6060606060606061\n"
          ],
          "name": "stdout"
        },
        {
          "output_type": "stream",
          "text": [
            "[Parallel(n_jobs=-2)]: Done 100 out of 100 | elapsed:    5.7s finished\n"
          ],
          "name": "stderr"
        }
      ]
    },
    {
      "cell_type": "code",
      "metadata": {
        "id": "-w8CU1h_o6gS",
        "colab_type": "code",
        "colab": {
          "base_uri": "https://localhost:8080/",
          "height": 168
        },
        "outputId": "a4f3fbdc-f6e0-437c-9f81-6f3d8249a585"
      },
      "source": [
        "## Metricas de validación\n",
        "from sklearn.metrics import classification_report\n",
        "target_names = ['class 1', 'class 2']\n",
        "print(classification_report(y_test, pred, target_names=target_names))"
      ],
      "execution_count": 119,
      "outputs": [
        {
          "output_type": "stream",
          "text": [
            "              precision    recall  f1-score   support\n",
            "\n",
            "     class 1       0.75      0.72      0.73        25\n",
            "     class 2       0.22      0.25      0.24         8\n",
            "\n",
            "    accuracy                           0.61        33\n",
            "   macro avg       0.49      0.48      0.48        33\n",
            "weighted avg       0.62      0.61      0.61        33\n",
            "\n"
          ],
          "name": "stdout"
        }
      ]
    },
    {
      "cell_type": "markdown",
      "metadata": {
        "id": "PZTtEtUZpEIv",
        "colab_type": "text"
      },
      "source": [
        "# ADABOOST CLASSIFIER"
      ]
    },
    {
      "cell_type": "code",
      "metadata": {
        "id": "QB1_daz5o6dn",
        "colab_type": "code",
        "colab": {
          "base_uri": "https://localhost:8080/",
          "height": 319
        },
        "outputId": "71cb7923-c036-4f15-b862-73994f76105b"
      },
      "source": [
        "from sklearn.ensemble import AdaBoostClassifier\n",
        "from sklearn.tree import DecisionTreeClassifier\n",
        "\n",
        "dtc = DecisionTreeClassifier(criterion=\"entropy\", max_depth=3)\n",
        "ada_model=AdaBoostClassifier(base_estimator=dtc, n_estimators=100)\n",
        "ada_model=ada_model.fit(X_train,y_train)\n",
        "print(ada_model)\n",
        "AdaBoostClassifier(algorithm='SAMME.R',\n",
        "    base_estimator=DecisionTreeClassifier(class_weight=None, \n",
        "    criterion='entropy',max_depth=3,\n",
        "    max_features=None, max_leaf_nodes=None,\n",
        "    min_impurity_decrease=0.0, min_impurity_split=None,\n",
        "    min_samples_leaf=1, min_samples_split=2,\n",
        "    min_weight_fraction_leaf=0.0, presort=False, random_state=None,\n",
        "    splitter='best'),\n",
        "    learning_rate=1.0, n_estimators=100, random_state=None)\n",
        "\n",
        "ytest_pred=ada_model.predict(X_test)\n",
        "print(ada_model.score(X_test, y_test))\n",
        "\n",
        "print(confusion_matrix(y_test, ytest_pred))"
      ],
      "execution_count": 120,
      "outputs": [
        {
          "output_type": "stream",
          "text": [
            "AdaBoostClassifier(algorithm='SAMME.R',\n",
            "                   base_estimator=DecisionTreeClassifier(class_weight=None,\n",
            "                                                         criterion='entropy',\n",
            "                                                         max_depth=3,\n",
            "                                                         max_features=None,\n",
            "                                                         max_leaf_nodes=None,\n",
            "                                                         min_impurity_decrease=0.0,\n",
            "                                                         min_impurity_split=None,\n",
            "                                                         min_samples_leaf=1,\n",
            "                                                         min_samples_split=2,\n",
            "                                                         min_weight_fraction_leaf=0.0,\n",
            "                                                         presort=False,\n",
            "                                                         random_state=None,\n",
            "                                                         splitter='best'),\n",
            "                   learning_rate=1.0, n_estimators=100, random_state=None)\n",
            "0.6666666666666666\n",
            "[[21  4]\n",
            " [ 7  1]]\n"
          ],
          "name": "stdout"
        }
      ]
    },
    {
      "cell_type": "code",
      "metadata": {
        "id": "lO3dykSUpG3I",
        "colab_type": "code",
        "colab": {
          "base_uri": "https://localhost:8080/",
          "height": 168
        },
        "outputId": "7fc134fd-1620-4454-9df6-569f6b1b38d6"
      },
      "source": [
        "## Metricas de validación\n",
        "from sklearn.metrics import classification_report\n",
        "target_names = ['class 1', 'class 2']\n",
        "print(classification_report(y_test, ytest_pred, target_names=target_names))"
      ],
      "execution_count": 121,
      "outputs": [
        {
          "output_type": "stream",
          "text": [
            "              precision    recall  f1-score   support\n",
            "\n",
            "     class 1       0.75      0.84      0.79        25\n",
            "     class 2       0.20      0.12      0.15         8\n",
            "\n",
            "    accuracy                           0.67        33\n",
            "   macro avg       0.47      0.48      0.47        33\n",
            "weighted avg       0.62      0.67      0.64        33\n",
            "\n"
          ],
          "name": "stdout"
        }
      ]
    },
    {
      "cell_type": "markdown",
      "metadata": {
        "id": "bv-4zFTVpS3A",
        "colab_type": "text"
      },
      "source": [
        "# CatBoostClassifier"
      ]
    },
    {
      "cell_type": "code",
      "metadata": {
        "id": "lLNrM_b8pG0X",
        "colab_type": "code",
        "colab": {
          "base_uri": "https://localhost:8080/",
          "height": 457
        },
        "outputId": "b1b6217a-c980-4782-83cd-49c347be74ef"
      },
      "source": [
        "!pip install catboost"
      ],
      "execution_count": 122,
      "outputs": [
        {
          "output_type": "stream",
          "text": [
            "Requirement already satisfied: catboost in /usr/local/lib/python3.6/dist-packages (0.15.2)\n",
            "Requirement already satisfied: numpy>=1.16.0 in /usr/local/lib/python3.6/dist-packages (from catboost) (1.16.4)\n",
            "Requirement already satisfied: matplotlib in /usr/local/lib/python3.6/dist-packages (from catboost) (3.0.3)\n",
            "Requirement already satisfied: six in /usr/local/lib/python3.6/dist-packages (from catboost) (1.12.0)\n",
            "Requirement already satisfied: graphviz in /usr/local/lib/python3.6/dist-packages (from catboost) (0.10.1)\n",
            "Requirement already satisfied: pandas>=0.19.1 in /usr/local/lib/python3.6/dist-packages (from catboost) (0.24.2)\n",
            "Requirement already satisfied: plotly in /usr/local/lib/python3.6/dist-packages (from catboost) (3.6.1)\n",
            "Requirement already satisfied: kiwisolver>=1.0.1 in /usr/local/lib/python3.6/dist-packages (from matplotlib->catboost) (1.1.0)\n",
            "Requirement already satisfied: cycler>=0.10 in /usr/local/lib/python3.6/dist-packages (from matplotlib->catboost) (0.10.0)\n",
            "Requirement already satisfied: pyparsing!=2.0.4,!=2.1.2,!=2.1.6,>=2.0.1 in /usr/local/lib/python3.6/dist-packages (from matplotlib->catboost) (2.4.0)\n",
            "Requirement already satisfied: python-dateutil>=2.1 in /usr/local/lib/python3.6/dist-packages (from matplotlib->catboost) (2.5.3)\n",
            "Requirement already satisfied: pytz>=2011k in /usr/local/lib/python3.6/dist-packages (from pandas>=0.19.1->catboost) (2018.9)\n",
            "Requirement already satisfied: nbformat>=4.2 in /usr/local/lib/python3.6/dist-packages (from plotly->catboost) (4.4.0)\n",
            "Requirement already satisfied: requests in /usr/local/lib/python3.6/dist-packages (from plotly->catboost) (2.21.0)\n",
            "Requirement already satisfied: decorator>=4.0.6 in /usr/local/lib/python3.6/dist-packages (from plotly->catboost) (4.4.0)\n",
            "Requirement already satisfied: retrying>=1.3.3 in /usr/local/lib/python3.6/dist-packages (from plotly->catboost) (1.3.3)\n",
            "Requirement already satisfied: setuptools in /usr/local/lib/python3.6/dist-packages (from kiwisolver>=1.0.1->matplotlib->catboost) (41.0.1)\n",
            "Requirement already satisfied: traitlets>=4.1 in /usr/local/lib/python3.6/dist-packages (from nbformat>=4.2->plotly->catboost) (4.3.2)\n",
            "Requirement already satisfied: jsonschema!=2.5.0,>=2.4 in /usr/local/lib/python3.6/dist-packages (from nbformat>=4.2->plotly->catboost) (2.6.0)\n",
            "Requirement already satisfied: jupyter-core in /usr/local/lib/python3.6/dist-packages (from nbformat>=4.2->plotly->catboost) (4.5.0)\n",
            "Requirement already satisfied: ipython-genutils in /usr/local/lib/python3.6/dist-packages (from nbformat>=4.2->plotly->catboost) (0.2.0)\n",
            "Requirement already satisfied: certifi>=2017.4.17 in /usr/local/lib/python3.6/dist-packages (from requests->plotly->catboost) (2019.6.16)\n",
            "Requirement already satisfied: chardet<3.1.0,>=3.0.2 in /usr/local/lib/python3.6/dist-packages (from requests->plotly->catboost) (3.0.4)\n",
            "Requirement already satisfied: idna<2.9,>=2.5 in /usr/local/lib/python3.6/dist-packages (from requests->plotly->catboost) (2.8)\n",
            "Requirement already satisfied: urllib3<1.25,>=1.21.1 in /usr/local/lib/python3.6/dist-packages (from requests->plotly->catboost) (1.24.3)\n"
          ],
          "name": "stdout"
        }
      ]
    },
    {
      "cell_type": "code",
      "metadata": {
        "id": "6x76ZxYfpGwv",
        "colab_type": "code",
        "colab": {}
      },
      "source": [
        "from catboost import CatBoostClassifier\n",
        "from scipy.stats import uniform as sp_randFloat\n",
        "from scipy.stats import randint as sp_randInt"
      ],
      "execution_count": 0,
      "outputs": []
    },
    {
      "cell_type": "code",
      "metadata": {
        "id": "YvOKwP_vpGtU",
        "colab_type": "code",
        "colab": {
          "base_uri": "https://localhost:8080/",
          "height": 390
        },
        "outputId": "3181e661-fecb-4420-a8d0-9e552a7da6f6"
      },
      "source": [
        "    model = CatBoostClassifier()\n",
        "    parameters = {'depth'         : sp_randInt(4, 10),\n",
        "                  'learning_rate' : sp_randFloat(),\n",
        "                  'iterations'    : sp_randInt(10, 100)\n",
        "                 }\n",
        "    \n",
        "    randm = GridSearchCV(estimator=model, param_grid = parameters, \n",
        "                               cv = 2,  n_jobs=-1)\n",
        "    randm.fit(X_train, y_train)\n",
        "\n",
        "    # Results from Random Search\n",
        "    print(\"\\n========================================================\")\n",
        "    print(\" Results from Random Search \" )\n",
        "    print(\"========================================================\")    \n",
        "    \n",
        "    print(\"\\n The best estimator across ALL searched params:\\n\",\n",
        "          randm.best_estimator_)\n",
        "    \n",
        "    print(\"\\n The best score across ALL searched params:\\n\",\n",
        "          randm.best_score_)\n",
        "    \n",
        "    print(\"\\n The best parameters across ALL searched params:\\n\",\n",
        "          randm.best_params_)\n",
        "    \n",
        "    print(\"\\n ========================================================\")"
      ],
      "execution_count": 126,
      "outputs": [
        {
          "output_type": "error",
          "ename": "ValueError",
          "evalue": "ignored",
          "traceback": [
            "\u001b[0;31m---------------------------------------------------------------------------\u001b[0m",
            "\u001b[0;31mValueError\u001b[0m                                Traceback (most recent call last)",
            "\u001b[0;32m<ipython-input-126-265dc90208fe>\u001b[0m in \u001b[0;36m<module>\u001b[0;34m()\u001b[0m\n\u001b[1;32m      6\u001b[0m \u001b[0;34m\u001b[0m\u001b[0m\n\u001b[1;32m      7\u001b[0m randm = GridSearchCV(estimator=model, param_grid = parameters, \n\u001b[0;32m----> 8\u001b[0;31m                            cv = 2,  n_jobs=-1)\n\u001b[0m\u001b[1;32m      9\u001b[0m \u001b[0mrandm\u001b[0m\u001b[0;34m.\u001b[0m\u001b[0mfit\u001b[0m\u001b[0;34m(\u001b[0m\u001b[0mX_train\u001b[0m\u001b[0;34m,\u001b[0m \u001b[0my_train\u001b[0m\u001b[0;34m)\u001b[0m\u001b[0;34m\u001b[0m\u001b[0;34m\u001b[0m\u001b[0m\n\u001b[1;32m     10\u001b[0m \u001b[0;34m\u001b[0m\u001b[0m\n",
            "\u001b[0;32m/usr/local/lib/python3.6/dist-packages/sklearn/model_selection/_search.py\u001b[0m in \u001b[0;36m__init__\u001b[0;34m(self, estimator, param_grid, scoring, n_jobs, iid, refit, cv, verbose, pre_dispatch, error_score, return_train_score)\u001b[0m\n\u001b[1;32m   1142\u001b[0m             return_train_score=return_train_score)\n\u001b[1;32m   1143\u001b[0m         \u001b[0mself\u001b[0m\u001b[0;34m.\u001b[0m\u001b[0mparam_grid\u001b[0m \u001b[0;34m=\u001b[0m \u001b[0mparam_grid\u001b[0m\u001b[0;34m\u001b[0m\u001b[0;34m\u001b[0m\u001b[0m\n\u001b[0;32m-> 1144\u001b[0;31m         \u001b[0m_check_param_grid\u001b[0m\u001b[0;34m(\u001b[0m\u001b[0mparam_grid\u001b[0m\u001b[0;34m)\u001b[0m\u001b[0;34m\u001b[0m\u001b[0;34m\u001b[0m\u001b[0m\n\u001b[0m\u001b[1;32m   1145\u001b[0m \u001b[0;34m\u001b[0m\u001b[0m\n\u001b[1;32m   1146\u001b[0m     \u001b[0;32mdef\u001b[0m \u001b[0m_run_search\u001b[0m\u001b[0;34m(\u001b[0m\u001b[0mself\u001b[0m\u001b[0;34m,\u001b[0m \u001b[0mevaluate_candidates\u001b[0m\u001b[0;34m)\u001b[0m\u001b[0;34m:\u001b[0m\u001b[0;34m\u001b[0m\u001b[0;34m\u001b[0m\u001b[0m\n",
            "\u001b[0;32m/usr/local/lib/python3.6/dist-packages/sklearn/model_selection/_search.py\u001b[0m in \u001b[0;36m_check_param_grid\u001b[0;34m(param_grid)\u001b[0m\n\u001b[1;32m    369\u001b[0m                 raise ValueError(\"Parameter values for parameter ({0}) need \"\n\u001b[1;32m    370\u001b[0m                                  \u001b[0;34m\"to be a sequence(but not a string) or\"\u001b[0m\u001b[0;34m\u001b[0m\u001b[0;34m\u001b[0m\u001b[0m\n\u001b[0;32m--> 371\u001b[0;31m                                  \" np.ndarray.\".format(name))\n\u001b[0m\u001b[1;32m    372\u001b[0m \u001b[0;34m\u001b[0m\u001b[0m\n\u001b[1;32m    373\u001b[0m             \u001b[0;32mif\u001b[0m \u001b[0mlen\u001b[0m\u001b[0;34m(\u001b[0m\u001b[0mv\u001b[0m\u001b[0;34m)\u001b[0m \u001b[0;34m==\u001b[0m \u001b[0;36m0\u001b[0m\u001b[0;34m:\u001b[0m\u001b[0;34m\u001b[0m\u001b[0;34m\u001b[0m\u001b[0m\n",
            "\u001b[0;31mValueError\u001b[0m: Parameter values for parameter (depth) need to be a sequence(but not a string) or np.ndarray."
          ]
        }
      ]
    },
    {
      "cell_type": "code",
      "metadata": {
        "id": "vDDBeAh0pc_D",
        "colab_type": "code",
        "colab": {}
      },
      "source": [
        ""
      ],
      "execution_count": 0,
      "outputs": []
    },
    {
      "cell_type": "markdown",
      "metadata": {
        "id": "TBLzv8q_9yH6",
        "colab_type": "text"
      },
      "source": [
        "# SVC"
      ]
    },
    {
      "cell_type": "code",
      "metadata": {
        "id": "qVstq0zP9xAX",
        "colab_type": "code",
        "colab": {
          "base_uri": "https://localhost:8080/",
          "height": 1000
        },
        "outputId": "2e2080d5-e797-4eb0-faad-40488c91adda"
      },
      "source": [
        "# Set the parameters by cross-validation\n",
        "tuned_parameters = [{'kernel': ['rbf'], 'gamma': [1e-3, 1e-4],\n",
        "                     'C': [1, 10, 100, 1000]},\n",
        "                    {'kernel': ['linear'], 'C': [1, 10, 100, 1000]}]\n",
        "\n",
        "scores = ['precision', 'recall']\n",
        "\n",
        "for score in scores:\n",
        "    print(\"# Tuning hyper-parameters for %s\" % score)\n",
        "    print()\n",
        "\n",
        "    clf = GridSearchCV(SVC(), tuned_parameters, cv=5,\n",
        "                       scoring='%s_macro' % score)\n",
        "    clf.fit(X_train, y_train)\n",
        "\n",
        "    print(\"Best parameters set found on development set:\")\n",
        "    print()\n",
        "    print(clf.best_params_)\n",
        "    print()\n",
        "    print(\"Grid scores on development set:\")\n",
        "    print()\n",
        "    means = clf.cv_results_['mean_test_score']\n",
        "    stds = clf.cv_results_['std_test_score']\n",
        "    for mean, std, params in zip(means, stds, clf.cv_results_['params']):\n",
        "        print(\"%0.3f (+/-%0.03f) for %r\"\n",
        "              % (mean, std * 2, params))\n",
        "    print()\n",
        "\n",
        "    print(\"Detailed classification report:\")\n",
        "    print()\n",
        "    print(\"The model is trained on the full development set.\")\n",
        "    print(\"The scores are computed on the full evaluation set.\")\n",
        "    print()\n",
        "    y_true, y_pred = y_test, clf.predict(X_test)\n",
        "    print(classification_report(y_true, y_pred))\n",
        "    print()\n"
      ],
      "execution_count": 157,
      "outputs": [
        {
          "output_type": "stream",
          "text": [
            "# Tuning hyper-parameters for precision\n",
            "\n",
            "Best parameters set found on development set:\n",
            "\n",
            "{'C': 1000, 'kernel': 'linear'}\n",
            "\n",
            "Grid scores on development set:\n",
            "\n",
            "0.370 (+/-0.008) for {'C': 1, 'gamma': 0.001, 'kernel': 'rbf'}\n",
            "0.370 (+/-0.008) for {'C': 1, 'gamma': 0.0001, 'kernel': 'rbf'}\n",
            "0.370 (+/-0.008) for {'C': 10, 'gamma': 0.001, 'kernel': 'rbf'}\n",
            "0.370 (+/-0.008) for {'C': 10, 'gamma': 0.0001, 'kernel': 'rbf'}\n",
            "0.422 (+/-0.209) for {'C': 100, 'gamma': 0.001, 'kernel': 'rbf'}\n",
            "0.370 (+/-0.008) for {'C': 100, 'gamma': 0.0001, 'kernel': 'rbf'}\n",
            "0.618 (+/-0.483) for {'C': 1000, 'gamma': 0.001, 'kernel': 'rbf'}\n",
            "0.422 (+/-0.209) for {'C': 1000, 'gamma': 0.0001, 'kernel': 'rbf'}\n",
            "0.478 (+/-0.264) for {'C': 1, 'kernel': 'linear'}\n",
            "0.660 (+/-0.343) for {'C': 10, 'kernel': 'linear'}\n",
            "0.660 (+/-0.343) for {'C': 100, 'kernel': 'linear'}\n",
            "0.666 (+/-0.360) for {'C': 1000, 'kernel': 'linear'}\n",
            "\n",
            "Detailed classification report:\n",
            "\n",
            "The model is trained on the full development set.\n",
            "The scores are computed on the full evaluation set.\n",
            "\n",
            "              precision    recall  f1-score   support\n",
            "\n",
            "           1       0.79      0.92      0.85        25\n",
            "           2       0.50      0.25      0.33         8\n",
            "\n",
            "    accuracy                           0.76        33\n",
            "   macro avg       0.65      0.58      0.59        33\n",
            "weighted avg       0.72      0.76      0.73        33\n",
            "\n",
            "\n",
            "# Tuning hyper-parameters for recall\n",
            "\n",
            "Best parameters set found on development set:\n",
            "\n",
            "{'C': 1000, 'kernel': 'linear'}\n",
            "\n",
            "Grid scores on development set:\n",
            "\n",
            "0.500 (+/-0.000) for {'C': 1, 'gamma': 0.001, 'kernel': 'rbf'}\n",
            "0.500 (+/-0.000) for {'C': 1, 'gamma': 0.0001, 'kernel': 'rbf'}\n",
            "0.500 (+/-0.000) for {'C': 10, 'gamma': 0.001, 'kernel': 'rbf'}\n",
            "0.500 (+/-0.000) for {'C': 10, 'gamma': 0.0001, 'kernel': 'rbf'}\n",
            "0.515 (+/-0.063) for {'C': 100, 'gamma': 0.001, 'kernel': 'rbf'}\n",
            "0.500 (+/-0.000) for {'C': 100, 'gamma': 0.0001, 'kernel': 'rbf'}\n",
            "0.582 (+/-0.189) for {'C': 1000, 'gamma': 0.001, 'kernel': 'rbf'}\n",
            "0.515 (+/-0.063) for {'C': 1000, 'gamma': 0.0001, 'kernel': 'rbf'}\n",
            "0.533 (+/-0.080) for {'C': 1, 'kernel': 'linear'}\n",
            "0.600 (+/-0.136) for {'C': 10, 'kernel': 'linear'}\n",
            "0.600 (+/-0.136) for {'C': 100, 'kernel': 'linear'}\n",
            "0.625 (+/-0.182) for {'C': 1000, 'kernel': 'linear'}\n",
            "\n",
            "Detailed classification report:\n",
            "\n",
            "The model is trained on the full development set.\n",
            "The scores are computed on the full evaluation set.\n",
            "\n",
            "              precision    recall  f1-score   support\n",
            "\n",
            "           1       0.79      0.92      0.85        25\n",
            "           2       0.50      0.25      0.33         8\n",
            "\n",
            "    accuracy                           0.76        33\n",
            "   macro avg       0.65      0.58      0.59        33\n",
            "weighted avg       0.72      0.76      0.73        33\n",
            "\n",
            "\n"
          ],
          "name": "stdout"
        }
      ]
    },
    {
      "cell_type": "markdown",
      "metadata": {
        "id": "RPruqbItpgte",
        "colab_type": "text"
      },
      "source": [
        "# Logistic Classifier"
      ]
    },
    {
      "cell_type": "code",
      "metadata": {
        "id": "XCGMIw2xpc8j",
        "colab_type": "code",
        "colab": {
          "base_uri": "https://localhost:8080/",
          "height": 67
        },
        "outputId": "53f6e34c-5810-4434-fde4-05d372fe1778"
      },
      "source": [
        "from sklearn.linear_model import LogisticRegression\n",
        "# Create regularization penalty space\n",
        "penalty = ['l1', 'l2']\n",
        "\n",
        "# Create regularization hyperparameter space\n",
        "C = np.logspace(0, 4, 10)\n",
        "\n",
        "# Create hyperparameter options\n",
        "hyperparameters = dict(C=C, penalty=penalty)\n",
        "\n",
        "\n",
        "\n",
        "logistic_mod = GridSearchCV(LogisticRegression(),param_grid = hyperparameters, \n",
        "                               cv = 2,  n_jobs=-1)\n",
        "\n",
        "model_res = logistic_mod.fit(X_train, y_train)\n",
        "\n",
        "ytest_pred=model_res.predict(X_test)\n",
        "print(model_res.score(X_test, y_test))\n",
        "\n",
        "print(confusion_matrix(y_test, ytest_pred))"
      ],
      "execution_count": 155,
      "outputs": [
        {
          "output_type": "stream",
          "text": [
            "0.7878787878787878\n",
            "[[23  2]\n",
            " [ 5  3]]\n"
          ],
          "name": "stdout"
        }
      ]
    },
    {
      "cell_type": "code",
      "metadata": {
        "id": "BhFPLrjOpc5Q",
        "colab_type": "code",
        "colab": {
          "base_uri": "https://localhost:8080/",
          "height": 168
        },
        "outputId": "7c9d9a20-9e6d-4146-9cf6-d3d3824643c4"
      },
      "source": [
        "## Metricas de validación\n",
        "from sklearn.metrics import classification_report\n",
        "target_names = ['class 1', 'class 2']\n",
        "print(classification_report(y_test, ytest_pred, target_names=target_names))"
      ],
      "execution_count": 156,
      "outputs": [
        {
          "output_type": "stream",
          "text": [
            "              precision    recall  f1-score   support\n",
            "\n",
            "     class 1       0.82      0.92      0.87        25\n",
            "     class 2       0.60      0.38      0.46         8\n",
            "\n",
            "    accuracy                           0.79        33\n",
            "   macro avg       0.71      0.65      0.66        33\n",
            "weighted avg       0.77      0.79      0.77        33\n",
            "\n"
          ],
          "name": "stdout"
        }
      ]
    },
    {
      "cell_type": "code",
      "metadata": {
        "id": "Wb2oNvztpc2O",
        "colab_type": "code",
        "colab": {}
      },
      "source": [
        "## BALANCEO "
      ],
      "execution_count": 0,
      "outputs": []
    },
    {
      "cell_type": "code",
      "metadata": {
        "id": "bsyucZtoo6ax",
        "colab_type": "code",
        "colab": {}
      },
      "source": [
        "## Boosting classifier\n",
        "from imblearn.ensemble import EasyEnsembleClassifier\n",
        "from sklearn.ensemble import AdaBoostClassifier\n",
        "from imblearn.ensemble import RUSBoostClassifier\n",
        "\n",
        "base_estimator = LogisticRegression(C=1.0, class_weight=None, dual=False, fit_intercept=True,\n",
        "                   intercept_scaling=1, l1_ratio=None, max_iter=100,\n",
        "                   multi_class='warn', n_jobs=None, penalty='l1',\n",
        "                   random_state=None, solver='warn', tol=0.0001, verbose=0,\n",
        "                   warm_start=False)\n",
        "eec = EasyEnsembleClassifier(n_estimators=10,\n",
        "                             base_estimator=base_estimator,\n",
        "                             n_jobs=-1)\n",
        "eec.fit(X_train, y_train)\n",
        "y_pred_eec = eec.predict(X_test)\n",
        "print('Easy ensemble classifier performance:')\n",
        "print('Balanced accuracy: {:.2f} - Geometric mean {:.2f}'\n",
        "      .format(balanced_accuracy_score(y_test, y_pred_eec),\n",
        "              geometric_mean_score(y_test, y_pred_eec)))\n",
        "cm_eec = confusion_matrix(y_test, y_pred_eec)\n",
        "fig, ax = plt.subplots(ncols=2)\n",
        "plot_confusion_matrix(cm_eec, classes=np.unique(outputs), ax=ax[0],\n",
        "                      title='Easy ensemble classifier')\n",
        "\n",
        "rusboost = RUSBoostClassifier(n_estimators=10,\n",
        "                              base_estimator=base_estimator)\n",
        "rusboost.fit(X_train, y_train)\n",
        "y_pred_rusboost = rusboost.predict(X_test)\n",
        "print('RUSBoost classifier performance:')\n",
        "print('Balanced accuracy: {:.2f} - Geometric mean {:.2f}'\n",
        "      .format(balanced_accuracy_score(y_test, y_pred_rusboost),\n",
        "              geometric_mean_score(y_test, y_pred_rusboost)))\n",
        "cm_rusboost = confusion_matrix(y_test, y_pred_rusboost)\n",
        "plot_confusion_matrix(cm_rusboost, classes=np.unique(outputs),\n",
        "                      ax=ax[1], title='RUSBoost classifier')\n",
        "\n",
        "plt.show()"
      ],
      "execution_count": 0,
      "outputs": []
    },
    {
      "cell_type": "code",
      "metadata": {
        "id": "__ctnnIcnH76",
        "colab_type": "code",
        "colab": {}
      },
      "source": [
        ""
      ],
      "execution_count": 0,
      "outputs": []
    },
    {
      "cell_type": "markdown",
      "metadata": {
        "id": "7GBiy30Y8Ock",
        "colab_type": "text"
      },
      "source": [
        "# AÑADIR NUEVAS MUESTRAS ARTIFICIALES"
      ]
    }
  ]
}