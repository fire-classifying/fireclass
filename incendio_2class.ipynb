{
  "nbformat": 4,
  "nbformat_minor": 0,
  "metadata": {
    "colab": {
      "name": "Untitled0.ipynb",
      "version": "0.3.2",
      "provenance": [],
      "include_colab_link": true
    },
    "kernelspec": {
      "name": "python3",
      "display_name": "Python 3"
    }
  },
  "cells": [
    {
      "cell_type": "markdown",
      "metadata": {
        "id": "view-in-github",
        "colab_type": "text"
      },
      "source": [
        "<a href=\"https://colab.research.google.com/github/fire-classifying/fireclass/blob/master/incendio_2class.ipynb\" target=\"_parent\"><img src=\"https://colab.research.google.com/assets/colab-badge.svg\" alt=\"Open In Colab\"/></a>"
      ]
    },
    {
      "cell_type": "code",
      "metadata": {
        "id": "3TztdST6ZMaz",
        "colab_type": "code",
        "colab": {
          "base_uri": "https://localhost:8080/",
          "height": 122
        },
        "outputId": "01b43ca1-33a6-401c-d1ed-3343d1b6a4da"
      },
      "source": [
        "# Ejecuta esta celda para activar tu cuenta de Google Drive.\n",
        "from google.colab import drive\n",
        "drive.mount('/content/drive')"
      ],
      "execution_count": 1,
      "outputs": [
        {
          "output_type": "stream",
          "text": [
            "Go to this URL in a browser: https://accounts.google.com/o/oauth2/auth?client_id=947318989803-6bn6qk8qdgf4n4g3pfee6491hc0brc4i.apps.googleusercontent.com&redirect_uri=urn%3Aietf%3Awg%3Aoauth%3A2.0%3Aoob&scope=email%20https%3A%2F%2Fwww.googleapis.com%2Fauth%2Fdocs.test%20https%3A%2F%2Fwww.googleapis.com%2Fauth%2Fdrive%20https%3A%2F%2Fwww.googleapis.com%2Fauth%2Fdrive.photos.readonly%20https%3A%2F%2Fwww.googleapis.com%2Fauth%2Fpeopleapi.readonly&response_type=code\n",
            "\n",
            "Enter your authorization code:\n",
            "··········\n",
            "Mounted at /content/drive\n"
          ],
          "name": "stdout"
        }
      ]
    },
    {
      "cell_type": "code",
      "metadata": {
        "id": "kA0ucVgcZS4p",
        "colab_type": "code",
        "colab": {
          "base_uri": "https://localhost:8080/",
          "height": 1000
        },
        "outputId": "09da66b0-1522-440f-f5bf-fc6ac7848d43"
      },
      "source": [
        "!pip install fastai==0.7.0\n"
      ],
      "execution_count": 2,
      "outputs": [
        {
          "output_type": "stream",
          "text": [
            "Collecting fastai==0.7.0\n",
            "\u001b[?25l  Downloading https://files.pythonhosted.org/packages/50/6d/9d0d6e17a78b0598d5e8c49a0d03ffc7ff265ae62eca3e2345fab14edb9b/fastai-0.7.0-py3-none-any.whl (112kB)\n",
            "\u001b[K     |████████████████████████████████| 122kB 4.9MB/s \n",
            "\u001b[?25hRequirement already satisfied: opencv-python in /usr/local/lib/python3.6/dist-packages (from fastai==0.7.0) (3.4.5.20)\n",
            "Requirement already satisfied: simplegeneric in /usr/local/lib/python3.6/dist-packages (from fastai==0.7.0) (0.8.1)\n",
            "Requirement already satisfied: graphviz in /usr/local/lib/python3.6/dist-packages (from fastai==0.7.0) (0.10.1)\n",
            "Requirement already satisfied: pyparsing in /usr/local/lib/python3.6/dist-packages (from fastai==0.7.0) (2.4.0)\n",
            "Requirement already satisfied: certifi in /usr/local/lib/python3.6/dist-packages (from fastai==0.7.0) (2019.6.16)\n",
            "Collecting bcolz (from fastai==0.7.0)\n",
            "\u001b[?25l  Downloading https://files.pythonhosted.org/packages/5c/4e/23942de9d5c0fb16f10335fa83e52b431bcb8c0d4a8419c9ac206268c279/bcolz-1.2.1.tar.gz (1.5MB)\n",
            "\u001b[K     |████████████████████████████████| 1.5MB 16.8MB/s \n",
            "\u001b[?25hRequirement already satisfied: scipy in /usr/local/lib/python3.6/dist-packages (from fastai==0.7.0) (1.3.0)\n",
            "Requirement already satisfied: sklearn-pandas in /usr/local/lib/python3.6/dist-packages (from fastai==0.7.0) (1.8.0)\n",
            "Requirement already satisfied: widgetsnbextension in /usr/local/lib/python3.6/dist-packages (from fastai==0.7.0) (3.4.2)\n",
            "Requirement already satisfied: ipywidgets in /usr/local/lib/python3.6/dist-packages (from fastai==0.7.0) (7.4.2)\n",
            "Requirement already satisfied: python-dateutil in /usr/local/lib/python3.6/dist-packages (from fastai==0.7.0) (2.5.3)\n",
            "Requirement already satisfied: tqdm in /usr/local/lib/python3.6/dist-packages (from fastai==0.7.0) (4.28.1)\n",
            "Requirement already satisfied: pickleshare in /usr/local/lib/python3.6/dist-packages (from fastai==0.7.0) (0.7.5)\n",
            "Requirement already satisfied: testpath in /usr/local/lib/python3.6/dist-packages (from fastai==0.7.0) (0.4.2)\n",
            "Requirement already satisfied: PyYAML in /usr/local/lib/python3.6/dist-packages (from fastai==0.7.0) (3.13)\n",
            "Requirement already satisfied: entrypoints in /usr/local/lib/python3.6/dist-packages (from fastai==0.7.0) (0.3)\n",
            "Requirement already satisfied: cycler in /usr/local/lib/python3.6/dist-packages (from fastai==0.7.0) (0.10.0)\n",
            "Requirement already satisfied: pandas in /usr/local/lib/python3.6/dist-packages (from fastai==0.7.0) (0.24.2)\n",
            "Requirement already satisfied: feather-format in /usr/local/lib/python3.6/dist-packages (from fastai==0.7.0) (0.4.0)\n",
            "Collecting pandas-summary (from fastai==0.7.0)\n",
            "  Downloading https://files.pythonhosted.org/packages/6b/00/f7b4d7fd901db9a79d63e88000bd1e12efba4f5fb52608f906d7fea2b18f/pandas_summary-0.0.6-py2.py3-none-any.whl\n",
            "Requirement already satisfied: seaborn in /usr/local/lib/python3.6/dist-packages (from fastai==0.7.0) (0.9.0)\n",
            "Requirement already satisfied: torchtext in /usr/local/lib/python3.6/dist-packages (from fastai==0.7.0) (0.3.1)\n",
            "Collecting isoweek (from fastai==0.7.0)\n",
            "  Downloading https://files.pythonhosted.org/packages/c2/d4/fe7e2637975c476734fcbf53776e650a29680194eb0dd21dbdc020ca92de/isoweek-1.3.3-py2.py3-none-any.whl\n",
            "Requirement already satisfied: torchvision in /usr/local/lib/python3.6/dist-packages (from fastai==0.7.0) (0.3.0)\n",
            "Requirement already satisfied: MarkupSafe in /usr/local/lib/python3.6/dist-packages (from fastai==0.7.0) (1.1.1)\n",
            "Requirement already satisfied: jedi in /usr/local/lib/python3.6/dist-packages (from fastai==0.7.0) (0.14.0)\n",
            "Requirement already satisfied: wcwidth in /usr/local/lib/python3.6/dist-packages (from fastai==0.7.0) (0.1.7)\n",
            "Requirement already satisfied: webencodings in /usr/local/lib/python3.6/dist-packages (from fastai==0.7.0) (0.5.1)\n",
            "Requirement already satisfied: decorator in /usr/local/lib/python3.6/dist-packages (from fastai==0.7.0) (4.4.0)\n",
            "Requirement already satisfied: bleach in /usr/local/lib/python3.6/dist-packages (from fastai==0.7.0) (3.1.0)\n",
            "Requirement already satisfied: ipython in /usr/local/lib/python3.6/dist-packages (from fastai==0.7.0) (5.5.0)\n",
            "Requirement already satisfied: html5lib in /usr/local/lib/python3.6/dist-packages (from fastai==0.7.0) (1.0.1)\n",
            "Requirement already satisfied: ipython-genutils in /usr/local/lib/python3.6/dist-packages (from fastai==0.7.0) (0.2.0)\n",
            "Requirement already satisfied: jupyter in /usr/local/lib/python3.6/dist-packages (from fastai==0.7.0) (1.0.0)\n",
            "Requirement already satisfied: numpy in /usr/local/lib/python3.6/dist-packages (from fastai==0.7.0) (1.16.4)\n",
            "Requirement already satisfied: Pillow in /usr/local/lib/python3.6/dist-packages (from fastai==0.7.0) (4.3.0)\n",
            "Requirement already satisfied: Jinja2 in /usr/local/lib/python3.6/dist-packages (from fastai==0.7.0) (2.10.1)\n",
            "Requirement already satisfied: pyzmq in /usr/local/lib/python3.6/dist-packages (from fastai==0.7.0) (17.0.0)\n",
            "Requirement already satisfied: pytz in /usr/local/lib/python3.6/dist-packages (from fastai==0.7.0) (2018.9)\n",
            "Requirement already satisfied: jsonschema in /usr/local/lib/python3.6/dist-packages (from fastai==0.7.0) (2.6.0)\n",
            "Requirement already satisfied: ptyprocess in /usr/local/lib/python3.6/dist-packages (from fastai==0.7.0) (0.6.0)\n",
            "Requirement already satisfied: Pygments in /usr/local/lib/python3.6/dist-packages (from fastai==0.7.0) (2.1.3)\n",
            "Requirement already satisfied: ipykernel in /usr/local/lib/python3.6/dist-packages (from fastai==0.7.0) (4.6.1)\n",
            "Requirement already satisfied: plotnine in /usr/local/lib/python3.6/dist-packages (from fastai==0.7.0) (0.5.1)\n",
            "Collecting torch<0.4 (from fastai==0.7.0)\n",
            "\u001b[?25l  Downloading https://files.pythonhosted.org/packages/5b/a5/e8b50b55b1abac9f1e3346c4242f1e42a82d368a8442cbd50c532922f6c4/torch-0.3.1-cp36-cp36m-manylinux1_x86_64.whl (496.4MB)\n",
            "\u001b[K     |████████████████████████████████| 496.4MB 27kB/s \n",
            "\u001b[?25hRequirement already satisfied: traitlets in /usr/local/lib/python3.6/dist-packages (from fastai==0.7.0) (4.3.2)\n",
            "Requirement already satisfied: matplotlib in /usr/local/lib/python3.6/dist-packages (from fastai==0.7.0) (3.0.3)\n",
            "Requirement already satisfied: tornado in /usr/local/lib/python3.6/dist-packages (from fastai==0.7.0) (4.5.3)\n",
            "Requirement already satisfied: scikit-learn>=0.15.0 in /usr/local/lib/python3.6/dist-packages (from sklearn-pandas->fastai==0.7.0) (0.21.2)\n",
            "Requirement already satisfied: notebook>=4.4.1 in /usr/local/lib/python3.6/dist-packages (from widgetsnbextension->fastai==0.7.0) (5.2.2)\n",
            "Requirement already satisfied: nbformat>=4.2.0 in /usr/local/lib/python3.6/dist-packages (from ipywidgets->fastai==0.7.0) (4.4.0)\n",
            "Requirement already satisfied: six>=1.5 in /usr/local/lib/python3.6/dist-packages (from python-dateutil->fastai==0.7.0) (1.12.0)\n",
            "Requirement already satisfied: pyarrow>=0.4.0 in /usr/local/lib/python3.6/dist-packages (from feather-format->fastai==0.7.0) (0.13.0)\n",
            "Requirement already satisfied: requests in /usr/local/lib/python3.6/dist-packages (from torchtext->fastai==0.7.0) (2.21.0)\n",
            "Requirement already satisfied: parso>=0.3.0 in /usr/local/lib/python3.6/dist-packages (from jedi->fastai==0.7.0) (0.5.0)\n",
            "Requirement already satisfied: setuptools>=18.5 in /usr/local/lib/python3.6/dist-packages (from ipython->fastai==0.7.0) (41.0.1)\n",
            "Requirement already satisfied: pexpect; sys_platform != \"win32\" in /usr/local/lib/python3.6/dist-packages (from ipython->fastai==0.7.0) (4.7.0)\n",
            "Requirement already satisfied: prompt-toolkit<2.0.0,>=1.0.4 in /usr/local/lib/python3.6/dist-packages (from ipython->fastai==0.7.0) (1.0.16)\n",
            "Requirement already satisfied: jupyter-console in /usr/local/lib/python3.6/dist-packages (from jupyter->fastai==0.7.0) (6.0.0)\n",
            "Requirement already satisfied: nbconvert in /usr/local/lib/python3.6/dist-packages (from jupyter->fastai==0.7.0) (5.5.0)\n",
            "Requirement already satisfied: qtconsole in /usr/local/lib/python3.6/dist-packages (from jupyter->fastai==0.7.0) (4.5.1)\n",
            "Requirement already satisfied: olefile in /usr/local/lib/python3.6/dist-packages (from Pillow->fastai==0.7.0) (0.46)\n",
            "Requirement already satisfied: jupyter-client in /usr/local/lib/python3.6/dist-packages (from ipykernel->fastai==0.7.0) (5.2.4)\n",
            "Requirement already satisfied: descartes>=1.1.0 in /usr/local/lib/python3.6/dist-packages (from plotnine->fastai==0.7.0) (1.1.0)\n",
            "Requirement already satisfied: mizani>=0.5.2 in /usr/local/lib/python3.6/dist-packages (from plotnine->fastai==0.7.0) (0.5.4)\n",
            "Requirement already satisfied: statsmodels>=0.8.0 in /usr/local/lib/python3.6/dist-packages (from plotnine->fastai==0.7.0) (0.10.0)\n",
            "Requirement already satisfied: patsy>=0.4.1 in /usr/local/lib/python3.6/dist-packages (from plotnine->fastai==0.7.0) (0.5.1)\n",
            "Requirement already satisfied: kiwisolver>=1.0.1 in /usr/local/lib/python3.6/dist-packages (from matplotlib->fastai==0.7.0) (1.1.0)\n",
            "Requirement already satisfied: joblib>=0.11 in /usr/local/lib/python3.6/dist-packages (from scikit-learn>=0.15.0->sklearn-pandas->fastai==0.7.0) (0.13.2)\n",
            "Requirement already satisfied: jupyter-core in /usr/local/lib/python3.6/dist-packages (from notebook>=4.4.1->widgetsnbextension->fastai==0.7.0) (4.5.0)\n",
            "Requirement already satisfied: terminado>=0.3.3; sys_platform != \"win32\" in /usr/local/lib/python3.6/dist-packages (from notebook>=4.4.1->widgetsnbextension->fastai==0.7.0) (0.8.2)\n",
            "Requirement already satisfied: idna<2.9,>=2.5 in /usr/local/lib/python3.6/dist-packages (from requests->torchtext->fastai==0.7.0) (2.8)\n",
            "Requirement already satisfied: chardet<3.1.0,>=3.0.2 in /usr/local/lib/python3.6/dist-packages (from requests->torchtext->fastai==0.7.0) (3.0.4)\n",
            "Requirement already satisfied: urllib3<1.25,>=1.21.1 in /usr/local/lib/python3.6/dist-packages (from requests->torchtext->fastai==0.7.0) (1.24.3)\n",
            "Requirement already satisfied: pandocfilters>=1.4.1 in /usr/local/lib/python3.6/dist-packages (from nbconvert->jupyter->fastai==0.7.0) (1.4.2)\n",
            "Requirement already satisfied: mistune>=0.8.1 in /usr/local/lib/python3.6/dist-packages (from nbconvert->jupyter->fastai==0.7.0) (0.8.4)\n",
            "Requirement already satisfied: defusedxml in /usr/local/lib/python3.6/dist-packages (from nbconvert->jupyter->fastai==0.7.0) (0.6.0)\n",
            "Requirement already satisfied: palettable in /usr/local/lib/python3.6/dist-packages (from mizani>=0.5.2->plotnine->fastai==0.7.0) (3.1.1)\n",
            "Building wheels for collected packages: bcolz\n",
            "  Building wheel for bcolz (setup.py) ... \u001b[?25l\u001b[?25hdone\n",
            "  Stored in directory: /root/.cache/pip/wheels/9f/78/26/fb8c0acb91a100dc8914bf236c4eaa4b207cb876893c40b745\n",
            "Successfully built bcolz\n",
            "\u001b[31mERROR: torchvision 0.3.0 has requirement torch>=1.1.0, but you'll have torch 0.3.1 which is incompatible.\u001b[0m\n",
            "Installing collected packages: bcolz, pandas-summary, isoweek, torch, fastai\n",
            "  Found existing installation: torch 1.1.0\n",
            "    Uninstalling torch-1.1.0:\n",
            "      Successfully uninstalled torch-1.1.0\n",
            "  Found existing installation: fastai 1.0.54\n",
            "    Uninstalling fastai-1.0.54:\n",
            "      Successfully uninstalled fastai-1.0.54\n",
            "Successfully installed bcolz-1.2.1 fastai-0.7.0 isoweek-1.3.3 pandas-summary-0.0.6 torch-0.3.1\n"
          ],
          "name": "stdout"
        }
      ]
    },
    {
      "cell_type": "code",
      "metadata": {
        "id": "UNaFfATmZS0K",
        "colab_type": "code",
        "colab": {}
      },
      "source": [
        "# En primer lugar importamos las librerías\n",
        "\n",
        "import pandas as pd\n",
        "import seaborn as sns\n",
        "import matplotlib\n",
        "import matplotlib.pyplot as plt\n",
        "import numpy as np\n",
        "from fastai.imports import *\n",
        "from fastai.structured import *\n",
        "from scipy.stats import norm\n",
        "from scipy import stats\n",
        "\n",
        "import warnings\n",
        "warnings.filterwarnings('ignore') # Para evitar los molestos avisos.\n",
        "\n",
        "from sklearn.model_selection import train_test_split\n",
        "from sklearn.linear_model import SGDClassifier\n",
        "from sklearn.preprocessing import StandardScaler\n",
        "\n",
        "%matplotlib inline \n",
        "\n",
        "RANDOM_SEED = 33\n",
        "\n",
        "plt.style.use('bmh')"
      ],
      "execution_count": 0,
      "outputs": []
    },
    {
      "cell_type": "code",
      "metadata": {
        "id": "qGUMBC7lZSxB",
        "colab_type": "code",
        "colab": {
          "base_uri": "https://localhost:8080/",
          "height": 379
        },
        "outputId": "f50f2ade-0498-4617-e51a-5da07b3d642d"
      },
      "source": [
        "# Iniciamos el proceso de análisis, estudiando los datos disponibles\n",
        "\n",
        "df = pd.read_csv('/content/drive/My Drive/Incendios_dataset.csv', delimiter = ',') \n",
        "\n",
        "df.head(10)"
      ],
      "execution_count": 4,
      "outputs": [
        {
          "output_type": "execute_result",
          "data": {
            "text/html": [
              "<div>\n",
              "<style scoped>\n",
              "    .dataframe tbody tr th:only-of-type {\n",
              "        vertical-align: middle;\n",
              "    }\n",
              "\n",
              "    .dataframe tbody tr th {\n",
              "        vertical-align: top;\n",
              "    }\n",
              "\n",
              "    .dataframe thead th {\n",
              "        text-align: right;\n",
              "    }\n",
              "</style>\n",
              "<table border=\"1\" class=\"dataframe\">\n",
              "  <thead>\n",
              "    <tr style=\"text-align: right;\">\n",
              "      <th></th>\n",
              "      <th>fecha</th>\n",
              "      <th>Mod_comb</th>\n",
              "      <th>NDVI</th>\n",
              "      <th>sup_quemad</th>\n",
              "      <th>sup_arb</th>\n",
              "      <th>sup_pastiz</th>\n",
              "      <th>sup_matorr</th>\n",
              "      <th>w_arb</th>\n",
              "      <th>w_pastiz</th>\n",
              "      <th>w_matorr</th>\n",
              "      <th>rk_Cuenc_F</th>\n",
              "      <th>rk_hist_Cu</th>\n",
              "      <th>rk_hist_us</th>\n",
              "      <th>rk_orograf</th>\n",
              "      <th>rk_peligro</th>\n",
              "      <th>rk_pte</th>\n",
              "      <th>vuln_equip</th>\n",
              "      <th>vuln_forve</th>\n",
              "      <th>vuln_infra</th>\n",
              "      <th>vuln_max</th>\n",
              "      <th>vuln_pathi</th>\n",
              "      <th>LST</th>\n",
              "      <th>rk_combUSIF</th>\n",
              "      <th>rk_combCuencExtr</th>\n",
              "      <th>rk_combCuencSup</th>\n",
              "      <th>Velocidad_Viento</th>\n",
              "      <th>Dirección_Viento</th>\n",
              "      <th>Humedad_Relativa</th>\n",
              "      <th>Temperatura_Máxima</th>\n",
              "      <th>Temperatura_Media</th>\n",
              "      <th>ETo_acumulada</th>\n",
              "      <th>Precipitación_acumulada</th>\n",
              "    </tr>\n",
              "  </thead>\n",
              "  <tbody>\n",
              "    <tr>\n",
              "      <th>0</th>\n",
              "      <td>13/08/2008</td>\n",
              "      <td>7.0</td>\n",
              "      <td>3747.28</td>\n",
              "      <td>37.900002</td>\n",
              "      <td>37.900002</td>\n",
              "      <td>0.000000</td>\n",
              "      <td>0.000000</td>\n",
              "      <td>1.000000</td>\n",
              "      <td>0.000000</td>\n",
              "      <td>0.000000</td>\n",
              "      <td>5</td>\n",
              "      <td>5</td>\n",
              "      <td>2</td>\n",
              "      <td>2</td>\n",
              "      <td>1</td>\n",
              "      <td>1</td>\n",
              "      <td>1</td>\n",
              "      <td>4</td>\n",
              "      <td>2</td>\n",
              "      <td>4</td>\n",
              "      <td>1</td>\n",
              "      <td>39.19</td>\n",
              "      <td>4</td>\n",
              "      <td>4</td>\n",
              "      <td>3</td>\n",
              "      <td>1.0</td>\n",
              "      <td>310.0</td>\n",
              "      <td>43.0</td>\n",
              "      <td>34.0</td>\n",
              "      <td>23.8</td>\n",
              "      <td>1043.41</td>\n",
              "      <td>487.4</td>\n",
              "    </tr>\n",
              "    <tr>\n",
              "      <th>1</th>\n",
              "      <td>30/06/2008</td>\n",
              "      <td>4.0</td>\n",
              "      <td>3981.50</td>\n",
              "      <td>17.077999</td>\n",
              "      <td>16.073999</td>\n",
              "      <td>1.004000</td>\n",
              "      <td>0.000000</td>\n",
              "      <td>0.941211</td>\n",
              "      <td>0.058789</td>\n",
              "      <td>0.000000</td>\n",
              "      <td>5</td>\n",
              "      <td>5</td>\n",
              "      <td>5</td>\n",
              "      <td>2</td>\n",
              "      <td>3</td>\n",
              "      <td>4</td>\n",
              "      <td>1</td>\n",
              "      <td>4</td>\n",
              "      <td>5</td>\n",
              "      <td>5</td>\n",
              "      <td>1</td>\n",
              "      <td>33.99</td>\n",
              "      <td>5</td>\n",
              "      <td>5</td>\n",
              "      <td>4</td>\n",
              "      <td>1.6</td>\n",
              "      <td>268.8</td>\n",
              "      <td>48.6</td>\n",
              "      <td>38.4</td>\n",
              "      <td>28.9</td>\n",
              "      <td>968.59</td>\n",
              "      <td>658.2</td>\n",
              "    </tr>\n",
              "    <tr>\n",
              "      <th>2</th>\n",
              "      <td>15/07/2009</td>\n",
              "      <td>1.0</td>\n",
              "      <td>3811.66</td>\n",
              "      <td>18.040001</td>\n",
              "      <td>0.180000</td>\n",
              "      <td>14.740000</td>\n",
              "      <td>3.120000</td>\n",
              "      <td>0.009978</td>\n",
              "      <td>0.817073</td>\n",
              "      <td>0.172949</td>\n",
              "      <td>3</td>\n",
              "      <td>4</td>\n",
              "      <td>3</td>\n",
              "      <td>3</td>\n",
              "      <td>1</td>\n",
              "      <td>2</td>\n",
              "      <td>1</td>\n",
              "      <td>4</td>\n",
              "      <td>3</td>\n",
              "      <td>4</td>\n",
              "      <td>1</td>\n",
              "      <td>42.45</td>\n",
              "      <td>5</td>\n",
              "      <td>4</td>\n",
              "      <td>4</td>\n",
              "      <td>1.6</td>\n",
              "      <td>240.0</td>\n",
              "      <td>38.0</td>\n",
              "      <td>37.0</td>\n",
              "      <td>26.1</td>\n",
              "      <td>1087.09</td>\n",
              "      <td>411.0</td>\n",
              "    </tr>\n",
              "    <tr>\n",
              "      <th>3</th>\n",
              "      <td>25/07/2009</td>\n",
              "      <td>10.0</td>\n",
              "      <td>3536.00</td>\n",
              "      <td>10.120000</td>\n",
              "      <td>0.000000</td>\n",
              "      <td>10.120000</td>\n",
              "      <td>0.000000</td>\n",
              "      <td>0.000000</td>\n",
              "      <td>1.000000</td>\n",
              "      <td>0.000000</td>\n",
              "      <td>5</td>\n",
              "      <td>5</td>\n",
              "      <td>3</td>\n",
              "      <td>2</td>\n",
              "      <td>2</td>\n",
              "      <td>1</td>\n",
              "      <td>1</td>\n",
              "      <td>3</td>\n",
              "      <td>5</td>\n",
              "      <td>5</td>\n",
              "      <td>1</td>\n",
              "      <td>46.99</td>\n",
              "      <td>5</td>\n",
              "      <td>5</td>\n",
              "      <td>4</td>\n",
              "      <td>1.2</td>\n",
              "      <td>292.0</td>\n",
              "      <td>42.5</td>\n",
              "      <td>39.2</td>\n",
              "      <td>29.1</td>\n",
              "      <td>1129.46</td>\n",
              "      <td>508.2</td>\n",
              "    </tr>\n",
              "    <tr>\n",
              "      <th>4</th>\n",
              "      <td>28/05/2009</td>\n",
              "      <td>NaN</td>\n",
              "      <td>2132.06</td>\n",
              "      <td>56.220001</td>\n",
              "      <td>15.590000</td>\n",
              "      <td>0.000000</td>\n",
              "      <td>40.630001</td>\n",
              "      <td>0.277303</td>\n",
              "      <td>0.000000</td>\n",
              "      <td>0.722697</td>\n",
              "      <td>5</td>\n",
              "      <td>5</td>\n",
              "      <td>3</td>\n",
              "      <td>2</td>\n",
              "      <td>1</td>\n",
              "      <td>1</td>\n",
              "      <td>1</td>\n",
              "      <td>3</td>\n",
              "      <td>5</td>\n",
              "      <td>5</td>\n",
              "      <td>1</td>\n",
              "      <td>33.75</td>\n",
              "      <td>5</td>\n",
              "      <td>5</td>\n",
              "      <td>5</td>\n",
              "      <td>1.3</td>\n",
              "      <td>290.0</td>\n",
              "      <td>37.4</td>\n",
              "      <td>33.3</td>\n",
              "      <td>24.5</td>\n",
              "      <td>741.75</td>\n",
              "      <td>495.2</td>\n",
              "    </tr>\n",
              "    <tr>\n",
              "      <th>5</th>\n",
              "      <td>24/06/2009</td>\n",
              "      <td>NaN</td>\n",
              "      <td>NaN</td>\n",
              "      <td>11.000000</td>\n",
              "      <td>0.000000</td>\n",
              "      <td>11.000000</td>\n",
              "      <td>0.000000</td>\n",
              "      <td>0.000000</td>\n",
              "      <td>1.000000</td>\n",
              "      <td>0.000000</td>\n",
              "      <td>4</td>\n",
              "      <td>4</td>\n",
              "      <td>5</td>\n",
              "      <td>2</td>\n",
              "      <td>1</td>\n",
              "      <td>1</td>\n",
              "      <td>1</td>\n",
              "      <td>3</td>\n",
              "      <td>4</td>\n",
              "      <td>4</td>\n",
              "      <td>1</td>\n",
              "      <td>43.05</td>\n",
              "      <td>5</td>\n",
              "      <td>5</td>\n",
              "      <td>5</td>\n",
              "      <td>2.0</td>\n",
              "      <td>298.4</td>\n",
              "      <td>80.1</td>\n",
              "      <td>29.7</td>\n",
              "      <td>22.7</td>\n",
              "      <td>884.09</td>\n",
              "      <td>369.2</td>\n",
              "    </tr>\n",
              "    <tr>\n",
              "      <th>6</th>\n",
              "      <td>03/07/2009</td>\n",
              "      <td>3.0</td>\n",
              "      <td>2384.00</td>\n",
              "      <td>27.180000</td>\n",
              "      <td>6.850000</td>\n",
              "      <td>9.479999</td>\n",
              "      <td>10.850000</td>\n",
              "      <td>0.252024</td>\n",
              "      <td>0.348786</td>\n",
              "      <td>0.399191</td>\n",
              "      <td>4</td>\n",
              "      <td>3</td>\n",
              "      <td>1</td>\n",
              "      <td>2</td>\n",
              "      <td>2</td>\n",
              "      <td>1</td>\n",
              "      <td>1</td>\n",
              "      <td>3</td>\n",
              "      <td>5</td>\n",
              "      <td>5</td>\n",
              "      <td>1</td>\n",
              "      <td>47.89</td>\n",
              "      <td>1</td>\n",
              "      <td>1</td>\n",
              "      <td>1</td>\n",
              "      <td>2.0</td>\n",
              "      <td>290.0</td>\n",
              "      <td>77.0</td>\n",
              "      <td>38.7</td>\n",
              "      <td>29.2</td>\n",
              "      <td>963.57</td>\n",
              "      <td>439.8</td>\n",
              "    </tr>\n",
              "    <tr>\n",
              "      <th>7</th>\n",
              "      <td>14/08/2009</td>\n",
              "      <td>NaN</td>\n",
              "      <td>NaN</td>\n",
              "      <td>11.979999</td>\n",
              "      <td>8.720000</td>\n",
              "      <td>1.230000</td>\n",
              "      <td>2.030000</td>\n",
              "      <td>0.727880</td>\n",
              "      <td>0.102671</td>\n",
              "      <td>0.169449</td>\n",
              "      <td>3</td>\n",
              "      <td>4</td>\n",
              "      <td>2</td>\n",
              "      <td>2</td>\n",
              "      <td>1</td>\n",
              "      <td>1</td>\n",
              "      <td>1</td>\n",
              "      <td>4</td>\n",
              "      <td>5</td>\n",
              "      <td>5</td>\n",
              "      <td>1</td>\n",
              "      <td>40.25</td>\n",
              "      <td>4</td>\n",
              "      <td>5</td>\n",
              "      <td>5</td>\n",
              "      <td>2.2</td>\n",
              "      <td>323.1</td>\n",
              "      <td>28.0</td>\n",
              "      <td>37.3</td>\n",
              "      <td>28.4</td>\n",
              "      <td>1344.11</td>\n",
              "      <td>548.2</td>\n",
              "    </tr>\n",
              "    <tr>\n",
              "      <th>8</th>\n",
              "      <td>28/08/2010</td>\n",
              "      <td>6.0</td>\n",
              "      <td>4338.80</td>\n",
              "      <td>29.169001</td>\n",
              "      <td>21.518000</td>\n",
              "      <td>0.631000</td>\n",
              "      <td>7.020000</td>\n",
              "      <td>0.737701</td>\n",
              "      <td>0.021633</td>\n",
              "      <td>0.240666</td>\n",
              "      <td>5</td>\n",
              "      <td>5</td>\n",
              "      <td>5</td>\n",
              "      <td>2</td>\n",
              "      <td>3</td>\n",
              "      <td>4</td>\n",
              "      <td>1</td>\n",
              "      <td>4</td>\n",
              "      <td>3</td>\n",
              "      <td>4</td>\n",
              "      <td>1</td>\n",
              "      <td>41.77</td>\n",
              "      <td>5</td>\n",
              "      <td>5</td>\n",
              "      <td>5</td>\n",
              "      <td>1.5</td>\n",
              "      <td>230.0</td>\n",
              "      <td>68.1</td>\n",
              "      <td>38.4</td>\n",
              "      <td>30.1</td>\n",
              "      <td>1289.75</td>\n",
              "      <td>1256.4</td>\n",
              "    </tr>\n",
              "    <tr>\n",
              "      <th>9</th>\n",
              "      <td>25/07/2010</td>\n",
              "      <td>1.0</td>\n",
              "      <td>4090.40</td>\n",
              "      <td>27.150000</td>\n",
              "      <td>2.200000</td>\n",
              "      <td>0.000000</td>\n",
              "      <td>24.950001</td>\n",
              "      <td>0.081031</td>\n",
              "      <td>0.000000</td>\n",
              "      <td>0.918969</td>\n",
              "      <td>5</td>\n",
              "      <td>4</td>\n",
              "      <td>2</td>\n",
              "      <td>2</td>\n",
              "      <td>2</td>\n",
              "      <td>1</td>\n",
              "      <td>1</td>\n",
              "      <td>4</td>\n",
              "      <td>2</td>\n",
              "      <td>4</td>\n",
              "      <td>1</td>\n",
              "      <td>36.49</td>\n",
              "      <td>4</td>\n",
              "      <td>3</td>\n",
              "      <td>2</td>\n",
              "      <td>1.6</td>\n",
              "      <td>254.0</td>\n",
              "      <td>78.0</td>\n",
              "      <td>35.6</td>\n",
              "      <td>27.5</td>\n",
              "      <td>1179.75</td>\n",
              "      <td>901.0</td>\n",
              "    </tr>\n",
              "  </tbody>\n",
              "</table>\n",
              "</div>"
            ],
            "text/plain": [
              "        fecha  Mod_comb  ...  ETo_acumulada  Precipitación_acumulada\n",
              "0  13/08/2008       7.0  ...        1043.41                    487.4\n",
              "1  30/06/2008       4.0  ...         968.59                    658.2\n",
              "2  15/07/2009       1.0  ...        1087.09                    411.0\n",
              "3  25/07/2009      10.0  ...        1129.46                    508.2\n",
              "4  28/05/2009       NaN  ...         741.75                    495.2\n",
              "5  24/06/2009       NaN  ...         884.09                    369.2\n",
              "6  03/07/2009       3.0  ...         963.57                    439.8\n",
              "7  14/08/2009       NaN  ...        1344.11                    548.2\n",
              "8  28/08/2010       6.0  ...        1289.75                   1256.4\n",
              "9  25/07/2010       1.0  ...        1179.75                    901.0\n",
              "\n",
              "[10 rows x 32 columns]"
            ]
          },
          "metadata": {
            "tags": []
          },
          "execution_count": 4
        }
      ]
    },
    {
      "cell_type": "code",
      "metadata": {
        "id": "-xTv-OeNZSuD",
        "colab_type": "code",
        "colab": {
          "base_uri": "https://localhost:8080/",
          "height": 170
        },
        "outputId": "f88853b4-e8a7-4d10-a781-5edbbada335d"
      },
      "source": [
        "df.columns"
      ],
      "execution_count": 5,
      "outputs": [
        {
          "output_type": "execute_result",
          "data": {
            "text/plain": [
              "Index(['fecha', 'Mod_comb', 'NDVI', 'sup_quemad', 'sup_arb', 'sup_pastiz',\n",
              "       'sup_matorr', 'w_arb', 'w_pastiz', 'w_matorr', 'rk_Cuenc_F',\n",
              "       'rk_hist_Cu', 'rk_hist_us', 'rk_orograf', 'rk_peligro', 'rk_pte',\n",
              "       'vuln_equip', 'vuln_forve', 'vuln_infra', 'vuln_max', 'vuln_pathi',\n",
              "       'LST', 'rk_combUSIF', 'rk_combCuencExtr', 'rk_combCuencSup',\n",
              "       'Velocidad_Viento', 'Dirección_Viento', 'Humedad_Relativa',\n",
              "       'Temperatura_Máxima', 'Temperatura_Media', 'ETo_acumulada',\n",
              "       'Precipitación_acumulada'],\n",
              "      dtype='object')"
            ]
          },
          "metadata": {
            "tags": []
          },
          "execution_count": 5
        }
      ]
    },
    {
      "cell_type": "code",
      "metadata": {
        "id": "M_V6XGUOZSrC",
        "colab_type": "code",
        "colab": {
          "base_uri": "https://localhost:8080/",
          "height": 646
        },
        "outputId": "2a946e86-762d-428a-a82f-3a85cec69865"
      },
      "source": [
        "df.info()"
      ],
      "execution_count": 6,
      "outputs": [
        {
          "output_type": "stream",
          "text": [
            "<class 'pandas.core.frame.DataFrame'>\n",
            "RangeIndex: 110 entries, 0 to 109\n",
            "Data columns (total 32 columns):\n",
            "fecha                      110 non-null object\n",
            "Mod_comb                   98 non-null float64\n",
            "NDVI                       102 non-null float64\n",
            "sup_quemad                 110 non-null float64\n",
            "sup_arb                    66 non-null float64\n",
            "sup_pastiz                 66 non-null float64\n",
            "sup_matorr                 66 non-null float64\n",
            "w_arb                      66 non-null float64\n",
            "w_pastiz                   66 non-null float64\n",
            "w_matorr                   66 non-null float64\n",
            "rk_Cuenc_F                 110 non-null int64\n",
            "rk_hist_Cu                 110 non-null int64\n",
            "rk_hist_us                 110 non-null int64\n",
            "rk_orograf                 110 non-null int64\n",
            "rk_peligro                 110 non-null int64\n",
            "rk_pte                     110 non-null int64\n",
            "vuln_equip                 110 non-null int64\n",
            "vuln_forve                 110 non-null int64\n",
            "vuln_infra                 110 non-null int64\n",
            "vuln_max                   110 non-null int64\n",
            "vuln_pathi                 110 non-null int64\n",
            "LST                        108 non-null float64\n",
            "rk_combUSIF                110 non-null int64\n",
            "rk_combCuencExtr           110 non-null int64\n",
            "rk_combCuencSup            110 non-null int64\n",
            "Velocidad_Viento           110 non-null float64\n",
            "Dirección_Viento           110 non-null float64\n",
            "Humedad_Relativa           109 non-null float64\n",
            "Temperatura_Máxima         109 non-null float64\n",
            "Temperatura_Media          109 non-null float64\n",
            "ETo_acumulada              109 non-null float64\n",
            "Precipitación_acumulada    109 non-null float64\n",
            "dtypes: float64(17), int64(14), object(1)\n",
            "memory usage: 27.6+ KB\n"
          ],
          "name": "stdout"
        }
      ]
    },
    {
      "cell_type": "code",
      "metadata": {
        "id": "H-Yzg7TZZSn5",
        "colab_type": "code",
        "colab": {}
      },
      "source": [
        ""
      ],
      "execution_count": 0,
      "outputs": []
    },
    {
      "cell_type": "markdown",
      "metadata": {
        "id": "T05isP6Aa2Ih",
        "colab_type": "text"
      },
      "source": [
        "# Data Mining"
      ]
    },
    {
      "cell_type": "code",
      "metadata": {
        "id": "0EU1XzggZSd6",
        "colab_type": "code",
        "colab": {}
      },
      "source": [
        "# Añadimos columnas fechaYear, FechaMonth, etc al dataset\n",
        "add_datepart(df, 'fecha')"
      ],
      "execution_count": 0,
      "outputs": []
    },
    {
      "cell_type": "code",
      "metadata": {
        "id": "cm_JIHWea7Lh",
        "colab_type": "code",
        "colab": {}
      },
      "source": [
        "# imputacion de valores NaN mediante el valor medio de cada columna\n",
        "\n",
        "def impute_nan_by_mean(dataframe):\n",
        " \n",
        " df = dataframe.copy()\n",
        " list_columns = df.columns[df.columns != 'category'] #-> Esto no está funcionando bien. Aquí sí, porque aún no hemos creado categorías\n",
        " \n",
        " for var in list_columns:\n",
        "   \n",
        "   #if type(dataframe[var]) != \"category\":\n",
        "     mean_var = df[var].mean()\n",
        "     df[var] = df[var].replace(np.nan, mean_var)\n",
        " \n",
        " return df"
      ],
      "execution_count": 0,
      "outputs": []
    },
    {
      "cell_type": "code",
      "metadata": {
        "id": "pgfthCmQbBmp",
        "colab_type": "code",
        "colab": {}
      },
      "source": [
        "df = impute_nan_by_mean(df)"
      ],
      "execution_count": 0,
      "outputs": []
    },
    {
      "cell_type": "code",
      "metadata": {
        "id": "OOFVSlmdbBkh",
        "colab_type": "code",
        "colab": {}
      },
      "source": [
        "# El campo 'cat_incendio' lo categorizamos en función de la superficie quemada\n",
        "# 1 -> pequeño (sup < 200Ha)\n",
        "# 2 -> grande (sup > 200 Ha)\n",
        "binInterval = [0,200,10000] \n",
        "binLabels = [1,2] \n",
        "df['cat_incendio'] = pd.cut(df['sup_quemad'], bins = binInterval, labels=binLabels)"
      ],
      "execution_count": 0,
      "outputs": []
    },
    {
      "cell_type": "code",
      "metadata": {
        "id": "1mkuWDFVkK75",
        "colab_type": "code",
        "colab": {
          "base_uri": "https://localhost:8080/",
          "height": 34
        },
        "outputId": "e56da36a-1e39-4bd9-eca0-46a972c91193"
      },
      "source": [
        "import collections\n",
        "print(collections.Counter(df.cat_incendio))"
      ],
      "execution_count": 64,
      "outputs": [
        {
          "output_type": "stream",
          "text": [
            "Counter({1: 82, 2: 27, nan: 1})\n"
          ],
          "name": "stdout"
        }
      ]
    },
    {
      "cell_type": "code",
      "metadata": {
        "id": "ikggvSUEkY3n",
        "colab_type": "code",
        "colab": {
          "base_uri": "https://localhost:8080/",
          "height": 34
        },
        "outputId": "d900e01d-30df-4a09-e247-374273e61704"
      },
      "source": [
        "print(len(df['cat_incendio']==2))"
      ],
      "execution_count": 62,
      "outputs": [
        {
          "output_type": "stream",
          "text": [
            "110\n"
          ],
          "name": "stdout"
        }
      ]
    },
    {
      "cell_type": "code",
      "metadata": {
        "id": "3EaEo5RIbBiA",
        "colab_type": "code",
        "colab": {}
      },
      "source": [
        "# El campo 'cat_dir_viento' lo categorizamos en función de la dirección del viento\n",
        "# 0 = dir < 45º\n",
        "# 1 = 45º < dir < 90º\n",
        "# 2 = 90º < dir < 135º\n",
        "# 3 = 135º < dir < 180º\n",
        "# 4 = 180º < dir < 225º\n",
        "# 5 = 225º < dir < 270º\n",
        "# 6 = 270º < dir < 315º\n",
        "# 7 = 315º < dir < 360º\n",
        "\n",
        "binInterval = [0,45,90,135,180,225,270,315,360] \n",
        "binLabels = [0,1,2,3,4,5,6,7] \n",
        "df['cat_dir_viento'] = pd.cut(df['Dirección_Viento'], bins = binInterval, labels=binLabels)"
      ],
      "execution_count": 0,
      "outputs": []
    },
    {
      "cell_type": "code",
      "metadata": {
        "id": "iG6R_dKAbea8",
        "colab_type": "code",
        "colab": {}
      },
      "source": [
        "# Añadimos una columna nueva y eliminamos las dos originales\n",
        "df['ned_hidricas'] = df.ETo_acumulada - df.Precipitación_acumulada\n",
        "df.drop('ETo_acumulada', axis = 1, inplace = True)\n",
        "df.drop('Precipitación_acumulada', axis = 1, inplace = True)"
      ],
      "execution_count": 0,
      "outputs": []
    },
    {
      "cell_type": "code",
      "metadata": {
        "id": "v-QNx2DRbeYD",
        "colab_type": "code",
        "colab": {}
      },
      "source": [
        "# Hacemos lo mismo con la vulnerabilidad, sustituyéndola por una media de las existentes\n",
        "df['vulnerabilidad'] = df[['vuln_equip','vuln_forve','vuln_infra','vuln_max','vuln_pathi']].mean(axis = 1)\n",
        "df.drop('vuln_equip', axis = 1, inplace = True)\n",
        "df.drop('vuln_forve', axis = 1, inplace = True)\n",
        "df.drop('vuln_infra', axis = 1, inplace = True)\n",
        "df.drop('vuln_max', axis = 1, inplace = True)\n",
        "df.drop('vuln_pathi', axis = 1, inplace = True)"
      ],
      "execution_count": 0,
      "outputs": []
    },
    {
      "cell_type": "code",
      "metadata": {
        "id": "e9hAT_qsbeU6",
        "colab_type": "code",
        "colab": {}
      },
      "source": [
        "#Eliminamos los riesgos de cuenca y modelos combustible por una variable única llamada riesgos. Los demás riesgos entendemos que deben existir\n",
        "\n",
        "df['riesgos_generales_cuenca'] = df[['rk_Cuenc_F','rk_hist_Cu','rk_hist_us','rk_combUSIF','rk_combCuencExtr','rk_combCuencSup']].mean(axis = 1)\n",
        "df.drop('rk_Cuenc_F', axis = 1, inplace = True)\n",
        "df.drop('rk_hist_Cu', axis = 1, inplace = True)\n",
        "df.drop('rk_hist_us', axis = 1, inplace = True)\n",
        "df.drop('rk_combUSIF', axis = 1, inplace = True)\n",
        "df.drop('rk_combCuencExtr', axis = 1, inplace = True)\n",
        "df.drop('rk_combCuencSup', axis = 1, inplace = True)"
      ],
      "execution_count": 0,
      "outputs": []
    },
    {
      "cell_type": "code",
      "metadata": {
        "id": "BvoiLqNBbeRq",
        "colab_type": "code",
        "colab": {}
      },
      "source": [
        "#Eliminamos los riesgos de pendientes y orografía por una sola variable\n",
        "df['riesgos_pendientes'] = df[['rk_orograf','rk_pte']].mean(axis = 1)\n",
        "df.drop('rk_orograf', axis = 1, inplace = True)\n",
        "df.drop('rk_pte', axis = 1, inplace = True)"
      ],
      "execution_count": 0,
      "outputs": []
    },
    {
      "cell_type": "code",
      "metadata": {
        "id": "-9wtsFO0beOr",
        "colab_type": "code",
        "colab": {}
      },
      "source": [
        "#Eliminamos las variables que están correlacionadas con la variable respuesta\n",
        "df.drop('sup_arb', axis = 1, inplace = True)\n",
        "df.drop('sup_pastiz', axis = 1, inplace = True)\n",
        "df.drop('sup_matorr', axis = 1, inplace = True)\n",
        "df.drop('w_arb', axis = 1, inplace = True)\n",
        "df.drop('w_pastiz', axis = 1, inplace = True)\n",
        "df.drop('w_matorr', axis = 1, inplace = True)"
      ],
      "execution_count": 0,
      "outputs": []
    },
    {
      "cell_type": "code",
      "metadata": {
        "id": "q_hAC5SbbxhZ",
        "colab_type": "code",
        "colab": {}
      },
      "source": [
        "# Normalizamos el NDVI para que tome valores entre -1 y 1\n",
        "df['ndvi_norm'] = ((df.NDVI -df.NDVI.mean())/df.NDVI.std())+(3/6)"
      ],
      "execution_count": 0,
      "outputs": []
    },
    {
      "cell_type": "code",
      "metadata": {
        "id": "9rKHz8mBbxeh",
        "colab_type": "code",
        "colab": {}
      },
      "source": [
        "#Eliminación de la temperatura máxima\n",
        "df.drop('Temperatura_Máxima', axis = 1, inplace = True)"
      ],
      "execution_count": 0,
      "outputs": []
    },
    {
      "cell_type": "code",
      "metadata": {
        "id": "GbIF_Sseb2iC",
        "colab_type": "code",
        "colab": {}
      },
      "source": [
        "# Redondear valor de Mod_comb\n",
        "\n",
        "df['Mod_comb']=round(df['Mod_comb'])"
      ],
      "execution_count": 0,
      "outputs": []
    },
    {
      "cell_type": "code",
      "metadata": {
        "id": "gw9TwRyKb2ey",
        "colab_type": "code",
        "colab": {
          "base_uri": "https://localhost:8080/",
          "height": 170
        },
        "outputId": "380638b1-8d0f-40d1-fa8d-13c3a122b9de"
      },
      "source": [
        "df.columns"
      ],
      "execution_count": 20,
      "outputs": [
        {
          "output_type": "execute_result",
          "data": {
            "text/plain": [
              "Index(['Mod_comb', 'NDVI', 'sup_quemad', 'rk_peligro', 'LST',\n",
              "       'Velocidad_Viento', 'Dirección_Viento', 'Humedad_Relativa',\n",
              "       'Temperatura_Media', 'fechaYear', 'fechaMonth', 'fechaWeek', 'fechaDay',\n",
              "       'fechaDayofweek', 'fechaDayofyear', 'fechaIs_month_end',\n",
              "       'fechaIs_month_start', 'fechaIs_quarter_end', 'fechaIs_quarter_start',\n",
              "       'fechaIs_year_end', 'fechaIs_year_start', 'fechaElapsed',\n",
              "       'cat_incendio', 'cat_dir_viento', 'ned_hidricas', 'vulnerabilidad',\n",
              "       'riesgos_generales_cuenca', 'riesgos_pendientes', 'ndvi_norm'],\n",
              "      dtype='object')"
            ]
          },
          "metadata": {
            "tags": []
          },
          "execution_count": 20
        }
      ]
    },
    {
      "cell_type": "code",
      "metadata": {
        "id": "wysJQVkycJVp",
        "colab_type": "code",
        "colab": {
          "base_uri": "https://localhost:8080/",
          "height": 224
        },
        "outputId": "e49dd0b3-4a6e-4f7f-f3ca-db16ffcf474e"
      },
      "source": [
        "df.head()"
      ],
      "execution_count": 21,
      "outputs": [
        {
          "output_type": "execute_result",
          "data": {
            "text/html": [
              "<div>\n",
              "<style scoped>\n",
              "    .dataframe tbody tr th:only-of-type {\n",
              "        vertical-align: middle;\n",
              "    }\n",
              "\n",
              "    .dataframe tbody tr th {\n",
              "        vertical-align: top;\n",
              "    }\n",
              "\n",
              "    .dataframe thead th {\n",
              "        text-align: right;\n",
              "    }\n",
              "</style>\n",
              "<table border=\"1\" class=\"dataframe\">\n",
              "  <thead>\n",
              "    <tr style=\"text-align: right;\">\n",
              "      <th></th>\n",
              "      <th>Mod_comb</th>\n",
              "      <th>NDVI</th>\n",
              "      <th>sup_quemad</th>\n",
              "      <th>rk_peligro</th>\n",
              "      <th>LST</th>\n",
              "      <th>Velocidad_Viento</th>\n",
              "      <th>Dirección_Viento</th>\n",
              "      <th>Humedad_Relativa</th>\n",
              "      <th>Temperatura_Media</th>\n",
              "      <th>fechaYear</th>\n",
              "      <th>fechaMonth</th>\n",
              "      <th>fechaWeek</th>\n",
              "      <th>fechaDay</th>\n",
              "      <th>fechaDayofweek</th>\n",
              "      <th>fechaDayofyear</th>\n",
              "      <th>fechaIs_month_end</th>\n",
              "      <th>fechaIs_month_start</th>\n",
              "      <th>fechaIs_quarter_end</th>\n",
              "      <th>fechaIs_quarter_start</th>\n",
              "      <th>fechaIs_year_end</th>\n",
              "      <th>fechaIs_year_start</th>\n",
              "      <th>fechaElapsed</th>\n",
              "      <th>cat_incendio</th>\n",
              "      <th>cat_dir_viento</th>\n",
              "      <th>ned_hidricas</th>\n",
              "      <th>vulnerabilidad</th>\n",
              "      <th>riesgos_generales_cuenca</th>\n",
              "      <th>riesgos_pendientes</th>\n",
              "      <th>ndvi_norm</th>\n",
              "    </tr>\n",
              "  </thead>\n",
              "  <tbody>\n",
              "    <tr>\n",
              "      <th>0</th>\n",
              "      <td>7.0</td>\n",
              "      <td>3747.28</td>\n",
              "      <td>37.900002</td>\n",
              "      <td>1</td>\n",
              "      <td>39.19</td>\n",
              "      <td>1.0</td>\n",
              "      <td>310.0</td>\n",
              "      <td>43.0</td>\n",
              "      <td>23.8</td>\n",
              "      <td>2008</td>\n",
              "      <td>8</td>\n",
              "      <td>33</td>\n",
              "      <td>13</td>\n",
              "      <td>2</td>\n",
              "      <td>226</td>\n",
              "      <td>False</td>\n",
              "      <td>False</td>\n",
              "      <td>False</td>\n",
              "      <td>False</td>\n",
              "      <td>False</td>\n",
              "      <td>False</td>\n",
              "      <td>1218585600</td>\n",
              "      <td>1</td>\n",
              "      <td>6</td>\n",
              "      <td>556.01</td>\n",
              "      <td>2.4</td>\n",
              "      <td>3.833333</td>\n",
              "      <td>1.5</td>\n",
              "      <td>0.469908</td>\n",
              "    </tr>\n",
              "    <tr>\n",
              "      <th>1</th>\n",
              "      <td>4.0</td>\n",
              "      <td>3981.50</td>\n",
              "      <td>17.077999</td>\n",
              "      <td>3</td>\n",
              "      <td>33.99</td>\n",
              "      <td>1.6</td>\n",
              "      <td>268.8</td>\n",
              "      <td>48.6</td>\n",
              "      <td>28.9</td>\n",
              "      <td>2008</td>\n",
              "      <td>6</td>\n",
              "      <td>27</td>\n",
              "      <td>30</td>\n",
              "      <td>0</td>\n",
              "      <td>182</td>\n",
              "      <td>True</td>\n",
              "      <td>False</td>\n",
              "      <td>True</td>\n",
              "      <td>False</td>\n",
              "      <td>False</td>\n",
              "      <td>False</td>\n",
              "      <td>1214784000</td>\n",
              "      <td>1</td>\n",
              "      <td>5</td>\n",
              "      <td>310.39</td>\n",
              "      <td>3.2</td>\n",
              "      <td>4.833333</td>\n",
              "      <td>3.0</td>\n",
              "      <td>0.548545</td>\n",
              "    </tr>\n",
              "    <tr>\n",
              "      <th>2</th>\n",
              "      <td>1.0</td>\n",
              "      <td>3811.66</td>\n",
              "      <td>18.040001</td>\n",
              "      <td>1</td>\n",
              "      <td>42.45</td>\n",
              "      <td>1.6</td>\n",
              "      <td>240.0</td>\n",
              "      <td>38.0</td>\n",
              "      <td>26.1</td>\n",
              "      <td>2009</td>\n",
              "      <td>7</td>\n",
              "      <td>29</td>\n",
              "      <td>15</td>\n",
              "      <td>2</td>\n",
              "      <td>196</td>\n",
              "      <td>False</td>\n",
              "      <td>False</td>\n",
              "      <td>False</td>\n",
              "      <td>False</td>\n",
              "      <td>False</td>\n",
              "      <td>False</td>\n",
              "      <td>1247616000</td>\n",
              "      <td>1</td>\n",
              "      <td>5</td>\n",
              "      <td>676.09</td>\n",
              "      <td>2.6</td>\n",
              "      <td>3.833333</td>\n",
              "      <td>2.5</td>\n",
              "      <td>0.491523</td>\n",
              "    </tr>\n",
              "    <tr>\n",
              "      <th>3</th>\n",
              "      <td>10.0</td>\n",
              "      <td>3536.00</td>\n",
              "      <td>10.120000</td>\n",
              "      <td>2</td>\n",
              "      <td>46.99</td>\n",
              "      <td>1.2</td>\n",
              "      <td>292.0</td>\n",
              "      <td>42.5</td>\n",
              "      <td>29.1</td>\n",
              "      <td>2009</td>\n",
              "      <td>7</td>\n",
              "      <td>30</td>\n",
              "      <td>25</td>\n",
              "      <td>5</td>\n",
              "      <td>206</td>\n",
              "      <td>False</td>\n",
              "      <td>False</td>\n",
              "      <td>False</td>\n",
              "      <td>False</td>\n",
              "      <td>False</td>\n",
              "      <td>False</td>\n",
              "      <td>1248480000</td>\n",
              "      <td>1</td>\n",
              "      <td>6</td>\n",
              "      <td>621.26</td>\n",
              "      <td>3.0</td>\n",
              "      <td>4.500000</td>\n",
              "      <td>1.5</td>\n",
              "      <td>0.398973</td>\n",
              "    </tr>\n",
              "    <tr>\n",
              "      <th>4</th>\n",
              "      <td>6.0</td>\n",
              "      <td>2132.06</td>\n",
              "      <td>56.220001</td>\n",
              "      <td>1</td>\n",
              "      <td>33.75</td>\n",
              "      <td>1.3</td>\n",
              "      <td>290.0</td>\n",
              "      <td>37.4</td>\n",
              "      <td>24.5</td>\n",
              "      <td>2009</td>\n",
              "      <td>5</td>\n",
              "      <td>22</td>\n",
              "      <td>28</td>\n",
              "      <td>3</td>\n",
              "      <td>148</td>\n",
              "      <td>False</td>\n",
              "      <td>False</td>\n",
              "      <td>False</td>\n",
              "      <td>False</td>\n",
              "      <td>False</td>\n",
              "      <td>False</td>\n",
              "      <td>1243468800</td>\n",
              "      <td>1</td>\n",
              "      <td>6</td>\n",
              "      <td>246.55</td>\n",
              "      <td>3.0</td>\n",
              "      <td>4.666667</td>\n",
              "      <td>1.5</td>\n",
              "      <td>-0.072385</td>\n",
              "    </tr>\n",
              "  </tbody>\n",
              "</table>\n",
              "</div>"
            ],
            "text/plain": [
              "   Mod_comb     NDVI  ...  riesgos_pendientes  ndvi_norm\n",
              "0       7.0  3747.28  ...                 1.5   0.469908\n",
              "1       4.0  3981.50  ...                 3.0   0.548545\n",
              "2       1.0  3811.66  ...                 2.5   0.491523\n",
              "3      10.0  3536.00  ...                 1.5   0.398973\n",
              "4       6.0  2132.06  ...                 1.5  -0.072385\n",
              "\n",
              "[5 rows x 29 columns]"
            ]
          },
          "metadata": {
            "tags": []
          },
          "execution_count": 21
        }
      ]
    },
    {
      "cell_type": "code",
      "metadata": {
        "id": "sY5oDq9Ub2ZC",
        "colab_type": "code",
        "colab": {}
      },
      "source": [
        "# Eliminar columnas innecesarias\n",
        "df.drop(['sup_quemad','fechaYear',  'fechaWeek', 'fechaDay',\n",
        "       'fechaDayofweek', 'fechaDayofyear', 'fechaIs_month_end',\n",
        "       'fechaIs_month_start', 'fechaIs_quarter_end', 'fechaIs_quarter_start',\n",
        "       'fechaIs_year_end', 'fechaIs_year_start', 'fechaElapsed'], axis = 1, inplace = True)"
      ],
      "execution_count": 0,
      "outputs": []
    },
    {
      "cell_type": "code",
      "metadata": {
        "id": "cEoll8sgbxbp",
        "colab_type": "code",
        "colab": {}
      },
      "source": [
        "# Eliminar nas en variable a predecir\n",
        "df1= df.dropna(axis=0)\n"
      ],
      "execution_count": 0,
      "outputs": []
    },
    {
      "cell_type": "code",
      "metadata": {
        "id": "PFG2jOlXbxYa",
        "colab_type": "code",
        "colab": {}
      },
      "source": [
        "# Eliminamos NDVI porque lo hemos normalizado\n",
        "df1.drop('NDVI', axis = 1, inplace = True)"
      ],
      "execution_count": 0,
      "outputs": []
    },
    {
      "cell_type": "code",
      "metadata": {
        "id": "QJcTcZCXbBfI",
        "colab_type": "code",
        "colab": {}
      },
      "source": [
        "# Como hemos categorizado la dirección del viento, eliminamos la variable original\n",
        "df1.drop('Dirección_Viento', axis = 1, inplace = True)"
      ],
      "execution_count": 0,
      "outputs": []
    },
    {
      "cell_type": "code",
      "metadata": {
        "id": "GeZhhxCtbBcJ",
        "colab_type": "code",
        "colab": {}
      },
      "source": [
        ""
      ],
      "execution_count": 0,
      "outputs": []
    },
    {
      "cell_type": "markdown",
      "metadata": {
        "id": "a-pyksH5dNeR",
        "colab_type": "text"
      },
      "source": [
        "#Train/Test y Estandarización"
      ]
    },
    {
      "cell_type": "code",
      "metadata": {
        "id": "7Uy9LjuGe_dB",
        "colab_type": "code",
        "colab": {
          "base_uri": "https://localhost:8080/",
          "height": 102
        },
        "outputId": "909b58a1-8694-4e8a-e03e-3f673a054eda"
      },
      "source": [
        "df1.columns"
      ],
      "execution_count": 35,
      "outputs": [
        {
          "output_type": "execute_result",
          "data": {
            "text/plain": [
              "Index(['Mod_comb', 'rk_peligro', 'LST', 'Velocidad_Viento', 'Humedad_Relativa',\n",
              "       'Temperatura_Media', 'fechaMonth', 'cat_incendio', 'cat_dir_viento',\n",
              "       'ned_hidricas', 'vulnerabilidad', 'riesgos_generales_cuenca',\n",
              "       'riesgos_pendientes', 'ndvi_norm'],\n",
              "      dtype='object')"
            ]
          },
          "metadata": {
            "tags": []
          },
          "execution_count": 35
        }
      ]
    },
    {
      "cell_type": "code",
      "metadata": {
        "id": "45hoPxTmbBWJ",
        "colab_type": "code",
        "colab": {}
      },
      "source": [
        "#Se separan las entradas de las salidas\n",
        "    outputs = df1.iloc[:,7]\n",
        "    data_=df1.drop(['cat_incendio'],axis=1)\n",
        "    inputs = data_.iloc[:,:]\n",
        "    Input_Data = inputs.values[:,:]\n",
        "    Output_Data = list(outputs.values[:])"
      ],
      "execution_count": 0,
      "outputs": []
    },
    {
      "cell_type": "code",
      "metadata": {
        "id": "Htm3iKntdVwf",
        "colab_type": "code",
        "colab": {}
      },
      "source": [
        "# Separacion muestra: entrenamiento y test\n",
        "from sklearn.model_selection import train_test_split\n",
        "X_train,X_test,y_train,y_test = train_test_split(Input_Data,Output_Data,test_size=0.3)"
      ],
      "execution_count": 0,
      "outputs": []
    },
    {
      "cell_type": "code",
      "metadata": {
        "id": "Jfc_zSwhdVuJ",
        "colab_type": "code",
        "colab": {}
      },
      "source": [
        "# Normalizar valores antes de introducir en el modelo\n",
        "Scaler = StandardScaler()\n",
        "X_train = Scaler.fit_transform(X_train)\n",
        "X_test = Scaler.transform(X_test)"
      ],
      "execution_count": 0,
      "outputs": []
    },
    {
      "cell_type": "code",
      "metadata": {
        "id": "69r6jIEgdVrL",
        "colab_type": "code",
        "colab": {}
      },
      "source": [
        ""
      ],
      "execution_count": 0,
      "outputs": []
    },
    {
      "cell_type": "markdown",
      "metadata": {
        "id": "68Ifyc8Ndn8Q",
        "colab_type": "text"
      },
      "source": [
        "# Primera aproximación modelos (sin optimizar)"
      ]
    },
    {
      "cell_type": "code",
      "metadata": {
        "id": "NDINxoyNdVjD",
        "colab_type": "code",
        "colab": {
          "base_uri": "https://localhost:8080/",
          "height": 884
        },
        "outputId": "b1a51ee4-d77e-40be-86a4-2f4f95ffe502"
      },
      "source": [
        "from sklearn.metrics import accuracy_score, log_loss\n",
        "from sklearn.neighbors import KNeighborsClassifier\n",
        "from sklearn.svm import SVC, LinearSVC, NuSVC\n",
        "from sklearn.tree import DecisionTreeClassifier\n",
        "from sklearn.ensemble import RandomForestClassifier, AdaBoostClassifier, GradientBoostingClassifier\n",
        "from sklearn.naive_bayes import GaussianNB\n",
        "from sklearn.discriminant_analysis import LinearDiscriminantAnalysis\n",
        "from sklearn.discriminant_analysis import QuadraticDiscriminantAnalysis\n",
        "\n",
        "classifiers = [\n",
        "    KNeighborsClassifier(3),\n",
        "    SVC(kernel=\"rbf\", C=0.025, probability=True),\n",
        "    NuSVC(probability=True),\n",
        "    DecisionTreeClassifier(),\n",
        "    RandomForestClassifier(),\n",
        "    AdaBoostClassifier(),\n",
        "    GradientBoostingClassifier(),\n",
        "    GaussianNB(),\n",
        "    LinearDiscriminantAnalysis(),\n",
        "    QuadraticDiscriminantAnalysis()]\n",
        "\n",
        "# Logging for Visual Comparison\n",
        "log_cols=[\"Classifier\", \"Accuracy\", \"Log Loss\"]\n",
        "log = pd.DataFrame(columns=log_cols)\n",
        "\n",
        "for clf in classifiers:\n",
        "    clf.fit(X_train, y_train)\n",
        "    name = clf.__class__.__name__\n",
        "    \n",
        "    print(\"=\"*30)\n",
        "    print(name)\n",
        "    \n",
        "    print('****Results****')\n",
        "    train_predictions = clf.predict(X_test)\n",
        "    acc = accuracy_score(y_test, train_predictions)\n",
        "    print(\"Accuracy: {:.4%}\".format(acc))\n",
        "    train_predictions = clf.predict_proba(X_test)\n",
        "    ll = log_loss(y_test, train_predictions)\n",
        "    print(\"Log Loss: {}\".format(ll))\n",
        "    \n",
        "    log_entry = pd.DataFrame([[name, acc*100, ll]], columns=log_cols)\n",
        "    log = log.append(log_entry)\n",
        "    \n",
        "print(\"=\"*30)"
      ],
      "execution_count": 40,
      "outputs": [
        {
          "output_type": "stream",
          "text": [
            "==============================\n",
            "KNeighborsClassifier\n",
            "****Results****\n",
            "Accuracy: 75.0000%\n",
            "Log Loss: 2.49137117509099\n",
            "==============================\n",
            "SVC\n",
            "****Results****\n",
            "Accuracy: 90.6250%\n",
            "Log Loss: 0.4418274315312735\n",
            "==============================\n",
            "NuSVC\n",
            "****Results****\n",
            "Accuracy: 87.5000%\n",
            "Log Loss: 0.42747225505792347\n",
            "==============================\n",
            "DecisionTreeClassifier\n",
            "****Results****\n",
            "Accuracy: 68.7500%\n",
            "Log Loss: 10.793367623409589\n",
            "==============================\n",
            "RandomForestClassifier\n",
            "****Results****\n",
            "Accuracy: 81.2500%\n",
            "Log Loss: 1.5003383654024671\n",
            "==============================\n",
            "AdaBoostClassifier\n",
            "****Results****\n",
            "Accuracy: 78.1250%\n",
            "Log Loss: 0.597748471794116\n",
            "==============================\n",
            "GradientBoostingClassifier\n",
            "****Results****\n",
            "Accuracy: 84.3750%\n",
            "Log Loss: 0.5034539989537032\n",
            "==============================\n",
            "GaussianNB\n",
            "****Results****\n",
            "Accuracy: 78.1250%\n",
            "Log Loss: 1.89851114033342\n",
            "==============================\n",
            "LinearDiscriminantAnalysis\n",
            "****Results****\n",
            "Accuracy: 81.2500%\n",
            "Log Loss: 0.6202656519718234\n",
            "==============================\n",
            "QuadraticDiscriminantAnalysis\n",
            "****Results****\n",
            "Accuracy: 81.2500%\n",
            "Log Loss: 1.3802968173387946\n",
            "==============================\n"
          ],
          "name": "stdout"
        }
      ]
    },
    {
      "cell_type": "code",
      "metadata": {
        "id": "MQma1cTpeKnK",
        "colab_type": "code",
        "colab": {
          "base_uri": "https://localhost:8080/",
          "height": 575
        },
        "outputId": "120451f6-af0e-466b-da1e-4448f6319dec"
      },
      "source": [
        "sns.set_color_codes(\"muted\")\n",
        "sns.barplot(x='Accuracy', y='Classifier', data=log, color=\"b\")\n",
        "\n",
        "plt.xlabel('Accuracy %')\n",
        "plt.title('Classifier Accuracy')\n",
        "plt.show()\n",
        "\n",
        "sns.set_color_codes(\"muted\")\n",
        "sns.barplot(x='Log Loss', y='Classifier', data=log, color=\"g\")\n",
        "\n",
        "plt.xlabel('Log Loss')\n",
        "plt.title('Classifier Log Loss')\n",
        "plt.show()"
      ],
      "execution_count": 41,
      "outputs": [
        {
          "output_type": "display_data",
          "data": {
            "image/png": "[encoded data removed]",
            "text/plain": [
              "<Figure size 432x288 with 1 Axes>"
            ]
          },
          "metadata": {
            "tags": []
          }
        },
        {
          "output_type": "display_data",
          "data": {
            "image/png": "[encoded data removed]",
            "text/plain": [
              "<Figure size 432x288 with 1 Axes>"
            ]
          },
          "metadata": {
            "tags": []
          }
        }
      ]
    },
    {
      "cell_type": "code",
      "metadata": {
        "id": "weOnWnfDeOt8",
        "colab_type": "code",
        "colab": {}
      },
      "source": [
        ""
      ],
      "execution_count": 0,
      "outputs": []
    },
    {
      "cell_type": "markdown",
      "metadata": {
        "id": "CWbCRG8_eQ7I",
        "colab_type": "text"
      },
      "source": [
        "# RANDOM FOREST"
      ]
    },
    {
      "cell_type": "code",
      "metadata": {
        "id": "wbu-vnvueOrB",
        "colab_type": "code",
        "colab": {}
      },
      "source": [
        "# Parámetros para optimizar el modelo de RF\n",
        "criterion = ['gini','entropy']\n",
        "n=[5,10,20,50]\n",
        "depth=[2,3,5,8,10,30,100]\n",
        "\n",
        "param_grid = {'criterion': criterion,\n",
        "              'n_estimators': n,\n",
        "             'max_depth':depth}\n"
      ],
      "execution_count": 0,
      "outputs": []
    },
    {
      "cell_type": "code",
      "metadata": {
        "id": "8gx32h4heOnl",
        "colab_type": "code",
        "colab": {}
      },
      "source": [
        "# GridSearch con modelo RF\n",
        "from sklearn.model_selection import GridSearchCV\n",
        "from sklearn.ensemble import RandomForestClassifier\n",
        "from sklearn.metrics import confusion_matrix\n",
        "grid = GridSearchCV(RandomForestClassifier(),param_grid=param_grid,n_jobs=1,cv=10,verbose=True)"
      ],
      "execution_count": 0,
      "outputs": []
    },
    {
      "cell_type": "code",
      "metadata": {
        "id": "R8Zr2RtPeOEx",
        "colab_type": "code",
        "colab": {
          "base_uri": "https://localhost:8080/",
          "height": 68
        },
        "outputId": "76b54a6e-c4c9-4380-be8b-5e83b2e3bfc0"
      },
      "source": [
        "# Entrenar modelo\n",
        "#y_test_orig= lb.inverse_transform(y_test, threshold=0.5)\n",
        "grid.fit(X_train,y_train)\n",
        "pred = grid.predict(X_test)\n",
        "score = grid.score(X_test,y_test)\n"
      ],
      "execution_count": 44,
      "outputs": [
        {
          "output_type": "stream",
          "text": [
            "Fitting 10 folds for each of 56 candidates, totalling 560 fits\n"
          ],
          "name": "stdout"
        },
        {
          "output_type": "stream",
          "text": [
            "[Parallel(n_jobs=1)]: Using backend SequentialBackend with 1 concurrent workers.\n",
            "[Parallel(n_jobs=1)]: Done 560 out of 560 | elapsed:   10.8s finished\n"
          ],
          "name": "stderr"
        }
      ]
    },
    {
      "cell_type": "code",
      "metadata": {
        "id": "rfbucLubeZ9B",
        "colab_type": "code",
        "colab": {
          "base_uri": "https://localhost:8080/",
          "height": 68
        },
        "outputId": "6ce9cb08-2416-40dc-93de-009cb318b54e"
      },
      "source": [
        "conf_mat = confusion_matrix(y_test,pred)\n",
        "print(conf_mat)\n",
        "print(score)"
      ],
      "execution_count": 45,
      "outputs": [
        {
          "output_type": "stream",
          "text": [
            "[[24  5]\n",
            " [ 3  0]]\n",
            "0.75\n"
          ],
          "name": "stdout"
        }
      ]
    },
    {
      "cell_type": "code",
      "metadata": {
        "id": "RzK9Hq6FeZ5Y",
        "colab_type": "code",
        "colab": {
          "base_uri": "https://localhost:8080/",
          "height": 51
        },
        "outputId": "6de0cb1c-be6b-4c6e-c9d0-80c3b4b52c28"
      },
      "source": [
        "grid.best_estimator_.feature_importances_"
      ],
      "execution_count": 46,
      "outputs": [
        {
          "output_type": "execute_result",
          "data": {
            "text/plain": [
              "array([0.0418 , 0.01541, 0.04737, 0.17063, 0.16277, 0.16964, 0.02943, 0.05464, 0.09983, 0.03734, 0.08647,\n",
              "       0.0093 , 0.07537])"
            ]
          },
          "metadata": {
            "tags": []
          },
          "execution_count": 46
        }
      ]
    },
    {
      "cell_type": "code",
      "metadata": {
        "id": "7gGPpMwrhBBp",
        "colab_type": "code",
        "colab": {
          "base_uri": "https://localhost:8080/",
          "height": 102
        },
        "outputId": "6709fedb-33f4-49b5-a89f-0997d34ab706"
      },
      "source": [
        "df1.columns"
      ],
      "execution_count": 47,
      "outputs": [
        {
          "output_type": "execute_result",
          "data": {
            "text/plain": [
              "Index(['Mod_comb', 'rk_peligro', 'LST', 'Velocidad_Viento', 'Humedad_Relativa',\n",
              "       'Temperatura_Media', 'fechaMonth', 'cat_incendio', 'cat_dir_viento',\n",
              "       'ned_hidricas', 'vulnerabilidad', 'riesgos_generales_cuenca',\n",
              "       'riesgos_pendientes', 'ndvi_norm'],\n",
              "      dtype='object')"
            ]
          },
          "metadata": {
            "tags": []
          },
          "execution_count": 47
        }
      ]
    },
    {
      "cell_type": "code",
      "metadata": {
        "id": "6lysHty2hA_E",
        "colab_type": "code",
        "colab": {}
      },
      "source": [
        "df1_columns=df1[['Mod_comb', 'rk_peligro', 'LST', 'Velocidad_Viento', 'Humedad_Relativa',\n",
        "       'Temperatura_Media','fechaMonth', 'cat_dir_viento', 'ned_hidricas',\n",
        "       'vulnerabilidad', 'riesgos_generales_cuenca', 'riesgos_pendientes',\n",
        "       'ndvi_norm']]"
      ],
      "execution_count": 0,
      "outputs": []
    },
    {
      "cell_type": "code",
      "metadata": {
        "id": "fQYv6n0nhA8E",
        "colab_type": "code",
        "colab": {
          "base_uri": "https://localhost:8080/",
          "height": 102
        },
        "outputId": "73cfc881-9f37-4cab-a76a-77db196e4fd9"
      },
      "source": [
        "df11_columns=df1_columns.columns\n",
        "print(df11_columns)"
      ],
      "execution_count": 50,
      "outputs": [
        {
          "output_type": "stream",
          "text": [
            "Index(['Mod_comb', 'rk_peligro', 'LST', 'Velocidad_Viento', 'Humedad_Relativa',\n",
            "       'Temperatura_Media', 'fechaMonth', 'cat_dir_viento', 'ned_hidricas',\n",
            "       'vulnerabilidad', 'riesgos_generales_cuenca', 'riesgos_pendientes',\n",
            "       'ndvi_norm'],\n",
            "      dtype='object')\n"
          ],
          "name": "stdout"
        }
      ]
    },
    {
      "cell_type": "code",
      "metadata": {
        "id": "I6d_iTA5hPR8",
        "colab_type": "code",
        "colab": {}
      },
      "source": [
        "feature_importances = pd.DataFrame(grid.best_estimator_.feature_importances_,\n",
        "                                   index = df1_columns.columns,\n",
        "                                    columns=['importance']).sort_values('importance',  \n",
        "                                                                        ascending=False)"
      ],
      "execution_count": 0,
      "outputs": []
    },
    {
      "cell_type": "code",
      "metadata": {
        "id": "R8ALUluwhA1x",
        "colab_type": "code",
        "colab": {
          "base_uri": "https://localhost:8080/",
          "height": 452
        },
        "outputId": "451b292e-c826-425d-d6e7-89b61f903539"
      },
      "source": [
        "feature_importances"
      ],
      "execution_count": 52,
      "outputs": [
        {
          "output_type": "execute_result",
          "data": {
            "text/html": [
              "<div>\n",
              "<style scoped>\n",
              "    .dataframe tbody tr th:only-of-type {\n",
              "        vertical-align: middle;\n",
              "    }\n",
              "\n",
              "    .dataframe tbody tr th {\n",
              "        vertical-align: top;\n",
              "    }\n",
              "\n",
              "    .dataframe thead th {\n",
              "        text-align: right;\n",
              "    }\n",
              "</style>\n",
              "<table border=\"1\" class=\"dataframe\">\n",
              "  <thead>\n",
              "    <tr style=\"text-align: right;\">\n",
              "      <th></th>\n",
              "      <th>importance</th>\n",
              "    </tr>\n",
              "  </thead>\n",
              "  <tbody>\n",
              "    <tr>\n",
              "      <th>Velocidad_Viento</th>\n",
              "      <td>0.170628</td>\n",
              "    </tr>\n",
              "    <tr>\n",
              "      <th>Temperatura_Media</th>\n",
              "      <td>0.169640</td>\n",
              "    </tr>\n",
              "    <tr>\n",
              "      <th>Humedad_Relativa</th>\n",
              "      <td>0.162766</td>\n",
              "    </tr>\n",
              "    <tr>\n",
              "      <th>ned_hidricas</th>\n",
              "      <td>0.099830</td>\n",
              "    </tr>\n",
              "    <tr>\n",
              "      <th>riesgos_generales_cuenca</th>\n",
              "      <td>0.086473</td>\n",
              "    </tr>\n",
              "    <tr>\n",
              "      <th>ndvi_norm</th>\n",
              "      <td>0.075365</td>\n",
              "    </tr>\n",
              "    <tr>\n",
              "      <th>cat_dir_viento</th>\n",
              "      <td>0.054640</td>\n",
              "    </tr>\n",
              "    <tr>\n",
              "      <th>LST</th>\n",
              "      <td>0.047372</td>\n",
              "    </tr>\n",
              "    <tr>\n",
              "      <th>Mod_comb</th>\n",
              "      <td>0.041804</td>\n",
              "    </tr>\n",
              "    <tr>\n",
              "      <th>vulnerabilidad</th>\n",
              "      <td>0.037342</td>\n",
              "    </tr>\n",
              "    <tr>\n",
              "      <th>fechaMonth</th>\n",
              "      <td>0.029430</td>\n",
              "    </tr>\n",
              "    <tr>\n",
              "      <th>rk_peligro</th>\n",
              "      <td>0.015408</td>\n",
              "    </tr>\n",
              "    <tr>\n",
              "      <th>riesgos_pendientes</th>\n",
              "      <td>0.009302</td>\n",
              "    </tr>\n",
              "  </tbody>\n",
              "</table>\n",
              "</div>"
            ],
            "text/plain": [
              "                          importance\n",
              "Velocidad_Viento            0.170628\n",
              "Temperatura_Media           0.169640\n",
              "Humedad_Relativa            0.162766\n",
              "ned_hidricas                0.099830\n",
              "riesgos_generales_cuenca    0.086473\n",
              "ndvi_norm                   0.075365\n",
              "cat_dir_viento              0.054640\n",
              "LST                         0.047372\n",
              "Mod_comb                    0.041804\n",
              "vulnerabilidad              0.037342\n",
              "fechaMonth                  0.029430\n",
              "rk_peligro                  0.015408\n",
              "riesgos_pendientes          0.009302"
            ]
          },
          "metadata": {
            "tags": []
          },
          "execution_count": 52
        }
      ]
    },
    {
      "cell_type": "code",
      "metadata": {
        "id": "vCt6os1xeZyR",
        "colab_type": "code",
        "colab": {}
      },
      "source": [
        "## Optimizar modelo con eliminacion de variables"
      ],
      "execution_count": 0,
      "outputs": []
    },
    {
      "cell_type": "code",
      "metadata": {
        "id": "aF7m7QmvjP5U",
        "colab_type": "code",
        "colab": {
          "base_uri": "https://localhost:8080/",
          "height": 34
        },
        "outputId": "347a4a0b-e85a-4cc8-f324-7ea42a4d9186"
      },
      "source": [
        "df1.columns[7]"
      ],
      "execution_count": 55,
      "outputs": [
        {
          "output_type": "execute_result",
          "data": {
            "text/plain": [
              "'cat_incendio'"
            ]
          },
          "metadata": {
            "tags": []
          },
          "execution_count": 55
        }
      ]
    },
    {
      "cell_type": "code",
      "metadata": {
        "id": "5ksO2DwLiSyA",
        "colab_type": "code",
        "colab": {}
      },
      "source": [
        "#Se separan las entradas de las salidas\n",
        "    outputs = df1.iloc[:,7]\n",
        "    data_=df1.drop(['cat_incendio'],axis=1)\n",
        "    inputs = data_[['Velocidad_Viento', 'Humedad_Relativa',\n",
        "       'Temperatura_Media',  'cat_dir_viento', 'ned_hidricas',\n",
        "        'riesgos_generales_cuenca', \n",
        "       'ndvi_norm']]\n",
        "    Input_Data = inputs.values[:,:]\n",
        "    Output_Data = list(outputs.values[:])\n"
      ],
      "execution_count": 0,
      "outputs": []
    },
    {
      "cell_type": "code",
      "metadata": {
        "id": "XQSYCJIdjh6q",
        "colab_type": "code",
        "colab": {}
      },
      "source": [
        "X_train,X_test,y_train,y_test = train_test_split(Input_Data,Output_Data,test_size=0.3)\n",
        "# Normalizar valores antes de introducir en el modelo\n",
        "Scaler = StandardScaler()\n",
        "X_train = Scaler.fit_transform(X_train)\n",
        "X_test = Scaler.transform(X_test)"
      ],
      "execution_count": 0,
      "outputs": []
    },
    {
      "cell_type": "code",
      "metadata": {
        "id": "rTaYZWfsjh2w",
        "colab_type": "code",
        "colab": {
          "base_uri": "https://localhost:8080/",
          "height": 119
        },
        "outputId": "ee652378-d3ef-4ea5-df97-183d85c5c466"
      },
      "source": [
        "rf = GridSearchCV(RandomForestClassifier(),param_grid=param_grid,n_jobs=1,cv=10,verbose=True)\n",
        "\n",
        "rf.fit(X_train,y_train)\n",
        "pred = rf.predict(X_test)\n",
        "score = rf.score(X_test,y_test)\n",
        "\n",
        "conf_mat = confusion_matrix(y_test,pred)\n",
        "print(conf_mat)\n",
        "print(score)"
      ],
      "execution_count": 58,
      "outputs": [
        {
          "output_type": "stream",
          "text": [
            "Fitting 10 folds for each of 56 candidates, totalling 560 fits\n"
          ],
          "name": "stdout"
        },
        {
          "output_type": "stream",
          "text": [
            "[Parallel(n_jobs=1)]: Using backend SequentialBackend with 1 concurrent workers.\n"
          ],
          "name": "stderr"
        },
        {
          "output_type": "stream",
          "text": [
            "[[21  2]\n",
            " [ 8  1]]\n",
            "0.6875\n"
          ],
          "name": "stdout"
        },
        {
          "output_type": "stream",
          "text": [
            "[Parallel(n_jobs=1)]: Done 560 out of 560 | elapsed:   10.7s finished\n"
          ],
          "name": "stderr"
        }
      ]
    },
    {
      "cell_type": "code",
      "metadata": {
        "id": "yt82twAXjhs1",
        "colab_type": "code",
        "colab": {}
      },
      "source": [
        ""
      ],
      "execution_count": 0,
      "outputs": []
    },
    {
      "cell_type": "markdown",
      "metadata": {
        "id": "islXsDp7nGFI",
        "colab_type": "text"
      },
      "source": [
        "# MLP"
      ]
    },
    {
      "cell_type": "code",
      "metadata": {
        "id": "oYzfxfu7jC8J",
        "colab_type": "code",
        "colab": {}
      },
      "source": [
        "# Parámetros para optimizar el modelo de MLP\n",
        "parameter_grid_MLP = {\n",
        "            'hidden_layer_sizes': [(10),(30),(50),(100),(10,10),(30,30),(50,50),(100,100)],\n",
        "            'solver': ['lbfgs','sgd','adam'],\n",
        "            'activation' : ['identity','logistic','tanh','relu'],\n",
        "            'learning_rate': ['constant','adaptive'],\n",
        "            'alpha': [0.0001,0.001,0.005,0.01]\n",
        "            }"
      ],
      "execution_count": 0,
      "outputs": []
    },
    {
      "cell_type": "code",
      "metadata": {
        "id": "9BmwhagXnIDz",
        "colab_type": "code",
        "colab": {}
      },
      "source": [
        "##MLP###\n",
        "from sklearn.neural_network import MLPClassifier\n",
        "from sklearn.metrics import confusion_matrix\n",
        "\n",
        "mlp = GridSearchCV(MLPClassifier(early_stopping=True),param_grid=parameter_grid_MLP,cv=5,verbose=True,n_jobs=-2)\n",
        "mlp.fit(X_train,y_train)\n",
        "params= mlp.best_params_\n",
        "pred= mlp.predict(X_test)\n",
        "score= mlp.score(X_test, y_test)\n",
        "mat= confusion_matrix(y_test,pred)"
      ],
      "execution_count": 0,
      "outputs": []
    },
    {
      "cell_type": "code",
      "metadata": {
        "id": "Z8iaslNinkb5",
        "colab_type": "code",
        "colab": {}
      },
      "source": [
        "print(mat) # matriz de confusión\n",
        "print(score) "
      ],
      "execution_count": 0,
      "outputs": []
    },
    {
      "cell_type": "code",
      "metadata": {
        "id": "2IGs5710nIBL",
        "colab_type": "code",
        "colab": {}
      },
      "source": [
        ""
      ],
      "execution_count": 0,
      "outputs": []
    },
    {
      "cell_type": "markdown",
      "metadata": {
        "id": "y-L1FcrzoNYA",
        "colab_type": "text"
      },
      "source": [
        "# GRADIENT BOOSTING"
      ]
    },
    {
      "cell_type": "code",
      "metadata": {
        "id": "-zw_OzqDnH-i",
        "colab_type": "code",
        "colab": {}
      },
      "source": [
        "learning_rates = [0.05, 0.1, 0.25, 0.5, 0.75, 1]\n",
        "for learning_rate in learning_rates:\n",
        "    gb = GradientBoostingClassifier(n_estimators=20, learning_rate = learning_rate, max_features=2, max_depth = 2, random_state = 0)\n",
        "    gb.fit(X_train, y_train)\n",
        "    print(\"Learning rate: \", learning_rate)\n",
        "    print(\"Accuracy score (training): {0:.3f}\".format(gb.score(X_train, y_train)))\n",
        "    print(\"Accuracy score (validation): {0:.3f}\".format(gb.score(X_test, y_test)))\n",
        "    print()"
      ],
      "execution_count": 0,
      "outputs": []
    },
    {
      "cell_type": "code",
      "metadata": {
        "id": "I_oT0f0MorUr",
        "colab_type": "code",
        "colab": {}
      },
      "source": [
        "from sklearn.metrics import classification_report, confusion_matrix, roc_curve, auc\n",
        "gb = GradientBoostingClassifier(n_estimators=20, learning_rate = 0.5, max_features=2, max_depth = 2, random_state = 0)\n",
        "gb.fit(X_train, y_train)\n",
        "predictions = gb.predict(X_test)\n",
        "\n",
        "print(\"Confusion Matrix:\")\n",
        "print(confusion_matrix(y_test, predictions))\n",
        "print()\n",
        "print(\"Classification Report\")\n",
        "print(classification_report(y_test, predictions))"
      ],
      "execution_count": 0,
      "outputs": []
    },
    {
      "cell_type": "code",
      "metadata": {
        "id": "UAJ5JrnVorS0",
        "colab_type": "code",
        "colab": {}
      },
      "source": [
        ""
      ],
      "execution_count": 0,
      "outputs": []
    },
    {
      "cell_type": "markdown",
      "metadata": {
        "id": "SDsZDC01owXO",
        "colab_type": "text"
      },
      "source": [
        "# XGBOOST"
      ]
    },
    {
      "cell_type": "code",
      "metadata": {
        "id": "kYBoYn18orQF",
        "colab_type": "code",
        "colab": {}
      },
      "source": [
        "import xgboost as xgb\n",
        "from scipy.stats import uniform, randint\n",
        "\n",
        "xgb_model = xgb.XGBClassifier()\n",
        "    \n",
        "parameter_grid_XGBOOST = {\n",
        "            'min_child_weight': [1, 5, 10],\n",
        "        'gamma': [0.5, 1, 1.5, 2, 5],\n",
        "        'subsample': [0.6, 0.8, 1.0],\n",
        "        'colsample_bytree': [0.6, 0.8, 1.0],\n",
        "        'max_depth': [3, 4, 5]\n",
        "            }\n",
        "    \n",
        "    \n",
        "xgb = GridSearchCV(xgb_model, param_grid=parameter_grid_XGBOOST, cv=3, verbose=1, n_jobs=1, return_train_score=True)\n",
        "xgb.fit(X_train,np.ravel(y_train))\n",
        "pred = xgb.predict(X_test)\n",
        "score = xgb.score(X_test,y_test)\n",
        "   \n",
        "conf_mat = confusion_matrix(y_test,pred)\n",
        "print(conf_mat)\n",
        "print(score)"
      ],
      "execution_count": 0,
      "outputs": []
    },
    {
      "cell_type": "code",
      "metadata": {
        "id": "npy2hTFmorIZ",
        "colab_type": "code",
        "colab": {}
      },
      "source": [
        ""
      ],
      "execution_count": 0,
      "outputs": []
    },
    {
      "cell_type": "markdown",
      "metadata": {
        "id": "l2FCtuT2o7YX",
        "colab_type": "text"
      },
      "source": [
        "# BAGGING"
      ]
    },
    {
      "cell_type": "code",
      "metadata": {
        "id": "IxMIlohIo6iP",
        "colab_type": "code",
        "colab": {}
      },
      "source": [
        "from sklearn.ensemble import BaggingClassifier\n",
        "from sklearn.tree import DecisionTreeClassifier\n",
        "from sklearn.neighbors import KNeighborsClassifier\n",
        "\n",
        "\n",
        "n=[10,50,70,80,100]\n",
        "base= [DecisionTreeClassifier(),KNeighborsClassifier()]\n",
        "param_grid = {'n_estimators': n,\n",
        "                  'base_estimator':base}\n",
        "\n",
        "grid = GridSearchCV(BaggingClassifier(),param_grid=param_grid,n_jobs=-2,cv=10,verbose=True)\n",
        "    \n",
        "grid.fit(X_train,np.ravel(y_train))\n",
        "pred = grid.predict(X_test)\n",
        "score = grid.score(X_test,np.ravel(y_test))\n",
        "   \n",
        "conf_mat = confusion_matrix(y_test,pred)\n",
        "print(conf_mat)\n",
        "print(score)"
      ],
      "execution_count": 0,
      "outputs": []
    },
    {
      "cell_type": "code",
      "metadata": {
        "id": "-w8CU1h_o6gS",
        "colab_type": "code",
        "colab": {}
      },
      "source": [
        ""
      ],
      "execution_count": 0,
      "outputs": []
    },
    {
      "cell_type": "markdown",
      "metadata": {
        "id": "PZTtEtUZpEIv",
        "colab_type": "text"
      },
      "source": [
        "# ADABOOST CLASSIFIER"
      ]
    },
    {
      "cell_type": "code",
      "metadata": {
        "id": "QB1_daz5o6dn",
        "colab_type": "code",
        "colab": {}
      },
      "source": [
        "from sklearn.ensemble import AdaBoostClassifier\n",
        "from sklearn.tree import DecisionTreeClassifier\n",
        "\n",
        "dtc = DecisionTreeClassifier(criterion=\"entropy\", max_depth=3)\n",
        "ada_model=AdaBoostClassifier(base_estimator=dtc, n_estimators=100)\n",
        "ada_model=ada_model.fit(X_train,y_train)\n",
        "print(ada_model)\n",
        "AdaBoostClassifier(algorithm='SAMME.R',\n",
        "    base_estimator=DecisionTreeClassifier(class_weight=None, \n",
        "    criterion='entropy',max_depth=3,\n",
        "    max_features=None, max_leaf_nodes=None,\n",
        "    min_impurity_decrease=0.0, min_impurity_split=None,\n",
        "    min_samples_leaf=1, min_samples_split=2,\n",
        "    min_weight_fraction_leaf=0.0, presort=False, random_state=None,\n",
        "    splitter='best'),\n",
        "    learning_rate=1.0, n_estimators=100, random_state=None)\n",
        "\n",
        "ytest_pred=ada_model.predict(X_test)\n",
        "print(ada_model.score(X_test, y_test))\n",
        "\n",
        "print(confusion_matrix(y_test, ytest_pred))"
      ],
      "execution_count": 0,
      "outputs": []
    },
    {
      "cell_type": "code",
      "metadata": {
        "id": "lO3dykSUpG3I",
        "colab_type": "code",
        "colab": {}
      },
      "source": [
        ""
      ],
      "execution_count": 0,
      "outputs": []
    },
    {
      "cell_type": "markdown",
      "metadata": {
        "id": "bv-4zFTVpS3A",
        "colab_type": "text"
      },
      "source": [
        "# CatBoostClassifier"
      ]
    },
    {
      "cell_type": "code",
      "metadata": {
        "id": "lLNrM_b8pG0X",
        "colab_type": "code",
        "colab": {}
      },
      "source": [
        "!pip install catboost"
      ],
      "execution_count": 0,
      "outputs": []
    },
    {
      "cell_type": "code",
      "metadata": {
        "id": "6x76ZxYfpGwv",
        "colab_type": "code",
        "colab": {}
      },
      "source": [
        "from catboost import CatBoostClassifier\n",
        "from scipy.stats import uniform as sp_randFloat\n",
        "from scipy.stats import randint as sp_randInt"
      ],
      "execution_count": 0,
      "outputs": []
    },
    {
      "cell_type": "code",
      "metadata": {
        "id": "YvOKwP_vpGtU",
        "colab_type": "code",
        "colab": {}
      },
      "source": [
        "    model = CatBoostClassifier()\n",
        "    parameters = {'depth'         : sp_randInt(4, 10),\n",
        "                  'learning_rate' : sp_randFloat(),\n",
        "                  'iterations'    : sp_randInt(10, 100)\n",
        "                 }\n",
        "    \n",
        "    randm = RandomizedSearchCV(estimator=model, param_distributions = parameters, \n",
        "                               cv = 2, n_iter = 10, n_jobs=-1)\n",
        "    randm.fit(X_train, y_train)\n",
        "\n",
        "    # Results from Random Search\n",
        "    print(\"\\n========================================================\")\n",
        "    print(\" Results from Random Search \" )\n",
        "    print(\"========================================================\")    \n",
        "    \n",
        "    print(\"\\n The best estimator across ALL searched params:\\n\",\n",
        "          randm.best_estimator_)\n",
        "    \n",
        "    print(\"\\n The best score across ALL searched params:\\n\",\n",
        "          randm.best_score_)\n",
        "    \n",
        "    print(\"\\n The best parameters across ALL searched params:\\n\",\n",
        "          randm.best_params_)\n",
        "    \n",
        "    print(\"\\n ========================================================\")"
      ],
      "execution_count": 0,
      "outputs": []
    },
    {
      "cell_type": "code",
      "metadata": {
        "id": "vDDBeAh0pc_D",
        "colab_type": "code",
        "colab": {}
      },
      "source": [
        ""
      ],
      "execution_count": 0,
      "outputs": []
    },
    {
      "cell_type": "markdown",
      "metadata": {
        "id": "RPruqbItpgte",
        "colab_type": "text"
      },
      "source": [
        "# Logistic Classifier"
      ]
    },
    {
      "cell_type": "code",
      "metadata": {
        "id": "XCGMIw2xpc8j",
        "colab_type": "code",
        "colab": {}
      },
      "source": [
        "from sklearn.linear_model import LogisticRegression\n",
        "# Create regularization penalty space\n",
        "penalty = ['l1', 'l2']\n",
        "\n",
        "# Create regularization hyperparameter space\n",
        "C = np.logspace(0, 4, 10)\n",
        "\n",
        "# Create hyperparameter options\n",
        "hyperparameters = dict(C=C, penalty=penalty)\n",
        "\n",
        "\n",
        "\n",
        "logistic_mod = GridSearchCV(LogisticRegression(),param_grid=hyperparameters,n_jobs=-2,cv=10,verbose=True)\n",
        "\n",
        "model_res = logistic_mod.fit(X_train, y_train)\n",
        "\n",
        "ytest_pred=model_res.predict(X_test)\n",
        "print(model_res.score(X_test, y_test))\n",
        "\n",
        "print(confusion_matrix(y_test, ytest_pred))"
      ],
      "execution_count": 0,
      "outputs": []
    },
    {
      "cell_type": "code",
      "metadata": {
        "id": "BhFPLrjOpc5Q",
        "colab_type": "code",
        "colab": {}
      },
      "source": [
        ""
      ],
      "execution_count": 0,
      "outputs": []
    },
    {
      "cell_type": "code",
      "metadata": {
        "id": "Wb2oNvztpc2O",
        "colab_type": "code",
        "colab": {}
      },
      "source": [
        ""
      ],
      "execution_count": 0,
      "outputs": []
    },
    {
      "cell_type": "code",
      "metadata": {
        "id": "bsyucZtoo6ax",
        "colab_type": "code",
        "colab": {}
      },
      "source": [
        ""
      ],
      "execution_count": 0,
      "outputs": []
    },
    {
      "cell_type": "code",
      "metadata": {
        "id": "__ctnnIcnH76",
        "colab_type": "code",
        "colab": {}
      },
      "source": [
        ""
      ],
      "execution_count": 0,
      "outputs": []
    }
  ]
}